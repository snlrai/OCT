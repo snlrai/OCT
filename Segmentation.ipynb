{
  "nbformat": 4,
  "nbformat_minor": 0,
  "metadata": {
    "colab": {
      "provenance": [],
      "gpuType": "T4",
      "authorship_tag": "ABX9TyNDvC7o/YT6jVwpzJOCSa6V"
    },
    "kernelspec": {
      "name": "python3",
      "display_name": "Python 3"
    },
    "language_info": {
      "name": "python"
    },
    "accelerator": "GPU"
  },
  "cells": [
    {
      "cell_type": "code",
      "execution_count": 21,
      "metadata": {
        "colab": {
          "base_uri": "https://localhost:8080/"
        },
        "id": "l-Y7umpx8_rX",
        "outputId": "2302ffd1-6106-4779-806f-c8f4884a848d"
      },
      "outputs": [
        {
          "metadata": {
            "tags": null
          },
          "name": "stdout",
          "output_type": "stream",
          "text": [
            "Drive already mounted at /content/drive; to attempt to forcibly remount, call drive.mount(\"/content/drive\", force_remount=True).\n",
            "Requirement already satisfied: pycocotools in /usr/local/lib/python3.12/dist-packages (2.0.10)\n",
            "Requirement already satisfied: numpy in /usr/local/lib/python3.12/dist-packages (from pycocotools) (2.0.2)\n"
          ]
        }
      ],
      "source": [
        "from google.colab import drive\n",
        "drive.mount('/content/drive')\n",
        "\n",
        "!pip install pycocotools"
      ]
    },
    {
      "cell_type": "code",
      "source": [
        "!pip install -U albumentations"
      ],
      "metadata": {
        "colab": {
          "base_uri": "https://localhost:8080/"
        },
        "id": "a2IqeCxEwwWq",
        "outputId": "e1caf24c-08ec-4a91-f172-aa830b7c85dc"
      },
      "execution_count": 22,
      "outputs": [
        {
          "metadata": {
            "tags": null
          },
          "name": "stdout",
          "output_type": "stream",
          "text": [
            "Requirement already satisfied: albumentations in /usr/local/lib/python3.12/dist-packages (2.0.8)\n",
            "Requirement already satisfied: numpy>=1.24.4 in /usr/local/lib/python3.12/dist-packages (from albumentations) (2.0.2)\n",
            "Requirement already satisfied: scipy>=1.10.0 in /usr/local/lib/python3.12/dist-packages (from albumentations) (1.16.2)\n",
            "Requirement already satisfied: PyYAML in /usr/local/lib/python3.12/dist-packages (from albumentations) (6.0.2)\n",
            "Requirement already satisfied: pydantic>=2.9.2 in /usr/local/lib/python3.12/dist-packages (from albumentations) (2.11.9)\n",
            "Requirement already satisfied: albucore==0.0.24 in /usr/local/lib/python3.12/dist-packages (from albumentations) (0.0.24)\n",
            "Requirement already satisfied: opencv-python-headless>=4.9.0.80 in /usr/local/lib/python3.12/dist-packages (from albumentations) (4.12.0.88)\n",
            "Requirement already satisfied: stringzilla>=3.10.4 in /usr/local/lib/python3.12/dist-packages (from albucore==0.0.24->albumentations) (4.0.11)\n",
            "Requirement already satisfied: simsimd>=5.9.2 in /usr/local/lib/python3.12/dist-packages (from albucore==0.0.24->albumentations) (6.5.3)\n",
            "Requirement already satisfied: annotated-types>=0.6.0 in /usr/local/lib/python3.12/dist-packages (from pydantic>=2.9.2->albumentations) (0.7.0)\n",
            "Requirement already satisfied: pydantic-core==2.33.2 in /usr/local/lib/python3.12/dist-packages (from pydantic>=2.9.2->albumentations) (2.33.2)\n",
            "Requirement already satisfied: typing-extensions>=4.12.2 in /usr/local/lib/python3.12/dist-packages (from pydantic>=2.9.2->albumentations) (4.15.0)\n",
            "Requirement already satisfied: typing-inspection>=0.4.0 in /usr/local/lib/python3.12/dist-packages (from pydantic>=2.9.2->albumentations) (0.4.1)\n"
          ]
        }
      ]
    },
    {
      "cell_type": "markdown",
      "source": [
        "IMPORT AND CONFIGURATION"
      ],
      "metadata": {
        "id": "PsAY8mOBeTZK"
      }
    },
    {
      "cell_type": "code",
      "source": [
        "import json\n",
        "import os\n",
        "\n",
        "print(\"--- Starting COCO JSON Merge Script ---\")\n",
        "\n",
        "# --- 1. Define File Paths ---\n",
        "# Define the main project folder first to resolve the error\n",
        "PROJECT_FOLDER_IN_DRIVE = '/content/drive/MyDrive/oct_major_project/'\n",
        "\n",
        "NORMAL_JSON_PATH = os.path.join(PROJECT_FOLDER_IN_DRIVE, 'NORMAL 2.v1i.coco-segmentation/train/_annotations.coco.json')\n",
        "DRUSEN_JSON_PATH = os.path.join(PROJECT_FOLDER_IN_DRIVE, 'drusen 2.v1i.coco-segmentation/train/_annotations.coco.json')\n",
        "COMBINED_DATA_DIR = os.path.join(PROJECT_FOLDER_IN_DRIVE, 'combined_data/')\n",
        "OUTPUT_JSON_PATH = os.path.join(COMBINED_DATA_DIR, '_merged_annotations.coco.json')\n",
        "\n",
        "# --- 2. Load JSON Data from Files ---\n",
        "print(f\"Loading NORMAL annotations...\")\n",
        "with open(NORMAL_JSON_PATH, 'r') as f:\n",
        "    normal_data = json.load(f)\n",
        "\n",
        "print(f\"Loading DRUSEN annotations...\")\n",
        "with open(DRUSEN_JSON_PATH, 'r') as f:\n",
        "    drusen_data = json.load(f)\n",
        "\n",
        "# --- 3. Prepare the Merged Data Structure ---\n",
        "merged_data = {\n",
        "    \"info\": drusen_data['info'], \"licenses\": drusen_data['licenses'], \"categories\": [],\n",
        "    \"images\": [], \"annotations\": []\n",
        "}\n",
        "merged_data['info']['description'] = \"Merged NORMAL and DRUSEN datasets.\"\n",
        "category_map = {}\n",
        "for cat in drusen_data['categories'] + normal_data['categories']:\n",
        "    cat_id = cat['id']\n",
        "    if cat_id not in category_map:\n",
        "        category_map[cat_id] = cat\n",
        "merged_data['categories'] = list(category_map.values())\n",
        "\n",
        "# --- 4. Define and Use the Helper Function ---\n",
        "def process_dataset(source_data, image_id_offset, ann_id_offset):\n",
        "    images = []\n",
        "    annotations = []\n",
        "    image_id_map = {}\n",
        "    for img in source_data['images']:\n",
        "        old_id = img['id']\n",
        "        new_id = old_id + image_id_offset\n",
        "        image_id_map[old_id] = new_id\n",
        "        img['id'] = new_id\n",
        "        images.append(img)\n",
        "    for ann in source_data['annotations']:\n",
        "        ann['id'] += ann_id_offset\n",
        "        ann['image_id'] = image_id_map[ann['image_id']]\n",
        "        annotations.append(ann)\n",
        "    return images, annotations\n",
        "\n",
        "normal_images, normal_annotations = process_dataset(normal_data, 0, 0)\n",
        "merged_data['images'].extend(normal_images)\n",
        "merged_data['annotations'].extend(normal_annotations)\n",
        "\n",
        "image_id_offset = len(merged_data['images'])\n",
        "ann_id_offset = len(merged_data['annotations'])\n",
        "\n",
        "drusen_images, drusen_annotations = process_dataset(drusen_data, image_id_offset, ann_id_offset)\n",
        "merged_data['images'].extend(drusen_images)\n",
        "merged_data['annotations'].extend(drusen_annotations)\n",
        "\n",
        "# --- 5. Save the Merged File ---\n",
        "print(f\"\\nSaving merged annotations to: {OUTPUT_JSON_PATH}\")\n",
        "os.makedirs(COMBINED_DATA_DIR, exist_ok=True)\n",
        "with open(OUTPUT_JSON_PATH, 'w') as f:\n",
        "    json.dump(merged_data, f, indent=4)\n",
        "\n",
        "print(\"\\n--- Merge Complete! ---\")"
      ],
      "metadata": {
        "id": "9R58rCXpHFma",
        "outputId": "423788df-a385-49cb-bc20-cc7d745f4a1f",
        "colab": {
          "base_uri": "https://localhost:8080/"
        }
      },
      "execution_count": 23,
      "outputs": [
        {
          "metadata": {
            "tags": null
          },
          "name": "stdout",
          "output_type": "stream",
          "text": [
            "--- Starting COCO JSON Merge Script ---\n",
            "Loading NORMAL annotations...\n",
            "Loading DRUSEN annotations...\n",
            "\n",
            "Saving merged annotations to: /content/drive/MyDrive/oct_major_project/combined_data/_merged_annotations.coco.json\n",
            "\n",
            "--- Merge Complete! ---\n"
          ]
        }
      ]
    },
    {
      "cell_type": "code",
      "source": [
        "import torch\n",
        "import torch.nn as nn\n",
        "import torch.optim as optim\n",
        "from torch.utils.data import Dataset, DataLoader, Subset\n",
        "import os\n",
        "import cv2\n",
        "import numpy as np\n",
        "from tqdm import tqdm\n",
        "from pycocotools.coco import COCO\n",
        "import json\n",
        "from sklearn.model_selection import KFold\n",
        "import albumentations as A\n",
        "from albumentations.pytorch import ToTensorV2\n",
        "\n",
        "# This is already mounted, but it doesn't hurt to have it here.\n",
        "# from google.colab import drive\n",
        "# drive.mount('/content/drive')\n",
        "\n",
        "# --- Path Definitions for the ML part ---\n",
        "PROJECT_FOLDER_IN_DRIVE = '/content/drive/MyDrive/oct_major_project/'\n",
        "COMBINED_DATA_DIR = os.path.join(PROJECT_FOLDER_IN_DRIVE, 'combined_data/')\n",
        "JSON_PATH = os.path.join(COMBINED_DATA_DIR, '_merged_annotations.coco.json')\n",
        "IMAGE_DIR = os.path.join(COMBINED_DATA_DIR, 'images/')\n",
        "MASK_SAVE_DIR = os.path.join(COMBINED_DATA_DIR, 'masks/')\n",
        "\n",
        "os.makedirs(MASK_SAVE_DIR, exist_ok=True)\n",
        "\n",
        "# --- Hyperparameters ---\n",
        "DEVICE = \"cuda\" if torch.cuda.is_available() else \"cpu\"\n",
        "LEARNING_RATE = 1e-4\n",
        "BATCH_SIZE = 4\n",
        "NUM_CLASSES = 11\n",
        "K_FOLDS = 5\n",
        "NUM_EPOCHS_PER_FOLD = 25\n",
        "\n",
        "print(f\"ML Setup Complete. Using device: {DEVICE}\")"
      ],
      "metadata": {
        "colab": {
          "base_uri": "https://localhost:8080/"
        },
        "id": "-MErr1n1B0qE",
        "outputId": "d522d26d-056a-48e9-e3b7-58c02d2da511"
      },
      "execution_count": 24,
      "outputs": [
        {
          "metadata": {
            "tags": null
          },
          "name": "stdout",
          "output_type": "stream",
          "text": [
            "ML Setup Complete. Using device: cuda\n"
          ]
        }
      ]
    },
    {
      "cell_type": "markdown",
      "source": [
        "GROUND TRUTH MASK GENERATION"
      ],
      "metadata": {
        "id": "9xhiYEpbe15g"
      }
    },
    {
      "cell_type": "code",
      "source": [
        "print(\"Loading COCO JSON for segmentation...\")\n",
        "# This assumes JSON_PATH and MASK_SAVE_DIR have been defined.\n",
        "coco = COCO(JSON_PATH)\n",
        "img_ids = coco.getImgIds()\n",
        "images = coco.loadImgs(img_ids)\n",
        "\n",
        "print(f\"Found {len(images)} images. Starting mask generation...\")\n",
        "\n",
        "for img_info in tqdm(images, desc=\"Generating Masks\"):\n",
        "    img_id = img_info['id']\n",
        "    img_file_name = img_info['file_name']\n",
        "    img_height = img_info['height']\n",
        "    img_width = img_info['width']\n",
        "\n",
        "    mask = np.zeros((img_height, img_width), dtype=np.uint8)\n",
        "    ann_ids = coco.getAnnIds(imgIds=img_id)\n",
        "    anns = coco.loadAnns(ann_ids)\n",
        "\n",
        "    for ann in anns:\n",
        "        category_id = ann['category_id']\n",
        "        for seg in ann['segmentation']:\n",
        "            poly = np.array(seg, dtype=np.int32).reshape((-1, 1, 2))\n",
        "            cv2.fillPoly(mask, [poly], color=(category_id))\n",
        "\n",
        "    base_name = img_file_name.split('.')[0]\n",
        "    mask_file_name = f\"{base_name}.png\"\n",
        "    save_path = os.path.join(MASK_SAVE_DIR, mask_file_name)\n",
        "    cv2.imwrite(save_path, mask)\n",
        "\n",
        "print(f\"\\nMask generation complete! The images are saved in: {MASK_SAVE_DIR}\")"
      ],
      "metadata": {
        "colab": {
          "base_uri": "https://localhost:8080/"
        },
        "id": "LO_VAbnPbL5-",
        "outputId": "51eb08d3-a731-4c9e-eb28-b68b5e008bf8"
      },
      "execution_count": 25,
      "outputs": [
        {
          "metadata": {
            "tags": null
          },
          "name": "stdout",
          "output_type": "stream",
          "text": [
            "Loading COCO JSON for segmentation...\n",
            "loading annotations into memory...\n",
            "Done (t=0.01s)\n",
            "creating index...\n",
            "index created!\n",
            "Found 39 images. Starting mask generation...\n"
          ]
        },
        {
          "metadata": {
            "tags": null
          },
          "name": "stderr",
          "output_type": "stream",
          "text": [
            "Generating Masks: 100%|██████████| 39/39 [00:00<00:00, 130.10it/s]"
          ]
        },
        {
          "metadata": {
            "tags": null
          },
          "name": "stdout",
          "output_type": "stream",
          "text": [
            "\n",
            "Mask generation complete! The images are saved in: /content/drive/MyDrive/oct_major_project/combined_data/masks/\n"
          ]
        },
        {
          "metadata": {
            "tags": null
          },
          "name": "stderr",
          "output_type": "stream",
          "text": [
            "\n"
          ]
        }
      ]
    },
    {
      "cell_type": "markdown",
      "source": [
        "UNET MODEL DEFENITION"
      ],
      "metadata": {
        "id": "FDpGdsURozN_"
      }
    },
    {
      "cell_type": "code",
      "source": [
        "class DoubleConv(nn.Module):\n",
        "    def __init__(self, in_channels, out_channels):\n",
        "        super(DoubleConv, self).__init__()\n",
        "        self.conv = nn.Sequential(\n",
        "            nn.Conv2d(in_channels, out_channels, 3, 1, 1, bias=False),\n",
        "            nn.BatchNorm2d(out_channels),\n",
        "            nn.ReLU(inplace=True),\n",
        "            nn.Conv2d(out_channels, out_channels, 3, 1, 1, bias=False),\n",
        "            nn.BatchNorm2d(out_channels),\n",
        "            nn.ReLU(inplace=True),\n",
        "        )\n",
        "    def forward(self, x):\n",
        "        return self.conv(x)\n",
        "\n",
        "class UNet(nn.Module):\n",
        "    def __init__(self, in_channels=1, out_channels=NUM_CLASSES, features=[64, 128, 256, 512]):\n",
        "        super(UNet, self).__init__()\n",
        "        self.ups = nn.ModuleList()\n",
        "        self.downs = nn.ModuleList()\n",
        "        self.pool = nn.MaxPool2d(kernel_size=2, stride=2)\n",
        "\n",
        "        for feature in features:\n",
        "            self.downs.append(DoubleConv(in_channels, feature))\n",
        "            in_channels = feature\n",
        "\n",
        "        for feature in reversed(features):\n",
        "            self.ups.append(nn.ConvTranspose2d(feature*2, feature, kernel_size=2, stride=2))\n",
        "            self.ups.append(DoubleConv(feature*2, feature))\n",
        "\n",
        "        self.bottleneck = DoubleConv(features[-1], features[-1]*2)\n",
        "        self.final_conv = nn.Conv2d(features[0], out_channels, kernel_size=1)\n",
        "\n",
        "    def forward(self, x):\n",
        "        skip_connections = []\n",
        "        for down in self.downs:\n",
        "            x = down(x)\n",
        "            skip_connections.append(x)\n",
        "            x = self.pool(x)\n",
        "        x = self.bottleneck(x)\n",
        "        skip_connections = skip_connections[::-1]\n",
        "        for idx in range(0, len(self.ups), 2):\n",
        "            x = self.ups[idx](x)\n",
        "            skip_connection = skip_connections[idx//2]\n",
        "            if x.shape != skip_connection.shape:\n",
        "                x = torch.nn.functional.interpolate(x, size=skip_connection.shape[2:])\n",
        "            concat_skip = torch.cat((skip_connection, x), dim=1)\n",
        "            x = self.ups[idx+1](concat_skip)\n",
        "        return self.final_conv(x)\n",
        "\n",
        "print(\"U-Net model class defined.\")"
      ],
      "metadata": {
        "colab": {
          "base_uri": "https://localhost:8080/"
        },
        "id": "Gn6B4rvWkVgr",
        "outputId": "c17dedd1-162f-43af-ac9b-3b0d385467c1"
      },
      "execution_count": 26,
      "outputs": [
        {
          "metadata": {
            "tags": null
          },
          "name": "stdout",
          "output_type": "stream",
          "text": [
            "U-Net model class defined.\n"
          ]
        }
      ]
    },
    {
      "cell_type": "markdown",
      "source": [
        "CUSTOM DATASET CLASS"
      ],
      "metadata": {
        "id": "7QsnOEF2o4RM"
      }
    },
    {
      "cell_type": "code",
      "source": [
        "import albumentations as A\n",
        "from albumentations.pytorch import ToTensorV2\n",
        "\n",
        "class RetinaDataset(Dataset):\n",
        "    def __init__(self, image_dir, mask_dir, transform=None):\n",
        "        self.image_dir = image_dir\n",
        "        self.mask_dir = mask_dir\n",
        "        self.images = sorted([f for f in os.listdir(image_dir) if f.endswith('.jpg')])\n",
        "        self.transform = transform\n",
        "\n",
        "    def __len__(self):\n",
        "        return len(self.images)\n",
        "\n",
        "    def __getitem__(self, index):\n",
        "        img_file = self.images[index]\n",
        "        mask_file = img_file.split('.')[0] + '.png'\n",
        "\n",
        "        img_path = os.path.join(self.image_dir, img_file)\n",
        "        mask_path = os.path.join(self.mask_dir, mask_file)\n",
        "\n",
        "        image = cv2.imread(img_path, cv2.IMREAD_GRAYSCALE)\n",
        "        mask = cv2.imread(mask_path, cv2.IMREAD_GRAYSCALE)\n",
        "\n",
        "        image = cv2.medianBlur(image, 5)\n",
        "\n",
        "        if self.transform is not None:\n",
        "            augmented = self.transform(image=image, mask=mask)\n",
        "            image = augmented['image']\n",
        "            mask = augmented['mask'].long()\n",
        "\n",
        "        return image, mask\n",
        "\n",
        "\n",
        "train_transform = A.Compose(\n",
        "    [\n",
        "        A.Resize(height=512, width=512),\n",
        "        A.HorizontalFlip(p=0.5),\n",
        "        A.RandomBrightnessContrast(p=0.3),\n",
        "        A.GaussianBlur(p=0.2),\n",
        "        A.GaussNoise(p=0.2),\n",
        "\n",
        "\n",
        "        A.Normalize(mean=[0.5], std=[0.5]),\n",
        "\n",
        "\n",
        "        ToTensorV2(),\n",
        "    ]\n",
        ")\n",
        "\n",
        "val_transform = A.Compose(\n",
        "    [\n",
        "        A.Resize(height=512, width=512),\n",
        "\n",
        "\n",
        "        A.Normalize(mean=[0.5], std=[0.5]),\n",
        "\n",
        "\n",
        "        ToTensorV2(),\n",
        "    ]\n",
        ")\n",
        "\n",
        "print(\"Dataset class and augmentation transforms have been updated.\")"
      ],
      "metadata": {
        "id": "2tLbPhuhoLsC",
        "outputId": "c7d5690c-b8b9-4ce6-f427-b5b93a878b43",
        "colab": {
          "base_uri": "https://localhost:8080/"
        }
      },
      "execution_count": 27,
      "outputs": [
        {
          "metadata": {
            "tags": null
          },
          "name": "stdout",
          "output_type": "stream",
          "text": [
            "Dataset class and augmentation transforms have been updated.\n"
          ]
        }
      ]
    },
    {
      "cell_type": "code",
      "source": [
        "# Block 8: Helper Functions for Training and Evaluation\n",
        "\n",
        "def train_fn(loader, model, optimizer, loss_fn):\n",
        "    loop = tqdm(loader, desc=\"Training\")\n",
        "    model.train()\n",
        "\n",
        "    for batch_idx, (data, targets) in enumerate(loop):\n",
        "        data, targets = data.to(device=DEVICE), targets.to(device=DEVICE)\n",
        "        predictions = model(data)\n",
        "        loss = loss_fn(predictions, targets)\n",
        "        optimizer.zero_grad()\n",
        "        loss.backward()\n",
        "        optimizer.step()\n",
        "        loop.set_postfix(loss=loss.item())\n",
        "\n",
        "def check_metrics(loader, model, device=\"cuda\"):\n",
        "    dice_score = 0\n",
        "    iou_score = 0\n",
        "    model.eval()\n",
        "\n",
        "    with torch.no_grad():\n",
        "        for x, y in loader:\n",
        "            x = x.to(device)\n",
        "            y = y.to(device)\n",
        "            preds = torch.argmax(model(x), dim=1)\n",
        "\n",
        "            # Convert to one-hot for multi-class metric calculation\n",
        "            y_one_hot = torch.nn.functional.one_hot(y, num_classes=NUM_CLASSES).permute(0, 3, 1, 2)\n",
        "            preds_one_hot = torch.nn.functional.one_hot(preds, num_classes=NUM_CLASSES).permute(0, 3, 1, 2)\n",
        "\n",
        "            intersection = (preds_one_hot * y_one_hot).sum()\n",
        "            union = preds_one_hot.sum() + y_one_hot.sum()\n",
        "\n",
        "            dice_score += (2. * intersection) / (union + 1e-8)\n",
        "            iou_score += intersection / (union - intersection + 1e-8)\n",
        "\n",
        "    avg_dice = dice_score / len(loader)\n",
        "    avg_iou = iou_score / len(loader)\n",
        "\n",
        "    print(f\"Validation Dice Score: {avg_dice:.4f}\")\n",
        "    print(f\"Validation IoU Score: {avg_iou:.4f}\")\n",
        "\n",
        "    model.train()\n",
        "    return avg_dice, avg_iou\n",
        "\n",
        "print(\"Training and evaluation functions are defined.\")"
      ],
      "metadata": {
        "id": "AjhwlLiFPo54",
        "outputId": "150af674-1b3a-4ece-b8c2-82bc2dfe3510",
        "colab": {
          "base_uri": "https://localhost:8080/"
        }
      },
      "execution_count": 28,
      "outputs": [
        {
          "metadata": {
            "tags": null
          },
          "name": "stdout",
          "output_type": "stream",
          "text": [
            "Training and evaluation functions are defined.\n"
          ]
        }
      ]
    },
    {
      "cell_type": "code",
      "source": [
        "class DiceLoss(nn.Module):\n",
        "    def __init__(self, weight=None, size_average=True):\n",
        "        super(DiceLoss, self).__init__()\n",
        "\n",
        "    def forward(self, inputs, targets, smooth=1):\n",
        "        # Apply softmax to get probabilities\n",
        "        inputs = torch.softmax(inputs, dim=1)\n",
        "\n",
        "        # Flatten label and prediction tensors\n",
        "        inputs = inputs.reshape(-1)\n",
        "        targets = targets.reshape(-1)\n",
        "\n",
        "        intersection = (inputs * targets).sum()\n",
        "        dice = (2. * intersection + smooth) / (inputs.sum() + targets.sum() + smooth)\n",
        "\n",
        "        return 1 - dice\n",
        "\n",
        "class CombinedLoss(nn.Module):\n",
        "    def __init__(self, alpha=0.5, weight=None):\n",
        "        super(CombinedLoss, self).__init__()\n",
        "        self.alpha = alpha\n",
        "        self.cross_entropy = nn.CrossEntropyLoss(weight=weight)\n",
        "        self.dice = DiceLoss()\n",
        "\n",
        "    def forward(self, inputs, targets):\n",
        "        # The target for CE should not be one-hot, but Dice needs it to be\n",
        "        # Let's adjust Dice to work with class indices by converting inside\n",
        "        target_one_hot = torch.nn.functional.one_hot(targets, num_classes=NUM_CLASSES).permute(0, 3, 1, 2)\n",
        "\n",
        "        loss_ce = self.cross_entropy(inputs, targets)\n",
        "        loss_dice = self.dice(inputs, target_one_hot)\n",
        "\n",
        "        return self.alpha * loss_ce + (1 - self.alpha) * loss_dice\n",
        "\n",
        "print(\"Advanced CombinedLoss (Cross-Entropy + Dice) function defined.\")"
      ],
      "metadata": {
        "id": "T9_DCsSFFInz",
        "outputId": "ab106ac7-15fb-4cd5-a736-f3e34f9ba5fc",
        "colab": {
          "base_uri": "https://localhost:8080/"
        }
      },
      "execution_count": 29,
      "outputs": [
        {
          "metadata": {
            "tags": null
          },
          "name": "stdout",
          "output_type": "stream",
          "text": [
            "Advanced CombinedLoss (Cross-Entropy + Dice) function defined.\n"
          ]
        }
      ]
    },
    {
      "cell_type": "code",
      "source": [
        "from sklearn.model_selection import KFold\n",
        "from torch.utils.data import Subset, DataLoader\n",
        "\n",
        "full_dataset = RetinaDataset(image_dir=IMAGE_DIR, mask_dir=MASK_SAVE_DIR)\n",
        "dice_scores = []\n",
        "iou_scores = []\n",
        "kfold = KFold(n_splits=K_FOLDS, shuffle=True, random_state=42)\n",
        "\n",
        "print(\"--- Starting 5-Fold Cross-Validation ---\")\n",
        "\n",
        "for fold, (train_ids, val_ids) in enumerate(kfold.split(full_dataset)):\n",
        "    print(f\"\\n----------- FOLD {fold+1}/{K_FOLDS} -----------\")\n",
        "\n",
        "    train_subset = Subset(full_dataset, train_ids)\n",
        "    val_subset = Subset(full_dataset, val_ids)\n",
        "    train_subset.dataset.transform = train_transform\n",
        "    val_subset.dataset.transform = val_transform\n",
        "\n",
        "    # --- Add the missing DataLoader definitions here ---\n",
        "    train_loader = DataLoader(train_subset, batch_size=BATCH_SIZE, shuffle=True)\n",
        "    val_loader = DataLoader(val_subset, batch_size=BATCH_SIZE, shuffle=False)\n",
        "\n",
        "    # --- Calculate Class Weights FOR THIS FOLD'S TRAINING DATA ---\n",
        "    print(\"Calculating class weights for the current fold...\")\n",
        "    # Using a temp_loader with shuffle=False is efficient for just counting\n",
        "    temp_loader = DataLoader(train_subset, batch_size=BATCH_SIZE, shuffle=False)\n",
        "    pixel_counts = torch.zeros(NUM_CLASSES, dtype=torch.long)\n",
        "    for _, masks in tqdm(temp_loader, desc=\"Counting pixels\"):\n",
        "        for i in range(NUM_CLASSES):\n",
        "            pixel_counts[i] += (masks == i).sum()\n",
        "\n",
        "    weights = 1.0 / (pixel_counts.float() + 1e-6)\n",
        "    class_weights = (weights / weights.sum()).to(DEVICE)\n",
        "    print(\"Class weights for this fold calculated.\")\n",
        "\n",
        "    # --- Initialize Model, Optimizer, and LOSS FUNCTION WITH WEIGHTS ---\n",
        "    model = UNet(in_channels=1, out_channels=NUM_CLASSES).to(DEVICE)\n",
        "    optimizer = optim.Adam(model.parameters(), lr=LEARNING_RATE)\n",
        "    loss_fn = CombinedLoss(weight=class_weights)\n",
        "\n",
        "    # --- Train the model ---\n",
        "    for epoch in range(NUM_EPOCHS_PER_FOLD):\n",
        "        print(f\"  Epoch {epoch+1}/{NUM_EPOCHS_PER_FOLD}\")\n",
        "        train_fn(train_loader, model, optimizer, loss_fn)\n",
        "\n",
        "    # --- Evaluate the model ---\n",
        "    print(f\"--- Evaluating on Fold {fold+1} ---\")\n",
        "    fold_dice, fold_iou = check_metrics(val_loader, model, device=DEVICE)\n",
        "    dice_scores.append(fold_dice.item())\n",
        "    iou_scores.append(fold_iou.item())\n",
        "\n",
        "# --- Final Results ---\n",
        "avg_dice = sum(dice_scores) / len(dice_scores)\n",
        "avg_iou = sum(iou_scores) / len(iou_scores)\n",
        "print(\"\\n----------- K-Fold Cross-Validation Results -----------\")\n",
        "print(f\"Dice scores for each fold: {dice_scores}\")\n",
        "print(f\"IoU scores for each fold: {iou_scores}\")\n",
        "print(f\"Average Dice Score: {avg_dice:.4f}\")\n",
        "print(f\"Average IoU Score: {avg_iou:.4f}\")\n",
        "\n",
        "# --- Save the model from the LAST fold for prediction examples ---\n",
        "MODEL_SAVE_PATH = os.path.join(PROJECT_FOLDER_IN_DRIVE, \"unet_retina_segmentation_last_fold.pth\")\n",
        "torch.save(model.state_dict(), MODEL_SAVE_PATH)\n",
        "print(f\"\\nModel from last fold saved to {MODEL_SAVE_PATH}\")"
      ],
      "metadata": {
        "id": "9J49evVsOuuR",
        "outputId": "6cb4e25f-bd0c-4e26-b984-7da570aba4af",
        "colab": {
          "base_uri": "https://localhost:8080/",
          "height": 1000
        }
      },
      "execution_count": 30,
      "outputs": [
        {
          "metadata": {
            "tags": null
          },
          "name": "stdout",
          "output_type": "stream",
          "text": [
            "--- Starting 5-Fold Cross-Validation ---\n",
            "\n",
            "----------- FOLD 1/5 -----------\n",
            "Calculating class weights for the current fold...\n"
          ]
        },
        {
          "metadata": {
            "tags": null
          },
          "name": "stderr",
          "output_type": "stream",
          "text": [
            "Counting pixels: 100%|██████████| 8/8 [00:00<00:00, 13.69it/s]\n"
          ]
        },
        {
          "metadata": {
            "tags": null
          },
          "name": "stdout",
          "output_type": "stream",
          "text": [
            "Class weights for this fold calculated.\n",
            "  Epoch 1/25\n"
          ]
        },
        {
          "metadata": {
            "tags": null
          },
          "name": "stderr",
          "output_type": "stream",
          "text": [
            "Training: 100%|██████████| 8/8 [00:07<00:00,  1.06it/s, loss=1.57]\n"
          ]
        },
        {
          "metadata": {
            "tags": null
          },
          "name": "stdout",
          "output_type": "stream",
          "text": [
            "  Epoch 2/25\n"
          ]
        },
        {
          "metadata": {
            "tags": null
          },
          "name": "stderr",
          "output_type": "stream",
          "text": [
            "Training: 100%|██████████| 8/8 [00:07<00:00,  1.03it/s, loss=1.45]\n"
          ]
        },
        {
          "metadata": {
            "tags": null
          },
          "name": "stdout",
          "output_type": "stream",
          "text": [
            "  Epoch 3/25\n"
          ]
        },
        {
          "metadata": {
            "tags": null
          },
          "name": "stderr",
          "output_type": "stream",
          "text": [
            "Training: 100%|██████████| 8/8 [00:08<00:00,  1.09s/it, loss=1.28]\n"
          ]
        },
        {
          "metadata": {
            "tags": null
          },
          "name": "stdout",
          "output_type": "stream",
          "text": [
            "  Epoch 4/25\n"
          ]
        },
        {
          "metadata": {
            "tags": null
          },
          "name": "stderr",
          "output_type": "stream",
          "text": [
            "Training: 100%|██████████| 8/8 [00:07<00:00,  1.06it/s, loss=1.23]\n"
          ]
        },
        {
          "metadata": {
            "tags": null
          },
          "name": "stdout",
          "output_type": "stream",
          "text": [
            "  Epoch 5/25\n"
          ]
        },
        {
          "metadata": {
            "tags": null
          },
          "name": "stderr",
          "output_type": "stream",
          "text": [
            "Training: 100%|██████████| 8/8 [00:07<00:00,  1.05it/s, loss=1.14]\n"
          ]
        },
        {
          "metadata": {
            "tags": null
          },
          "name": "stdout",
          "output_type": "stream",
          "text": [
            "  Epoch 6/25\n"
          ]
        },
        {
          "metadata": {
            "tags": null
          },
          "name": "stderr",
          "output_type": "stream",
          "text": [
            "Training: 100%|██████████| 8/8 [00:07<00:00,  1.06it/s, loss=1.1]\n"
          ]
        },
        {
          "metadata": {
            "tags": null
          },
          "name": "stdout",
          "output_type": "stream",
          "text": [
            "  Epoch 7/25\n"
          ]
        },
        {
          "metadata": {
            "tags": null
          },
          "name": "stderr",
          "output_type": "stream",
          "text": [
            "Training: 100%|██████████| 8/8 [00:07<00:00,  1.06it/s, loss=1.23]\n"
          ]
        },
        {
          "metadata": {
            "tags": null
          },
          "name": "stdout",
          "output_type": "stream",
          "text": [
            "  Epoch 8/25\n"
          ]
        },
        {
          "metadata": {
            "tags": null
          },
          "name": "stderr",
          "output_type": "stream",
          "text": [
            "Training: 100%|██████████| 8/8 [00:07<00:00,  1.07it/s, loss=0.984]\n"
          ]
        },
        {
          "metadata": {
            "tags": null
          },
          "name": "stdout",
          "output_type": "stream",
          "text": [
            "  Epoch 9/25\n"
          ]
        },
        {
          "metadata": {
            "tags": null
          },
          "name": "stderr",
          "output_type": "stream",
          "text": [
            "Training: 100%|██████████| 8/8 [00:07<00:00,  1.08it/s, loss=1.05]\n"
          ]
        },
        {
          "metadata": {
            "tags": null
          },
          "name": "stdout",
          "output_type": "stream",
          "text": [
            "  Epoch 10/25\n"
          ]
        },
        {
          "metadata": {
            "tags": null
          },
          "name": "stderr",
          "output_type": "stream",
          "text": [
            "Training: 100%|██████████| 8/8 [00:07<00:00,  1.03it/s, loss=1.05]\n"
          ]
        },
        {
          "metadata": {
            "tags": null
          },
          "name": "stdout",
          "output_type": "stream",
          "text": [
            "  Epoch 11/25\n"
          ]
        },
        {
          "metadata": {
            "tags": null
          },
          "name": "stderr",
          "output_type": "stream",
          "text": [
            "Training: 100%|██████████| 8/8 [00:07<00:00,  1.07it/s, loss=1.01]\n"
          ]
        },
        {
          "metadata": {
            "tags": null
          },
          "name": "stdout",
          "output_type": "stream",
          "text": [
            "  Epoch 12/25\n"
          ]
        },
        {
          "metadata": {
            "tags": null
          },
          "name": "stderr",
          "output_type": "stream",
          "text": [
            "Training: 100%|██████████| 8/8 [00:07<00:00,  1.06it/s, loss=1.07]\n"
          ]
        },
        {
          "metadata": {
            "tags": null
          },
          "name": "stdout",
          "output_type": "stream",
          "text": [
            "  Epoch 13/25\n"
          ]
        },
        {
          "metadata": {
            "tags": null
          },
          "name": "stderr",
          "output_type": "stream",
          "text": [
            "Training: 100%|██████████| 8/8 [00:07<00:00,  1.07it/s, loss=0.989]\n"
          ]
        },
        {
          "metadata": {
            "tags": null
          },
          "name": "stdout",
          "output_type": "stream",
          "text": [
            "  Epoch 14/25\n"
          ]
        },
        {
          "metadata": {
            "tags": null
          },
          "name": "stderr",
          "output_type": "stream",
          "text": [
            "Training: 100%|██████████| 8/8 [00:07<00:00,  1.06it/s, loss=0.905]\n"
          ]
        },
        {
          "metadata": {
            "tags": null
          },
          "name": "stdout",
          "output_type": "stream",
          "text": [
            "  Epoch 15/25\n"
          ]
        },
        {
          "metadata": {
            "tags": null
          },
          "name": "stderr",
          "output_type": "stream",
          "text": [
            "Training: 100%|██████████| 8/8 [00:07<00:00,  1.07it/s, loss=0.873]\n"
          ]
        },
        {
          "metadata": {
            "tags": null
          },
          "name": "stdout",
          "output_type": "stream",
          "text": [
            "  Epoch 16/25\n"
          ]
        },
        {
          "metadata": {
            "tags": null
          },
          "name": "stderr",
          "output_type": "stream",
          "text": [
            "Training: 100%|██████████| 8/8 [00:07<00:00,  1.07it/s, loss=0.979]\n"
          ]
        },
        {
          "metadata": {
            "tags": null
          },
          "name": "stdout",
          "output_type": "stream",
          "text": [
            "  Epoch 17/25\n"
          ]
        },
        {
          "metadata": {
            "tags": null
          },
          "name": "stderr",
          "output_type": "stream",
          "text": [
            "Training: 100%|██████████| 8/8 [00:07<00:00,  1.06it/s, loss=0.903]\n"
          ]
        },
        {
          "metadata": {
            "tags": null
          },
          "name": "stdout",
          "output_type": "stream",
          "text": [
            "  Epoch 18/25\n"
          ]
        },
        {
          "metadata": {
            "tags": null
          },
          "name": "stderr",
          "output_type": "stream",
          "text": [
            "Training: 100%|██████████| 8/8 [00:07<00:00,  1.07it/s, loss=0.91]\n"
          ]
        },
        {
          "metadata": {
            "tags": null
          },
          "name": "stdout",
          "output_type": "stream",
          "text": [
            "  Epoch 19/25\n"
          ]
        },
        {
          "metadata": {
            "tags": null
          },
          "name": "stderr",
          "output_type": "stream",
          "text": [
            "Training: 100%|██████████| 8/8 [00:07<00:00,  1.07it/s, loss=0.891]\n"
          ]
        },
        {
          "metadata": {
            "tags": null
          },
          "name": "stdout",
          "output_type": "stream",
          "text": [
            "  Epoch 20/25\n"
          ]
        },
        {
          "metadata": {
            "tags": null
          },
          "name": "stderr",
          "output_type": "stream",
          "text": [
            "Training: 100%|██████████| 8/8 [00:07<00:00,  1.07it/s, loss=0.948]\n"
          ]
        },
        {
          "metadata": {
            "tags": null
          },
          "name": "stdout",
          "output_type": "stream",
          "text": [
            "  Epoch 21/25\n"
          ]
        },
        {
          "metadata": {
            "tags": null
          },
          "name": "stderr",
          "output_type": "stream",
          "text": [
            "Training: 100%|██████████| 8/8 [00:07<00:00,  1.07it/s, loss=0.859]\n"
          ]
        },
        {
          "metadata": {
            "tags": null
          },
          "name": "stdout",
          "output_type": "stream",
          "text": [
            "  Epoch 22/25\n"
          ]
        },
        {
          "metadata": {
            "tags": null
          },
          "name": "stderr",
          "output_type": "stream",
          "text": [
            "Training: 100%|██████████| 8/8 [00:07<00:00,  1.06it/s, loss=0.9]\n"
          ]
        },
        {
          "metadata": {
            "tags": null
          },
          "name": "stdout",
          "output_type": "stream",
          "text": [
            "  Epoch 23/25\n"
          ]
        },
        {
          "metadata": {
            "tags": null
          },
          "name": "stderr",
          "output_type": "stream",
          "text": [
            "Training: 100%|██████████| 8/8 [00:07<00:00,  1.07it/s, loss=0.916]\n"
          ]
        },
        {
          "metadata": {
            "tags": null
          },
          "name": "stdout",
          "output_type": "stream",
          "text": [
            "  Epoch 24/25\n"
          ]
        },
        {
          "metadata": {
            "tags": null
          },
          "name": "stderr",
          "output_type": "stream",
          "text": [
            "Training: 100%|██████████| 8/8 [00:07<00:00,  1.06it/s, loss=0.819]\n"
          ]
        },
        {
          "metadata": {
            "tags": null
          },
          "name": "stdout",
          "output_type": "stream",
          "text": [
            "  Epoch 25/25\n"
          ]
        },
        {
          "metadata": {
            "tags": null
          },
          "name": "stderr",
          "output_type": "stream",
          "text": [
            "Training: 100%|██████████| 8/8 [00:07<00:00,  1.07it/s, loss=0.779]\n"
          ]
        },
        {
          "metadata": {
            "tags": null
          },
          "name": "stdout",
          "output_type": "stream",
          "text": [
            "--- Evaluating on Fold 1 ---\n",
            "Validation Dice Score: 0.7626\n",
            "Validation IoU Score: 0.6164\n",
            "\n",
            "----------- FOLD 2/5 -----------\n",
            "Calculating class weights for the current fold...\n"
          ]
        },
        {
          "metadata": {
            "tags": null
          },
          "name": "stderr",
          "output_type": "stream",
          "text": [
            "Counting pixels: 100%|██████████| 8/8 [00:00<00:00, 10.04it/s]\n"
          ]
        },
        {
          "metadata": {
            "tags": null
          },
          "name": "stdout",
          "output_type": "stream",
          "text": [
            "Class weights for this fold calculated.\n",
            "  Epoch 1/25\n"
          ]
        },
        {
          "metadata": {
            "tags": null
          },
          "name": "stderr",
          "output_type": "stream",
          "text": [
            "Training: 100%|██████████| 8/8 [00:07<00:00,  1.06it/s, loss=1.5]\n"
          ]
        },
        {
          "metadata": {
            "tags": null
          },
          "name": "stdout",
          "output_type": "stream",
          "text": [
            "  Epoch 2/25\n"
          ]
        },
        {
          "metadata": {
            "tags": null
          },
          "name": "stderr",
          "output_type": "stream",
          "text": [
            "Training: 100%|██████████| 8/8 [00:07<00:00,  1.06it/s, loss=1.39]\n"
          ]
        },
        {
          "metadata": {
            "tags": null
          },
          "name": "stdout",
          "output_type": "stream",
          "text": [
            "  Epoch 3/25\n"
          ]
        },
        {
          "metadata": {
            "tags": null
          },
          "name": "stderr",
          "output_type": "stream",
          "text": [
            "Training: 100%|██████████| 8/8 [00:07<00:00,  1.06it/s, loss=1.25]\n"
          ]
        },
        {
          "metadata": {
            "tags": null
          },
          "name": "stdout",
          "output_type": "stream",
          "text": [
            "  Epoch 4/25\n"
          ]
        },
        {
          "metadata": {
            "tags": null
          },
          "name": "stderr",
          "output_type": "stream",
          "text": [
            "Training: 100%|██████████| 8/8 [00:07<00:00,  1.06it/s, loss=1.38]\n"
          ]
        },
        {
          "metadata": {
            "tags": null
          },
          "name": "stdout",
          "output_type": "stream",
          "text": [
            "  Epoch 5/25\n"
          ]
        },
        {
          "metadata": {
            "tags": null
          },
          "name": "stderr",
          "output_type": "stream",
          "text": [
            "Training: 100%|██████████| 8/8 [00:07<00:00,  1.07it/s, loss=1.2]\n"
          ]
        },
        {
          "metadata": {
            "tags": null
          },
          "name": "stdout",
          "output_type": "stream",
          "text": [
            "  Epoch 6/25\n"
          ]
        },
        {
          "metadata": {
            "tags": null
          },
          "name": "stderr",
          "output_type": "stream",
          "text": [
            "Training: 100%|██████████| 8/8 [00:07<00:00,  1.06it/s, loss=1.11]\n"
          ]
        },
        {
          "metadata": {
            "tags": null
          },
          "name": "stdout",
          "output_type": "stream",
          "text": [
            "  Epoch 7/25\n"
          ]
        },
        {
          "metadata": {
            "tags": null
          },
          "name": "stderr",
          "output_type": "stream",
          "text": [
            "Training: 100%|██████████| 8/8 [00:07<00:00,  1.07it/s, loss=1.08]\n"
          ]
        },
        {
          "metadata": {
            "tags": null
          },
          "name": "stdout",
          "output_type": "stream",
          "text": [
            "  Epoch 8/25\n"
          ]
        },
        {
          "metadata": {
            "tags": null
          },
          "name": "stderr",
          "output_type": "stream",
          "text": [
            "Training: 100%|██████████| 8/8 [00:07<00:00,  1.06it/s, loss=1.02]\n"
          ]
        },
        {
          "metadata": {
            "tags": null
          },
          "name": "stdout",
          "output_type": "stream",
          "text": [
            "  Epoch 9/25\n"
          ]
        },
        {
          "metadata": {
            "tags": null
          },
          "name": "stderr",
          "output_type": "stream",
          "text": [
            "Training: 100%|██████████| 8/8 [00:07<00:00,  1.07it/s, loss=1.07]\n"
          ]
        },
        {
          "metadata": {
            "tags": null
          },
          "name": "stdout",
          "output_type": "stream",
          "text": [
            "  Epoch 10/25\n"
          ]
        },
        {
          "metadata": {
            "tags": null
          },
          "name": "stderr",
          "output_type": "stream",
          "text": [
            "Training: 100%|██████████| 8/8 [00:07<00:00,  1.07it/s, loss=1.06]\n"
          ]
        },
        {
          "metadata": {
            "tags": null
          },
          "name": "stdout",
          "output_type": "stream",
          "text": [
            "  Epoch 11/25\n"
          ]
        },
        {
          "metadata": {
            "tags": null
          },
          "name": "stderr",
          "output_type": "stream",
          "text": [
            "Training: 100%|██████████| 8/8 [00:07<00:00,  1.06it/s, loss=1.1]\n"
          ]
        },
        {
          "metadata": {
            "tags": null
          },
          "name": "stdout",
          "output_type": "stream",
          "text": [
            "  Epoch 12/25\n"
          ]
        },
        {
          "metadata": {
            "tags": null
          },
          "name": "stderr",
          "output_type": "stream",
          "text": [
            "Training: 100%|██████████| 8/8 [00:07<00:00,  1.07it/s, loss=0.99]\n"
          ]
        },
        {
          "metadata": {
            "tags": null
          },
          "name": "stdout",
          "output_type": "stream",
          "text": [
            "  Epoch 13/25\n"
          ]
        },
        {
          "metadata": {
            "tags": null
          },
          "name": "stderr",
          "output_type": "stream",
          "text": [
            "Training: 100%|██████████| 8/8 [00:07<00:00,  1.06it/s, loss=0.932]\n"
          ]
        },
        {
          "metadata": {
            "tags": null
          },
          "name": "stdout",
          "output_type": "stream",
          "text": [
            "  Epoch 14/25\n"
          ]
        },
        {
          "metadata": {
            "tags": null
          },
          "name": "stderr",
          "output_type": "stream",
          "text": [
            "Training: 100%|██████████| 8/8 [00:07<00:00,  1.06it/s, loss=0.95]\n"
          ]
        },
        {
          "metadata": {
            "tags": null
          },
          "name": "stdout",
          "output_type": "stream",
          "text": [
            "  Epoch 15/25\n"
          ]
        },
        {
          "metadata": {
            "tags": null
          },
          "name": "stderr",
          "output_type": "stream",
          "text": [
            "Training: 100%|██████████| 8/8 [00:07<00:00,  1.06it/s, loss=1.11]\n"
          ]
        },
        {
          "metadata": {
            "tags": null
          },
          "name": "stdout",
          "output_type": "stream",
          "text": [
            "  Epoch 16/25\n"
          ]
        },
        {
          "metadata": {
            "tags": null
          },
          "name": "stderr",
          "output_type": "stream",
          "text": [
            "Training: 100%|██████████| 8/8 [00:07<00:00,  1.06it/s, loss=0.92]\n"
          ]
        },
        {
          "metadata": {
            "tags": null
          },
          "name": "stdout",
          "output_type": "stream",
          "text": [
            "  Epoch 17/25\n"
          ]
        },
        {
          "metadata": {
            "tags": null
          },
          "name": "stderr",
          "output_type": "stream",
          "text": [
            "Training: 100%|██████████| 8/8 [00:07<00:00,  1.07it/s, loss=0.905]\n"
          ]
        },
        {
          "metadata": {
            "tags": null
          },
          "name": "stdout",
          "output_type": "stream",
          "text": [
            "  Epoch 18/25\n"
          ]
        },
        {
          "metadata": {
            "tags": null
          },
          "name": "stderr",
          "output_type": "stream",
          "text": [
            "Training: 100%|██████████| 8/8 [00:07<00:00,  1.06it/s, loss=0.93]\n"
          ]
        },
        {
          "metadata": {
            "tags": null
          },
          "name": "stdout",
          "output_type": "stream",
          "text": [
            "  Epoch 19/25\n"
          ]
        },
        {
          "metadata": {
            "tags": null
          },
          "name": "stderr",
          "output_type": "stream",
          "text": [
            "Training: 100%|██████████| 8/8 [00:07<00:00,  1.07it/s, loss=0.859]\n"
          ]
        },
        {
          "metadata": {
            "tags": null
          },
          "name": "stdout",
          "output_type": "stream",
          "text": [
            "  Epoch 20/25\n"
          ]
        },
        {
          "metadata": {
            "tags": null
          },
          "name": "stderr",
          "output_type": "stream",
          "text": [
            "Training: 100%|██████████| 8/8 [00:07<00:00,  1.06it/s, loss=0.816]\n"
          ]
        },
        {
          "metadata": {
            "tags": null
          },
          "name": "stdout",
          "output_type": "stream",
          "text": [
            "  Epoch 21/25\n"
          ]
        },
        {
          "metadata": {
            "tags": null
          },
          "name": "stderr",
          "output_type": "stream",
          "text": [
            "Training: 100%|██████████| 8/8 [00:07<00:00,  1.07it/s, loss=0.928]\n"
          ]
        },
        {
          "metadata": {
            "tags": null
          },
          "name": "stdout",
          "output_type": "stream",
          "text": [
            "  Epoch 22/25\n"
          ]
        },
        {
          "metadata": {
            "tags": null
          },
          "name": "stderr",
          "output_type": "stream",
          "text": [
            "Training: 100%|██████████| 8/8 [00:07<00:00,  1.06it/s, loss=0.864]\n"
          ]
        },
        {
          "metadata": {
            "tags": null
          },
          "name": "stdout",
          "output_type": "stream",
          "text": [
            "  Epoch 23/25\n"
          ]
        },
        {
          "metadata": {
            "tags": null
          },
          "name": "stderr",
          "output_type": "stream",
          "text": [
            "Training: 100%|██████████| 8/8 [00:07<00:00,  1.06it/s, loss=0.925]\n"
          ]
        },
        {
          "metadata": {
            "tags": null
          },
          "name": "stdout",
          "output_type": "stream",
          "text": [
            "  Epoch 24/25\n"
          ]
        },
        {
          "metadata": {
            "tags": null
          },
          "name": "stderr",
          "output_type": "stream",
          "text": [
            "Training: 100%|██████████| 8/8 [00:07<00:00,  1.07it/s, loss=0.868]\n"
          ]
        },
        {
          "metadata": {
            "tags": null
          },
          "name": "stdout",
          "output_type": "stream",
          "text": [
            "  Epoch 25/25\n"
          ]
        },
        {
          "metadata": {
            "tags": null
          },
          "name": "stderr",
          "output_type": "stream",
          "text": [
            "Training: 100%|██████████| 8/8 [00:07<00:00,  1.06it/s, loss=0.83]\n"
          ]
        },
        {
          "metadata": {
            "tags": null
          },
          "name": "stdout",
          "output_type": "stream",
          "text": [
            "--- Evaluating on Fold 2 ---\n",
            "Validation Dice Score: 0.4548\n",
            "Validation IoU Score: 0.2949\n",
            "\n",
            "----------- FOLD 3/5 -----------\n",
            "Calculating class weights for the current fold...\n"
          ]
        },
        {
          "metadata": {
            "tags": null
          },
          "name": "stderr",
          "output_type": "stream",
          "text": [
            "Counting pixels: 100%|██████████| 8/8 [00:00<00:00, 12.82it/s]\n"
          ]
        },
        {
          "metadata": {
            "tags": null
          },
          "name": "stdout",
          "output_type": "stream",
          "text": [
            "Class weights for this fold calculated.\n",
            "  Epoch 1/25\n"
          ]
        },
        {
          "metadata": {
            "tags": null
          },
          "name": "stderr",
          "output_type": "stream",
          "text": [
            "Training: 100%|██████████| 8/8 [00:07<00:00,  1.07it/s, loss=1.62]\n"
          ]
        },
        {
          "metadata": {
            "tags": null
          },
          "name": "stdout",
          "output_type": "stream",
          "text": [
            "  Epoch 2/25\n"
          ]
        },
        {
          "metadata": {
            "tags": null
          },
          "name": "stderr",
          "output_type": "stream",
          "text": [
            "Training: 100%|██████████| 8/8 [00:07<00:00,  1.06it/s, loss=1.45]\n"
          ]
        },
        {
          "metadata": {
            "tags": null
          },
          "name": "stdout",
          "output_type": "stream",
          "text": [
            "  Epoch 3/25\n"
          ]
        },
        {
          "output_type": "stream",
          "name": "stderr",
          "text": [
            "Training: 100%|██████████| 8/8 [00:08<00:00,  1.00s/it, loss=1.36]\n",
            "\n"
          ]
        },
        {
          "output_type": "stream",
          "name": "stdout",
          "text": [
            "  Epoch 4/25\n"
          ]
        },
        {
          "output_type": "stream",
          "name": "stderr",
          "text": [
            "\rTraining:   0%|          | 0/8 [00:00<?, ?it/s]"
          ]
        },
        {
          "output_type": "stream",
          "name": "stdout",
          "text": [
            "  Epoch 4/25\n"
          ]
        },
        {
          "output_type": "stream",
          "name": "stderr",
          "text": [
            "Training: 100%|██████████| 8/8 [00:08<00:00,  1.07it/s, loss=1.24]\n",
            "Training: 100%|██████████| 8/8 [00:08<00:00,  1.03s/it, loss=1.24]"
          ]
        },
        {
          "output_type": "stream",
          "name": "stdout",
          "text": [
            "  Epoch 5/25\n"
          ]
        },
        {
          "output_type": "stream",
          "name": "stderr",
          "text": [
            "\rTraining:   0%|          | 0/8 [00:00<?, ?it/s]\n"
          ]
        },
        {
          "output_type": "stream",
          "name": "stdout",
          "text": [
            "  Epoch 5/25\n"
          ]
        },
        {
          "output_type": "stream",
          "name": "stderr",
          "text": [
            "Training:  88%|████████▊ | 7/8 [00:07<00:01,  1.08s/it, loss=1.19]\n",
            "\n"
          ]
        },
        {
          "output_type": "error",
          "ename": "KeyboardInterrupt",
          "evalue": "",
          "traceback": [
            "\u001b[0;31m---------------------------------------------------------------------------\u001b[0m",
            "\u001b[0;31mKeyboardInterrupt\u001b[0m                         Traceback (most recent call last)",
            "\u001b[0;32m/tmp/ipython-input-2290425442.py\u001b[0m in \u001b[0;36m<cell line: 0>\u001b[0;34m()\u001b[0m\n\u001b[1;32m     42\u001b[0m     \u001b[0;32mfor\u001b[0m \u001b[0mepoch\u001b[0m \u001b[0;32min\u001b[0m \u001b[0mrange\u001b[0m\u001b[0;34m(\u001b[0m\u001b[0mNUM_EPOCHS_PER_FOLD\u001b[0m\u001b[0;34m)\u001b[0m\u001b[0;34m:\u001b[0m\u001b[0;34m\u001b[0m\u001b[0;34m\u001b[0m\u001b[0m\n\u001b[1;32m     43\u001b[0m         \u001b[0mprint\u001b[0m\u001b[0;34m(\u001b[0m\u001b[0;34mf\"  Epoch {epoch+1}/{NUM_EPOCHS_PER_FOLD}\"\u001b[0m\u001b[0;34m)\u001b[0m\u001b[0;34m\u001b[0m\u001b[0;34m\u001b[0m\u001b[0m\n\u001b[0;32m---> 44\u001b[0;31m         \u001b[0mtrain_fn\u001b[0m\u001b[0;34m(\u001b[0m\u001b[0mtrain_loader\u001b[0m\u001b[0;34m,\u001b[0m \u001b[0mmodel\u001b[0m\u001b[0;34m,\u001b[0m \u001b[0moptimizer\u001b[0m\u001b[0;34m,\u001b[0m \u001b[0mloss_fn\u001b[0m\u001b[0;34m)\u001b[0m\u001b[0;34m\u001b[0m\u001b[0;34m\u001b[0m\u001b[0m\n\u001b[0m\u001b[1;32m     45\u001b[0m \u001b[0;34m\u001b[0m\u001b[0m\n\u001b[1;32m     46\u001b[0m     \u001b[0;31m# --- Evaluate the model ---\u001b[0m\u001b[0;34m\u001b[0m\u001b[0;34m\u001b[0m\u001b[0m\n",
            "\u001b[0;32m/tmp/ipython-input-1557782474.py\u001b[0m in \u001b[0;36mtrain_fn\u001b[0;34m(loader, model, optimizer, loss_fn)\u001b[0m\n\u001b[1;32m     12\u001b[0m         \u001b[0mloss\u001b[0m\u001b[0;34m.\u001b[0m\u001b[0mbackward\u001b[0m\u001b[0;34m(\u001b[0m\u001b[0;34m)\u001b[0m\u001b[0;34m\u001b[0m\u001b[0;34m\u001b[0m\u001b[0m\n\u001b[1;32m     13\u001b[0m         \u001b[0moptimizer\u001b[0m\u001b[0;34m.\u001b[0m\u001b[0mstep\u001b[0m\u001b[0;34m(\u001b[0m\u001b[0;34m)\u001b[0m\u001b[0;34m\u001b[0m\u001b[0;34m\u001b[0m\u001b[0m\n\u001b[0;32m---> 14\u001b[0;31m         \u001b[0mloop\u001b[0m\u001b[0;34m.\u001b[0m\u001b[0mset_postfix\u001b[0m\u001b[0;34m(\u001b[0m\u001b[0mloss\u001b[0m\u001b[0;34m=\u001b[0m\u001b[0mloss\u001b[0m\u001b[0;34m.\u001b[0m\u001b[0mitem\u001b[0m\u001b[0;34m(\u001b[0m\u001b[0;34m)\u001b[0m\u001b[0;34m)\u001b[0m\u001b[0;34m\u001b[0m\u001b[0;34m\u001b[0m\u001b[0m\n\u001b[0m\u001b[1;32m     15\u001b[0m \u001b[0;34m\u001b[0m\u001b[0m\n\u001b[1;32m     16\u001b[0m \u001b[0;32mdef\u001b[0m \u001b[0mcheck_metrics\u001b[0m\u001b[0;34m(\u001b[0m\u001b[0mloader\u001b[0m\u001b[0;34m,\u001b[0m \u001b[0mmodel\u001b[0m\u001b[0;34m,\u001b[0m \u001b[0mdevice\u001b[0m\u001b[0;34m=\u001b[0m\u001b[0;34m\"cuda\"\u001b[0m\u001b[0;34m)\u001b[0m\u001b[0;34m:\u001b[0m\u001b[0;34m\u001b[0m\u001b[0;34m\u001b[0m\u001b[0m\n",
            "\u001b[0;31mKeyboardInterrupt\u001b[0m: "
          ]
        },
        {
          "output_type": "error",
          "ename": "KeyboardInterrupt",
          "evalue": "",
          "traceback": [
            "\u001b[0;31m---------------------------------------------------------------------------\u001b[0m",
            "\u001b[0;31mKeyboardInterrupt\u001b[0m                         Traceback (most recent call last)",
            "\u001b[0;32m/tmp/ipython-input-2290425442.py\u001b[0m in \u001b[0;36m<cell line: 0>\u001b[0;34m()\u001b[0m\n\u001b[1;32m     42\u001b[0m     \u001b[0;32mfor\u001b[0m \u001b[0mepoch\u001b[0m \u001b[0;32min\u001b[0m \u001b[0mrange\u001b[0m\u001b[0;34m(\u001b[0m\u001b[0mNUM_EPOCHS_PER_FOLD\u001b[0m\u001b[0;34m)\u001b[0m\u001b[0;34m:\u001b[0m\u001b[0;34m\u001b[0m\u001b[0;34m\u001b[0m\u001b[0m\n\u001b[1;32m     43\u001b[0m         \u001b[0mprint\u001b[0m\u001b[0;34m(\u001b[0m\u001b[0;34mf\"  Epoch {epoch+1}/{NUM_EPOCHS_PER_FOLD}\"\u001b[0m\u001b[0;34m)\u001b[0m\u001b[0;34m\u001b[0m\u001b[0;34m\u001b[0m\u001b[0m\n\u001b[0;32m---> 44\u001b[0;31m         \u001b[0mtrain_fn\u001b[0m\u001b[0;34m(\u001b[0m\u001b[0mtrain_loader\u001b[0m\u001b[0;34m,\u001b[0m \u001b[0mmodel\u001b[0m\u001b[0;34m,\u001b[0m \u001b[0moptimizer\u001b[0m\u001b[0;34m,\u001b[0m \u001b[0mloss_fn\u001b[0m\u001b[0;34m)\u001b[0m\u001b[0;34m\u001b[0m\u001b[0;34m\u001b[0m\u001b[0m\n\u001b[0m\u001b[1;32m     45\u001b[0m \u001b[0;34m\u001b[0m\u001b[0m\n\u001b[1;32m     46\u001b[0m     \u001b[0;31m# --- Evaluate the model ---\u001b[0m\u001b[0;34m\u001b[0m\u001b[0;34m\u001b[0m\u001b[0m\n",
            "\u001b[0;32m/tmp/ipython-input-1557782474.py\u001b[0m in \u001b[0;36mtrain_fn\u001b[0;34m(loader, model, optimizer, loss_fn)\u001b[0m\n\u001b[1;32m     12\u001b[0m         \u001b[0mloss\u001b[0m\u001b[0;34m.\u001b[0m\u001b[0mbackward\u001b[0m\u001b[0;34m(\u001b[0m\u001b[0;34m)\u001b[0m\u001b[0;34m\u001b[0m\u001b[0;34m\u001b[0m\u001b[0m\n\u001b[1;32m     13\u001b[0m         \u001b[0moptimizer\u001b[0m\u001b[0;34m.\u001b[0m\u001b[0mstep\u001b[0m\u001b[0;34m(\u001b[0m\u001b[0;34m)\u001b[0m\u001b[0;34m\u001b[0m\u001b[0;34m\u001b[0m\u001b[0m\n\u001b[0;32m---> 14\u001b[0;31m         \u001b[0mloop\u001b[0m\u001b[0;34m.\u001b[0m\u001b[0mset_postfix\u001b[0m\u001b[0;34m(\u001b[0m\u001b[0mloss\u001b[0m\u001b[0;34m=\u001b[0m\u001b[0mloss\u001b[0m\u001b[0;34m.\u001b[0m\u001b[0mitem\u001b[0m\u001b[0;34m(\u001b[0m\u001b[0;34m)\u001b[0m\u001b[0;34m)\u001b[0m\u001b[0;34m\u001b[0m\u001b[0;34m\u001b[0m\u001b[0m\n\u001b[0m\u001b[1;32m     15\u001b[0m \u001b[0;34m\u001b[0m\u001b[0m\n\u001b[1;32m     16\u001b[0m \u001b[0;32mdef\u001b[0m \u001b[0mcheck_metrics\u001b[0m\u001b[0;34m(\u001b[0m\u001b[0mloader\u001b[0m\u001b[0;34m,\u001b[0m \u001b[0mmodel\u001b[0m\u001b[0;34m,\u001b[0m \u001b[0mdevice\u001b[0m\u001b[0;34m=\u001b[0m\u001b[0;34m\"cuda\"\u001b[0m\u001b[0;34m)\u001b[0m\u001b[0;34m:\u001b[0m\u001b[0;34m\u001b[0m\u001b[0;34m\u001b[0m\u001b[0m\n",
            "\u001b[0;31mKeyboardInterrupt\u001b[0m: "
          ]
        }
      ]
    },
    {
      "cell_type": "markdown",
      "source": [
        "\n",
        "TRAINING FUNTION"
      ],
      "metadata": {
        "id": "2XIWo38_o78M"
      }
    },
    {
      "cell_type": "code",
      "source": [
        "import matplotlib.pyplot as plt\n",
        "import os\n",
        "import cv2\n",
        "import torch\n",
        "import numpy as np\n",
        "\n",
        "def predict_on_single_image(model, image_path, transform, device, save_path=None):\n",
        "    \"\"\"\n",
        "    Loads an image, runs prediction, visualizes the result, and optionally saves it.\n",
        "    \"\"\"\n",
        "    model.eval()\n",
        "\n",
        "    image = cv2.imread(image_path, cv2.IMREAD_GRAYSCALE)\n",
        "    if image is None:\n",
        "        print(f\"Error: Could not load image at {image_path}\")\n",
        "        return\n",
        "\n",
        "    # Apply the SAME transformations as the validation set for consistency\n",
        "    if transform:\n",
        "        augmented = transform(image=image)\n",
        "        image_tensor = augmented['image'].to(device)\n",
        "\n",
        "    # Add the batch dimension (1, C, H, W) for the model\n",
        "    input_tensor = image_tensor.unsqueeze(0)\n",
        "\n",
        "    # Make prediction\n",
        "    with torch.no_grad():\n",
        "        output = model(input_tensor)\n",
        "        predicted_mask = torch.argmax(output, dim=1).squeeze().cpu().numpy()\n",
        "\n",
        "    # --- Visualization ---\n",
        "    fig, ax = plt.subplots(1, 2, figsize=(12, 6))\n",
        "\n",
        "    ax[0].imshow(image, cmap='gray')\n",
        "    ax[0].set_title(\"Original Input Image\")\n",
        "    ax[0].axis('off')\n",
        "\n",
        "    ax[1].imshow(predicted_mask, cmap='viridis')\n",
        "    ax[1].set_title(\"Predicted Segmentation\")\n",
        "    ax[1].axis('off')\n",
        "\n",
        "    # --- Save the figure to a file ---\n",
        "    if save_path:\n",
        "        # Use bbox_inches='tight' to remove extra white space\n",
        "        plt.savefig(save_path, bbox_inches='tight', pad_inches=0.1)\n",
        "        print(f\"Prediction saved to: {save_path}\")\n",
        "\n",
        "    # --- Display the figure in the notebook ---\n",
        "    plt.show()\n",
        "\n",
        "# --- Load the saved model ---\n",
        "MODEL_PATH = os.path.join(PROJECT_FOLDER_IN_DRIVE, \"unet_retina_segmentation_last_fold.pth\")\n",
        "prediction_model = UNet(in_channels=1, out_channels=NUM_CLASSES)\n",
        "prediction_model.load_state_dict(torch.load(MODEL_PATH, map_location=DEVICE))\n",
        "prediction_model.to(DEVICE)\n",
        "print(\"Model loaded and ready for prediction.\")\n",
        "\n",
        "# --- Define paths and run prediction ---\n",
        "test_image_path = '/content/drive/MyDrive/oct_major_project/drusen 2.v1i.coco-segmentation/train/DRUSEN-8023853-102_jpeg.rf.0fcea15b0f8b2e94c8f915e3edea504d.jpg'\n",
        "\n",
        "# --- Create a path to save the output image ---\n",
        "# This will create a 'predictions' folder in your main project directory\n",
        "output_dir = os.path.join(PROJECT_FOLDER_IN_DRIVE, 'predictions/')\n",
        "os.makedirs(output_dir, exist_ok=True) # Ensure the folder exists\n",
        "\n",
        "# Create a new filename for the output\n",
        "base_name = os.path.basename(test_image_path)\n",
        "file_name_without_ext = os.path.splitext(base_name)[0]\n",
        "output_save_path = os.path.join(output_dir, f\"{file_name_without_ext}_prediction.png\")\n",
        "\n",
        "# --- Run the function ---\n",
        "predict_on_single_image(\n",
        "    model=prediction_model,\n",
        "    image_path=test_image_path,\n",
        "    transform=val_transform,\n",
        "    device=DEVICE,\n",
        "    save_path=output_save_path\n",
        ")"
      ],
      "metadata": {
        "id": "UPTWLEsboVLi"
      },
      "execution_count": null,
      "outputs": []
    }
  ]
}