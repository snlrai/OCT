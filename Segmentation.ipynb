{
  "nbformat": 4,
  "nbformat_minor": 0,
  "metadata": {
    "colab": {
      "provenance": [],
      "gpuType": "T4",
      "authorship_tag": "ABX9TyOnz1ituG4VTrRHkVWnmHho",
      "include_colab_link": true
    },
    "kernelspec": {
      "name": "python3",
      "display_name": "Python 3"
    },
    "language_info": {
      "name": "python"
    },
    "accelerator": "GPU"
  },
  "cells": [
    {
      "cell_type": "markdown",
      "metadata": {
        "id": "view-in-github",
        "colab_type": "text"
      },
      "source": [
        "<a href=\"https://colab.research.google.com/github/snlrai/OCT/blob/main/Segmentation.ipynb\" target=\"_parent\"><img src=\"https://colab.research.google.com/assets/colab-badge.svg\" alt=\"Open In Colab\"/></a>"
      ]
    },
    {
      "cell_type": "code",
      "execution_count": 1,
      "metadata": {
        "colab": {
          "base_uri": "https://localhost:8080/"
        },
        "id": "l-Y7umpx8_rX",
        "outputId": "4124c2a8-f4d5-4a6d-97bc-895ed260320e"
      },
      "outputs": [
        {
          "output_type": "stream",
          "name": "stdout",
          "text": [
            "Drive already mounted at /content/drive; to attempt to forcibly remount, call drive.mount(\"/content/drive\", force_remount=True).\n",
            "Requirement already satisfied: pycocotools in /usr/local/lib/python3.12/dist-packages (2.0.10)\n",
            "Requirement already satisfied: numpy in /usr/local/lib/python3.12/dist-packages (from pycocotools) (2.0.2)\n"
          ]
        }
      ],
      "source": [
        "from google.colab import drive\n",
        "drive.mount('/content/drive')\n",
        "\n",
        "!pip install pycocotools"
      ]
    },
    {
      "cell_type": "code",
      "source": [
        "!pip install -U albumentations"
      ],
      "metadata": {
        "colab": {
          "base_uri": "https://localhost:8080/"
        },
        "id": "a2IqeCxEwwWq",
        "outputId": "9c700734-62a2-48a7-d03c-1456f3fd75b8"
      },
      "execution_count": 2,
      "outputs": [
        {
          "output_type": "stream",
          "name": "stdout",
          "text": [
            "Requirement already satisfied: albumentations in /usr/local/lib/python3.12/dist-packages (2.0.8)\n",
            "Requirement already satisfied: numpy>=1.24.4 in /usr/local/lib/python3.12/dist-packages (from albumentations) (2.0.2)\n",
            "Requirement already satisfied: scipy>=1.10.0 in /usr/local/lib/python3.12/dist-packages (from albumentations) (1.16.2)\n",
            "Requirement already satisfied: PyYAML in /usr/local/lib/python3.12/dist-packages (from albumentations) (6.0.3)\n",
            "Requirement already satisfied: pydantic>=2.9.2 in /usr/local/lib/python3.12/dist-packages (from albumentations) (2.11.10)\n",
            "Requirement already satisfied: albucore==0.0.24 in /usr/local/lib/python3.12/dist-packages (from albumentations) (0.0.24)\n",
            "Requirement already satisfied: opencv-python-headless>=4.9.0.80 in /usr/local/lib/python3.12/dist-packages (from albumentations) (4.12.0.88)\n",
            "Requirement already satisfied: stringzilla>=3.10.4 in /usr/local/lib/python3.12/dist-packages (from albucore==0.0.24->albumentations) (4.2.1)\n",
            "Requirement already satisfied: simsimd>=5.9.2 in /usr/local/lib/python3.12/dist-packages (from albucore==0.0.24->albumentations) (6.5.3)\n",
            "Requirement already satisfied: annotated-types>=0.6.0 in /usr/local/lib/python3.12/dist-packages (from pydantic>=2.9.2->albumentations) (0.7.0)\n",
            "Requirement already satisfied: pydantic-core==2.33.2 in /usr/local/lib/python3.12/dist-packages (from pydantic>=2.9.2->albumentations) (2.33.2)\n",
            "Requirement already satisfied: typing-extensions>=4.12.2 in /usr/local/lib/python3.12/dist-packages (from pydantic>=2.9.2->albumentations) (4.15.0)\n",
            "Requirement already satisfied: typing-inspection>=0.4.0 in /usr/local/lib/python3.12/dist-packages (from pydantic>=2.9.2->albumentations) (0.4.2)\n"
          ]
        }
      ]
    },
    {
      "cell_type": "markdown",
      "source": [
        "IMPORT AND CONFIGURATION"
      ],
      "metadata": {
        "id": "PsAY8mOBeTZK"
      }
    },
    {
      "cell_type": "code",
      "source": [
        "\n",
        "import torch\n",
        "import torch.nn as nn\n",
        "import torch.optim as optim\n",
        "from torch.utils.data import Dataset,DataLoader\n",
        "import os\n",
        "import cv2\n",
        "import numpy as np\n",
        "from tqdm import tqdm\n",
        "from pycocotools.coco import COCO\n",
        "import json\n",
        "from google.colab import drive\n",
        "drive.mount('/content/drive')\n",
        "PROJECT_FOLDER_IN_DRIVE='/content/drive/MyDrive/oct_major_project/'\n",
        "UPLOADED_DATA_FOLDER='NORMAL 2.v1i.coco-segmentation'\n",
        "DATA_DIR=os.path.join(PROJECT_FOLDER_IN_DRIVE,UPLOADED_DATA_FOLDER,'train/')\n",
        "JSON_PATH=os.path.join(DATA_DIR,'_annotations.coco.json')\n",
        "IMAGE_DIR=DATA_DIR\n",
        "MASK_SAVE_DIR=os.path.join(DATA_DIR,'masks/')\n",
        "os.makedirs(MASK_SAVE_DIR,exist_ok=True)\n",
        "DEVICE= \"cuda\" if torch.cuda.is_available() else \"cpu\"\n",
        "print(f\"Using device : {DEVICE}\")\n",
        "LEARNING_RATE= 1e-4\n",
        "BATCH_SIZE= 8\n",
        "NUM_EPOCHS=75"
      ],
      "metadata": {
        "id": "9R58rCXpHFma",
        "outputId": "9793876d-bf5b-4542-e642-7d86ca147253",
        "colab": {
          "base_uri": "https://localhost:8080/"
        }
      },
      "execution_count": 3,
      "outputs": [
        {
          "output_type": "stream",
          "name": "stdout",
          "text": [
            "Drive already mounted at /content/drive; to attempt to forcibly remount, call drive.mount(\"/content/drive\", force_remount=True).\n",
            "Using device : cuda\n"
          ]
        }
      ]
    },
    {
      "cell_type": "code",
      "source": [
        "# IMPORTANT: Check category IDs and create mapping\n",
        "print(\"Checking COCO categories...\")\n",
        "coco_check = COCO(JSON_PATH)\n",
        "\n",
        "# Get all categories\n",
        "categories = coco_check.loadCats(coco_check.getCatIds())\n",
        "print(f\"\\nFound {len(categories)} categories:\")\n",
        "for cat in categories:\n",
        "    print(f\"  ID: {cat['id']}, Name: {cat['name']}\")\n",
        "\n",
        "# Create mapping from original category_id to consecutive indices starting from 0\n",
        "# Background will be 0, and actual classes will be 1, 2, 3...\n",
        "original_cat_ids = sorted([cat['id'] for cat in categories])\n",
        "category_id_to_label = {cat_id: idx + 1 for idx, cat_id in enumerate(original_cat_ids)}\n",
        "category_id_to_label[0] = 0  # Ensure background is 0\n",
        "\n",
        "print(f\"\\nCategory mapping (original_id -> model_label):\")\n",
        "print(f\"  Background: 0 -> 0\")\n",
        "for orig_id, new_label in sorted(category_id_to_label.items()):\n",
        "    if orig_id != 0:\n",
        "        cat_name = [cat['name'] for cat in categories if cat['id'] == orig_id][0]\n",
        "        print(f\"  {cat_name}: {orig_id} -> {new_label}\")\n",
        "\n",
        "NUM_CLASSES = len(categories) + 1  # +1 for background\n",
        "print(f\"\\nTotal classes (including background): {NUM_CLASSES}\")\n",
        "print(f\"Model should use out_channels={NUM_CLASSES}\")\n"
      ],
      "metadata": {
        "colab": {
          "base_uri": "https://localhost:8080/"
        },
        "id": "ZHvtPYrhFzaX",
        "outputId": "46b200bb-1cd7-4305-dcff-1fb34c53c3b6"
      },
      "execution_count": 4,
      "outputs": [
        {
          "output_type": "stream",
          "name": "stdout",
          "text": [
            "Checking COCO categories...\n",
            "loading annotations into memory...\n",
            "Done (t=0.03s)\n",
            "creating index...\n",
            "index created!\n",
            "\n",
            "Found 8 categories:\n",
            "  ID: 0, Name: intra-retinal-layers-CgyO\n",
            "  ID: 1, Name: GCL\n",
            "  ID: 2, Name: INL\n",
            "  ID: 3, Name: IPL\n",
            "  ID: 4, Name: ONL\n",
            "  ID: 5, Name: OPL\n",
            "  ID: 6, Name: RNFL\n",
            "  ID: 7, Name: RPE\n",
            "\n",
            "Category mapping (original_id -> model_label):\n",
            "  Background: 0 -> 0\n",
            "  GCL: 1 -> 2\n",
            "  INL: 2 -> 3\n",
            "  IPL: 3 -> 4\n",
            "  ONL: 4 -> 5\n",
            "  OPL: 5 -> 6\n",
            "  RNFL: 6 -> 7\n",
            "  RPE: 7 -> 8\n",
            "\n",
            "Total classes (including background): 9\n",
            "Model should use out_channels=9\n"
          ]
        }
      ]
    },
    {
      "cell_type": "code",
      "source": [
        "print(\"Loading coco json for segmentation\")\n",
        "coco=COCO(JSON_PATH)\n",
        "img_ids= coco.getImgIds()\n",
        "images=coco.loadImgs(img_ids)\n",
        "print(f\"Found {len(images)} images. startring mask generation\")\n",
        "for img_info in tqdm(images,desc=\"Gnerating maks\"):\n",
        "  img_id=img_info['id']\n",
        "  img_file_name=img_info['file_name']\n",
        "  img_height=img_info['height']\n",
        "  img_width=img_info['width']\n",
        "  mask=np.zeros((img_height,img_width),dtype=np.uint8)\n",
        "  ann_ids= coco.getAnnIds(imgIds=img_id)\n",
        "  anns=coco.loadAnns(ann_ids)\n",
        "  for ann in anns:\n",
        "    category_id=ann['category_id']\n",
        "    # Map original category_id to model label (0-indexed)\n",
        "    mapped_label = category_id_to_label.get(category_id, category_id)\n",
        "    for seg in ann['segmentation']:\n",
        "      poly=np.array(seg,dtype=np.int32).reshape((-1,1,2))\n",
        "      cv2.fillPoly(mask,[poly],color=int(mapped_label))\n",
        "  base_name=img_file_name.split('.')[0]\n",
        "  mask_file_name=f\"{base_name}.png\"\n",
        "  save_path=os.path.join(MASK_SAVE_DIR,mask_file_name)\n",
        "  cv2.imwrite(save_path,mask)\n",
        "print(f\"Mask generation complete! the images are saved in{MASK_SAVE_DIR}\")"
      ],
      "metadata": {
        "colab": {
          "base_uri": "https://localhost:8080/"
        },
        "id": "-MErr1n1B0qE",
        "outputId": "4e654199-5eb8-4636-9060-c0c46a741495"
      },
      "execution_count": 5,
      "outputs": [
        {
          "output_type": "stream",
          "name": "stdout",
          "text": [
            "Loading coco json for segmentation\n",
            "loading annotations into memory...\n",
            "Done (t=0.02s)\n",
            "creating index...\n",
            "index created!\n",
            "Found 20 images. startring mask generation\n"
          ]
        },
        {
          "output_type": "stream",
          "name": "stderr",
          "text": [
            "Gnerating maks: 100%|██████████| 20/20 [00:00<00:00, 92.53it/s]"
          ]
        },
        {
          "output_type": "stream",
          "name": "stdout",
          "text": [
            "Mask generation complete! the images are saved in/content/drive/MyDrive/oct_major_project/NORMAL 2.v1i.coco-segmentation/train/masks/\n"
          ]
        },
        {
          "output_type": "stream",
          "name": "stderr",
          "text": [
            "\n"
          ]
        }
      ]
    },
    {
      "cell_type": "markdown",
      "source": [
        "GROUND TRUTH MASK GENERATION"
      ],
      "metadata": {
        "id": "9xhiYEpbe15g"
      }
    },
    {
      "cell_type": "code",
      "source": [
        "print(\"Loading COCO JSON for segmentation...\")\n",
        "# This assumes JSON_PATH and MASK_SAVE_DIR have been defined.\n",
        "coco = COCO(JSON_PATH)\n",
        "img_ids = coco.getImgIds()\n",
        "images = coco.loadImgs(img_ids)\n",
        "\n",
        "print(f\"Found {len(images)} images. Starting mask generation...\")\n",
        "\n",
        "for img_info in tqdm(images, desc=\"Generating Masks\"):\n",
        "    img_id = img_info['id']\n",
        "    img_file_name = img_info['file_name']\n",
        "    img_height = img_info['height']\n",
        "    img_width = img_info['width']\n",
        "\n",
        "    mask = np.zeros((img_height, img_width), dtype=np.uint8)\n",
        "    ann_ids = coco.getAnnIds(imgIds=img_id)\n",
        "    anns = coco.loadAnns(ann_ids)\n",
        "\n",
        "    for ann in anns:\n",
        "        category_id = ann['category_id']\n",
        "        # Map original category_id to model label (0-indexed)\n",
        "        mapped_label = category_id_to_label.get(category_id, category_id)\n",
        "        for seg in ann['segmentation']:\n",
        "            poly = np.array(seg, dtype=np.int32).reshape((-1, 1, 2))\n",
        "            cv2.fillPoly(mask, [poly], color=int(mapped_label))\n",
        "\n",
        "    base_name = img_file_name.split('.')[0]\n",
        "    mask_file_name = f\"{base_name}.png\"\n",
        "    save_path = os.path.join(MASK_SAVE_DIR, mask_file_name)\n",
        "    cv2.imwrite(save_path, mask)\n",
        "\n",
        "print(f\"\\nMask generation complete! The images are saved in: {MASK_SAVE_DIR}\")"
      ],
      "metadata": {
        "colab": {
          "base_uri": "https://localhost:8080/"
        },
        "id": "LO_VAbnPbL5-",
        "outputId": "db9edfed-4fef-4413-e1bc-c34c96f035c8"
      },
      "execution_count": 6,
      "outputs": [
        {
          "output_type": "stream",
          "name": "stdout",
          "text": [
            "Loading COCO JSON for segmentation...\n",
            "loading annotations into memory...\n",
            "Done (t=0.01s)\n",
            "creating index...\n",
            "index created!\n",
            "Found 20 images. Starting mask generation...\n"
          ]
        },
        {
          "output_type": "stream",
          "name": "stderr",
          "text": [
            "Generating Masks: 100%|██████████| 20/20 [00:00<00:00, 110.96it/s]"
          ]
        },
        {
          "output_type": "stream",
          "name": "stdout",
          "text": [
            "\n",
            "Mask generation complete! The images are saved in: /content/drive/MyDrive/oct_major_project/NORMAL 2.v1i.coco-segmentation/train/masks/\n"
          ]
        },
        {
          "output_type": "stream",
          "name": "stderr",
          "text": [
            "\n"
          ]
        }
      ]
    },
    {
      "cell_type": "code",
      "source": [
        "\n",
        "class DoubleConv(nn.Module):\n",
        "    def __init__(self, in_channels, out_channels):\n",
        "        super(DoubleConv, self).__init__()\n",
        "        self.conv = nn.Sequential(\n",
        "            nn.Conv2d(in_channels, out_channels, 3, 1, 1, bias=False),\n",
        "            nn.BatchNorm2d(out_channels),\n",
        "            nn.ReLU(inplace=True),\n",
        "            nn.Conv2d(out_channels, out_channels, 3, 1, 1, bias=False),\n",
        "            nn.BatchNorm2d(out_channels),\n",
        "            nn.ReLU(inplace=True),\n",
        "        )\n",
        "    def forward(self, x):\n",
        "        return self.conv(x)\n",
        "\n",
        "class UNet(nn.Module):\n",
        "    def __init__(self, in_channels=1, out_channels=8, features=[64, 128, 256, 512]):\n",
        "        super(UNet, self).__init__()\n",
        "        self.ups = nn.ModuleList()\n",
        "        self.downs = nn.ModuleList()\n",
        "        self.pool = nn.MaxPool2d(kernel_size=2, stride=2)\n",
        "\n",
        "        for feature in features:\n",
        "            self.downs.append(DoubleConv(in_channels, feature))\n",
        "            in_channels = feature\n",
        "\n",
        "        for feature in reversed(features):\n",
        "            self.ups.append(nn.ConvTranspose2d(feature*2, feature, kernel_size=2, stride=2))\n",
        "            self.ups.append(DoubleConv(feature*2, feature))\n",
        "\n",
        "        self.bottleneck = DoubleConv(features[-1], features[-1]*2)\n",
        "        self.final_conv = nn.Conv2d(features[0], out_channels, kernel_size=1)\n",
        "\n",
        "    def forward(self, x):\n",
        "        skip_connections = []\n",
        "        for down in self.downs:\n",
        "            x = down(x)\n",
        "            skip_connections.append(x)\n",
        "            x = self.pool(x)\n",
        "        x = self.bottleneck(x)\n",
        "        skip_connections = skip_connections[::-1]\n",
        "        for idx in range(0, len(self.ups), 2):\n",
        "            x = self.ups[idx](x)\n",
        "            skip_connection = skip_connections[idx//2]\n",
        "            if x.shape != skip_connection.shape:\n",
        "                x = torch.nn.functional.interpolate(x, size=skip_connection.shape[2:])\n",
        "            concat_skip = torch.cat((skip_connection, x), dim=1)\n",
        "            x = self.ups[idx+1](concat_skip)\n",
        "        return self.final_conv(x)\n",
        "\n",
        "print(\"U-Net model class defined.\")"
      ],
      "metadata": {
        "colab": {
          "base_uri": "https://localhost:8080/"
        },
        "id": "mX9XyYcODK9z",
        "outputId": "51181496-969c-43b9-94a6-1b23ed924965"
      },
      "execution_count": 7,
      "outputs": [
        {
          "output_type": "stream",
          "name": "stdout",
          "text": [
            "U-Net model class defined.\n"
          ]
        }
      ]
    },
    {
      "cell_type": "markdown",
      "source": [
        "UNET MODEL DEFENITION"
      ],
      "metadata": {
        "id": "FDpGdsURozN_"
      }
    },
    {
      "cell_type": "code",
      "source": [
        "\n",
        "import albumentations as A\n",
        "from albumentations.pytorch import ToTensorV2\n",
        "\n",
        "class RetinaDataset(Dataset):\n",
        "    def __init__(self, image_dir, mask_dir, transform=None):\n",
        "        self.image_dir = image_dir\n",
        "        self.mask_dir = mask_dir\n",
        "        self.images = sorted([f for f in os.listdir(image_dir) if f.endswith('.jpg')])\n",
        "        self.transform = transform\n",
        "\n",
        "    def __len__(self):\n",
        "        return len(self.images)\n",
        "\n",
        "    def __getitem__(self, index):\n",
        "        img_file = self.images[index]\n",
        "        mask_file = img_file.split('.')[0] + '.png'\n",
        "\n",
        "        img_path = os.path.join(self.image_dir, img_file)\n",
        "        mask_path = os.path.join(self.mask_dir, mask_file)\n",
        "\n",
        "        image = cv2.imread(img_path, cv2.IMREAD_GRAYSCALE)\n",
        "        mask = cv2.imread(mask_path, cv2.IMREAD_GRAYSCALE)\n",
        "\n",
        "        if self.transform is not None:\n",
        "\n",
        "            augmented = self.transform(image=image, mask=mask)\n",
        "            image = augmented['image']\n",
        "            mask = augmented['mask'].long()\n",
        "\n",
        "\n",
        "        return image, mask\n",
        "\n",
        "\n",
        "train_transform = A.Compose(\n",
        "    [\n",
        "        A.Resize(height=512, width=512),\n",
        "        A.HorizontalFlip(p=0.5),\n",
        "        A.RandomBrightnessContrast(p=0.2),\n",
        "        A.Normalize(mean=[0.0], std=[1.0]),\n",
        "        ToTensorV2(),\n",
        "    ]\n",
        ")\n",
        "\n",
        "val_transform = A.Compose(\n",
        "    [\n",
        "        A.Resize(height=512, width=512),\n",
        "        A.Normalize(mean=[0.0], std=[1.0]),\n",
        "        ToTensorV2(),\n",
        "    ]\n",
        ")"
      ],
      "metadata": {
        "id": "Gn6B4rvWkVgr"
      },
      "execution_count": 8,
      "outputs": []
    },
    {
      "cell_type": "markdown",
      "source": [
        "CUSTOM DATASET CLASS"
      ],
      "metadata": {
        "id": "7QsnOEF2o4RM"
      }
    },
    {
      "cell_type": "code",
      "source": [
        "def train_fn(loader, model, optimizer, loss_fn):\n",
        "    loop = tqdm(loader, desc=\"Training\")\n",
        "    total_loss = 0.0\n",
        "\n",
        "    model.train()\n",
        "\n",
        "    for batch_idx, (data, targets) in enumerate(loop):\n",
        "        data, targets = data.to(device=DEVICE), targets.to(device=DEVICE)\n",
        "\n",
        "        predictions = model(data)\n",
        "        loss = loss_fn(predictions, targets)\n",
        "\n",
        "        optimizer.zero_grad()\n",
        "        loss.backward()\n",
        "        optimizer.step()\n",
        "\n",
        "        total_loss += loss.item()\n",
        "        loop.set_postfix(loss=loss.item())\n",
        "\n",
        "    print(f\"Average training loss for the epoch: {total_loss / len(loader)}\")\n",
        "\n",
        "print(\"Training function defined.\")"
      ],
      "metadata": {
        "id": "2tLbPhuhoLsC",
        "outputId": "c97ee256-f94a-4288-9fcb-5e67690e7289",
        "colab": {
          "base_uri": "https://localhost:8080/"
        }
      },
      "execution_count": 9,
      "outputs": [
        {
          "output_type": "stream",
          "name": "stdout",
          "text": [
            "Training function defined.\n"
          ]
        }
      ]
    },
    {
      "cell_type": "code",
      "source": [
        "# Clear CUDA cache to fix corrupted GPU state from previous error\n",
        "import gc\n",
        "import torch\n",
        "\n",
        "print(\"Clearing CUDA cache and resetting GPU state...\")\n",
        "torch.cuda.empty_cache()\n",
        "gc.collect()\n",
        "\n",
        "# Optional: Reset CUDA error state (if available)\n",
        "if torch.cuda.is_available():\n",
        "    try:\n",
        "        # This helps clear any lingering CUDA errors\n",
        "        torch.cuda.synchronize()\n",
        "        print(f\"✓ GPU available: {torch.cuda.get_device_name(0)}\")\n",
        "        print(f\"✓ GPU memory: {torch.cuda.get_device_properties(0).total_memory / 1024**3:.2f} GB\")\n",
        "        print(f\"✓ Current memory allocated: {torch.cuda.memory_allocated() / 1024**2:.2f} MB\")\n",
        "    except Exception as e:\n",
        "        print(f\"⚠ Warning: {e}\")\n",
        "        print(\"You may need to restart the runtime: Runtime -> Restart runtime\")\n",
        "\n",
        "print(\"✓ Ready to initialize model\")\n"
      ],
      "metadata": {
        "id": "AjhwlLiFPo54",
        "outputId": "6aa21c87-2590-42c1-db47-216269c545da",
        "colab": {
          "base_uri": "https://localhost:8080/"
        }
      },
      "execution_count": 10,
      "outputs": [
        {
          "output_type": "stream",
          "name": "stdout",
          "text": [
            "Clearing CUDA cache and resetting GPU state...\n",
            "✓ GPU available: Tesla T4\n",
            "✓ GPU memory: 14.74 GB\n",
            "✓ Current memory allocated: 0.00 MB\n",
            "✓ Ready to initialize model\n"
          ]
        }
      ]
    },
    {
      "cell_type": "code",
      "source": [
        "def check_metrics(loader, model, device=\"cuda\"):\n",
        "    \"\"\"\n",
        "    Calculates and prints Pixel Accuracy, Dice Score, and IoU Score for a given dataset.\n",
        "    \"\"\"\n",
        "    num_correct = 0\n",
        "    num_pixels = 0\n",
        "    dice_score = 0\n",
        "    iou_score = 0\n",
        "\n",
        "\n",
        "    model.eval()\n",
        "\n",
        "    with torch.no_grad():\n",
        "        for x, y in tqdm(loader, desc=\"Calculating Metrics\"):\n",
        "            x = x.to(device)\n",
        "            y = y.to(device)\n",
        "\n",
        "            preds = model(x)\n",
        "            preds = torch.argmax(preds, dim=1)\n",
        "\n",
        "\n",
        "            num_correct += (preds == y).sum()\n",
        "            num_pixels += torch.numel(preds)\n",
        "\n",
        "            y_one_hot = torch.nn.functional.one_hot(y, num_classes=model.final_conv.out_channels).permute(0, 3, 1, 2)\n",
        "            preds_one_hot = torch.nn.functional.one_hot(preds, num_classes=model.final_conv.out_channels).permute(0, 3, 1, 2)\n",
        "            intersection = (preds_one_hot * y_one_hot).float().sum()\n",
        "\n",
        "\n",
        "            union = preds_one_hot.float().sum() + y_one_hot.float().sum()\n",
        "\n",
        "\n",
        "            dice_score += (2. * intersection) / (union + 1e-8) # 1e-8 to avoid division by zero\n",
        "\n",
        "\n",
        "            iou_score += intersection / (union - intersection + 1e-8)\n",
        "\n",
        "\n",
        "    pixel_acc = (num_correct/num_pixels)*100\n",
        "    avg_dice = (dice_score/len(loader))\n",
        "    avg_iou = (iou_score/len(loader))\n",
        "\n",
        "    print(f\"\\nGot {num_correct}/{num_pixels} with pixel accuracy {pixel_acc:.2f}%\")\n",
        "    print(f\"Average Dice Score: {avg_dice:.4f}\")\n",
        "    print(f\"Average IoU Score: {avg_iou:.4f}\")\n",
        "\n",
        "\n",
        "    model.train()\n",
        "\n",
        "    return pixel_acc, avg_dice, avg_iou"
      ],
      "metadata": {
        "id": "T9_DCsSFFInz"
      },
      "execution_count": 11,
      "outputs": []
    },
    {
      "cell_type": "code",
      "source": [
        "import matplotlib.pyplot as plt\n",
        "import numpy as np\n",
        "\n",
        "# Use NUM_CLASSES from the category mapping cell\n",
        "print(f\"Initializing model with {NUM_CLASSES} output classes...\")\n",
        "model = UNet(in_channels=1, out_channels=NUM_CLASSES).to(DEVICE)\n",
        "loss_fn = nn.CrossEntropyLoss()\n",
        "optimizer = optim.Adam(model.parameters(), lr=LEARNING_RATE)\n",
        "print(f\"Model initialized successfully!\")\n",
        "\n",
        "from torch.utils.data import random_split, Subset\n",
        "\n",
        "full_dataset_for_split = RetinaDataset(image_dir=IMAGE_DIR, mask_dir=MASK_SAVE_DIR)\n",
        "\n",
        "train_size = int(0.8 * len(full_dataset_for_split))\n",
        "val_size = len(full_dataset_for_split) - train_size\n",
        "indices = list(range(len(full_dataset_for_split)))\n",
        "train_indices, val_indices = random_split(indices, [train_size, val_size])\n",
        "\n",
        "print(f\"Full dataset size: {len(full_dataset_for_split)}\")\n",
        "print(f\"Training indices: {len(train_indices)}\")\n",
        "print(f\"Validation indices: {len(val_indices)}\")\n",
        "\n",
        "train_dataset_with_transform = RetinaDataset(\n",
        "    image_dir=IMAGE_DIR,\n",
        "    mask_dir=MASK_SAVE_DIR,\n",
        "    transform=train_transform\n",
        ")\n",
        "\n",
        "val_dataset_with_transform = RetinaDataset(\n",
        "    image_dir=IMAGE_DIR,\n",
        "    mask_dir=MASK_SAVE_DIR,\n",
        "    transform=val_transform\n",
        ")\n",
        "\n",
        "train_subset = Subset(train_dataset_with_transform, train_indices)\n",
        "val_subset = Subset(val_dataset_with_transform, val_indices)\n",
        "\n",
        "train_loader = DataLoader(\n",
        "    train_subset,\n",
        "    batch_size=BATCH_SIZE,\n",
        "    shuffle=True,\n",
        "    num_workers=2,\n",
        "    pin_memory=True\n",
        ")\n",
        "\n",
        "val_loader = DataLoader(\n",
        "    val_subset,\n",
        "    batch_size=BATCH_SIZE,\n",
        "    shuffle=False,\n",
        "    num_workers=2,\n",
        "    pin_memory=True\n",
        ")\n",
        "\n",
        "print(\"\\nDatasets and DataLoaders created successfully with augmentations for the training set.\")\n",
        "\n",
        "# Lists to store metrics\n",
        "training_losses = []\n",
        "validation_accuracies = []\n",
        "validation_dice_scores = []\n",
        "validation_iou_scores = []\n",
        "\n",
        "# Training loop with metric tracking\n",
        "for epoch in range(NUM_EPOCHS):\n",
        "    print(f\"\\n--- Epoch {epoch+1}/{NUM_EPOCHS} ---\")\n",
        "\n",
        "    # Training\n",
        "    loop = tqdm(train_loader, desc=\"Training\")\n",
        "    total_loss = 0.0\n",
        "    model.train()\n",
        "\n",
        "    for batch_idx, (data, targets) in enumerate(loop):\n",
        "        data, targets = data.to(device=DEVICE), targets.to(device=DEVICE)\n",
        "        predictions = model(data)\n",
        "        loss = loss_fn(predictions, targets)\n",
        "        optimizer.zero_grad()\n",
        "        loss.backward()\n",
        "        optimizer.step()\n",
        "        total_loss += loss.item()\n",
        "        loop.set_postfix(loss=loss.item())\n",
        "\n",
        "    avg_loss = total_loss / len(train_loader)\n",
        "    training_losses.append(avg_loss)\n",
        "    print(f\"Average training loss for the epoch: {avg_loss}\")\n",
        "\n",
        "    # Validation\n",
        "    print(\"\\n--- VALIDATION METRICS ---\")\n",
        "    pixel_acc, dice, iou = check_metrics(val_loader, model, device=DEVICE)\n",
        "    validation_accuracies.append(pixel_acc)\n",
        "    validation_dice_scores.append(dice)\n",
        "    validation_iou_scores.append(iou)\n",
        "\n",
        "print(\"\\nTraining finished!\")\n",
        "\n",
        "# Convert metrics to numpy arrays for plotting\n",
        "training_losses = np.array(training_losses)\n",
        "validation_accuracies = np.array([acc.cpu().numpy() if torch.is_tensor(acc) else acc for acc in validation_accuracies])\n",
        "validation_dice_scores = np.array([dice.cpu().numpy() if torch.is_tensor(dice) else dice for dice in validation_dice_scores])\n",
        "validation_iou_scores = np.array([iou.cpu().numpy() if torch.is_tensor(iou) else iou for iou in validation_iou_scores])\n",
        "\n",
        "# Plotting the metrics\n",
        "plt.figure(figsize=(15, 5))\n",
        "\n",
        "# Plot 1: Training Loss\n",
        "plt.subplot(1, 3, 1)\n",
        "plt.plot(range(1, NUM_EPOCHS + 1), training_losses, 'b-', label='Training Loss')\n",
        "plt.title('Training Loss Over Time')\n",
        "plt.xlabel('Epoch')\n",
        "plt.ylabel('Loss')\n",
        "plt.grid(True)\n",
        "plt.legend()\n",
        "\n",
        "# Plot 2: Validation Metrics (Accuracy and Dice Score)\n",
        "plt.subplot(1, 3, 2)\n",
        "plt.plot(range(1, NUM_EPOCHS + 1), validation_accuracies, 'g-', label='Pixel Accuracy')\n",
        "plt.plot(range(1, NUM_EPOCHS + 1), validation_dice_scores, 'r-', label='Dice Score')\n",
        "plt.title('Validation Metrics Over Time')\n",
        "plt.xlabel('Epoch')\n",
        "plt.ylabel('Score')\n",
        "plt.grid(True)\n",
        "plt.legend()\n",
        "\n",
        "# Plot 3: IoU Score\n",
        "plt.subplot(1, 3, 3)\n",
        "plt.plot(range(1, NUM_EPOCHS + 1), validation_iou_scores, 'purple', label='IoU Score')\n",
        "plt.title('IoU Score Over Time')\n",
        "plt.xlabel('Epoch')\n",
        "plt.ylabel('IoU')\n",
        "plt.grid(True)\n",
        "plt.legend()\n",
        "\n",
        "plt.tight_layout()\n",
        "plt.show()\n",
        "\n",
        "# Print final metrics\n",
        "print(\"\\nFinal Metrics:\")\n",
        "print(f\"Final Training Loss: {training_losses[-1]:.4f}\")\n",
        "print(f\"Final Pixel Accuracy: {validation_accuracies[-1]:.2f}%\")\n",
        "print(f\"Final Dice Score: {validation_dice_scores[-1]:.4f}\")\n",
        "print(f\"Final IoU Score: {validation_iou_scores[-1]:.4f}\")\n",
        "\n",
        "# Save model\n",
        "MODEL_SAVE_PATH = os.path.join(PROJECT_FOLDER_IN_DRIVE, \"unet_retina_segmentation.pth\")\n",
        "torch.save(model.state_dict(), MODEL_SAVE_PATH)\n",
        "print(f\"\\nModel saved to {MODEL_SAVE_PATH}\")"
      ],
      "metadata": {
        "id": "9J49evVsOuuR",
        "outputId": "4bef6c99-bcab-45a7-893e-d31d64f8196b",
        "colab": {
          "base_uri": "https://localhost:8080/",
          "height": 1000
        }
      },
      "execution_count": 12,
      "outputs": [
        {
          "output_type": "stream",
          "name": "stdout",
          "text": [
            "Initializing model with 9 output classes...\n",
            "Model initialized successfully!\n",
            "Full dataset size: 20\n",
            "Training indices: 16\n",
            "Validation indices: 4\n",
            "\n",
            "Datasets and DataLoaders created successfully with augmentations for the training set.\n",
            "\n",
            "--- Epoch 1/75 ---\n"
          ]
        },
        {
          "output_type": "stream",
          "name": "stderr",
          "text": [
            "Training: 100%|██████████| 2/2 [00:09<00:00,  4.93s/it, loss=1.85]\n"
          ]
        },
        {
          "output_type": "stream",
          "name": "stdout",
          "text": [
            "Average training loss for the epoch: 1.8806010484695435\n",
            "\n",
            "--- VALIDATION METRICS ---\n"
          ]
        },
        {
          "output_type": "stream",
          "name": "stderr",
          "text": [
            "Calculating Metrics: 100%|██████████| 1/1 [00:03<00:00,  3.16s/it]\n"
          ]
        },
        {
          "output_type": "stream",
          "name": "stdout",
          "text": [
            "\n",
            "Got 874501/1048576 with pixel accuracy 83.40%\n",
            "Average Dice Score: 0.8340\n",
            "Average IoU Score: 0.7152\n",
            "\n",
            "--- Epoch 2/75 ---\n"
          ]
        },
        {
          "output_type": "stream",
          "name": "stderr",
          "text": [
            "Training: 100%|██████████| 2/2 [00:04<00:00,  2.01s/it, loss=1.78]\n"
          ]
        },
        {
          "output_type": "stream",
          "name": "stdout",
          "text": [
            "Average training loss for the epoch: 1.7847191095352173\n",
            "\n",
            "--- VALIDATION METRICS ---\n"
          ]
        },
        {
          "output_type": "stream",
          "name": "stderr",
          "text": [
            "Calculating Metrics: 100%|██████████| 1/1 [00:00<00:00,  6.10it/s]\n"
          ]
        },
        {
          "output_type": "stream",
          "name": "stdout",
          "text": [
            "\n",
            "Got 875846/1048576 with pixel accuracy 83.53%\n",
            "Average Dice Score: 0.8353\n",
            "Average IoU Score: 0.7171\n",
            "\n",
            "--- Epoch 3/75 ---\n"
          ]
        },
        {
          "output_type": "stream",
          "name": "stderr",
          "text": [
            "Training: 100%|██████████| 2/2 [00:04<00:00,  2.03s/it, loss=1.69]\n"
          ]
        },
        {
          "output_type": "stream",
          "name": "stdout",
          "text": [
            "Average training loss for the epoch: 1.7119175791740417\n",
            "\n",
            "--- VALIDATION METRICS ---\n"
          ]
        },
        {
          "output_type": "stream",
          "name": "stderr",
          "text": [
            "Calculating Metrics: 100%|██████████| 1/1 [00:00<00:00,  4.64it/s]\n"
          ]
        },
        {
          "output_type": "stream",
          "name": "stdout",
          "text": [
            "\n",
            "Got 875793/1048576 with pixel accuracy 83.52%\n",
            "Average Dice Score: 0.8352\n",
            "Average IoU Score: 0.7171\n",
            "\n",
            "--- Epoch 4/75 ---\n"
          ]
        },
        {
          "output_type": "stream",
          "name": "stderr",
          "text": [
            "Training: 100%|██████████| 2/2 [00:04<00:00,  2.11s/it, loss=1.65]\n"
          ]
        },
        {
          "output_type": "stream",
          "name": "stdout",
          "text": [
            "Average training loss for the epoch: 1.6622995138168335\n",
            "\n",
            "--- VALIDATION METRICS ---\n"
          ]
        },
        {
          "output_type": "stream",
          "name": "stderr",
          "text": [
            "Calculating Metrics: 100%|██████████| 1/1 [00:00<00:00,  6.26it/s]\n"
          ]
        },
        {
          "output_type": "stream",
          "name": "stdout",
          "text": [
            "\n",
            "Got 865023/1048576 with pixel accuracy 82.50%\n",
            "Average Dice Score: 0.8250\n",
            "Average IoU Score: 0.7021\n",
            "\n",
            "--- Epoch 5/75 ---\n"
          ]
        },
        {
          "output_type": "stream",
          "name": "stderr",
          "text": [
            "Training: 100%|██████████| 2/2 [00:04<00:00,  2.07s/it, loss=1.64]\n"
          ]
        },
        {
          "output_type": "stream",
          "name": "stdout",
          "text": [
            "Average training loss for the epoch: 1.625132977962494\n",
            "\n",
            "--- VALIDATION METRICS ---\n"
          ]
        },
        {
          "output_type": "stream",
          "name": "stderr",
          "text": [
            "Calculating Metrics: 100%|██████████| 1/1 [00:00<00:00,  6.12it/s]\n"
          ]
        },
        {
          "output_type": "stream",
          "name": "stdout",
          "text": [
            "\n",
            "Got 779045/1048576 with pixel accuracy 74.30%\n",
            "Average Dice Score: 0.7430\n",
            "Average IoU Score: 0.5910\n",
            "\n",
            "--- Epoch 6/75 ---\n"
          ]
        },
        {
          "output_type": "stream",
          "name": "stderr",
          "text": [
            "Training: 100%|██████████| 2/2 [00:04<00:00,  2.10s/it, loss=1.56]\n"
          ]
        },
        {
          "output_type": "stream",
          "name": "stdout",
          "text": [
            "Average training loss for the epoch: 1.5626985430717468\n",
            "\n",
            "--- VALIDATION METRICS ---\n"
          ]
        },
        {
          "output_type": "stream",
          "name": "stderr",
          "text": [
            "Calculating Metrics: 100%|██████████| 1/1 [00:00<00:00,  3.94it/s]\n"
          ]
        },
        {
          "output_type": "stream",
          "name": "stdout",
          "text": [
            "\n",
            "Got 739154/1048576 with pixel accuracy 70.49%\n",
            "Average Dice Score: 0.7049\n",
            "Average IoU Score: 0.5443\n",
            "\n",
            "--- Epoch 7/75 ---\n"
          ]
        },
        {
          "output_type": "stream",
          "name": "stderr",
          "text": [
            "Training: 100%|██████████| 2/2 [00:04<00:00,  2.13s/it, loss=1.5]\n"
          ]
        },
        {
          "output_type": "stream",
          "name": "stdout",
          "text": [
            "Average training loss for the epoch: 1.5061160326004028\n",
            "\n",
            "--- VALIDATION METRICS ---\n"
          ]
        },
        {
          "output_type": "stream",
          "name": "stderr",
          "text": [
            "Calculating Metrics: 100%|██████████| 1/1 [00:00<00:00,  5.90it/s]\n"
          ]
        },
        {
          "output_type": "stream",
          "name": "stdout",
          "text": [
            "\n",
            "Got 740266/1048576 with pixel accuracy 70.60%\n",
            "Average Dice Score: 0.7060\n",
            "Average IoU Score: 0.5456\n",
            "\n",
            "--- Epoch 8/75 ---\n"
          ]
        },
        {
          "output_type": "stream",
          "name": "stderr",
          "text": [
            "Training: 100%|██████████| 2/2 [00:04<00:00,  2.16s/it, loss=1.43]\n"
          ]
        },
        {
          "output_type": "stream",
          "name": "stdout",
          "text": [
            "Average training loss for the epoch: 1.4440391063690186\n",
            "\n",
            "--- VALIDATION METRICS ---\n"
          ]
        },
        {
          "output_type": "stream",
          "name": "stderr",
          "text": [
            "Calculating Metrics: 100%|██████████| 1/1 [00:00<00:00,  6.30it/s]\n"
          ]
        },
        {
          "output_type": "stream",
          "name": "stdout",
          "text": [
            "\n",
            "Got 739667/1048576 with pixel accuracy 70.54%\n",
            "Average Dice Score: 0.7054\n",
            "Average IoU Score: 0.5449\n",
            "\n",
            "--- Epoch 9/75 ---\n"
          ]
        },
        {
          "output_type": "stream",
          "name": "stderr",
          "text": [
            "Training: 100%|██████████| 2/2 [00:04<00:00,  2.22s/it, loss=1.38]\n"
          ]
        },
        {
          "output_type": "stream",
          "name": "stdout",
          "text": [
            "Average training loss for the epoch: 1.388655185699463\n",
            "\n",
            "--- VALIDATION METRICS ---\n"
          ]
        },
        {
          "output_type": "stream",
          "name": "stderr",
          "text": [
            "Calculating Metrics: 100%|██████████| 1/1 [00:00<00:00,  5.10it/s]\n"
          ]
        },
        {
          "output_type": "stream",
          "name": "stdout",
          "text": [
            "\n",
            "Got 752562/1048576 with pixel accuracy 71.77%\n",
            "Average Dice Score: 0.7177\n",
            "Average IoU Score: 0.5597\n",
            "\n",
            "--- Epoch 10/75 ---\n"
          ]
        },
        {
          "output_type": "stream",
          "name": "stderr",
          "text": [
            "Training: 100%|██████████| 2/2 [00:04<00:00,  2.24s/it, loss=1.32]\n"
          ]
        },
        {
          "output_type": "stream",
          "name": "stdout",
          "text": [
            "Average training loss for the epoch: 1.3329108357429504\n",
            "\n",
            "--- VALIDATION METRICS ---\n"
          ]
        },
        {
          "output_type": "stream",
          "name": "stderr",
          "text": [
            "Calculating Metrics: 100%|██████████| 1/1 [00:00<00:00,  6.51it/s]\n"
          ]
        },
        {
          "output_type": "stream",
          "name": "stdout",
          "text": [
            "\n",
            "Got 739731/1048576 with pixel accuracy 70.55%\n",
            "Average Dice Score: 0.7055\n",
            "Average IoU Score: 0.5450\n",
            "\n",
            "--- Epoch 11/75 ---\n"
          ]
        },
        {
          "output_type": "stream",
          "name": "stderr",
          "text": [
            "Training: 100%|██████████| 2/2 [00:04<00:00,  2.27s/it, loss=1.27]\n"
          ]
        },
        {
          "output_type": "stream",
          "name": "stdout",
          "text": [
            "Average training loss for the epoch: 1.283322811126709\n",
            "\n",
            "--- VALIDATION METRICS ---\n"
          ]
        },
        {
          "output_type": "stream",
          "name": "stderr",
          "text": [
            "Calculating Metrics: 100%|██████████| 1/1 [00:00<00:00,  5.06it/s]\n"
          ]
        },
        {
          "output_type": "stream",
          "name": "stdout",
          "text": [
            "\n",
            "Got 713540/1048576 with pixel accuracy 68.05%\n",
            "Average Dice Score: 0.6805\n",
            "Average IoU Score: 0.5157\n",
            "\n",
            "--- Epoch 12/75 ---\n"
          ]
        },
        {
          "output_type": "stream",
          "name": "stderr",
          "text": [
            "Training: 100%|██████████| 2/2 [00:04<00:00,  2.26s/it, loss=1.23]\n"
          ]
        },
        {
          "output_type": "stream",
          "name": "stdout",
          "text": [
            "Average training loss for the epoch: 1.2415615916252136\n",
            "\n",
            "--- VALIDATION METRICS ---\n"
          ]
        },
        {
          "output_type": "stream",
          "name": "stderr",
          "text": [
            "Calculating Metrics: 100%|██████████| 1/1 [00:00<00:00,  6.64it/s]\n"
          ]
        },
        {
          "output_type": "stream",
          "name": "stdout",
          "text": [
            "\n",
            "Got 688410/1048576 with pixel accuracy 65.65%\n",
            "Average Dice Score: 0.6565\n",
            "Average IoU Score: 0.4887\n",
            "\n",
            "--- Epoch 13/75 ---\n"
          ]
        },
        {
          "output_type": "stream",
          "name": "stderr",
          "text": [
            "Training: 100%|██████████| 2/2 [00:04<00:00,  2.19s/it, loss=1.19]\n"
          ]
        },
        {
          "output_type": "stream",
          "name": "stdout",
          "text": [
            "Average training loss for the epoch: 1.2058131694793701\n",
            "\n",
            "--- VALIDATION METRICS ---\n"
          ]
        },
        {
          "output_type": "stream",
          "name": "stderr",
          "text": [
            "Calculating Metrics: 100%|██████████| 1/1 [00:00<00:00,  6.40it/s]\n"
          ]
        },
        {
          "output_type": "stream",
          "name": "stdout",
          "text": [
            "\n",
            "Got 678854/1048576 with pixel accuracy 64.74%\n",
            "Average Dice Score: 0.6474\n",
            "Average IoU Score: 0.4786\n",
            "\n",
            "--- Epoch 14/75 ---\n"
          ]
        },
        {
          "output_type": "stream",
          "name": "stderr",
          "text": [
            "Training: 100%|██████████| 2/2 [00:04<00:00,  2.20s/it, loss=1.16]\n"
          ]
        },
        {
          "output_type": "stream",
          "name": "stdout",
          "text": [
            "Average training loss for the epoch: 1.1698073744773865\n",
            "\n",
            "--- VALIDATION METRICS ---\n"
          ]
        },
        {
          "output_type": "stream",
          "name": "stderr",
          "text": [
            "Calculating Metrics: 100%|██████████| 1/1 [00:00<00:00,  4.36it/s]\n"
          ]
        },
        {
          "output_type": "stream",
          "name": "stdout",
          "text": [
            "\n",
            "Got 772911/1048576 with pixel accuracy 73.71%\n",
            "Average Dice Score: 0.7371\n",
            "Average IoU Score: 0.5837\n",
            "\n",
            "--- Epoch 15/75 ---\n"
          ]
        },
        {
          "output_type": "stream",
          "name": "stderr",
          "text": [
            "Training: 100%|██████████| 2/2 [00:04<00:00,  2.20s/it, loss=1.13]\n"
          ]
        },
        {
          "output_type": "stream",
          "name": "stdout",
          "text": [
            "Average training loss for the epoch: 1.1367548704147339\n",
            "\n",
            "--- VALIDATION METRICS ---\n"
          ]
        },
        {
          "output_type": "stream",
          "name": "stderr",
          "text": [
            "Calculating Metrics: 100%|██████████| 1/1 [00:00<00:00,  6.45it/s]\n"
          ]
        },
        {
          "output_type": "stream",
          "name": "stdout",
          "text": [
            "\n",
            "Got 808069/1048576 with pixel accuracy 77.06%\n",
            "Average Dice Score: 0.7706\n",
            "Average IoU Score: 0.6269\n",
            "\n",
            "--- Epoch 16/75 ---\n"
          ]
        },
        {
          "output_type": "stream",
          "name": "stderr",
          "text": [
            "Training: 100%|██████████| 2/2 [00:04<00:00,  2.15s/it, loss=1.11]\n"
          ]
        },
        {
          "output_type": "stream",
          "name": "stdout",
          "text": [
            "Average training loss for the epoch: 1.1111170649528503\n",
            "\n",
            "--- VALIDATION METRICS ---\n"
          ]
        },
        {
          "output_type": "stream",
          "name": "stderr",
          "text": [
            "Calculating Metrics: 100%|██████████| 1/1 [00:00<00:00,  6.52it/s]\n"
          ]
        },
        {
          "output_type": "stream",
          "name": "stdout",
          "text": [
            "\n",
            "Got 807082/1048576 with pixel accuracy 76.97%\n",
            "Average Dice Score: 0.7697\n",
            "Average IoU Score: 0.6256\n",
            "\n",
            "--- Epoch 17/75 ---\n"
          ]
        },
        {
          "output_type": "stream",
          "name": "stderr",
          "text": [
            "Training: 100%|██████████| 2/2 [00:04<00:00,  2.13s/it, loss=1.09]\n"
          ]
        },
        {
          "output_type": "stream",
          "name": "stdout",
          "text": [
            "Average training loss for the epoch: 1.086342215538025\n",
            "\n",
            "--- VALIDATION METRICS ---\n"
          ]
        },
        {
          "output_type": "stream",
          "name": "stderr",
          "text": [
            "Calculating Metrics: 100%|██████████| 1/1 [00:00<00:00,  6.01it/s]\n"
          ]
        },
        {
          "output_type": "stream",
          "name": "stdout",
          "text": [
            "\n",
            "Got 756327/1048576 with pixel accuracy 72.13%\n",
            "Average Dice Score: 0.7213\n",
            "Average IoU Score: 0.5641\n",
            "\n",
            "--- Epoch 18/75 ---\n"
          ]
        },
        {
          "output_type": "stream",
          "name": "stderr",
          "text": [
            "Training: 100%|██████████| 2/2 [00:04<00:00,  2.10s/it, loss=1.07]\n"
          ]
        },
        {
          "output_type": "stream",
          "name": "stdout",
          "text": [
            "Average training loss for the epoch: 1.0651107430458069\n",
            "\n",
            "--- VALIDATION METRICS ---\n"
          ]
        },
        {
          "output_type": "stream",
          "name": "stderr",
          "text": [
            "Calculating Metrics: 100%|██████████| 1/1 [00:00<00:00,  6.35it/s]\n"
          ]
        },
        {
          "output_type": "stream",
          "name": "stdout",
          "text": [
            "\n",
            "Got 873095/1048576 with pixel accuracy 83.26%\n",
            "Average Dice Score: 0.8326\n",
            "Average IoU Score: 0.7133\n",
            "\n",
            "--- Epoch 19/75 ---\n"
          ]
        },
        {
          "output_type": "stream",
          "name": "stderr",
          "text": [
            "Training: 100%|██████████| 2/2 [00:04<00:00,  2.12s/it, loss=1.05]\n"
          ]
        },
        {
          "output_type": "stream",
          "name": "stdout",
          "text": [
            "Average training loss for the epoch: 1.0447953939437866\n",
            "\n",
            "--- VALIDATION METRICS ---\n"
          ]
        },
        {
          "output_type": "stream",
          "name": "stderr",
          "text": [
            "Calculating Metrics: 100%|██████████| 1/1 [00:00<00:00,  4.72it/s]\n"
          ]
        },
        {
          "output_type": "stream",
          "name": "stdout",
          "text": [
            "\n",
            "Got 925149/1048576 with pixel accuracy 88.23%\n",
            "Average Dice Score: 0.8823\n",
            "Average IoU Score: 0.7894\n",
            "\n",
            "--- Epoch 20/75 ---\n"
          ]
        },
        {
          "output_type": "stream",
          "name": "stderr",
          "text": [
            "Training: 100%|██████████| 2/2 [00:04<00:00,  2.15s/it, loss=1.02]\n"
          ]
        },
        {
          "output_type": "stream",
          "name": "stdout",
          "text": [
            "Average training loss for the epoch: 1.028920590877533\n",
            "\n",
            "--- VALIDATION METRICS ---\n"
          ]
        },
        {
          "output_type": "stream",
          "name": "stderr",
          "text": [
            "Calculating Metrics: 100%|██████████| 1/1 [00:00<00:00,  6.52it/s]\n"
          ]
        },
        {
          "output_type": "stream",
          "name": "stdout",
          "text": [
            "\n",
            "Got 919760/1048576 with pixel accuracy 87.72%\n",
            "Average Dice Score: 0.8772\n",
            "Average IoU Score: 0.7812\n",
            "\n",
            "--- Epoch 21/75 ---\n"
          ]
        },
        {
          "output_type": "stream",
          "name": "stderr",
          "text": [
            "Training: 100%|██████████| 2/2 [00:04<00:00,  2.09s/it, loss=1]\n"
          ]
        },
        {
          "output_type": "stream",
          "name": "stdout",
          "text": [
            "Average training loss for the epoch: 1.0103017687797546\n",
            "\n",
            "--- VALIDATION METRICS ---\n"
          ]
        },
        {
          "output_type": "stream",
          "name": "stderr",
          "text": [
            "Calculating Metrics: 100%|██████████| 1/1 [00:00<00:00,  6.47it/s]\n"
          ]
        },
        {
          "output_type": "stream",
          "name": "stdout",
          "text": [
            "\n",
            "Got 940792/1048576 with pixel accuracy 89.72%\n",
            "Average Dice Score: 0.8972\n",
            "Average IoU Score: 0.8136\n",
            "\n",
            "--- Epoch 22/75 ---\n"
          ]
        },
        {
          "output_type": "stream",
          "name": "stderr",
          "text": [
            "Training: 100%|██████████| 2/2 [00:04<00:00,  2.10s/it, loss=0.993]\n"
          ]
        },
        {
          "output_type": "stream",
          "name": "stdout",
          "text": [
            "Average training loss for the epoch: 0.9963907599449158\n",
            "\n",
            "--- VALIDATION METRICS ---\n"
          ]
        },
        {
          "output_type": "stream",
          "name": "stderr",
          "text": [
            "Calculating Metrics: 100%|██████████| 1/1 [00:00<00:00,  4.52it/s]\n"
          ]
        },
        {
          "output_type": "stream",
          "name": "stdout",
          "text": [
            "\n",
            "Got 945316/1048576 with pixel accuracy 90.15%\n",
            "Average Dice Score: 0.9015\n",
            "Average IoU Score: 0.8207\n",
            "\n",
            "--- Epoch 23/75 ---\n"
          ]
        },
        {
          "output_type": "stream",
          "name": "stderr",
          "text": [
            "Training: 100%|██████████| 2/2 [00:04<00:00,  2.15s/it, loss=0.962]\n"
          ]
        },
        {
          "output_type": "stream",
          "name": "stdout",
          "text": [
            "Average training loss for the epoch: 0.9795643985271454\n",
            "\n",
            "--- VALIDATION METRICS ---\n"
          ]
        },
        {
          "output_type": "stream",
          "name": "stderr",
          "text": [
            "Calculating Metrics: 100%|██████████| 1/1 [00:00<00:00,  6.79it/s]\n"
          ]
        },
        {
          "output_type": "stream",
          "name": "stdout",
          "text": [
            "\n",
            "Got 943962/1048576 with pixel accuracy 90.02%\n",
            "Average Dice Score: 0.9002\n",
            "Average IoU Score: 0.8186\n",
            "\n",
            "--- Epoch 24/75 ---\n"
          ]
        },
        {
          "output_type": "stream",
          "name": "stderr",
          "text": [
            "Training: 100%|██████████| 2/2 [00:04<00:00,  2.12s/it, loss=0.96]\n"
          ]
        },
        {
          "output_type": "stream",
          "name": "stdout",
          "text": [
            "Average training loss for the epoch: 0.9675275385379791\n",
            "\n",
            "--- VALIDATION METRICS ---\n"
          ]
        },
        {
          "output_type": "stream",
          "name": "stderr",
          "text": [
            "Calculating Metrics: 100%|██████████| 1/1 [00:00<00:00,  6.60it/s]\n"
          ]
        },
        {
          "output_type": "stream",
          "name": "stdout",
          "text": [
            "\n",
            "Got 966875/1048576 with pixel accuracy 92.21%\n",
            "Average Dice Score: 0.9221\n",
            "Average IoU Score: 0.8554\n",
            "\n",
            "--- Epoch 25/75 ---\n"
          ]
        },
        {
          "output_type": "stream",
          "name": "stderr",
          "text": [
            "Training: 100%|██████████| 2/2 [00:04<00:00,  2.13s/it, loss=0.945]\n"
          ]
        },
        {
          "output_type": "stream",
          "name": "stdout",
          "text": [
            "Average training loss for the epoch: 0.95498126745224\n",
            "\n",
            "--- VALIDATION METRICS ---\n"
          ]
        },
        {
          "output_type": "stream",
          "name": "stderr",
          "text": [
            "Calculating Metrics: 100%|██████████| 1/1 [00:00<00:00,  4.58it/s]\n"
          ]
        },
        {
          "output_type": "stream",
          "name": "stdout",
          "text": [
            "\n",
            "Got 963684/1048576 with pixel accuracy 91.90%\n",
            "Average Dice Score: 0.9190\n",
            "Average IoU Score: 0.8502\n",
            "\n",
            "--- Epoch 26/75 ---\n"
          ]
        },
        {
          "output_type": "stream",
          "name": "stderr",
          "text": [
            "Training: 100%|██████████| 2/2 [00:04<00:00,  2.21s/it, loss=0.944]\n"
          ]
        },
        {
          "output_type": "stream",
          "name": "stdout",
          "text": [
            "Average training loss for the epoch: 0.9448898732662201\n",
            "\n",
            "--- VALIDATION METRICS ---\n"
          ]
        },
        {
          "output_type": "stream",
          "name": "stderr",
          "text": [
            "Calculating Metrics: 100%|██████████| 1/1 [00:00<00:00,  6.00it/s]\n"
          ]
        },
        {
          "output_type": "stream",
          "name": "stdout",
          "text": [
            "\n",
            "Got 976705/1048576 with pixel accuracy 93.15%\n",
            "Average Dice Score: 0.9315\n",
            "Average IoU Score: 0.8717\n",
            "\n",
            "--- Epoch 27/75 ---\n"
          ]
        },
        {
          "output_type": "stream",
          "name": "stderr",
          "text": [
            "Training: 100%|██████████| 2/2 [00:04<00:00,  2.14s/it, loss=0.928]\n"
          ]
        },
        {
          "output_type": "stream",
          "name": "stdout",
          "text": [
            "Average training loss for the epoch: 0.933123379945755\n",
            "\n",
            "--- VALIDATION METRICS ---\n"
          ]
        },
        {
          "output_type": "stream",
          "name": "stderr",
          "text": [
            "Calculating Metrics: 100%|██████████| 1/1 [00:00<00:00,  6.69it/s]\n"
          ]
        },
        {
          "output_type": "stream",
          "name": "stdout",
          "text": [
            "\n",
            "Got 971238/1048576 with pixel accuracy 92.62%\n",
            "Average Dice Score: 0.9262\n",
            "Average IoU Score: 0.8626\n",
            "\n",
            "--- Epoch 28/75 ---\n"
          ]
        },
        {
          "output_type": "stream",
          "name": "stderr",
          "text": [
            "Training: 100%|██████████| 2/2 [00:04<00:00,  2.14s/it, loss=0.918]\n"
          ]
        },
        {
          "output_type": "stream",
          "name": "stdout",
          "text": [
            "Average training loss for the epoch: 0.9238753914833069\n",
            "\n",
            "--- VALIDATION METRICS ---\n"
          ]
        },
        {
          "output_type": "stream",
          "name": "stderr",
          "text": [
            "Calculating Metrics: 100%|██████████| 1/1 [00:00<00:00,  6.04it/s]\n"
          ]
        },
        {
          "output_type": "stream",
          "name": "stdout",
          "text": [
            "\n",
            "Got 976034/1048576 with pixel accuracy 93.08%\n",
            "Average Dice Score: 0.9308\n",
            "Average IoU Score: 0.8706\n",
            "\n",
            "--- Epoch 29/75 ---\n"
          ]
        },
        {
          "output_type": "stream",
          "name": "stderr",
          "text": [
            "Training: 100%|██████████| 2/2 [00:04<00:00,  2.14s/it, loss=0.907]\n"
          ]
        },
        {
          "output_type": "stream",
          "name": "stdout",
          "text": [
            "Average training loss for the epoch: 0.9141866266727448\n",
            "\n",
            "--- VALIDATION METRICS ---\n"
          ]
        },
        {
          "output_type": "stream",
          "name": "stderr",
          "text": [
            "Calculating Metrics: 100%|██████████| 1/1 [00:00<00:00,  6.47it/s]\n"
          ]
        },
        {
          "output_type": "stream",
          "name": "stdout",
          "text": [
            "\n",
            "Got 974402/1048576 with pixel accuracy 92.93%\n",
            "Average Dice Score: 0.9293\n",
            "Average IoU Score: 0.8679\n",
            "\n",
            "--- Epoch 30/75 ---\n"
          ]
        },
        {
          "output_type": "stream",
          "name": "stderr",
          "text": [
            "Training: 100%|██████████| 2/2 [00:04<00:00,  2.14s/it, loss=0.895]\n"
          ]
        },
        {
          "output_type": "stream",
          "name": "stdout",
          "text": [
            "Average training loss for the epoch: 0.9039328098297119\n",
            "\n",
            "--- VALIDATION METRICS ---\n"
          ]
        },
        {
          "output_type": "stream",
          "name": "stderr",
          "text": [
            "Calculating Metrics: 100%|██████████| 1/1 [00:00<00:00,  6.47it/s]\n"
          ]
        },
        {
          "output_type": "stream",
          "name": "stdout",
          "text": [
            "\n",
            "Got 981036/1048576 with pixel accuracy 93.56%\n",
            "Average Dice Score: 0.9356\n",
            "Average IoU Score: 0.8790\n",
            "\n",
            "--- Epoch 31/75 ---\n"
          ]
        },
        {
          "output_type": "stream",
          "name": "stderr",
          "text": [
            "Training: 100%|██████████| 2/2 [00:04<00:00,  2.20s/it, loss=0.886]\n"
          ]
        },
        {
          "output_type": "stream",
          "name": "stdout",
          "text": [
            "Average training loss for the epoch: 0.895548403263092\n",
            "\n",
            "--- VALIDATION METRICS ---\n"
          ]
        },
        {
          "output_type": "stream",
          "name": "stderr",
          "text": [
            "Calculating Metrics: 100%|██████████| 1/1 [00:00<00:00,  6.35it/s]\n"
          ]
        },
        {
          "output_type": "stream",
          "name": "stdout",
          "text": [
            "\n",
            "Got 980450/1048576 with pixel accuracy 93.50%\n",
            "Average Dice Score: 0.9350\n",
            "Average IoU Score: 0.8780\n",
            "\n",
            "--- Epoch 32/75 ---\n"
          ]
        },
        {
          "output_type": "stream",
          "name": "stderr",
          "text": [
            "Training: 100%|██████████| 2/2 [00:04<00:00,  2.13s/it, loss=0.882]\n"
          ]
        },
        {
          "output_type": "stream",
          "name": "stdout",
          "text": [
            "Average training loss for the epoch: 0.8822456002235413\n",
            "\n",
            "--- VALIDATION METRICS ---\n"
          ]
        },
        {
          "output_type": "stream",
          "name": "stderr",
          "text": [
            "Calculating Metrics: 100%|██████████| 1/1 [00:00<00:00,  5.82it/s]\n"
          ]
        },
        {
          "output_type": "stream",
          "name": "stdout",
          "text": [
            "\n",
            "Got 980637/1048576 with pixel accuracy 93.52%\n",
            "Average Dice Score: 0.9352\n",
            "Average IoU Score: 0.8783\n",
            "\n",
            "--- Epoch 33/75 ---\n"
          ]
        },
        {
          "output_type": "stream",
          "name": "stderr",
          "text": [
            "Training: 100%|██████████| 2/2 [00:04<00:00,  2.16s/it, loss=0.879]\n"
          ]
        },
        {
          "output_type": "stream",
          "name": "stdout",
          "text": [
            "Average training loss for the epoch: 0.8734334111213684\n",
            "\n",
            "--- VALIDATION METRICS ---\n"
          ]
        },
        {
          "output_type": "stream",
          "name": "stderr",
          "text": [
            "Calculating Metrics: 100%|██████████| 1/1 [00:00<00:00,  4.24it/s]\n"
          ]
        },
        {
          "output_type": "stream",
          "name": "stdout",
          "text": [
            "\n",
            "Got 981029/1048576 with pixel accuracy 93.56%\n",
            "Average Dice Score: 0.9356\n",
            "Average IoU Score: 0.8790\n",
            "\n",
            "--- Epoch 34/75 ---\n"
          ]
        },
        {
          "output_type": "stream",
          "name": "stderr",
          "text": [
            "Training: 100%|██████████| 2/2 [00:04<00:00,  2.20s/it, loss=0.855]\n"
          ]
        },
        {
          "output_type": "stream",
          "name": "stdout",
          "text": [
            "Average training loss for the epoch: 0.8658443093299866\n",
            "\n",
            "--- VALIDATION METRICS ---\n"
          ]
        },
        {
          "output_type": "stream",
          "name": "stderr",
          "text": [
            "Calculating Metrics: 100%|██████████| 1/1 [00:00<00:00,  6.61it/s]\n"
          ]
        },
        {
          "output_type": "stream",
          "name": "stdout",
          "text": [
            "\n",
            "Got 980684/1048576 with pixel accuracy 93.53%\n",
            "Average Dice Score: 0.9353\n",
            "Average IoU Score: 0.8784\n",
            "\n",
            "--- Epoch 35/75 ---\n"
          ]
        },
        {
          "output_type": "stream",
          "name": "stderr",
          "text": [
            "Training: 100%|██████████| 2/2 [00:04<00:00,  2.13s/it, loss=0.862]\n"
          ]
        },
        {
          "output_type": "stream",
          "name": "stdout",
          "text": [
            "Average training loss for the epoch: 0.8601616621017456\n",
            "\n",
            "--- VALIDATION METRICS ---\n"
          ]
        },
        {
          "output_type": "stream",
          "name": "stderr",
          "text": [
            "Calculating Metrics: 100%|██████████| 1/1 [00:00<00:00,  6.67it/s]\n"
          ]
        },
        {
          "output_type": "stream",
          "name": "stdout",
          "text": [
            "\n",
            "Got 980559/1048576 with pixel accuracy 93.51%\n",
            "Average Dice Score: 0.9351\n",
            "Average IoU Score: 0.8782\n",
            "\n",
            "--- Epoch 36/75 ---\n"
          ]
        },
        {
          "output_type": "stream",
          "name": "stderr",
          "text": [
            "Training: 100%|██████████| 2/2 [00:04<00:00,  2.14s/it, loss=0.843]\n"
          ]
        },
        {
          "output_type": "stream",
          "name": "stdout",
          "text": [
            "Average training loss for the epoch: 0.849505603313446\n",
            "\n",
            "--- VALIDATION METRICS ---\n"
          ]
        },
        {
          "output_type": "stream",
          "name": "stderr",
          "text": [
            "Calculating Metrics: 100%|██████████| 1/1 [00:00<00:00,  4.38it/s]\n"
          ]
        },
        {
          "output_type": "stream",
          "name": "stdout",
          "text": [
            "\n",
            "Got 986245/1048576 with pixel accuracy 94.06%\n",
            "Average Dice Score: 0.9406\n",
            "Average IoU Score: 0.8878\n",
            "\n",
            "--- Epoch 37/75 ---\n"
          ]
        },
        {
          "output_type": "stream",
          "name": "stderr",
          "text": [
            "Training: 100%|██████████| 2/2 [00:04<00:00,  2.16s/it, loss=0.845]\n"
          ]
        },
        {
          "output_type": "stream",
          "name": "stdout",
          "text": [
            "Average training loss for the epoch: 0.8400362133979797\n",
            "\n",
            "--- VALIDATION METRICS ---\n"
          ]
        },
        {
          "output_type": "stream",
          "name": "stderr",
          "text": [
            "Calculating Metrics: 100%|██████████| 1/1 [00:00<00:00,  6.50it/s]\n"
          ]
        },
        {
          "output_type": "stream",
          "name": "stdout",
          "text": [
            "\n",
            "Got 984125/1048576 with pixel accuracy 93.85%\n",
            "Average Dice Score: 0.9385\n",
            "Average IoU Score: 0.8842\n",
            "\n",
            "--- Epoch 38/75 ---\n"
          ]
        },
        {
          "output_type": "stream",
          "name": "stderr",
          "text": [
            "Training: 100%|██████████| 2/2 [00:04<00:00,  2.14s/it, loss=0.832]\n"
          ]
        },
        {
          "output_type": "stream",
          "name": "stdout",
          "text": [
            "Average training loss for the epoch: 0.8300718367099762\n",
            "\n",
            "--- VALIDATION METRICS ---\n"
          ]
        },
        {
          "output_type": "stream",
          "name": "stderr",
          "text": [
            "Calculating Metrics: 100%|██████████| 1/1 [00:00<00:00,  5.63it/s]\n"
          ]
        },
        {
          "output_type": "stream",
          "name": "stdout",
          "text": [
            "\n",
            "Got 983133/1048576 with pixel accuracy 93.76%\n",
            "Average Dice Score: 0.9376\n",
            "Average IoU Score: 0.8825\n",
            "\n",
            "--- Epoch 39/75 ---\n"
          ]
        },
        {
          "output_type": "stream",
          "name": "stderr",
          "text": [
            "Training: 100%|██████████| 2/2 [00:04<00:00,  2.13s/it, loss=0.83]\n"
          ]
        },
        {
          "output_type": "stream",
          "name": "stdout",
          "text": [
            "Average training loss for the epoch: 0.8258220255374908\n",
            "\n",
            "--- VALIDATION METRICS ---\n"
          ]
        },
        {
          "output_type": "stream",
          "name": "stderr",
          "text": [
            "Calculating Metrics: 100%|██████████| 1/1 [00:00<00:00,  6.41it/s]\n"
          ]
        },
        {
          "output_type": "stream",
          "name": "stdout",
          "text": [
            "\n",
            "Got 983307/1048576 with pixel accuracy 93.78%\n",
            "Average Dice Score: 0.9378\n",
            "Average IoU Score: 0.8828\n",
            "\n",
            "--- Epoch 40/75 ---\n"
          ]
        },
        {
          "output_type": "stream",
          "name": "stderr",
          "text": [
            "Training: 100%|██████████| 2/2 [00:04<00:00,  2.13s/it, loss=0.819]\n"
          ]
        },
        {
          "output_type": "stream",
          "name": "stdout",
          "text": [
            "Average training loss for the epoch: 0.8191957473754883\n",
            "\n",
            "--- VALIDATION METRICS ---\n"
          ]
        },
        {
          "output_type": "stream",
          "name": "stderr",
          "text": [
            "Calculating Metrics: 100%|██████████| 1/1 [00:00<00:00,  5.87it/s]\n"
          ]
        },
        {
          "output_type": "stream",
          "name": "stdout",
          "text": [
            "\n",
            "Got 985942/1048576 with pixel accuracy 94.03%\n",
            "Average Dice Score: 0.9403\n",
            "Average IoU Score: 0.8873\n",
            "\n",
            "--- Epoch 41/75 ---\n"
          ]
        },
        {
          "output_type": "stream",
          "name": "stderr",
          "text": [
            "Training: 100%|██████████| 2/2 [00:04<00:00,  2.13s/it, loss=0.814]\n"
          ]
        },
        {
          "output_type": "stream",
          "name": "stdout",
          "text": [
            "Average training loss for the epoch: 0.8136532604694366\n",
            "\n",
            "--- VALIDATION METRICS ---\n"
          ]
        },
        {
          "output_type": "stream",
          "name": "stderr",
          "text": [
            "Calculating Metrics: 100%|██████████| 1/1 [00:00<00:00,  5.90it/s]\n"
          ]
        },
        {
          "output_type": "stream",
          "name": "stdout",
          "text": [
            "\n",
            "Got 981694/1048576 with pixel accuracy 93.62%\n",
            "Average Dice Score: 0.9362\n",
            "Average IoU Score: 0.8801\n",
            "\n",
            "--- Epoch 42/75 ---\n"
          ]
        },
        {
          "output_type": "stream",
          "name": "stderr",
          "text": [
            "Training: 100%|██████████| 2/2 [00:04<00:00,  2.19s/it, loss=0.818]\n"
          ]
        },
        {
          "output_type": "stream",
          "name": "stdout",
          "text": [
            "Average training loss for the epoch: 0.805061399936676\n",
            "\n",
            "--- VALIDATION METRICS ---\n"
          ]
        },
        {
          "output_type": "stream",
          "name": "stderr",
          "text": [
            "Calculating Metrics: 100%|██████████| 1/1 [00:00<00:00,  6.33it/s]\n"
          ]
        },
        {
          "output_type": "stream",
          "name": "stdout",
          "text": [
            "\n",
            "Got 980673/1048576 with pixel accuracy 93.52%\n",
            "Average Dice Score: 0.9352\n",
            "Average IoU Score: 0.8784\n",
            "\n",
            "--- Epoch 43/75 ---\n"
          ]
        },
        {
          "output_type": "stream",
          "name": "stderr",
          "text": [
            "Training: 100%|██████████| 2/2 [00:04<00:00,  2.13s/it, loss=0.801]\n"
          ]
        },
        {
          "output_type": "stream",
          "name": "stdout",
          "text": [
            "Average training loss for the epoch: 0.7999957203865051\n",
            "\n",
            "--- VALIDATION METRICS ---\n"
          ]
        },
        {
          "output_type": "stream",
          "name": "stderr",
          "text": [
            "Calculating Metrics: 100%|██████████| 1/1 [00:00<00:00,  6.14it/s]\n"
          ]
        },
        {
          "output_type": "stream",
          "name": "stdout",
          "text": [
            "\n",
            "Got 984405/1048576 with pixel accuracy 93.88%\n",
            "Average Dice Score: 0.9388\n",
            "Average IoU Score: 0.8847\n",
            "\n",
            "--- Epoch 44/75 ---\n"
          ]
        },
        {
          "output_type": "stream",
          "name": "stderr",
          "text": [
            "Training: 100%|██████████| 2/2 [00:04<00:00,  2.13s/it, loss=0.781]\n"
          ]
        },
        {
          "output_type": "stream",
          "name": "stdout",
          "text": [
            "Average training loss for the epoch: 0.788529247045517\n",
            "\n",
            "--- VALIDATION METRICS ---\n"
          ]
        },
        {
          "output_type": "stream",
          "name": "stderr",
          "text": [
            "Calculating Metrics: 100%|██████████| 1/1 [00:00<00:00,  4.97it/s]\n"
          ]
        },
        {
          "output_type": "stream",
          "name": "stdout",
          "text": [
            "\n",
            "Got 981036/1048576 with pixel accuracy 93.56%\n",
            "Average Dice Score: 0.9356\n",
            "Average IoU Score: 0.8790\n",
            "\n",
            "--- Epoch 45/75 ---\n"
          ]
        },
        {
          "output_type": "stream",
          "name": "stderr",
          "text": [
            "Training: 100%|██████████| 2/2 [00:04<00:00,  2.19s/it, loss=0.785]\n"
          ]
        },
        {
          "output_type": "stream",
          "name": "stdout",
          "text": [
            "Average training loss for the epoch: 0.7833806872367859\n",
            "\n",
            "--- VALIDATION METRICS ---\n"
          ]
        },
        {
          "output_type": "stream",
          "name": "stderr",
          "text": [
            "Calculating Metrics: 100%|██████████| 1/1 [00:00<00:00,  6.03it/s]\n"
          ]
        },
        {
          "output_type": "stream",
          "name": "stdout",
          "text": [
            "\n",
            "Got 988976/1048576 with pixel accuracy 94.32%\n",
            "Average Dice Score: 0.9432\n",
            "Average IoU Score: 0.8924\n",
            "\n",
            "--- Epoch 46/75 ---\n"
          ]
        },
        {
          "output_type": "stream",
          "name": "stderr",
          "text": [
            "Training: 100%|██████████| 2/2 [00:04<00:00,  2.14s/it, loss=0.769]\n"
          ]
        },
        {
          "output_type": "stream",
          "name": "stdout",
          "text": [
            "Average training loss for the epoch: 0.7768145799636841\n",
            "\n",
            "--- VALIDATION METRICS ---\n"
          ]
        },
        {
          "output_type": "stream",
          "name": "stderr",
          "text": [
            "Calculating Metrics: 100%|██████████| 1/1 [00:00<00:00,  6.24it/s]\n"
          ]
        },
        {
          "output_type": "stream",
          "name": "stdout",
          "text": [
            "\n",
            "Got 984546/1048576 with pixel accuracy 93.89%\n",
            "Average Dice Score: 0.9389\n",
            "Average IoU Score: 0.8849\n",
            "\n",
            "--- Epoch 47/75 ---\n"
          ]
        },
        {
          "output_type": "stream",
          "name": "stderr",
          "text": [
            "Training: 100%|██████████| 2/2 [00:04<00:00,  2.16s/it, loss=0.763]\n"
          ]
        },
        {
          "output_type": "stream",
          "name": "stdout",
          "text": [
            "Average training loss for the epoch: 0.7684445679187775\n",
            "\n",
            "--- VALIDATION METRICS ---\n"
          ]
        },
        {
          "output_type": "stream",
          "name": "stderr",
          "text": [
            "Calculating Metrics: 100%|██████████| 1/1 [00:00<00:00,  4.48it/s]\n"
          ]
        },
        {
          "output_type": "stream",
          "name": "stdout",
          "text": [
            "\n",
            "Got 984079/1048576 with pixel accuracy 93.85%\n",
            "Average Dice Score: 0.9385\n",
            "Average IoU Score: 0.8841\n",
            "\n",
            "--- Epoch 48/75 ---\n"
          ]
        },
        {
          "output_type": "stream",
          "name": "stderr",
          "text": [
            "Training: 100%|██████████| 2/2 [00:04<00:00,  2.19s/it, loss=0.759]\n"
          ]
        },
        {
          "output_type": "stream",
          "name": "stdout",
          "text": [
            "Average training loss for the epoch: 0.7614381313323975\n",
            "\n",
            "--- VALIDATION METRICS ---\n"
          ]
        },
        {
          "output_type": "stream",
          "name": "stderr",
          "text": [
            "Calculating Metrics: 100%|██████████| 1/1 [00:00<00:00,  6.53it/s]\n"
          ]
        },
        {
          "output_type": "stream",
          "name": "stdout",
          "text": [
            "\n",
            "Got 987462/1048576 with pixel accuracy 94.17%\n",
            "Average Dice Score: 0.9417\n",
            "Average IoU Score: 0.8899\n",
            "\n",
            "--- Epoch 49/75 ---\n"
          ]
        },
        {
          "output_type": "stream",
          "name": "stderr",
          "text": [
            "Training: 100%|██████████| 2/2 [00:04<00:00,  2.13s/it, loss=0.753]\n"
          ]
        },
        {
          "output_type": "stream",
          "name": "stdout",
          "text": [
            "Average training loss for the epoch: 0.7569814026355743\n",
            "\n",
            "--- VALIDATION METRICS ---\n"
          ]
        },
        {
          "output_type": "stream",
          "name": "stderr",
          "text": [
            "Calculating Metrics: 100%|██████████| 1/1 [00:00<00:00,  6.54it/s]\n"
          ]
        },
        {
          "output_type": "stream",
          "name": "stdout",
          "text": [
            "\n",
            "Got 989331/1048576 with pixel accuracy 94.35%\n",
            "Average Dice Score: 0.9435\n",
            "Average IoU Score: 0.8930\n",
            "\n",
            "--- Epoch 50/75 ---\n"
          ]
        },
        {
          "output_type": "stream",
          "name": "stderr",
          "text": [
            "Training: 100%|██████████| 2/2 [00:04<00:00,  2.14s/it, loss=0.761]\n"
          ]
        },
        {
          "output_type": "stream",
          "name": "stdout",
          "text": [
            "Average training loss for the epoch: 0.7528604567050934\n",
            "\n",
            "--- VALIDATION METRICS ---\n"
          ]
        },
        {
          "output_type": "stream",
          "name": "stderr",
          "text": [
            "Calculating Metrics: 100%|██████████| 1/1 [00:00<00:00,  6.45it/s]\n"
          ]
        },
        {
          "output_type": "stream",
          "name": "stdout",
          "text": [
            "\n",
            "Got 990364/1048576 with pixel accuracy 94.45%\n",
            "Average Dice Score: 0.9445\n",
            "Average IoU Score: 0.8948\n",
            "\n",
            "--- Epoch 51/75 ---\n"
          ]
        },
        {
          "output_type": "stream",
          "name": "stderr",
          "text": [
            "Training: 100%|██████████| 2/2 [00:04<00:00,  2.14s/it, loss=0.744]\n"
          ]
        },
        {
          "output_type": "stream",
          "name": "stdout",
          "text": [
            "Average training loss for the epoch: 0.7452762722969055\n",
            "\n",
            "--- VALIDATION METRICS ---\n"
          ]
        },
        {
          "output_type": "stream",
          "name": "stderr",
          "text": [
            "Calculating Metrics: 100%|██████████| 1/1 [00:00<00:00,  6.27it/s]\n"
          ]
        },
        {
          "output_type": "stream",
          "name": "stdout",
          "text": [
            "\n",
            "Got 988247/1048576 with pixel accuracy 94.25%\n",
            "Average Dice Score: 0.9425\n",
            "Average IoU Score: 0.8912\n",
            "\n",
            "--- Epoch 52/75 ---\n"
          ]
        },
        {
          "output_type": "stream",
          "name": "stderr",
          "text": [
            "Training: 100%|██████████| 2/2 [00:04<00:00,  2.14s/it, loss=0.742]\n"
          ]
        },
        {
          "output_type": "stream",
          "name": "stdout",
          "text": [
            "Average training loss for the epoch: 0.7396275103092194\n",
            "\n",
            "--- VALIDATION METRICS ---\n"
          ]
        },
        {
          "output_type": "stream",
          "name": "stderr",
          "text": [
            "Calculating Metrics: 100%|██████████| 1/1 [00:00<00:00,  4.83it/s]\n"
          ]
        },
        {
          "output_type": "stream",
          "name": "stdout",
          "text": [
            "\n",
            "Got 996314/1048576 with pixel accuracy 95.02%\n",
            "Average Dice Score: 0.9502\n",
            "Average IoU Score: 0.9051\n",
            "\n",
            "--- Epoch 53/75 ---\n"
          ]
        },
        {
          "output_type": "stream",
          "name": "stderr",
          "text": [
            "Training: 100%|██████████| 2/2 [00:04<00:00,  2.19s/it, loss=0.729]\n"
          ]
        },
        {
          "output_type": "stream",
          "name": "stdout",
          "text": [
            "Average training loss for the epoch: 0.7293046414852142\n",
            "\n",
            "--- VALIDATION METRICS ---\n"
          ]
        },
        {
          "output_type": "stream",
          "name": "stderr",
          "text": [
            "Calculating Metrics: 100%|██████████| 1/1 [00:00<00:00,  6.52it/s]\n"
          ]
        },
        {
          "output_type": "stream",
          "name": "stdout",
          "text": [
            "\n",
            "Got 972718/1048576 with pixel accuracy 92.77%\n",
            "Average Dice Score: 0.9277\n",
            "Average IoU Score: 0.8651\n",
            "\n",
            "--- Epoch 54/75 ---\n"
          ]
        },
        {
          "output_type": "stream",
          "name": "stderr",
          "text": [
            "Training: 100%|██████████| 2/2 [00:04<00:00,  2.13s/it, loss=0.716]\n"
          ]
        },
        {
          "output_type": "stream",
          "name": "stdout",
          "text": [
            "Average training loss for the epoch: 0.7265826165676117\n",
            "\n",
            "--- VALIDATION METRICS ---\n"
          ]
        },
        {
          "output_type": "stream",
          "name": "stderr",
          "text": [
            "Calculating Metrics: 100%|██████████| 1/1 [00:00<00:00,  6.59it/s]\n"
          ]
        },
        {
          "output_type": "stream",
          "name": "stdout",
          "text": [
            "\n",
            "Got 988745/1048576 with pixel accuracy 94.29%\n",
            "Average Dice Score: 0.9429\n",
            "Average IoU Score: 0.8920\n",
            "\n",
            "--- Epoch 55/75 ---\n"
          ]
        },
        {
          "output_type": "stream",
          "name": "stderr",
          "text": [
            "Training: 100%|██████████| 2/2 [00:04<00:00,  2.15s/it, loss=0.714]\n"
          ]
        },
        {
          "output_type": "stream",
          "name": "stdout",
          "text": [
            "Average training loss for the epoch: 0.7175215482711792\n",
            "\n",
            "--- VALIDATION METRICS ---\n"
          ]
        },
        {
          "output_type": "stream",
          "name": "stderr",
          "text": [
            "Calculating Metrics: 100%|██████████| 1/1 [00:00<00:00,  4.39it/s]\n"
          ]
        },
        {
          "output_type": "stream",
          "name": "stdout",
          "text": [
            "\n",
            "Got 996541/1048576 with pixel accuracy 95.04%\n",
            "Average Dice Score: 0.9504\n",
            "Average IoU Score: 0.9054\n",
            "\n",
            "--- Epoch 56/75 ---\n"
          ]
        },
        {
          "output_type": "stream",
          "name": "stderr",
          "text": [
            "Training: 100%|██████████| 2/2 [00:04<00:00,  2.12s/it, loss=0.707]\n"
          ]
        },
        {
          "output_type": "stream",
          "name": "stdout",
          "text": [
            "Average training loss for the epoch: 0.7135286033153534\n",
            "\n",
            "--- VALIDATION METRICS ---\n"
          ]
        },
        {
          "output_type": "stream",
          "name": "stderr",
          "text": [
            "Calculating Metrics: 100%|██████████| 1/1 [00:00<00:00,  6.45it/s]\n"
          ]
        },
        {
          "output_type": "stream",
          "name": "stdout",
          "text": [
            "\n",
            "Got 988441/1048576 with pixel accuracy 94.27%\n",
            "Average Dice Score: 0.9427\n",
            "Average IoU Score: 0.8915\n",
            "\n",
            "--- Epoch 57/75 ---\n"
          ]
        },
        {
          "output_type": "stream",
          "name": "stderr",
          "text": [
            "Training: 100%|██████████| 2/2 [00:04<00:00,  2.13s/it, loss=0.707]\n"
          ]
        },
        {
          "output_type": "stream",
          "name": "stdout",
          "text": [
            "Average training loss for the epoch: 0.707312822341919\n",
            "\n",
            "--- VALIDATION METRICS ---\n"
          ]
        },
        {
          "output_type": "stream",
          "name": "stderr",
          "text": [
            "Calculating Metrics: 100%|██████████| 1/1 [00:00<00:00,  6.58it/s]\n"
          ]
        },
        {
          "output_type": "stream",
          "name": "stdout",
          "text": [
            "\n",
            "Got 995644/1048576 with pixel accuracy 94.95%\n",
            "Average Dice Score: 0.9495\n",
            "Average IoU Score: 0.9039\n",
            "\n",
            "--- Epoch 58/75 ---\n"
          ]
        },
        {
          "output_type": "stream",
          "name": "stderr",
          "text": [
            "Training: 100%|██████████| 2/2 [00:04<00:00,  2.14s/it, loss=0.7]\n"
          ]
        },
        {
          "output_type": "stream",
          "name": "stdout",
          "text": [
            "Average training loss for the epoch: 0.7008922100067139\n",
            "\n",
            "--- VALIDATION METRICS ---\n"
          ]
        },
        {
          "output_type": "stream",
          "name": "stderr",
          "text": [
            "Calculating Metrics: 100%|██████████| 1/1 [00:00<00:00,  4.66it/s]\n"
          ]
        },
        {
          "output_type": "stream",
          "name": "stdout",
          "text": [
            "\n",
            "Got 986551/1048576 with pixel accuracy 94.08%\n",
            "Average Dice Score: 0.9408\n",
            "Average IoU Score: 0.8883\n",
            "\n",
            "--- Epoch 59/75 ---\n"
          ]
        },
        {
          "output_type": "stream",
          "name": "stderr",
          "text": [
            "Training: 100%|██████████| 2/2 [00:04<00:00,  2.22s/it, loss=0.698]\n"
          ]
        },
        {
          "output_type": "stream",
          "name": "stdout",
          "text": [
            "Average training loss for the epoch: 0.6937190890312195\n",
            "\n",
            "--- VALIDATION METRICS ---\n"
          ]
        },
        {
          "output_type": "stream",
          "name": "stderr",
          "text": [
            "Calculating Metrics: 100%|██████████| 1/1 [00:00<00:00,  6.47it/s]\n"
          ]
        },
        {
          "output_type": "stream",
          "name": "stdout",
          "text": [
            "\n",
            "Got 980021/1048576 with pixel accuracy 93.46%\n",
            "Average Dice Score: 0.9346\n",
            "Average IoU Score: 0.8773\n",
            "\n",
            "--- Epoch 60/75 ---\n"
          ]
        },
        {
          "output_type": "stream",
          "name": "stderr",
          "text": [
            "Training: 100%|██████████| 2/2 [00:04<00:00,  2.13s/it, loss=0.68]\n"
          ]
        },
        {
          "output_type": "stream",
          "name": "stdout",
          "text": [
            "Average training loss for the epoch: 0.6910252571105957\n",
            "\n",
            "--- VALIDATION METRICS ---\n"
          ]
        },
        {
          "output_type": "stream",
          "name": "stderr",
          "text": [
            "Calculating Metrics: 100%|██████████| 1/1 [00:00<00:00,  6.19it/s]\n"
          ]
        },
        {
          "output_type": "stream",
          "name": "stdout",
          "text": [
            "\n",
            "Got 995330/1048576 with pixel accuracy 94.92%\n",
            "Average Dice Score: 0.9492\n",
            "Average IoU Score: 0.9033\n",
            "\n",
            "--- Epoch 61/75 ---\n"
          ]
        },
        {
          "output_type": "stream",
          "name": "stderr",
          "text": [
            "Training: 100%|██████████| 2/2 [00:04<00:00,  2.14s/it, loss=0.677]\n"
          ]
        },
        {
          "output_type": "stream",
          "name": "stdout",
          "text": [
            "Average training loss for the epoch: 0.6809307336807251\n",
            "\n",
            "--- VALIDATION METRICS ---\n"
          ]
        },
        {
          "output_type": "stream",
          "name": "stderr",
          "text": [
            "Calculating Metrics: 100%|██████████| 1/1 [00:00<00:00,  6.52it/s]\n"
          ]
        },
        {
          "output_type": "stream",
          "name": "stdout",
          "text": [
            "\n",
            "Got 992713/1048576 with pixel accuracy 94.67%\n",
            "Average Dice Score: 0.9467\n",
            "Average IoU Score: 0.8988\n",
            "\n",
            "--- Epoch 62/75 ---\n"
          ]
        },
        {
          "output_type": "stream",
          "name": "stderr",
          "text": [
            "Training: 100%|██████████| 2/2 [00:04<00:00,  2.12s/it, loss=0.68]\n"
          ]
        },
        {
          "output_type": "stream",
          "name": "stdout",
          "text": [
            "Average training loss for the epoch: 0.6776739060878754\n",
            "\n",
            "--- VALIDATION METRICS ---\n"
          ]
        },
        {
          "output_type": "stream",
          "name": "stderr",
          "text": [
            "Calculating Metrics: 100%|██████████| 1/1 [00:00<00:00,  6.42it/s]\n"
          ]
        },
        {
          "output_type": "stream",
          "name": "stdout",
          "text": [
            "\n",
            "Got 996573/1048576 with pixel accuracy 95.04%\n",
            "Average Dice Score: 0.9504\n",
            "Average IoU Score: 0.9055\n",
            "\n",
            "--- Epoch 63/75 ---\n"
          ]
        },
        {
          "output_type": "stream",
          "name": "stderr",
          "text": [
            "Training: 100%|██████████| 2/2 [00:04<00:00,  2.14s/it, loss=0.689]\n"
          ]
        },
        {
          "output_type": "stream",
          "name": "stdout",
          "text": [
            "Average training loss for the epoch: 0.6768469512462616\n",
            "\n",
            "--- VALIDATION METRICS ---\n"
          ]
        },
        {
          "output_type": "stream",
          "name": "stderr",
          "text": [
            "Calculating Metrics: 100%|██████████| 1/1 [00:00<00:00,  6.13it/s]\n"
          ]
        },
        {
          "output_type": "stream",
          "name": "stdout",
          "text": [
            "\n",
            "Got 982880/1048576 with pixel accuracy 93.73%\n",
            "Average Dice Score: 0.9373\n",
            "Average IoU Score: 0.8821\n",
            "\n",
            "--- Epoch 64/75 ---\n"
          ]
        },
        {
          "output_type": "stream",
          "name": "stderr",
          "text": [
            "Training: 100%|██████████| 2/2 [00:04<00:00,  2.18s/it, loss=0.671]\n"
          ]
        },
        {
          "output_type": "stream",
          "name": "stdout",
          "text": [
            "Average training loss for the epoch: 0.6673215627670288\n",
            "\n",
            "--- VALIDATION METRICS ---\n"
          ]
        },
        {
          "output_type": "stream",
          "name": "stderr",
          "text": [
            "Calculating Metrics: 100%|██████████| 1/1 [00:00<00:00,  5.85it/s]\n"
          ]
        },
        {
          "output_type": "stream",
          "name": "stdout",
          "text": [
            "\n",
            "Got 983007/1048576 with pixel accuracy 93.75%\n",
            "Average Dice Score: 0.9375\n",
            "Average IoU Score: 0.8823\n",
            "\n",
            "--- Epoch 65/75 ---\n"
          ]
        },
        {
          "output_type": "stream",
          "name": "stderr",
          "text": [
            "Training: 100%|██████████| 2/2 [00:04<00:00,  2.14s/it, loss=0.678]\n"
          ]
        },
        {
          "output_type": "stream",
          "name": "stdout",
          "text": [
            "Average training loss for the epoch: 0.6678766310214996\n",
            "\n",
            "--- VALIDATION METRICS ---\n"
          ]
        },
        {
          "output_type": "stream",
          "name": "stderr",
          "text": [
            "Calculating Metrics: 100%|██████████| 1/1 [00:00<00:00,  6.51it/s]\n"
          ]
        },
        {
          "output_type": "stream",
          "name": "stdout",
          "text": [
            "\n",
            "Got 976132/1048576 with pixel accuracy 93.09%\n",
            "Average Dice Score: 0.9309\n",
            "Average IoU Score: 0.8708\n",
            "\n",
            "--- Epoch 66/75 ---\n"
          ]
        },
        {
          "output_type": "stream",
          "name": "stderr",
          "text": [
            "Training: 100%|██████████| 2/2 [00:04<00:00,  2.15s/it, loss=0.661]\n"
          ]
        },
        {
          "output_type": "stream",
          "name": "stdout",
          "text": [
            "Average training loss for the epoch: 0.6616275608539581\n",
            "\n",
            "--- VALIDATION METRICS ---\n"
          ]
        },
        {
          "output_type": "stream",
          "name": "stderr",
          "text": [
            "Calculating Metrics: 100%|██████████| 1/1 [00:00<00:00,  4.68it/s]\n"
          ]
        },
        {
          "output_type": "stream",
          "name": "stdout",
          "text": [
            "\n",
            "Got 944951/1048576 with pixel accuracy 90.12%\n",
            "Average Dice Score: 0.9012\n",
            "Average IoU Score: 0.8201\n",
            "\n",
            "--- Epoch 67/75 ---\n"
          ]
        },
        {
          "output_type": "stream",
          "name": "stderr",
          "text": [
            "Training: 100%|██████████| 2/2 [00:04<00:00,  2.18s/it, loss=0.649]\n"
          ]
        },
        {
          "output_type": "stream",
          "name": "stdout",
          "text": [
            "Average training loss for the epoch: 0.6597159802913666\n",
            "\n",
            "--- VALIDATION METRICS ---\n"
          ]
        },
        {
          "output_type": "stream",
          "name": "stderr",
          "text": [
            "Calculating Metrics: 100%|██████████| 1/1 [00:00<00:00,  6.40it/s]\n"
          ]
        },
        {
          "output_type": "stream",
          "name": "stdout",
          "text": [
            "\n",
            "Got 920829/1048576 with pixel accuracy 87.82%\n",
            "Average Dice Score: 0.8782\n",
            "Average IoU Score: 0.7828\n",
            "\n",
            "--- Epoch 68/75 ---\n"
          ]
        },
        {
          "output_type": "stream",
          "name": "stderr",
          "text": [
            "Training: 100%|██████████| 2/2 [00:04<00:00,  2.13s/it, loss=0.669]\n"
          ]
        },
        {
          "output_type": "stream",
          "name": "stdout",
          "text": [
            "Average training loss for the epoch: 0.6707005202770233\n",
            "\n",
            "--- VALIDATION METRICS ---\n"
          ]
        },
        {
          "output_type": "stream",
          "name": "stderr",
          "text": [
            "Calculating Metrics: 100%|██████████| 1/1 [00:00<00:00,  6.29it/s]\n"
          ]
        },
        {
          "output_type": "stream",
          "name": "stdout",
          "text": [
            "\n",
            "Got 968055/1048576 with pixel accuracy 92.32%\n",
            "Average Dice Score: 0.9232\n",
            "Average IoU Score: 0.8574\n",
            "\n",
            "--- Epoch 69/75 ---\n"
          ]
        },
        {
          "output_type": "stream",
          "name": "stderr",
          "text": [
            "Training: 100%|██████████| 2/2 [00:04<00:00,  2.16s/it, loss=0.664]\n"
          ]
        },
        {
          "output_type": "stream",
          "name": "stdout",
          "text": [
            "Average training loss for the epoch: 0.6562227010726929\n",
            "\n",
            "--- VALIDATION METRICS ---\n"
          ]
        },
        {
          "output_type": "stream",
          "name": "stderr",
          "text": [
            "Calculating Metrics: 100%|██████████| 1/1 [00:00<00:00,  4.68it/s]\n"
          ]
        },
        {
          "output_type": "stream",
          "name": "stdout",
          "text": [
            "\n",
            "Got 980077/1048576 with pixel accuracy 93.47%\n",
            "Average Dice Score: 0.9347\n",
            "Average IoU Score: 0.8774\n",
            "\n",
            "--- Epoch 70/75 ---\n"
          ]
        },
        {
          "output_type": "stream",
          "name": "stderr",
          "text": [
            "Training: 100%|██████████| 2/2 [00:04<00:00,  2.20s/it, loss=0.655]\n"
          ]
        },
        {
          "output_type": "stream",
          "name": "stdout",
          "text": [
            "Average training loss for the epoch: 0.6610531508922577\n",
            "\n",
            "--- VALIDATION METRICS ---\n"
          ]
        },
        {
          "output_type": "stream",
          "name": "stderr",
          "text": [
            "Calculating Metrics: 100%|██████████| 1/1 [00:00<00:00,  6.24it/s]\n"
          ]
        },
        {
          "output_type": "stream",
          "name": "stdout",
          "text": [
            "\n",
            "Got 976591/1048576 with pixel accuracy 93.13%\n",
            "Average Dice Score: 0.9313\n",
            "Average IoU Score: 0.8715\n",
            "\n",
            "--- Epoch 71/75 ---\n"
          ]
        },
        {
          "output_type": "stream",
          "name": "stderr",
          "text": [
            "Training: 100%|██████████| 2/2 [00:04<00:00,  2.14s/it, loss=0.661]\n"
          ]
        },
        {
          "output_type": "stream",
          "name": "stdout",
          "text": [
            "Average training loss for the epoch: 0.6556475758552551\n",
            "\n",
            "--- VALIDATION METRICS ---\n"
          ]
        },
        {
          "output_type": "stream",
          "name": "stderr",
          "text": [
            "Calculating Metrics: 100%|██████████| 1/1 [00:00<00:00,  6.50it/s]\n"
          ]
        },
        {
          "output_type": "stream",
          "name": "stdout",
          "text": [
            "\n",
            "Got 991288/1048576 with pixel accuracy 94.54%\n",
            "Average Dice Score: 0.9454\n",
            "Average IoU Score: 0.8964\n",
            "\n",
            "--- Epoch 72/75 ---\n"
          ]
        },
        {
          "output_type": "stream",
          "name": "stderr",
          "text": [
            "Training: 100%|██████████| 2/2 [00:04<00:00,  2.14s/it, loss=0.64]\n"
          ]
        },
        {
          "output_type": "stream",
          "name": "stdout",
          "text": [
            "Average training loss for the epoch: 0.6423728168010712\n",
            "\n",
            "--- VALIDATION METRICS ---\n"
          ]
        },
        {
          "output_type": "stream",
          "name": "stderr",
          "text": [
            "Calculating Metrics: 100%|██████████| 1/1 [00:00<00:00,  6.30it/s]\n"
          ]
        },
        {
          "output_type": "stream",
          "name": "stdout",
          "text": [
            "\n",
            "Got 975192/1048576 with pixel accuracy 93.00%\n",
            "Average Dice Score: 0.9300\n",
            "Average IoU Score: 0.8692\n",
            "\n",
            "--- Epoch 73/75 ---\n"
          ]
        },
        {
          "output_type": "stream",
          "name": "stderr",
          "text": [
            "Training: 100%|██████████| 2/2 [00:04<00:00,  2.14s/it, loss=0.633]\n"
          ]
        },
        {
          "output_type": "stream",
          "name": "stdout",
          "text": [
            "Average training loss for the epoch: 0.6382293701171875\n",
            "\n",
            "--- VALIDATION METRICS ---\n"
          ]
        },
        {
          "output_type": "stream",
          "name": "stderr",
          "text": [
            "Calculating Metrics: 100%|██████████| 1/1 [00:00<00:00,  6.25it/s]\n"
          ]
        },
        {
          "output_type": "stream",
          "name": "stdout",
          "text": [
            "\n",
            "Got 985213/1048576 with pixel accuracy 93.96%\n",
            "Average Dice Score: 0.9396\n",
            "Average IoU Score: 0.8860\n",
            "\n",
            "--- Epoch 74/75 ---\n"
          ]
        },
        {
          "output_type": "stream",
          "name": "stderr",
          "text": [
            "Training: 100%|██████████| 2/2 [00:04<00:00,  2.14s/it, loss=0.629]\n"
          ]
        },
        {
          "output_type": "stream",
          "name": "stdout",
          "text": [
            "Average training loss for the epoch: 0.6300176978111267\n",
            "\n",
            "--- VALIDATION METRICS ---\n"
          ]
        },
        {
          "output_type": "stream",
          "name": "stderr",
          "text": [
            "Calculating Metrics: 100%|██████████| 1/1 [00:00<00:00,  5.89it/s]\n"
          ]
        },
        {
          "output_type": "stream",
          "name": "stdout",
          "text": [
            "\n",
            "Got 969946/1048576 with pixel accuracy 92.50%\n",
            "Average Dice Score: 0.9250\n",
            "Average IoU Score: 0.8605\n",
            "\n",
            "--- Epoch 75/75 ---\n"
          ]
        },
        {
          "output_type": "stream",
          "name": "stderr",
          "text": [
            "Training: 100%|██████████| 2/2 [00:04<00:00,  2.14s/it, loss=0.622]\n"
          ]
        },
        {
          "output_type": "stream",
          "name": "stdout",
          "text": [
            "Average training loss for the epoch: 0.6274814605712891\n",
            "\n",
            "--- VALIDATION METRICS ---\n"
          ]
        },
        {
          "output_type": "stream",
          "name": "stderr",
          "text": [
            "Calculating Metrics: 100%|██████████| 1/1 [00:00<00:00,  6.56it/s]\n"
          ]
        },
        {
          "output_type": "stream",
          "name": "stdout",
          "text": [
            "\n",
            "Got 995141/1048576 with pixel accuracy 94.90%\n",
            "Average Dice Score: 0.9490\n",
            "Average IoU Score: 0.9030\n",
            "\n",
            "Training finished!\n"
          ]
        },
        {
          "output_type": "display_data",
          "data": {
            "text/plain": [
              "<Figure size 1500x500 with 3 Axes>"
            ],
            "image/png": "[encoded data removed]"
          },
          "metadata": {}
        },
        {
          "output_type": "stream",
          "name": "stdout",
          "text": [
            "\n",
            "Final Metrics:\n",
            "Final Training Loss: 0.6275\n",
            "Final Pixel Accuracy: 94.90%\n",
            "Final Dice Score: 0.9490\n",
            "Final IoU Score: 0.9030\n",
            "\n",
            "Model saved to /content/drive/MyDrive/oct_major_project/unet_retina_segmentation.pth\n"
          ]
        }
      ]
    },
    {
      "cell_type": "markdown",
      "source": [
        "\n",
        "TRAINING FUNTION"
      ],
      "metadata": {
        "id": "2XIWo38_o78M"
      }
    },
    {
      "cell_type": "code",
      "source": [
        "\n",
        "import cv2\n",
        "import torch\n",
        "import numpy as np\n",
        "import matplotlib.pyplot as plt\n",
        "\n",
        "def predict_on_single_image(model, image_path, device):\n",
        "    \"\"\"\n",
        "    Loads a single image, preprocesses it, runs it through the model,\n",
        "    and visualizes the original image and the predicted mask.\n",
        "    \"\"\"\n",
        "\n",
        "    model.eval()\n",
        "\n",
        "\n",
        "    image = cv2.imread(image_path, cv2.IMREAD_GRAYSCALE)\n",
        "    if image is None:\n",
        "        print(f\"Error: Could not load image at {image_path}\")\n",
        "        return\n",
        "\n",
        "\n",
        "    original_shape = image.shape\n",
        "    image_resized = cv2.resize(image, (512, 512))\n",
        "\n",
        "    image_normalized = image_resized.astype(np.float32) / 255.0\n",
        "    image_processed = np.expand_dims(image_normalized, axis=0)\n",
        "\n",
        "    input_tensor = torch.from_numpy(image_processed).unsqueeze(0).to(device)\n",
        "\n",
        "\n",
        "    with torch.no_grad():\n",
        "        output = model(input_tensor)\n",
        "        predicted_mask = torch.argmax(output, dim=1).squeeze().cpu().numpy()\n",
        "\n",
        "\n",
        "    print(f\"Original image shape: {original_shape}\")\n",
        "    print(f\"Resized to: {image_resized.shape}\")\n",
        "\n",
        "    fig, ax = plt.subplots(1, 2, figsize=(12, 6))\n",
        "\n",
        "    ax[0].imshow(image_resized, cmap='gray')\n",
        "    ax[0].set_title(\"Input Image (Resized)\")\n",
        "    ax[0].axis('off')\n",
        "\n",
        "    ax[1].imshow(predicted_mask, cmap='viridis')\n",
        "    ax[1].set_title(\"Predicted Segmentation\")\n",
        "    ax[1].axis('off')\n",
        "\n",
        "    plt.show()\n",
        "\n",
        "\n",
        "\n",
        "\n",
        "\n",
        "MODEL_SAVE_PATH = os.path.join(PROJECT_FOLDER_IN_DRIVE, \"unet_retina_segmentation.pth\")\n",
        "print(f\"Loading model with {NUM_CLASSES} output classes...\")\n",
        "model = UNet(in_channels=1, out_channels=NUM_CLASSES)\n",
        "model.load_state_dict(torch.load(MODEL_SAVE_PATH, map_location=DEVICE))\n",
        "model.to(DEVICE)\n",
        "print(\"Model loaded and ready for prediction.\")\n",
        "\n",
        "\n",
        "\n",
        "uploaded_image_path = '/content/drive/MyDrive/oct_major_project/NORMAL 2.v1i.coco-segmentation/train/NORMAL-266557-2_jpeg.rf.f9bef8a6442528dd660fe9b96ebadc6b.jpg'\n",
        "\n",
        "\n",
        "predict_on_single_image(model, uploaded_image_path, DEVICE)"
      ],
      "metadata": {
        "id": "UPTWLEsboVLi",
        "colab": {
          "base_uri": "https://localhost:8080/",
          "height": 551
        },
        "outputId": "6ac9fc99-8aaf-4869-f69b-69318001c198"
      },
      "execution_count": 13,
      "outputs": [
        {
          "output_type": "stream",
          "name": "stdout",
          "text": [
            "Loading model with 9 output classes...\n",
            "Model loaded and ready for prediction.\n",
            "Original image shape: (512, 512)\n",
            "Resized to: (512, 512)\n"
          ]
        },
        {
          "output_type": "display_data",
          "data": {
            "text/plain": [
              "<Figure size 1200x600 with 2 Axes>"
            ],
            "image/png": "[encoded data removed]"
          },
          "metadata": {}
        }
      ]
    },
    {
      "cell_type": "code",
      "source": [],
      "metadata": {
        "id": "JrpxsMIJ0AZz"
      },
      "execution_count": 13,
      "outputs": []
    }
  ]
}