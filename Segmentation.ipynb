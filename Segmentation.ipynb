{
  "nbformat": 4,
  "nbformat_minor": 0,
  "metadata": {
    "colab": {
      "provenance": [],
      "gpuType": "T4",
      "authorship_tag": "ABX9TyPXu40ME5NgsvjCgaQAWA91"
    },
    "kernelspec": {
      "name": "python3",
      "display_name": "Python 3"
    },
    "language_info": {
      "name": "python"
    },
    "accelerator": "GPU"
  },
  "cells": [
    {
      "cell_type": "code",
      "execution_count": 1,
      "metadata": {
        "colab": {
          "base_uri": "https://localhost:8080/"
        },
        "id": "l-Y7umpx8_rX",
        "outputId": "6afef30c-2b4f-496f-a344-56d90528579f"
      },
      "outputs": [
        {
          "output_type": "stream",
          "name": "stdout",
          "text": [
            "Mounted at /content/drive\n",
            "Requirement already satisfied: pycocotools in /usr/local/lib/python3.12/dist-packages (2.0.10)\n",
            "Requirement already satisfied: numpy in /usr/local/lib/python3.12/dist-packages (from pycocotools) (2.0.2)\n"
          ]
        }
      ],
      "source": [
        "from google.colab import drive\n",
        "drive.mount('/content/drive')\n",
        "\n",
        "!pip install pycocotools"
      ]
    },
    {
      "cell_type": "code",
      "source": [
        "!pip install -U albumentations"
      ],
      "metadata": {
        "colab": {
          "base_uri": "https://localhost:8080/"
        },
        "id": "a2IqeCxEwwWq",
        "outputId": "0c444be4-2101-4503-9a29-5e35a76df3a7"
      },
      "execution_count": 2,
      "outputs": [
        {
          "output_type": "stream",
          "name": "stdout",
          "text": [
            "Requirement already satisfied: albumentations in /usr/local/lib/python3.12/dist-packages (2.0.8)\n",
            "Requirement already satisfied: numpy>=1.24.4 in /usr/local/lib/python3.12/dist-packages (from albumentations) (2.0.2)\n",
            "Requirement already satisfied: scipy>=1.10.0 in /usr/local/lib/python3.12/dist-packages (from albumentations) (1.16.1)\n",
            "Requirement already satisfied: PyYAML in /usr/local/lib/python3.12/dist-packages (from albumentations) (6.0.2)\n",
            "Requirement already satisfied: pydantic>=2.9.2 in /usr/local/lib/python3.12/dist-packages (from albumentations) (2.11.7)\n",
            "Requirement already satisfied: albucore==0.0.24 in /usr/local/lib/python3.12/dist-packages (from albumentations) (0.0.24)\n",
            "Requirement already satisfied: opencv-python-headless>=4.9.0.80 in /usr/local/lib/python3.12/dist-packages (from albumentations) (4.12.0.88)\n",
            "Requirement already satisfied: stringzilla>=3.10.4 in /usr/local/lib/python3.12/dist-packages (from albucore==0.0.24->albumentations) (3.12.6)\n",
            "Requirement already satisfied: simsimd>=5.9.2 in /usr/local/lib/python3.12/dist-packages (from albucore==0.0.24->albumentations) (6.5.1)\n",
            "Requirement already satisfied: annotated-types>=0.6.0 in /usr/local/lib/python3.12/dist-packages (from pydantic>=2.9.2->albumentations) (0.7.0)\n",
            "Requirement already satisfied: pydantic-core==2.33.2 in /usr/local/lib/python3.12/dist-packages (from pydantic>=2.9.2->albumentations) (2.33.2)\n",
            "Requirement already satisfied: typing-extensions>=4.12.2 in /usr/local/lib/python3.12/dist-packages (from pydantic>=2.9.2->albumentations) (4.15.0)\n",
            "Requirement already satisfied: typing-inspection>=0.4.0 in /usr/local/lib/python3.12/dist-packages (from pydantic>=2.9.2->albumentations) (0.4.1)\n"
          ]
        }
      ]
    },
    {
      "cell_type": "markdown",
      "source": [
        "IMPORT AND CONFIGURATION"
      ],
      "metadata": {
        "id": "PsAY8mOBeTZK"
      }
    },
    {
      "cell_type": "code",
      "source": [
        "import json\n",
        "import os\n",
        "\n",
        "print(\"--- Starting COCO JSON Merge Script ---\")\n",
        "\n",
        "normal_json_path = '/content/drive/MyDrive/oct_major_project/NORMAL 2.v1i.coco-segmentation/train/_annotations.coco.json'\n",
        "drusen_json_path = '/content/drive/MyDrive/oct_major_project/drusen 2.v1i.coco-segmentation/train/_annotations.coco.json'\n",
        "\n",
        "\n",
        "output_json_path = '/content/drive/MyDrive/oct_major_project/combined_data/_merged_annotations.coco.json'\n",
        "\n",
        "\n",
        "print(f\"Loading NORMAL annotations from: {normal_json_path}\")\n",
        "with open(normal_json_path, 'r') as f:\n",
        "    normal_data = json.load(f)\n",
        "\n",
        "print(f\"Loading DRUSEN annotations from: {drusen_json_path}\")\n",
        "with open(drusen_json_path, 'r') as f:\n",
        "    drusen_data = json.load(f)\n",
        "\n",
        "\n",
        "merged_data = {\n",
        "    \"info\": drusen_data['info'],\n",
        "    \"licenses\": drusen_data['licenses'],\n",
        "    \"categories\": [],\n",
        "    \"images\": [],\n",
        "    \"annotations\": []\n",
        "}\n",
        "merged_data['info']['description'] = \"Merged NORMAL and DRUSEN datasets.\"\n",
        "\n",
        "\n",
        "category_map = {}\n",
        "for cat in drusen_data['categories'] + normal_data['categories']:\n",
        "    cat_id = cat['id']\n",
        "    if cat_id not in category_map:\n",
        "        category_map[cat_id] = cat\n",
        "merged_data['categories'] = list(category_map.values())\n",
        "print(f\"Total unique categories found: {len(merged_data['categories'])}\")\n",
        "\n",
        "\n",
        "image_id_offset = 0\n",
        "ann_id_offset = 0\n",
        "\n",
        "\n",
        "print(\"Processing NORMAL dataset...\")\n",
        "normal_image_id_map = {}\n",
        "for img in normal_data['images']:\n",
        "    old_id = img['id']\n",
        "    new_id = old_id + image_id_offset\n",
        "    normal_image_id_map[old_id] = new_id\n",
        "    img['id'] = new_id\n",
        "    merged_data['images'].append(img)\n",
        "\n",
        "for ann in normal_data['annotations']:\n",
        "    ann['id'] += ann_id_offset\n",
        "    ann['image_id'] = normal_image_id_map[ann['image_id']]\n",
        "    merged_data['annotations'].append(ann)\n",
        "\n",
        "image_id_offset = len(merged_data['images'])\n",
        "ann_id_offset = len(merged_data['annotations'])\n",
        "\n",
        "\n",
        "print(\"Processing DRUSEN dataset...\")\n",
        "drusen_image_id_map = {}\n",
        "for img in drusen_data['images']:\n",
        "    old_id = img['id']\n",
        "    new_id = old_id + image_id_offset\n",
        "    drusen_image_id_map[old_id] = new_id\n",
        "    img['id'] = new_id\n",
        "    merged_data['images'].append(img)\n",
        "\n",
        "for ann in drusen_data['annotations']:\n",
        "    ann['id'] += ann_id_offset\n",
        "    ann['image_id'] = drusen_image_id_map[ann['image_id']]\n",
        "    merged_data['annotations'].append(ann)\n",
        "\n",
        "print(f\"\\nTotal images in merged dataset: {len(merged_data['images'])}\")\n",
        "print(f\"Total annotations in merged dataset: {len(merged_data['annotations'])}\")\n",
        "\n",
        "\n",
        "print(f\"Saving merged annotations to: {output_json_path}\")\n",
        "with open(output_json_path, 'w') as f:\n",
        "    json.dump(merged_data, f, indent=4)\n",
        "\n",
        "print(\"\\n--- Merge Complete! ---\")"
      ],
      "metadata": {
        "id": "9R58rCXpHFma",
        "outputId": "6a418ecf-e661-4c33-ae8e-85fee0b0db1d",
        "colab": {
          "base_uri": "https://localhost:8080/"
        }
      },
      "execution_count": 3,
      "outputs": [
        {
          "output_type": "stream",
          "name": "stdout",
          "text": [
            "--- Starting COCO JSON Merge Script ---\n",
            "Loading NORMAL annotations from: /content/drive/MyDrive/oct_major_project/NORMAL 2.v1i.coco-segmentation/train/_annotations.coco.json\n",
            "Loading DRUSEN annotations from: /content/drive/MyDrive/oct_major_project/drusen 2.v1i.coco-segmentation/train/_annotations.coco.json\n",
            "Total unique categories found: 11\n",
            "Processing NORMAL dataset...\n",
            "Processing DRUSEN dataset...\n",
            "\n",
            "Total images in merged dataset: 39\n",
            "Total annotations in merged dataset: 502\n",
            "Saving merged annotations to: /content/drive/MyDrive/oct_major_project/combined_data/_merged_annotations.coco.json\n",
            "\n",
            "--- Merge Complete! ---\n"
          ]
        }
      ]
    },
    {
      "cell_type": "code",
      "source": [
        "import torch\n",
        "import torch.nn as nn\n",
        "import torch.optim as optim\n",
        "from torch.utils.data import Dataset,DataLoader\n",
        "import os\n",
        "import cv2\n",
        "import numpy as np\n",
        "from tqdm import tqdm\n",
        "from pycocotools.coco import COCO\n",
        "import json\n",
        "from google.colab import drive\n",
        "drive.mount('/content/drive')\n",
        "PROJECT_FOLDER_IN_DRIVE='/content/drive/MyDrive/oct_major_project/'\n",
        "UPLOADED_DATA_FOLDER='NORMAL 2.v1i.coco-segmentation'\n",
        "DATA_DIR=os.path.join(PROJECT_FOLDER_IN_DRIVE,UPLOADED_DATA_FOLDER,'train/')\n",
        "JSON_PATH = os.path.join(PROJECT_FOLDER_IN_DRIVE, 'combined_data', '_merged_annotations.coco.json')\n",
        "IMAGE_DIR = os.path.join(PROJECT_FOLDER_IN_DRIVE, 'combined_data', 'images/')\n",
        "MASK_SAVE_DIR = os.path.join(PROJECT_FOLDER_IN_DRIVE, 'combined_data', 'masks/')\n",
        "os.makedirs(MASK_SAVE_DIR,exist_ok=True)\n",
        "DEVICE= \"cuda\" if torch.cuda.is_available() else \"cpu\"\n",
        "print(f\"Using device : {DEVICE}\")\n",
        "LEARNING_RATE= 1e-4\n",
        "BATCH_SIZE= 4\n",
        "NUM_EPOCHS=75\n",
        "NUM_CLASSES=11"
      ],
      "metadata": {
        "colab": {
          "base_uri": "https://localhost:8080/"
        },
        "id": "-MErr1n1B0qE",
        "outputId": "6f42b159-b113-45dc-a503-6f2a9fbaad1c"
      },
      "execution_count": 4,
      "outputs": [
        {
          "output_type": "stream",
          "name": "stdout",
          "text": [
            "Drive already mounted at /content/drive; to attempt to forcibly remount, call drive.mount(\"/content/drive\", force_remount=True).\n",
            "Using device : cuda\n"
          ]
        }
      ]
    },
    {
      "cell_type": "markdown",
      "source": [
        "GROUND TRUTH MASK GENERATION"
      ],
      "metadata": {
        "id": "9xhiYEpbe15g"
      }
    },
    {
      "cell_type": "code",
      "source": [
        "print(\"Loading coco json for segmentation\")\n",
        "coco=COCO(JSON_PATH)\n",
        "img_ids= coco.getImgIds()\n",
        "images=coco.loadImgs(img_ids)\n",
        "print(f\"Found {len(images)} images. startring mask generation\")\n",
        "for img_info in tqdm(images,desc=\"Gnerating maks\"):\n",
        "  img_id=img_info['id']\n",
        "  img_file_name=img_info['file_name']\n",
        "  img_height=img_info['height']\n",
        "  img_width=img_info['width']\n",
        "  mask=np.zeros((img_height,img_width),dtype=np.uint8)\n",
        "  ann_ids= coco.getAnnIds(imgIds=img_id)\n",
        "  anns=coco.loadAnns(ann_ids)\n",
        "  for ann in anns:\n",
        "    category_id=ann['category_id']\n",
        "    for seg in ann['segmentation']:\n",
        "      poly=np.array(seg,dtype=np.int32).reshape((-1,1,2))\n",
        "      cv2.fillPoly(mask,[poly],color=(category_id))\n",
        "  base_name=img_file_name.split('.')[0]\n",
        "  mask_file_name=f\"{base_name}.png\"\n",
        "  save_path=os.path.join(MASK_SAVE_DIR,mask_file_name)\n",
        "  cv2.imwrite(save_path,mask)\n",
        "print(f\"Mask generation complete! the images are saved in{MASK_SAVE_DIR}\")"
      ],
      "metadata": {
        "colab": {
          "base_uri": "https://localhost:8080/"
        },
        "id": "LO_VAbnPbL5-",
        "outputId": "98849b5b-a5ae-4d35-beb8-74c5e9ef8603"
      },
      "execution_count": 5,
      "outputs": [
        {
          "output_type": "stream",
          "name": "stdout",
          "text": [
            "Loading coco json for segmentation\n",
            "loading annotations into memory...\n",
            "Done (t=0.02s)\n",
            "creating index...\n",
            "index created!\n",
            "Found 39 images. startring mask generation\n"
          ]
        },
        {
          "output_type": "stream",
          "name": "stderr",
          "text": [
            "Gnerating maks: 100%|██████████| 39/39 [00:22<00:00,  1.74it/s]"
          ]
        },
        {
          "output_type": "stream",
          "name": "stdout",
          "text": [
            "Mask generation complete! the images are saved in/content/drive/MyDrive/oct_major_project/combined_data/masks/\n"
          ]
        },
        {
          "output_type": "stream",
          "name": "stderr",
          "text": [
            "\n"
          ]
        }
      ]
    },
    {
      "cell_type": "markdown",
      "source": [
        "UNET MODEL DEFENITION"
      ],
      "metadata": {
        "id": "FDpGdsURozN_"
      }
    },
    {
      "cell_type": "code",
      "source": [
        "class DoubleConv(nn.Module):\n",
        "    def __init__(self, in_channels, out_channels):\n",
        "        super(DoubleConv, self).__init__()\n",
        "        self.conv = nn.Sequential(\n",
        "            nn.Conv2d(in_channels, out_channels, 3, 1, 1, bias=False),\n",
        "            nn.BatchNorm2d(out_channels),\n",
        "            nn.ReLU(inplace=True),\n",
        "            nn.Conv2d(out_channels, out_channels, 3, 1, 1, bias=False),\n",
        "            nn.BatchNorm2d(out_channels),\n",
        "            nn.ReLU(inplace=True),\n",
        "        )\n",
        "    def forward(self, x):\n",
        "        return self.conv(x)\n",
        "\n",
        "class UNet(nn.Module):\n",
        "    def __init__(self, in_channels=1, out_channels=NUM_CLASSES, features=[64, 128, 256, 512]):\n",
        "        super(UNet, self).__init__()\n",
        "        self.ups = nn.ModuleList()\n",
        "        self.downs = nn.ModuleList()\n",
        "        self.pool = nn.MaxPool2d(kernel_size=2, stride=2)\n",
        "\n",
        "        for feature in features:\n",
        "            self.downs.append(DoubleConv(in_channels, feature))\n",
        "            in_channels = feature\n",
        "\n",
        "        for feature in reversed(features):\n",
        "            self.ups.append(nn.ConvTranspose2d(feature*2, feature, kernel_size=2, stride=2))\n",
        "            self.ups.append(DoubleConv(feature*2, feature))\n",
        "\n",
        "        self.bottleneck = DoubleConv(features[-1], features[-1]*2)\n",
        "        self.final_conv = nn.Conv2d(features[0], out_channels, kernel_size=1)\n",
        "\n",
        "    def forward(self, x):\n",
        "        skip_connections = []\n",
        "        for down in self.downs:\n",
        "            x = down(x)\n",
        "            skip_connections.append(x)\n",
        "            x = self.pool(x)\n",
        "        x = self.bottleneck(x)\n",
        "        skip_connections = skip_connections[::-1]\n",
        "        for idx in range(0, len(self.ups), 2):\n",
        "            x = self.ups[idx](x)\n",
        "            skip_connection = skip_connections[idx//2]\n",
        "            if x.shape != skip_connection.shape:\n",
        "                x = torch.nn.functional.interpolate(x, size=skip_connection.shape[2:])\n",
        "            concat_skip = torch.cat((skip_connection, x), dim=1)\n",
        "            x = self.ups[idx+1](concat_skip)\n",
        "        return self.final_conv(x)\n",
        "\n",
        "print(\"U-Net model class defined.\")"
      ],
      "metadata": {
        "colab": {
          "base_uri": "https://localhost:8080/"
        },
        "id": "Gn6B4rvWkVgr",
        "outputId": "112e4b3c-8106-4290-b84a-64822447619d"
      },
      "execution_count": 6,
      "outputs": [
        {
          "output_type": "stream",
          "name": "stdout",
          "text": [
            "U-Net model class defined.\n"
          ]
        }
      ]
    },
    {
      "cell_type": "markdown",
      "source": [
        "CUSTOM DATASET CLASS"
      ],
      "metadata": {
        "id": "7QsnOEF2o4RM"
      }
    },
    {
      "cell_type": "code",
      "source": [
        "import albumentations as A\n",
        "from albumentations.pytorch import ToTensorV2\n",
        "\n",
        "class RetinaDataset(Dataset):\n",
        "    def __init__(self, image_dir, mask_dir, transform=None):\n",
        "        self.image_dir = image_dir\n",
        "        self.mask_dir = mask_dir\n",
        "        self.images = sorted([f for f in os.listdir(image_dir) if f.endswith('.jpg')])\n",
        "        self.transform = transform\n",
        "\n",
        "    def __len__(self):\n",
        "        return len(self.images)\n",
        "\n",
        "    def __getitem__(self, index):\n",
        "        img_file = self.images[index]\n",
        "        mask_file = img_file.split('.')[0] + '.png'\n",
        "\n",
        "        img_path = os.path.join(self.image_dir, img_file)\n",
        "        mask_path = os.path.join(self.mask_dir, mask_file)\n",
        "\n",
        "        image = cv2.imread(img_path, cv2.IMREAD_GRAYSCALE)\n",
        "        mask = cv2.imread(mask_path, cv2.IMREAD_GRAYSCALE)\n",
        "\n",
        "        if self.transform is not None:\n",
        "\n",
        "            augmented = self.transform(image=image, mask=mask)\n",
        "            image = augmented['image']\n",
        "            mask = augmented['mask'].long()\n",
        "\n",
        "\n",
        "        return image, mask\n",
        "\n",
        "\n",
        "train_transform = A.Compose(\n",
        "    [\n",
        "        A.Resize(height=512, width=512),\n",
        "        A.HorizontalFlip(p=0.5),\n",
        "        A.RandomBrightnessContrast(p=0.3),\n",
        "\n",
        "\n",
        "        A.GaussianBlur(p=0.2),\n",
        "        A.GaussNoise(p=0.2),\n",
        "\n",
        "\n",
        "        A.Normalize(mean=[0.0], std=[1.0]),\n",
        "        ToTensorV2(),\n",
        "    ]\n",
        ")\n",
        "\n",
        "\n",
        "val_transform = A.Compose(\n",
        "    [\n",
        "        A.Resize(height=512, width=512),\n",
        "        A.Normalize(mean=[0.0], std=[1.0]),\n",
        "        ToTensorV2(),\n",
        "    ]\n",
        ")\n",
        "\n",
        "print(\"Augmentation transforms updated with noise and blur.\")"
      ],
      "metadata": {
        "id": "2tLbPhuhoLsC",
        "outputId": "c76fff06-4a8a-4c9f-89bf-b224159723b7",
        "colab": {
          "base_uri": "https://localhost:8080/"
        }
      },
      "execution_count": 16,
      "outputs": [
        {
          "output_type": "stream",
          "name": "stdout",
          "text": [
            "Augmentation transforms updated with noise and blur.\n"
          ]
        }
      ]
    },
    {
      "cell_type": "code",
      "source": [
        "from torch.utils.data import random_split, Subset, DataLoader\n",
        "\n",
        "\n",
        "full_dataset_for_split = RetinaDataset(image_dir=IMAGE_DIR, mask_dir=MASK_SAVE_DIR)\n",
        "\n",
        "\n",
        "train_size = int(0.8 * len(full_dataset_for_split))\n",
        "val_size = len(full_dataset_for_split) - train_size\n",
        "indices = list(range(len(full_dataset_for_split)))\n",
        "train_indices, val_indices = random_split(indices, [train_size, val_size])\n",
        "\n",
        "print(f\"Full dataset size: {len(full_dataset_for_split)}\")\n",
        "print(f\"Training indices: {len(train_indices)}\")\n",
        "print(f\"Validation indices: {len(val_indices)}\")\n",
        "\n",
        "\n",
        "train_dataset_with_transform = RetinaDataset(\n",
        "    image_dir=IMAGE_DIR,\n",
        "    mask_dir=MASK_SAVE_DIR,\n",
        "    transform=train_transform\n",
        ")\n",
        "val_dataset_with_transform = RetinaDataset(\n",
        "    image_dir=IMAGE_DIR,\n",
        "    mask_dir=MASK_SAVE_DIR,\n",
        "    transform=val_transform\n",
        ")\n",
        "\n",
        "\n",
        "train_subset = Subset(train_dataset_with_transform, train_indices)\n",
        "val_subset = Subset(val_dataset_with_transform, val_indices)\n",
        "\n",
        "print(\"\\nTraining and validation subsets created.\")"
      ],
      "metadata": {
        "id": "AjhwlLiFPo54",
        "outputId": "27c41437-2267-41f3-d284-18219003897f",
        "colab": {
          "base_uri": "https://localhost:8080/"
        }
      },
      "execution_count": 17,
      "outputs": [
        {
          "output_type": "stream",
          "name": "stdout",
          "text": [
            "Full dataset size: 39\n",
            "Training indices: 31\n",
            "Validation indices: 8\n",
            "\n",
            "Training and validation subsets created.\n"
          ]
        }
      ]
    },
    {
      "cell_type": "code",
      "source": [
        "import torch\n",
        "\n",
        "print(\"Calculating class weights from the training set...\")\n",
        "\n",
        "\n",
        "num_classes = 11\n",
        "pixel_counts = torch.zeros(num_classes, dtype=torch.long)\n",
        "\n",
        "\n",
        "temp_loader = DataLoader(\n",
        "    train_subset,\n",
        "    batch_size=4,\n",
        "    shuffle=False,\n",
        "    num_workers=2\n",
        ")\n",
        "\n",
        "for _, masks in tqdm(temp_loader, desc=\"Counting pixels per class\"):\n",
        "    for i in range(num_classes):\n",
        "        pixel_counts[i] += (masks == i).sum()\n",
        "\n",
        "print(\"\\nTotal pixels per class in the training set:\")\n",
        "for i in range(num_classes):\n",
        "    print(f\"Class {i}: {pixel_counts[i].item()} pixels\")\n",
        "\n",
        "\n",
        "epsilon = 1e-6\n",
        "weights = 1.0 / (pixel_counts.float() + 1e-6)\n",
        "\n",
        "\n",
        "weights = weights / weights.sum()\n",
        "\n",
        "\n",
        "class_weights = weights.to(DEVICE)\n",
        "\n",
        "print(\"\\nCalculated Class Weights (normalized):\")\n",
        "print(class_weights)"
      ],
      "metadata": {
        "id": "9J49evVsOuuR",
        "outputId": "0d266899-cb6c-44d5-bbaa-fa4541994cd7",
        "colab": {
          "base_uri": "https://localhost:8080/"
        }
      },
      "execution_count": 24,
      "outputs": [
        {
          "output_type": "stream",
          "name": "stdout",
          "text": [
            "Calculating class weights from the training set...\n"
          ]
        },
        {
          "output_type": "stream",
          "name": "stderr",
          "text": [
            "Counting pixels per class: 100%|██████████| 8/8 [00:00<00:00, 11.99it/s]\n"
          ]
        },
        {
          "output_type": "stream",
          "name": "stdout",
          "text": [
            "\n",
            "Total pixels per class in the training set:\n",
            "Class 0: 6837309 pixels\n",
            "Class 1: 111358 pixels\n",
            "Class 2: 147446 pixels\n",
            "Class 3: 126225 pixels\n",
            "Class 4: 161112 pixels\n",
            "Class 5: 105997 pixels\n",
            "Class 6: 235779 pixels\n",
            "Class 7: 211965 pixels\n",
            "Class 8: 21008 pixels\n",
            "Class 9: 46546 pixels\n",
            "Class 10: 121719 pixels\n",
            "\n",
            "Calculated Class Weights (normalized):\n",
            "tensor([0.0683, 0.0925, 0.0904, 0.0916, 0.0897, 0.0929, 0.0869, 0.0877, 0.1081,\n",
            "        0.1001, 0.0918], device='cuda:0')\n"
          ]
        }
      ]
    },
    {
      "cell_type": "markdown",
      "source": [
        "TRAINING FUNTION"
      ],
      "metadata": {
        "id": "2XIWo38_o78M"
      }
    },
    {
      "cell_type": "code",
      "source": [
        "def train_fn(loader, model, optimizer, loss_fn):\n",
        "    loop = tqdm(loader, desc=\"Training\")\n",
        "    total_loss = 0.0\n",
        "\n",
        "    model.train()\n",
        "\n",
        "    for batch_idx, (data, targets) in enumerate(loop):\n",
        "        data, targets = data.to(device=DEVICE), targets.to(device=DEVICE)\n",
        "\n",
        "        predictions = model(data)\n",
        "        loss = loss_fn(predictions, targets)\n",
        "\n",
        "        optimizer.zero_grad()\n",
        "        loss.backward()\n",
        "        optimizer.step()\n",
        "\n",
        "        total_loss += loss.item()\n",
        "        loop.set_postfix(loss=loss.item())\n",
        "\n",
        "    print(f\"Average training loss for the epoch: {total_loss / len(loader)}\")\n",
        "\n",
        "print(\"Training function defined.\")\n"
      ],
      "metadata": {
        "colab": {
          "base_uri": "https://localhost:8080/"
        },
        "id": "UPTWLEsboVLi",
        "outputId": "3cdb4f27-9084-4aee-d1af-57927b43831d"
      },
      "execution_count": 25,
      "outputs": [
        {
          "output_type": "stream",
          "name": "stdout",
          "text": [
            "Training function defined.\n"
          ]
        }
      ]
    },
    {
      "cell_type": "markdown",
      "source": [
        "TRAINING"
      ],
      "metadata": {
        "id": "yr-8QPLzo_C3"
      }
    },
    {
      "cell_type": "code",
      "source": [
        "def check_metrics(loader, model, device=\"cuda\"):\n",
        "    \"\"\"\n",
        "    Calculates and prints Pixel Accuracy, Dice Score, and IoU Score for a given dataset.\n",
        "    \"\"\"\n",
        "    num_correct = 0\n",
        "    num_pixels = 0\n",
        "    dice_score = 0\n",
        "    iou_score = 0\n",
        "\n",
        "\n",
        "    model.eval()\n",
        "\n",
        "    with torch.no_grad():\n",
        "        for x, y in tqdm(loader, desc=\"Calculating Metrics\"):\n",
        "            x = x.to(device)\n",
        "            y = y.to(device)\n",
        "\n",
        "            preds = model(x)\n",
        "            preds = torch.argmax(preds, dim=1)\n",
        "\n",
        "\n",
        "            num_correct += (preds == y).sum()\n",
        "            num_pixels += torch.numel(preds)\n",
        "\n",
        "            y_one_hot = torch.nn.functional.one_hot(y, num_classes=model.final_conv.out_channels).permute(0, 3, 1, 2)\n",
        "            preds_one_hot = torch.nn.functional.one_hot(preds, num_classes=model.final_conv.out_channels).permute(0, 3, 1, 2)\n",
        "            intersection = (preds_one_hot * y_one_hot).float().sum()\n",
        "\n",
        "\n",
        "            union = preds_one_hot.float().sum() + y_one_hot.float().sum()\n",
        "\n",
        "\n",
        "            dice_score += (2. * intersection) / (union + 1e-8) # 1e-8 to avoid division by zero\n",
        "\n",
        "\n",
        "            iou_score += intersection / (union - intersection + 1e-8)\n",
        "\n",
        "\n",
        "    pixel_acc = (num_correct/num_pixels)*100\n",
        "    avg_dice = (dice_score/len(loader))\n",
        "    avg_iou = (iou_score/len(loader))\n",
        "\n",
        "    print(f\"\\nGot {num_correct}/{num_pixels} with pixel accuracy {pixel_acc:.2f}%\")\n",
        "    print(f\"Average Dice Score: {avg_dice:.4f}\")\n",
        "    print(f\"Average IoU Score: {avg_iou:.4f}\")\n",
        "\n",
        "\n",
        "    model.train()\n",
        "\n",
        "    return pixel_acc, avg_dice, avg_iou"
      ],
      "metadata": {
        "id": "DxipnjHKtLRj"
      },
      "execution_count": 26,
      "outputs": []
    },
    {
      "cell_type": "code",
      "source": [
        "\n",
        "model = UNet(in_channels=1, out_channels=NUM_CLASSES).to(DEVICE)\n",
        "loss_fn = nn.CrossEntropyLoss(weight=class_weights)\n",
        "\n",
        "print(\"Loss function updated with class weights.\")\n",
        "optimizer = optim.Adam(model.parameters(), lr=LEARNING_RATE)\n",
        "\n",
        "\n",
        "from torch.utils.data import random_split, Subset\n",
        "\n",
        "\n",
        "full_dataset_for_split = RetinaDataset(image_dir=IMAGE_DIR, mask_dir=MASK_SAVE_DIR)\n",
        "\n",
        "\n",
        "train_size = int(0.8 * len(full_dataset_for_split))\n",
        "val_size = len(full_dataset_for_split) - train_size\n",
        "indices = list(range(len(full_dataset_for_split)))\n",
        "train_indices, val_indices = random_split(indices, [train_size, val_size])\n",
        "\n",
        "print(f\"Full dataset size: {len(full_dataset_for_split)}\")\n",
        "print(f\"Training indices: {len(train_indices)}\")\n",
        "print(f\"Validation indices: {len(val_indices)}\")\n",
        "\n",
        "\n",
        "\n",
        "train_dataset_with_transform = RetinaDataset(\n",
        "    image_dir=IMAGE_DIR,\n",
        "    mask_dir=MASK_SAVE_DIR,\n",
        "    transform=train_transform\n",
        ")\n",
        "\n",
        "\n",
        "val_dataset_with_transform = RetinaDataset(\n",
        "    image_dir=IMAGE_DIR,\n",
        "    mask_dir=MASK_SAVE_DIR,\n",
        "    transform=val_transform\n",
        ")\n",
        "\n",
        "\n",
        "\n",
        "train_subset = Subset(train_dataset_with_transform, train_indices)\n",
        "val_subset = Subset(val_dataset_with_transform, val_indices)\n",
        "\n",
        "\n",
        "train_loader = DataLoader(\n",
        "    train_subset,\n",
        "    batch_size=BATCH_SIZE,\n",
        "    shuffle=True,\n",
        "    num_workers=2,\n",
        "    pin_memory=True\n",
        ")\n",
        "\n",
        "val_loader = DataLoader(\n",
        "    val_subset,\n",
        "    batch_size=BATCH_SIZE,\n",
        "    shuffle=False,\n",
        "    num_workers=2,\n",
        "    pin_memory=True\n",
        ")\n",
        "\n",
        "print(\"\\nDatasets and DataLoaders created successfully with augmentations for the training set.\")\n",
        "\n",
        "\n",
        "\n",
        "for epoch in range(NUM_EPOCHS):\n",
        "    print(f\"\\n--- Epoch {epoch+1}/{NUM_EPOCHS} ---\")\n",
        "    train_fn(train_loader, model, optimizer, loss_fn)\n",
        "    print(\"\\n--- VALIDATION METRICS ---\")\n",
        "    check_metrics(val_loader, model, device=DEVICE)\n",
        "\n",
        "print(\"\\nTraining finished!\")\n",
        "\n",
        "print(\"\\n--- FINAL VALIDATION METRICS ---\")\n",
        "check_metrics(val_loader, model, device=DEVICE)\n",
        "\n",
        "\n",
        "MODEL_SAVE_PATH = os.path.join(PROJECT_FOLDER_IN_DRIVE, \"unet_retina_segmentation.pth\")\n",
        "torch.save(model.state_dict(), MODEL_SAVE_PATH)\n",
        "print(f\"Model saved to {MODEL_SAVE_PATH}\")"
      ],
      "metadata": {
        "colab": {
          "base_uri": "https://localhost:8080/"
        },
        "id": "Alxp6jD4oYzT",
        "outputId": "834d70fb-ec79-488e-ce4d-11d05194b3f3"
      },
      "execution_count": 27,
      "outputs": [
        {
          "output_type": "stream",
          "name": "stdout",
          "text": [
            "Loss function updated with class weights.\n",
            "Full dataset size: 39\n",
            "Training indices: 31\n",
            "Validation indices: 8\n",
            "\n",
            "Datasets and DataLoaders created successfully with augmentations for the training set.\n",
            "\n",
            "--- Epoch 1/75 ---\n"
          ]
        },
        {
          "output_type": "stream",
          "name": "stderr",
          "text": [
            "Training: 100%|██████████| 8/8 [00:07<00:00,  1.07it/s, loss=2.16]\n"
          ]
        },
        {
          "output_type": "stream",
          "name": "stdout",
          "text": [
            "Average training loss for the epoch: 2.269997775554657\n",
            "\n",
            "--- VALIDATION METRICS ---\n"
          ]
        },
        {
          "output_type": "stream",
          "name": "stderr",
          "text": [
            "Calculating Metrics: 100%|██████████| 2/2 [00:00<00:00,  3.12it/s]\n"
          ]
        },
        {
          "output_type": "stream",
          "name": "stdout",
          "text": [
            "\n",
            "Got 3376/2097152 with pixel accuracy 0.16%\n",
            "Average Dice Score: 0.0016\n",
            "Average IoU Score: 0.0008\n",
            "\n",
            "--- Epoch 2/75 ---\n"
          ]
        },
        {
          "output_type": "stream",
          "name": "stderr",
          "text": [
            "Training: 100%|██████████| 8/8 [00:07<00:00,  1.05it/s, loss=1.98]\n"
          ]
        },
        {
          "output_type": "stream",
          "name": "stdout",
          "text": [
            "Average training loss for the epoch: 2.048452228307724\n",
            "\n",
            "--- VALIDATION METRICS ---\n"
          ]
        },
        {
          "output_type": "stream",
          "name": "stderr",
          "text": [
            "Calculating Metrics: 100%|██████████| 2/2 [00:00<00:00,  3.97it/s]\n"
          ]
        },
        {
          "output_type": "stream",
          "name": "stdout",
          "text": [
            "\n",
            "Got 9068/2097152 with pixel accuracy 0.43%\n",
            "Average Dice Score: 0.0043\n",
            "Average IoU Score: 0.0022\n",
            "\n",
            "--- Epoch 3/75 ---\n"
          ]
        },
        {
          "output_type": "stream",
          "name": "stderr",
          "text": [
            "Training: 100%|██████████| 8/8 [00:07<00:00,  1.05it/s, loss=1.8]\n"
          ]
        },
        {
          "output_type": "stream",
          "name": "stdout",
          "text": [
            "Average training loss for the epoch: 1.8502220213413239\n",
            "\n",
            "--- VALIDATION METRICS ---\n"
          ]
        },
        {
          "output_type": "stream",
          "name": "stderr",
          "text": [
            "Calculating Metrics: 100%|██████████| 2/2 [00:00<00:00,  3.93it/s]\n"
          ]
        },
        {
          "output_type": "stream",
          "name": "stdout",
          "text": [
            "\n",
            "Got 973590/2097152 with pixel accuracy 46.42%\n",
            "Average Dice Score: 0.4642\n",
            "Average IoU Score: 0.3032\n",
            "\n",
            "--- Epoch 4/75 ---\n"
          ]
        },
        {
          "output_type": "stream",
          "name": "stderr",
          "text": [
            "Training: 100%|██████████| 8/8 [00:07<00:00,  1.07it/s, loss=1.7]\n"
          ]
        },
        {
          "output_type": "stream",
          "name": "stdout",
          "text": [
            "Average training loss for the epoch: 1.7148009836673737\n",
            "\n",
            "--- VALIDATION METRICS ---\n"
          ]
        },
        {
          "output_type": "stream",
          "name": "stderr",
          "text": [
            "Calculating Metrics: 100%|██████████| 2/2 [00:00<00:00,  4.05it/s]\n"
          ]
        },
        {
          "output_type": "stream",
          "name": "stdout",
          "text": [
            "\n",
            "Got 1504298/2097152 with pixel accuracy 71.73%\n",
            "Average Dice Score: 0.7173\n",
            "Average IoU Score: 0.5593\n",
            "\n",
            "--- Epoch 5/75 ---\n"
          ]
        },
        {
          "output_type": "stream",
          "name": "stderr",
          "text": [
            "Training: 100%|██████████| 8/8 [00:07<00:00,  1.07it/s, loss=1.58]\n"
          ]
        },
        {
          "output_type": "stream",
          "name": "stdout",
          "text": [
            "Average training loss for the epoch: 1.6125123649835587\n",
            "\n",
            "--- VALIDATION METRICS ---\n"
          ]
        },
        {
          "output_type": "stream",
          "name": "stderr",
          "text": [
            "Calculating Metrics: 100%|██████████| 2/2 [00:00<00:00,  4.00it/s]\n"
          ]
        },
        {
          "output_type": "stream",
          "name": "stdout",
          "text": [
            "\n",
            "Got 1670180/2097152 with pixel accuracy 79.64%\n",
            "Average Dice Score: 0.7964\n",
            "Average IoU Score: 0.6617\n",
            "\n",
            "--- Epoch 6/75 ---\n"
          ]
        },
        {
          "output_type": "stream",
          "name": "stderr",
          "text": [
            "Training: 100%|██████████| 8/8 [00:07<00:00,  1.09it/s, loss=1.53]\n"
          ]
        },
        {
          "output_type": "stream",
          "name": "stdout",
          "text": [
            "Average training loss for the epoch: 1.5482355952262878\n",
            "\n",
            "--- VALIDATION METRICS ---\n"
          ]
        },
        {
          "output_type": "stream",
          "name": "stderr",
          "text": [
            "Calculating Metrics: 100%|██████████| 2/2 [00:00<00:00,  3.35it/s]\n"
          ]
        },
        {
          "output_type": "stream",
          "name": "stdout",
          "text": [
            "\n",
            "Got 1762177/2097152 with pixel accuracy 84.03%\n",
            "Average Dice Score: 0.8403\n",
            "Average IoU Score: 0.7246\n",
            "\n",
            "--- Epoch 7/75 ---\n"
          ]
        },
        {
          "output_type": "stream",
          "name": "stderr",
          "text": [
            "Training: 100%|██████████| 8/8 [00:07<00:00,  1.11it/s, loss=1.51]\n"
          ]
        },
        {
          "output_type": "stream",
          "name": "stdout",
          "text": [
            "Average training loss for the epoch: 1.4935185313224792\n",
            "\n",
            "--- VALIDATION METRICS ---\n"
          ]
        },
        {
          "output_type": "stream",
          "name": "stderr",
          "text": [
            "Calculating Metrics: 100%|██████████| 2/2 [00:00<00:00,  3.98it/s]\n"
          ]
        },
        {
          "output_type": "stream",
          "name": "stdout",
          "text": [
            "\n",
            "Got 1783342/2097152 with pixel accuracy 85.04%\n",
            "Average Dice Score: 0.8504\n",
            "Average IoU Score: 0.7397\n",
            "\n",
            "--- Epoch 8/75 ---\n"
          ]
        },
        {
          "output_type": "stream",
          "name": "stderr",
          "text": [
            "Training: 100%|██████████| 8/8 [00:07<00:00,  1.11it/s, loss=1.46]\n"
          ]
        },
        {
          "output_type": "stream",
          "name": "stdout",
          "text": [
            "Average training loss for the epoch: 1.4434861689805984\n",
            "\n",
            "--- VALIDATION METRICS ---\n"
          ]
        },
        {
          "output_type": "stream",
          "name": "stderr",
          "text": [
            "Calculating Metrics: 100%|██████████| 2/2 [00:00<00:00,  4.05it/s]\n"
          ]
        },
        {
          "output_type": "stream",
          "name": "stdout",
          "text": [
            "\n",
            "Got 1805725/2097152 with pixel accuracy 86.10%\n",
            "Average Dice Score: 0.8610\n",
            "Average IoU Score: 0.7560\n",
            "\n",
            "--- Epoch 9/75 ---\n"
          ]
        },
        {
          "output_type": "stream",
          "name": "stderr",
          "text": [
            "Training: 100%|██████████| 8/8 [00:07<00:00,  1.10it/s, loss=1.4]\n"
          ]
        },
        {
          "output_type": "stream",
          "name": "stdout",
          "text": [
            "Average training loss for the epoch: 1.389396756887436\n",
            "\n",
            "--- VALIDATION METRICS ---\n"
          ]
        },
        {
          "output_type": "stream",
          "name": "stderr",
          "text": [
            "Calculating Metrics: 100%|██████████| 2/2 [00:00<00:00,  3.32it/s]\n"
          ]
        },
        {
          "output_type": "stream",
          "name": "stdout",
          "text": [
            "\n",
            "Got 1818342/2097152 with pixel accuracy 86.71%\n",
            "Average Dice Score: 0.8671\n",
            "Average IoU Score: 0.7653\n",
            "\n",
            "--- Epoch 10/75 ---\n"
          ]
        },
        {
          "output_type": "stream",
          "name": "stderr",
          "text": [
            "Training: 100%|██████████| 8/8 [00:07<00:00,  1.09it/s, loss=1.38]\n"
          ]
        },
        {
          "output_type": "stream",
          "name": "stdout",
          "text": [
            "Average training loss for the epoch: 1.3551939874887466\n",
            "\n",
            "--- VALIDATION METRICS ---\n"
          ]
        },
        {
          "output_type": "stream",
          "name": "stderr",
          "text": [
            "Calculating Metrics: 100%|██████████| 2/2 [00:00<00:00,  4.01it/s]\n"
          ]
        },
        {
          "output_type": "stream",
          "name": "stdout",
          "text": [
            "\n",
            "Got 1819831/2097152 with pixel accuracy 86.78%\n",
            "Average Dice Score: 0.8678\n",
            "Average IoU Score: 0.7665\n",
            "\n",
            "--- Epoch 11/75 ---\n"
          ]
        },
        {
          "output_type": "stream",
          "name": "stderr",
          "text": [
            "Training: 100%|██████████| 8/8 [00:07<00:00,  1.10it/s, loss=1.29]\n"
          ]
        },
        {
          "output_type": "stream",
          "name": "stdout",
          "text": [
            "Average training loss for the epoch: 1.3129991739988327\n",
            "\n",
            "--- VALIDATION METRICS ---\n"
          ]
        },
        {
          "output_type": "stream",
          "name": "stderr",
          "text": [
            "Calculating Metrics: 100%|██████████| 2/2 [00:00<00:00,  3.87it/s]\n"
          ]
        },
        {
          "output_type": "stream",
          "name": "stdout",
          "text": [
            "\n",
            "Got 1804591/2097152 with pixel accuracy 86.05%\n",
            "Average Dice Score: 0.8605\n",
            "Average IoU Score: 0.7552\n",
            "\n",
            "--- Epoch 12/75 ---\n"
          ]
        },
        {
          "output_type": "stream",
          "name": "stderr",
          "text": [
            "Training: 100%|██████████| 8/8 [00:07<00:00,  1.09it/s, loss=1.29]\n"
          ]
        },
        {
          "output_type": "stream",
          "name": "stdout",
          "text": [
            "Average training loss for the epoch: 1.2786170691251755\n",
            "\n",
            "--- VALIDATION METRICS ---\n"
          ]
        },
        {
          "output_type": "stream",
          "name": "stderr",
          "text": [
            "Calculating Metrics: 100%|██████████| 2/2 [00:00<00:00,  3.95it/s]\n"
          ]
        },
        {
          "output_type": "stream",
          "name": "stdout",
          "text": [
            "\n",
            "Got 1816570/2097152 with pixel accuracy 86.62%\n",
            "Average Dice Score: 0.8662\n",
            "Average IoU Score: 0.7642\n",
            "\n",
            "--- Epoch 13/75 ---\n"
          ]
        },
        {
          "output_type": "stream",
          "name": "stderr",
          "text": [
            "Training: 100%|██████████| 8/8 [00:07<00:00,  1.09it/s, loss=1.25]\n"
          ]
        },
        {
          "output_type": "stream",
          "name": "stdout",
          "text": [
            "Average training loss for the epoch: 1.2543920874595642\n",
            "\n",
            "--- VALIDATION METRICS ---\n"
          ]
        },
        {
          "output_type": "stream",
          "name": "stderr",
          "text": [
            "Calculating Metrics: 100%|██████████| 2/2 [00:00<00:00,  4.00it/s]\n"
          ]
        },
        {
          "output_type": "stream",
          "name": "stdout",
          "text": [
            "\n",
            "Got 1833354/2097152 with pixel accuracy 87.42%\n",
            "Average Dice Score: 0.8742\n",
            "Average IoU Score: 0.7766\n",
            "\n",
            "--- Epoch 14/75 ---\n"
          ]
        },
        {
          "output_type": "stream",
          "name": "stderr",
          "text": [
            "Training: 100%|██████████| 8/8 [00:07<00:00,  1.08it/s, loss=1.23]\n"
          ]
        },
        {
          "output_type": "stream",
          "name": "stdout",
          "text": [
            "Average training loss for the epoch: 1.2162130028009415\n",
            "\n",
            "--- VALIDATION METRICS ---\n"
          ]
        },
        {
          "output_type": "stream",
          "name": "stderr",
          "text": [
            "Calculating Metrics: 100%|██████████| 2/2 [00:00<00:00,  3.30it/s]\n"
          ]
        },
        {
          "output_type": "stream",
          "name": "stdout",
          "text": [
            "\n",
            "Got 1823044/2097152 with pixel accuracy 86.93%\n",
            "Average Dice Score: 0.8693\n",
            "Average IoU Score: 0.7691\n",
            "\n",
            "--- Epoch 15/75 ---\n"
          ]
        },
        {
          "output_type": "stream",
          "name": "stderr",
          "text": [
            "Training: 100%|██████████| 8/8 [00:07<00:00,  1.07it/s, loss=1.16]\n"
          ]
        },
        {
          "output_type": "stream",
          "name": "stdout",
          "text": [
            "Average training loss for the epoch: 1.1821071207523346\n",
            "\n",
            "--- VALIDATION METRICS ---\n"
          ]
        },
        {
          "output_type": "stream",
          "name": "stderr",
          "text": [
            "Calculating Metrics: 100%|██████████| 2/2 [00:00<00:00,  3.92it/s]\n"
          ]
        },
        {
          "output_type": "stream",
          "name": "stdout",
          "text": [
            "\n",
            "Got 1823715/2097152 with pixel accuracy 86.96%\n",
            "Average Dice Score: 0.8696\n",
            "Average IoU Score: 0.7697\n",
            "\n",
            "--- Epoch 16/75 ---\n"
          ]
        },
        {
          "output_type": "stream",
          "name": "stderr",
          "text": [
            "Training: 100%|██████████| 8/8 [00:07<00:00,  1.09it/s, loss=1.13]\n"
          ]
        },
        {
          "output_type": "stream",
          "name": "stdout",
          "text": [
            "Average training loss for the epoch: 1.1571498066186905\n",
            "\n",
            "--- VALIDATION METRICS ---\n"
          ]
        },
        {
          "output_type": "stream",
          "name": "stderr",
          "text": [
            "Calculating Metrics: 100%|██████████| 2/2 [00:00<00:00,  3.97it/s]\n"
          ]
        },
        {
          "output_type": "stream",
          "name": "stdout",
          "text": [
            "\n",
            "Got 1826590/2097152 with pixel accuracy 87.10%\n",
            "Average Dice Score: 0.8710\n",
            "Average IoU Score: 0.7717\n",
            "\n",
            "--- Epoch 17/75 ---\n"
          ]
        },
        {
          "output_type": "stream",
          "name": "stderr",
          "text": [
            "Training: 100%|██████████| 8/8 [00:07<00:00,  1.09it/s, loss=1.12]\n"
          ]
        },
        {
          "output_type": "stream",
          "name": "stdout",
          "text": [
            "Average training loss for the epoch: 1.1275734156370163\n",
            "\n",
            "--- VALIDATION METRICS ---\n"
          ]
        },
        {
          "output_type": "stream",
          "name": "stderr",
          "text": [
            "Calculating Metrics: 100%|██████████| 2/2 [00:00<00:00,  3.13it/s]\n"
          ]
        },
        {
          "output_type": "stream",
          "name": "stdout",
          "text": [
            "\n",
            "Got 1836950/2097152 with pixel accuracy 87.59%\n",
            "Average Dice Score: 0.8759\n",
            "Average IoU Score: 0.7795\n",
            "\n",
            "--- Epoch 18/75 ---\n"
          ]
        },
        {
          "output_type": "stream",
          "name": "stderr",
          "text": [
            "Training: 100%|██████████| 8/8 [00:07<00:00,  1.08it/s, loss=1.07]\n"
          ]
        },
        {
          "output_type": "stream",
          "name": "stdout",
          "text": [
            "Average training loss for the epoch: 1.0996680408716202\n",
            "\n",
            "--- VALIDATION METRICS ---\n"
          ]
        },
        {
          "output_type": "stream",
          "name": "stderr",
          "text": [
            "Calculating Metrics: 100%|██████████| 2/2 [00:00<00:00,  3.85it/s]\n"
          ]
        },
        {
          "output_type": "stream",
          "name": "stdout",
          "text": [
            "\n",
            "Got 1805317/2097152 with pixel accuracy 86.08%\n",
            "Average Dice Score: 0.8608\n",
            "Average IoU Score: 0.7561\n",
            "\n",
            "--- Epoch 19/75 ---\n"
          ]
        },
        {
          "output_type": "stream",
          "name": "stderr",
          "text": [
            "Training: 100%|██████████| 8/8 [00:07<00:00,  1.10it/s, loss=1.03]\n"
          ]
        },
        {
          "output_type": "stream",
          "name": "stdout",
          "text": [
            "Average training loss for the epoch: 1.0773308277130127\n",
            "\n",
            "--- VALIDATION METRICS ---\n"
          ]
        },
        {
          "output_type": "stream",
          "name": "stderr",
          "text": [
            "Calculating Metrics: 100%|██████████| 2/2 [00:00<00:00,  3.93it/s]\n"
          ]
        },
        {
          "output_type": "stream",
          "name": "stdout",
          "text": [
            "\n",
            "Got 1811525/2097152 with pixel accuracy 86.38%\n",
            "Average Dice Score: 0.8638\n",
            "Average IoU Score: 0.7610\n",
            "\n",
            "--- Epoch 20/75 ---\n"
          ]
        },
        {
          "output_type": "stream",
          "name": "stderr",
          "text": [
            "Training: 100%|██████████| 8/8 [00:07<00:00,  1.10it/s, loss=1.03]\n"
          ]
        },
        {
          "output_type": "stream",
          "name": "stdout",
          "text": [
            "Average training loss for the epoch: 1.0505684912204742\n",
            "\n",
            "--- VALIDATION METRICS ---\n"
          ]
        },
        {
          "output_type": "stream",
          "name": "stderr",
          "text": [
            "Calculating Metrics: 100%|██████████| 2/2 [00:00<00:00,  3.92it/s]\n"
          ]
        },
        {
          "output_type": "stream",
          "name": "stdout",
          "text": [
            "\n",
            "Got 1847815/2097152 with pixel accuracy 88.11%\n",
            "Average Dice Score: 0.8811\n",
            "Average IoU Score: 0.7877\n",
            "\n",
            "--- Epoch 21/75 ---\n"
          ]
        },
        {
          "output_type": "stream",
          "name": "stderr",
          "text": [
            "Training: 100%|██████████| 8/8 [00:07<00:00,  1.10it/s, loss=1.02]\n"
          ]
        },
        {
          "output_type": "stream",
          "name": "stdout",
          "text": [
            "Average training loss for the epoch: 1.0271709859371185\n",
            "\n",
            "--- VALIDATION METRICS ---\n"
          ]
        },
        {
          "output_type": "stream",
          "name": "stderr",
          "text": [
            "Calculating Metrics: 100%|██████████| 2/2 [00:00<00:00,  3.89it/s]\n"
          ]
        },
        {
          "output_type": "stream",
          "name": "stdout",
          "text": [
            "\n",
            "Got 1857923/2097152 with pixel accuracy 88.59%\n",
            "Average Dice Score: 0.8859\n",
            "Average IoU Score: 0.7954\n",
            "\n",
            "--- Epoch 22/75 ---\n"
          ]
        },
        {
          "output_type": "stream",
          "name": "stderr",
          "text": [
            "Training: 100%|██████████| 8/8 [00:07<00:00,  1.09it/s, loss=0.984]\n"
          ]
        },
        {
          "output_type": "stream",
          "name": "stdout",
          "text": [
            "Average training loss for the epoch: 1.0021825283765793\n",
            "\n",
            "--- VALIDATION METRICS ---\n"
          ]
        },
        {
          "output_type": "stream",
          "name": "stderr",
          "text": [
            "Calculating Metrics: 100%|██████████| 2/2 [00:00<00:00,  3.14it/s]\n"
          ]
        },
        {
          "output_type": "stream",
          "name": "stdout",
          "text": [
            "\n",
            "Got 1864607/2097152 with pixel accuracy 88.91%\n",
            "Average Dice Score: 0.8891\n",
            "Average IoU Score: 0.8005\n",
            "\n",
            "--- Epoch 23/75 ---\n"
          ]
        },
        {
          "output_type": "stream",
          "name": "stderr",
          "text": [
            "Training: 100%|██████████| 8/8 [00:07<00:00,  1.08it/s, loss=0.975]\n"
          ]
        },
        {
          "output_type": "stream",
          "name": "stdout",
          "text": [
            "Average training loss for the epoch: 0.9792947024106979\n",
            "\n",
            "--- VALIDATION METRICS ---\n"
          ]
        },
        {
          "output_type": "stream",
          "name": "stderr",
          "text": [
            "Calculating Metrics: 100%|██████████| 2/2 [00:00<00:00,  3.74it/s]\n"
          ]
        },
        {
          "output_type": "stream",
          "name": "stdout",
          "text": [
            "\n",
            "Got 1839397/2097152 with pixel accuracy 87.71%\n",
            "Average Dice Score: 0.8771\n",
            "Average IoU Score: 0.7813\n",
            "\n",
            "--- Epoch 24/75 ---\n"
          ]
        },
        {
          "output_type": "stream",
          "name": "stderr",
          "text": [
            "Training: 100%|██████████| 8/8 [00:07<00:00,  1.10it/s, loss=0.944]\n"
          ]
        },
        {
          "output_type": "stream",
          "name": "stdout",
          "text": [
            "Average training loss for the epoch: 0.9660428464412689\n",
            "\n",
            "--- VALIDATION METRICS ---\n"
          ]
        },
        {
          "output_type": "stream",
          "name": "stderr",
          "text": [
            "Calculating Metrics: 100%|██████████| 2/2 [00:00<00:00,  3.87it/s]\n"
          ]
        },
        {
          "output_type": "stream",
          "name": "stdout",
          "text": [
            "\n",
            "Got 1847667/2097152 with pixel accuracy 88.10%\n",
            "Average Dice Score: 0.8810\n",
            "Average IoU Score: 0.7874\n",
            "\n",
            "--- Epoch 25/75 ---\n"
          ]
        },
        {
          "output_type": "stream",
          "name": "stderr",
          "text": [
            "Training: 100%|██████████| 8/8 [00:07<00:00,  1.10it/s, loss=0.956]\n"
          ]
        },
        {
          "output_type": "stream",
          "name": "stdout",
          "text": [
            "Average training loss for the epoch: 0.9424940422177315\n",
            "\n",
            "--- VALIDATION METRICS ---\n"
          ]
        },
        {
          "output_type": "stream",
          "name": "stderr",
          "text": [
            "Calculating Metrics: 100%|██████████| 2/2 [00:00<00:00,  3.88it/s]\n"
          ]
        },
        {
          "output_type": "stream",
          "name": "stdout",
          "text": [
            "\n",
            "Got 1853379/2097152 with pixel accuracy 88.38%\n",
            "Average Dice Score: 0.8838\n",
            "Average IoU Score: 0.7920\n",
            "\n",
            "--- Epoch 26/75 ---\n"
          ]
        },
        {
          "output_type": "stream",
          "name": "stderr",
          "text": [
            "Training: 100%|██████████| 8/8 [00:07<00:00,  1.07it/s, loss=0.921]\n"
          ]
        },
        {
          "output_type": "stream",
          "name": "stdout",
          "text": [
            "Average training loss for the epoch: 0.9147784113883972\n",
            "\n",
            "--- VALIDATION METRICS ---\n"
          ]
        },
        {
          "output_type": "stream",
          "name": "stderr",
          "text": [
            "Calculating Metrics: 100%|██████████| 2/2 [00:00<00:00,  3.77it/s]\n"
          ]
        },
        {
          "output_type": "stream",
          "name": "stdout",
          "text": [
            "\n",
            "Got 1861474/2097152 with pixel accuracy 88.76%\n",
            "Average Dice Score: 0.8876\n",
            "Average IoU Score: 0.7982\n",
            "\n",
            "--- Epoch 27/75 ---\n"
          ]
        },
        {
          "output_type": "stream",
          "name": "stderr",
          "text": [
            "Training: 100%|██████████| 8/8 [00:07<00:00,  1.10it/s, loss=0.865]\n"
          ]
        },
        {
          "output_type": "stream",
          "name": "stdout",
          "text": [
            "Average training loss for the epoch: 0.8951544687151909\n",
            "\n",
            "--- VALIDATION METRICS ---\n"
          ]
        },
        {
          "output_type": "stream",
          "name": "stderr",
          "text": [
            "Calculating Metrics: 100%|██████████| 2/2 [00:00<00:00,  3.99it/s]\n"
          ]
        },
        {
          "output_type": "stream",
          "name": "stdout",
          "text": [
            "\n",
            "Got 1848647/2097152 with pixel accuracy 88.15%\n",
            "Average Dice Score: 0.8815\n",
            "Average IoU Score: 0.7886\n",
            "\n",
            "--- Epoch 28/75 ---\n"
          ]
        },
        {
          "output_type": "stream",
          "name": "stderr",
          "text": [
            "Training: 100%|██████████| 8/8 [00:07<00:00,  1.09it/s, loss=0.878]\n"
          ]
        },
        {
          "output_type": "stream",
          "name": "stdout",
          "text": [
            "Average training loss for the epoch: 0.8837996944785118\n",
            "\n",
            "--- VALIDATION METRICS ---\n"
          ]
        },
        {
          "output_type": "stream",
          "name": "stderr",
          "text": [
            "Calculating Metrics: 100%|██████████| 2/2 [00:00<00:00,  4.04it/s]\n"
          ]
        },
        {
          "output_type": "stream",
          "name": "stdout",
          "text": [
            "\n",
            "Got 1847545/2097152 with pixel accuracy 88.10%\n",
            "Average Dice Score: 0.8810\n",
            "Average IoU Score: 0.7876\n",
            "\n",
            "--- Epoch 29/75 ---\n"
          ]
        },
        {
          "output_type": "stream",
          "name": "stderr",
          "text": [
            "Training: 100%|██████████| 8/8 [00:07<00:00,  1.09it/s, loss=0.877]\n"
          ]
        },
        {
          "output_type": "stream",
          "name": "stdout",
          "text": [
            "Average training loss for the epoch: 0.8693358600139618\n",
            "\n",
            "--- VALIDATION METRICS ---\n"
          ]
        },
        {
          "output_type": "stream",
          "name": "stderr",
          "text": [
            "Calculating Metrics: 100%|██████████| 2/2 [00:00<00:00,  4.00it/s]\n"
          ]
        },
        {
          "output_type": "stream",
          "name": "stdout",
          "text": [
            "\n",
            "Got 1825049/2097152 with pixel accuracy 87.03%\n",
            "Average Dice Score: 0.8703\n",
            "Average IoU Score: 0.7706\n",
            "\n",
            "--- Epoch 30/75 ---\n"
          ]
        },
        {
          "output_type": "stream",
          "name": "stderr",
          "text": [
            "Training: 100%|██████████| 8/8 [00:07<00:00,  1.09it/s, loss=0.837]\n"
          ]
        },
        {
          "output_type": "stream",
          "name": "stdout",
          "text": [
            "Average training loss for the epoch: 0.8499276041984558\n",
            "\n",
            "--- VALIDATION METRICS ---\n"
          ]
        },
        {
          "output_type": "stream",
          "name": "stderr",
          "text": [
            "Calculating Metrics: 100%|██████████| 2/2 [00:00<00:00,  3.28it/s]\n"
          ]
        },
        {
          "output_type": "stream",
          "name": "stdout",
          "text": [
            "\n",
            "Got 1854405/2097152 with pixel accuracy 88.42%\n",
            "Average Dice Score: 0.8842\n",
            "Average IoU Score: 0.7926\n",
            "\n",
            "--- Epoch 31/75 ---\n"
          ]
        },
        {
          "output_type": "stream",
          "name": "stderr",
          "text": [
            "Training: 100%|██████████| 8/8 [00:07<00:00,  1.08it/s, loss=0.823]\n"
          ]
        },
        {
          "output_type": "stream",
          "name": "stdout",
          "text": [
            "Average training loss for the epoch: 0.8380327373743057\n",
            "\n",
            "--- VALIDATION METRICS ---\n"
          ]
        },
        {
          "output_type": "stream",
          "name": "stderr",
          "text": [
            "Calculating Metrics: 100%|██████████| 2/2 [00:00<00:00,  3.93it/s]\n"
          ]
        },
        {
          "output_type": "stream",
          "name": "stdout",
          "text": [
            "\n",
            "Got 1844719/2097152 with pixel accuracy 87.96%\n",
            "Average Dice Score: 0.8796\n",
            "Average IoU Score: 0.7853\n",
            "\n",
            "--- Epoch 32/75 ---\n"
          ]
        },
        {
          "output_type": "stream",
          "name": "stderr",
          "text": [
            "Training: 100%|██████████| 8/8 [00:07<00:00,  1.09it/s, loss=0.814]\n"
          ]
        },
        {
          "output_type": "stream",
          "name": "stdout",
          "text": [
            "Average training loss for the epoch: 0.8290865421295166\n",
            "\n",
            "--- VALIDATION METRICS ---\n"
          ]
        },
        {
          "output_type": "stream",
          "name": "stderr",
          "text": [
            "Calculating Metrics: 100%|██████████| 2/2 [00:00<00:00,  3.98it/s]\n"
          ]
        },
        {
          "output_type": "stream",
          "name": "stdout",
          "text": [
            "\n",
            "Got 1849852/2097152 with pixel accuracy 88.21%\n",
            "Average Dice Score: 0.8821\n",
            "Average IoU Score: 0.7895\n",
            "\n",
            "--- Epoch 33/75 ---\n"
          ]
        },
        {
          "output_type": "stream",
          "name": "stderr",
          "text": [
            "Training: 100%|██████████| 8/8 [00:07<00:00,  1.10it/s, loss=0.809]\n"
          ]
        },
        {
          "output_type": "stream",
          "name": "stdout",
          "text": [
            "Average training loss for the epoch: 0.8063220158219337\n",
            "\n",
            "--- VALIDATION METRICS ---\n"
          ]
        },
        {
          "output_type": "stream",
          "name": "stderr",
          "text": [
            "Calculating Metrics: 100%|██████████| 2/2 [00:00<00:00,  4.05it/s]\n"
          ]
        },
        {
          "output_type": "stream",
          "name": "stdout",
          "text": [
            "\n",
            "Got 1822277/2097152 with pixel accuracy 86.89%\n",
            "Average Dice Score: 0.8689\n",
            "Average IoU Score: 0.7686\n",
            "\n",
            "--- Epoch 34/75 ---\n"
          ]
        },
        {
          "output_type": "stream",
          "name": "stderr",
          "text": [
            "Training: 100%|██████████| 8/8 [00:07<00:00,  1.07it/s, loss=0.782]\n"
          ]
        },
        {
          "output_type": "stream",
          "name": "stdout",
          "text": [
            "Average training loss for the epoch: 0.7913239374756813\n",
            "\n",
            "--- VALIDATION METRICS ---\n"
          ]
        },
        {
          "output_type": "stream",
          "name": "stderr",
          "text": [
            "Calculating Metrics: 100%|██████████| 2/2 [00:00<00:00,  3.92it/s]\n"
          ]
        },
        {
          "output_type": "stream",
          "name": "stdout",
          "text": [
            "\n",
            "Got 1855944/2097152 with pixel accuracy 88.50%\n",
            "Average Dice Score: 0.8850\n",
            "Average IoU Score: 0.7938\n",
            "\n",
            "--- Epoch 35/75 ---\n"
          ]
        },
        {
          "output_type": "stream",
          "name": "stderr",
          "text": [
            "Training: 100%|██████████| 8/8 [00:07<00:00,  1.09it/s, loss=0.778]\n"
          ]
        },
        {
          "output_type": "stream",
          "name": "stdout",
          "text": [
            "Average training loss for the epoch: 0.7816983759403229\n",
            "\n",
            "--- VALIDATION METRICS ---\n"
          ]
        },
        {
          "output_type": "stream",
          "name": "stderr",
          "text": [
            "Calculating Metrics: 100%|██████████| 2/2 [00:00<00:00,  3.47it/s]\n"
          ]
        },
        {
          "output_type": "stream",
          "name": "stdout",
          "text": [
            "\n",
            "Got 1849675/2097152 with pixel accuracy 88.20%\n",
            "Average Dice Score: 0.8820\n",
            "Average IoU Score: 0.7891\n",
            "\n",
            "--- Epoch 36/75 ---\n"
          ]
        },
        {
          "output_type": "stream",
          "name": "stderr",
          "text": [
            "Training: 100%|██████████| 8/8 [00:07<00:00,  1.10it/s, loss=0.762]\n"
          ]
        },
        {
          "output_type": "stream",
          "name": "stdout",
          "text": [
            "Average training loss for the epoch: 0.7594821602106094\n",
            "\n",
            "--- VALIDATION METRICS ---\n"
          ]
        },
        {
          "output_type": "stream",
          "name": "stderr",
          "text": [
            "Calculating Metrics: 100%|██████████| 2/2 [00:00<00:00,  3.96it/s]\n"
          ]
        },
        {
          "output_type": "stream",
          "name": "stdout",
          "text": [
            "\n",
            "Got 1853256/2097152 with pixel accuracy 88.37%\n",
            "Average Dice Score: 0.8837\n",
            "Average IoU Score: 0.7920\n",
            "\n",
            "--- Epoch 37/75 ---\n"
          ]
        },
        {
          "output_type": "stream",
          "name": "stderr",
          "text": [
            "Training: 100%|██████████| 8/8 [00:07<00:00,  1.09it/s, loss=0.756]\n"
          ]
        },
        {
          "output_type": "stream",
          "name": "stdout",
          "text": [
            "Average training loss for the epoch: 0.7478513941168785\n",
            "\n",
            "--- VALIDATION METRICS ---\n"
          ]
        },
        {
          "output_type": "stream",
          "name": "stderr",
          "text": [
            "Calculating Metrics: 100%|██████████| 2/2 [00:00<00:00,  3.97it/s]\n"
          ]
        },
        {
          "output_type": "stream",
          "name": "stdout",
          "text": [
            "\n",
            "Got 1857188/2097152 with pixel accuracy 88.56%\n",
            "Average Dice Score: 0.8856\n",
            "Average IoU Score: 0.7950\n",
            "\n",
            "--- Epoch 38/75 ---\n"
          ]
        },
        {
          "output_type": "stream",
          "name": "stderr",
          "text": [
            "Training: 100%|██████████| 8/8 [00:07<00:00,  1.09it/s, loss=0.735]\n"
          ]
        },
        {
          "output_type": "stream",
          "name": "stdout",
          "text": [
            "Average training loss for the epoch: 0.7342894971370697\n",
            "\n",
            "--- VALIDATION METRICS ---\n"
          ]
        },
        {
          "output_type": "stream",
          "name": "stderr",
          "text": [
            "Calculating Metrics: 100%|██████████| 2/2 [00:00<00:00,  3.22it/s]\n"
          ]
        },
        {
          "output_type": "stream",
          "name": "stdout",
          "text": [
            "\n",
            "Got 1874341/2097152 with pixel accuracy 89.38%\n",
            "Average Dice Score: 0.8938\n",
            "Average IoU Score: 0.8081\n",
            "\n",
            "--- Epoch 39/75 ---\n"
          ]
        },
        {
          "output_type": "stream",
          "name": "stderr",
          "text": [
            "Training: 100%|██████████| 8/8 [00:07<00:00,  1.08it/s, loss=0.712]\n"
          ]
        },
        {
          "output_type": "stream",
          "name": "stdout",
          "text": [
            "Average training loss for the epoch: 0.7210502475500107\n",
            "\n",
            "--- VALIDATION METRICS ---\n"
          ]
        },
        {
          "output_type": "stream",
          "name": "stderr",
          "text": [
            "Calculating Metrics: 100%|██████████| 2/2 [00:00<00:00,  3.95it/s]\n"
          ]
        },
        {
          "output_type": "stream",
          "name": "stdout",
          "text": [
            "\n",
            "Got 1840040/2097152 with pixel accuracy 87.74%\n",
            "Average Dice Score: 0.8774\n",
            "Average IoU Score: 0.7818\n",
            "\n",
            "--- Epoch 40/75 ---\n"
          ]
        },
        {
          "output_type": "stream",
          "name": "stderr",
          "text": [
            "Training: 100%|██████████| 8/8 [00:07<00:00,  1.10it/s, loss=0.682]\n"
          ]
        },
        {
          "output_type": "stream",
          "name": "stdout",
          "text": [
            "Average training loss for the epoch: 0.7081637382507324\n",
            "\n",
            "--- VALIDATION METRICS ---\n"
          ]
        },
        {
          "output_type": "stream",
          "name": "stderr",
          "text": [
            "Calculating Metrics: 100%|██████████| 2/2 [00:00<00:00,  3.98it/s]\n"
          ]
        },
        {
          "output_type": "stream",
          "name": "stdout",
          "text": [
            "\n",
            "Got 1856494/2097152 with pixel accuracy 88.52%\n",
            "Average Dice Score: 0.8852\n",
            "Average IoU Score: 0.7942\n",
            "\n",
            "--- Epoch 41/75 ---\n"
          ]
        },
        {
          "output_type": "stream",
          "name": "stderr",
          "text": [
            "Training: 100%|██████████| 8/8 [00:07<00:00,  1.10it/s, loss=0.672]\n"
          ]
        },
        {
          "output_type": "stream",
          "name": "stdout",
          "text": [
            "Average training loss for the epoch: 0.6951126754283905\n",
            "\n",
            "--- VALIDATION METRICS ---\n"
          ]
        },
        {
          "output_type": "stream",
          "name": "stderr",
          "text": [
            "Calculating Metrics: 100%|██████████| 2/2 [00:00<00:00,  3.92it/s]\n"
          ]
        },
        {
          "output_type": "stream",
          "name": "stdout",
          "text": [
            "\n",
            "Got 1855682/2097152 with pixel accuracy 88.49%\n",
            "Average Dice Score: 0.8849\n",
            "Average IoU Score: 0.7937\n",
            "\n",
            "--- Epoch 42/75 ---\n"
          ]
        },
        {
          "output_type": "stream",
          "name": "stderr",
          "text": [
            "Training: 100%|██████████| 8/8 [00:07<00:00,  1.08it/s, loss=0.676]\n"
          ]
        },
        {
          "output_type": "stream",
          "name": "stdout",
          "text": [
            "Average training loss for the epoch: 0.6837752088904381\n",
            "\n",
            "--- VALIDATION METRICS ---\n"
          ]
        },
        {
          "output_type": "stream",
          "name": "stderr",
          "text": [
            "Calculating Metrics: 100%|██████████| 2/2 [00:00<00:00,  3.87it/s]\n"
          ]
        },
        {
          "output_type": "stream",
          "name": "stdout",
          "text": [
            "\n",
            "Got 1850505/2097152 with pixel accuracy 88.24%\n",
            "Average Dice Score: 0.8824\n",
            "Average IoU Score: 0.7898\n",
            "\n",
            "--- Epoch 43/75 ---\n"
          ]
        },
        {
          "output_type": "stream",
          "name": "stderr",
          "text": [
            "Training: 100%|██████████| 8/8 [00:07<00:00,  1.09it/s, loss=0.638]\n"
          ]
        },
        {
          "output_type": "stream",
          "name": "stdout",
          "text": [
            "Average training loss for the epoch: 0.6738174930214882\n",
            "\n",
            "--- VALIDATION METRICS ---\n"
          ]
        },
        {
          "output_type": "stream",
          "name": "stderr",
          "text": [
            "Calculating Metrics: 100%|██████████| 2/2 [00:00<00:00,  3.33it/s]\n"
          ]
        },
        {
          "output_type": "stream",
          "name": "stdout",
          "text": [
            "\n",
            "Got 1865748/2097152 with pixel accuracy 88.97%\n",
            "Average Dice Score: 0.8897\n",
            "Average IoU Score: 0.8014\n",
            "\n",
            "--- Epoch 44/75 ---\n"
          ]
        },
        {
          "output_type": "stream",
          "name": "stderr",
          "text": [
            "Training: 100%|██████████| 8/8 [00:07<00:00,  1.10it/s, loss=0.628]\n"
          ]
        },
        {
          "output_type": "stream",
          "name": "stdout",
          "text": [
            "Average training loss for the epoch: 0.6585237309336662\n",
            "\n",
            "--- VALIDATION METRICS ---\n"
          ]
        },
        {
          "output_type": "stream",
          "name": "stderr",
          "text": [
            "Calculating Metrics: 100%|██████████| 2/2 [00:00<00:00,  4.03it/s]\n"
          ]
        },
        {
          "output_type": "stream",
          "name": "stdout",
          "text": [
            "\n",
            "Got 1860062/2097152 with pixel accuracy 88.69%\n",
            "Average Dice Score: 0.8869\n",
            "Average IoU Score: 0.7972\n",
            "\n",
            "--- Epoch 45/75 ---\n"
          ]
        },
        {
          "output_type": "stream",
          "name": "stderr",
          "text": [
            "Training: 100%|██████████| 8/8 [00:07<00:00,  1.10it/s, loss=0.66]\n"
          ]
        },
        {
          "output_type": "stream",
          "name": "stdout",
          "text": [
            "Average training loss for the epoch: 0.6529425606131554\n",
            "\n",
            "--- VALIDATION METRICS ---\n"
          ]
        },
        {
          "output_type": "stream",
          "name": "stderr",
          "text": [
            "Calculating Metrics: 100%|██████████| 2/2 [00:00<00:00,  3.98it/s]\n"
          ]
        },
        {
          "output_type": "stream",
          "name": "stdout",
          "text": [
            "\n",
            "Got 1859567/2097152 with pixel accuracy 88.67%\n",
            "Average Dice Score: 0.8867\n",
            "Average IoU Score: 0.7966\n",
            "\n",
            "--- Epoch 46/75 ---\n"
          ]
        },
        {
          "output_type": "stream",
          "name": "stderr",
          "text": [
            "Training: 100%|██████████| 8/8 [00:07<00:00,  1.09it/s, loss=0.638]\n"
          ]
        },
        {
          "output_type": "stream",
          "name": "stdout",
          "text": [
            "Average training loss for the epoch: 0.6430282667279243\n",
            "\n",
            "--- VALIDATION METRICS ---\n"
          ]
        },
        {
          "output_type": "stream",
          "name": "stderr",
          "text": [
            "Calculating Metrics: 100%|██████████| 2/2 [00:00<00:00,  3.23it/s]\n"
          ]
        },
        {
          "output_type": "stream",
          "name": "stdout",
          "text": [
            "\n",
            "Got 1859075/2097152 with pixel accuracy 88.65%\n",
            "Average Dice Score: 0.8865\n",
            "Average IoU Score: 0.7962\n",
            "\n",
            "--- Epoch 47/75 ---\n"
          ]
        },
        {
          "output_type": "stream",
          "name": "stderr",
          "text": [
            "Training: 100%|██████████| 8/8 [00:07<00:00,  1.08it/s, loss=0.62]\n"
          ]
        },
        {
          "output_type": "stream",
          "name": "stdout",
          "text": [
            "Average training loss for the epoch: 0.6377736702561378\n",
            "\n",
            "--- VALIDATION METRICS ---\n"
          ]
        },
        {
          "output_type": "stream",
          "name": "stderr",
          "text": [
            "Calculating Metrics: 100%|██████████| 2/2 [00:00<00:00,  3.78it/s]\n"
          ]
        },
        {
          "output_type": "stream",
          "name": "stdout",
          "text": [
            "\n",
            "Got 1846399/2097152 with pixel accuracy 88.04%\n",
            "Average Dice Score: 0.8804\n",
            "Average IoU Score: 0.7866\n",
            "\n",
            "--- Epoch 48/75 ---\n"
          ]
        },
        {
          "output_type": "stream",
          "name": "stderr",
          "text": [
            "Training: 100%|██████████| 8/8 [00:07<00:00,  1.10it/s, loss=0.604]\n"
          ]
        },
        {
          "output_type": "stream",
          "name": "stdout",
          "text": [
            "Average training loss for the epoch: 0.6263979598879814\n",
            "\n",
            "--- VALIDATION METRICS ---\n"
          ]
        },
        {
          "output_type": "stream",
          "name": "stderr",
          "text": [
            "Calculating Metrics: 100%|██████████| 2/2 [00:00<00:00,  4.00it/s]\n"
          ]
        },
        {
          "output_type": "stream",
          "name": "stdout",
          "text": [
            "\n",
            "Got 1841086/2097152 with pixel accuracy 87.79%\n",
            "Average Dice Score: 0.8779\n",
            "Average IoU Score: 0.7826\n",
            "\n",
            "--- Epoch 49/75 ---\n"
          ]
        },
        {
          "output_type": "stream",
          "name": "stderr",
          "text": [
            "Training: 100%|██████████| 8/8 [00:07<00:00,  1.10it/s, loss=0.618]\n"
          ]
        },
        {
          "output_type": "stream",
          "name": "stdout",
          "text": [
            "Average training loss for the epoch: 0.6129544526338577\n",
            "\n",
            "--- VALIDATION METRICS ---\n"
          ]
        },
        {
          "output_type": "stream",
          "name": "stderr",
          "text": [
            "Calculating Metrics: 100%|██████████| 2/2 [00:00<00:00,  3.87it/s]\n"
          ]
        },
        {
          "output_type": "stream",
          "name": "stdout",
          "text": [
            "\n",
            "Got 1864173/2097152 with pixel accuracy 88.89%\n",
            "Average Dice Score: 0.8889\n",
            "Average IoU Score: 0.8003\n",
            "\n",
            "--- Epoch 50/75 ---\n"
          ]
        },
        {
          "output_type": "stream",
          "name": "stderr",
          "text": [
            "Training: 100%|██████████| 8/8 [00:07<00:00,  1.09it/s, loss=0.601]\n"
          ]
        },
        {
          "output_type": "stream",
          "name": "stdout",
          "text": [
            "Average training loss for the epoch: 0.6062358617782593\n",
            "\n",
            "--- VALIDATION METRICS ---\n"
          ]
        },
        {
          "output_type": "stream",
          "name": "stderr",
          "text": [
            "Calculating Metrics: 100%|██████████| 2/2 [00:00<00:00,  3.86it/s]\n"
          ]
        },
        {
          "output_type": "stream",
          "name": "stdout",
          "text": [
            "\n",
            "Got 1877598/2097152 with pixel accuracy 89.53%\n",
            "Average Dice Score: 0.8953\n",
            "Average IoU Score: 0.8106\n",
            "\n",
            "--- Epoch 51/75 ---\n"
          ]
        },
        {
          "output_type": "stream",
          "name": "stderr",
          "text": [
            "Training: 100%|██████████| 8/8 [00:07<00:00,  1.09it/s, loss=0.582]\n"
          ]
        },
        {
          "output_type": "stream",
          "name": "stdout",
          "text": [
            "Average training loss for the epoch: 0.6030120700597763\n",
            "\n",
            "--- VALIDATION METRICS ---\n"
          ]
        },
        {
          "output_type": "stream",
          "name": "stderr",
          "text": [
            "Calculating Metrics: 100%|██████████| 2/2 [00:00<00:00,  3.37it/s]\n"
          ]
        },
        {
          "output_type": "stream",
          "name": "stdout",
          "text": [
            "\n",
            "Got 1871722/2097152 with pixel accuracy 89.25%\n",
            "Average Dice Score: 0.8925\n",
            "Average IoU Score: 0.8060\n",
            "\n",
            "--- Epoch 52/75 ---\n"
          ]
        },
        {
          "output_type": "stream",
          "name": "stderr",
          "text": [
            "Training: 100%|██████████| 8/8 [00:07<00:00,  1.08it/s, loss=0.581]\n"
          ]
        },
        {
          "output_type": "stream",
          "name": "stdout",
          "text": [
            "Average training loss for the epoch: 0.5942945927381516\n",
            "\n",
            "--- VALIDATION METRICS ---\n"
          ]
        },
        {
          "output_type": "stream",
          "name": "stderr",
          "text": [
            "Calculating Metrics: 100%|██████████| 2/2 [00:00<00:00,  3.88it/s]\n"
          ]
        },
        {
          "output_type": "stream",
          "name": "stdout",
          "text": [
            "\n",
            "Got 1854207/2097152 with pixel accuracy 88.42%\n",
            "Average Dice Score: 0.8842\n",
            "Average IoU Score: 0.7924\n",
            "\n",
            "--- Epoch 53/75 ---\n"
          ]
        },
        {
          "output_type": "stream",
          "name": "stderr",
          "text": [
            "Training: 100%|██████████| 8/8 [00:07<00:00,  1.10it/s, loss=0.577]\n"
          ]
        },
        {
          "output_type": "stream",
          "name": "stdout",
          "text": [
            "Average training loss for the epoch: 0.5840597078204155\n",
            "\n",
            "--- VALIDATION METRICS ---\n"
          ]
        },
        {
          "output_type": "stream",
          "name": "stderr",
          "text": [
            "Calculating Metrics: 100%|██████████| 2/2 [00:00<00:00,  3.90it/s]\n"
          ]
        },
        {
          "output_type": "stream",
          "name": "stdout",
          "text": [
            "\n",
            "Got 1823956/2097152 with pixel accuracy 86.97%\n",
            "Average Dice Score: 0.8697\n",
            "Average IoU Score: 0.7695\n",
            "\n",
            "--- Epoch 54/75 ---\n"
          ]
        },
        {
          "output_type": "stream",
          "name": "stderr",
          "text": [
            "Training: 100%|██████████| 8/8 [00:07<00:00,  1.10it/s, loss=0.631]\n"
          ]
        },
        {
          "output_type": "stream",
          "name": "stdout",
          "text": [
            "Average training loss for the epoch: 0.5873355120420456\n",
            "\n",
            "--- VALIDATION METRICS ---\n"
          ]
        },
        {
          "output_type": "stream",
          "name": "stderr",
          "text": [
            "Calculating Metrics: 100%|██████████| 2/2 [00:00<00:00,  3.16it/s]\n"
          ]
        },
        {
          "output_type": "stream",
          "name": "stdout",
          "text": [
            "\n",
            "Got 1793218/2097152 with pixel accuracy 85.51%\n",
            "Average Dice Score: 0.8551\n",
            "Average IoU Score: 0.7473\n",
            "\n",
            "--- Epoch 55/75 ---\n"
          ]
        },
        {
          "output_type": "stream",
          "name": "stderr",
          "text": [
            "Training: 100%|██████████| 8/8 [00:07<00:00,  1.08it/s, loss=0.636]\n"
          ]
        },
        {
          "output_type": "stream",
          "name": "stdout",
          "text": [
            "Average training loss for the epoch: 0.5780208706855774\n",
            "\n",
            "--- VALIDATION METRICS ---\n"
          ]
        },
        {
          "output_type": "stream",
          "name": "stderr",
          "text": [
            "Calculating Metrics: 100%|██████████| 2/2 [00:00<00:00,  3.81it/s]\n"
          ]
        },
        {
          "output_type": "stream",
          "name": "stdout",
          "text": [
            "\n",
            "Got 1860761/2097152 with pixel accuracy 88.73%\n",
            "Average Dice Score: 0.8873\n",
            "Average IoU Score: 0.7976\n",
            "\n",
            "--- Epoch 56/75 ---\n"
          ]
        },
        {
          "output_type": "stream",
          "name": "stderr",
          "text": [
            "Training: 100%|██████████| 8/8 [00:07<00:00,  1.10it/s, loss=0.61]\n"
          ]
        },
        {
          "output_type": "stream",
          "name": "stdout",
          "text": [
            "Average training loss for the epoch: 0.5636420547962189\n",
            "\n",
            "--- VALIDATION METRICS ---\n"
          ]
        },
        {
          "output_type": "stream",
          "name": "stderr",
          "text": [
            "Calculating Metrics: 100%|██████████| 2/2 [00:00<00:00,  3.80it/s]\n"
          ]
        },
        {
          "output_type": "stream",
          "name": "stdout",
          "text": [
            "\n",
            "Got 1865853/2097152 with pixel accuracy 88.97%\n",
            "Average Dice Score: 0.8897\n",
            "Average IoU Score: 0.8014\n",
            "\n",
            "--- Epoch 57/75 ---\n"
          ]
        },
        {
          "output_type": "stream",
          "name": "stderr",
          "text": [
            "Training: 100%|██████████| 8/8 [00:07<00:00,  1.10it/s, loss=0.538]\n"
          ]
        },
        {
          "output_type": "stream",
          "name": "stdout",
          "text": [
            "Average training loss for the epoch: 0.5584654211997986\n",
            "\n",
            "--- VALIDATION METRICS ---\n"
          ]
        },
        {
          "output_type": "stream",
          "name": "stderr",
          "text": [
            "Calculating Metrics: 100%|██████████| 2/2 [00:00<00:00,  3.91it/s]\n"
          ]
        },
        {
          "output_type": "stream",
          "name": "stdout",
          "text": [
            "\n",
            "Got 1877713/2097152 with pixel accuracy 89.54%\n",
            "Average Dice Score: 0.8954\n",
            "Average IoU Score: 0.8106\n",
            "\n",
            "--- Epoch 58/75 ---\n"
          ]
        },
        {
          "output_type": "stream",
          "name": "stderr",
          "text": [
            "Training: 100%|██████████| 8/8 [00:07<00:00,  1.10it/s, loss=0.542]\n"
          ]
        },
        {
          "output_type": "stream",
          "name": "stdout",
          "text": [
            "Average training loss for the epoch: 0.5485619977116585\n",
            "\n",
            "--- VALIDATION METRICS ---\n"
          ]
        },
        {
          "output_type": "stream",
          "name": "stderr",
          "text": [
            "Calculating Metrics: 100%|██████████| 2/2 [00:00<00:00,  3.88it/s]\n"
          ]
        },
        {
          "output_type": "stream",
          "name": "stdout",
          "text": [
            "\n",
            "Got 1843135/2097152 with pixel accuracy 87.89%\n",
            "Average Dice Score: 0.8789\n",
            "Average IoU Score: 0.7843\n",
            "\n",
            "--- Epoch 59/75 ---\n"
          ]
        },
        {
          "output_type": "stream",
          "name": "stderr",
          "text": [
            "Training: 100%|██████████| 8/8 [00:07<00:00,  1.09it/s, loss=0.532]\n"
          ]
        },
        {
          "output_type": "stream",
          "name": "stdout",
          "text": [
            "Average training loss for the epoch: 0.536706268787384\n",
            "\n",
            "--- VALIDATION METRICS ---\n"
          ]
        },
        {
          "output_type": "stream",
          "name": "stderr",
          "text": [
            "Calculating Metrics: 100%|██████████| 2/2 [00:00<00:00,  3.65it/s]\n"
          ]
        },
        {
          "output_type": "stream",
          "name": "stdout",
          "text": [
            "\n",
            "Got 1867982/2097152 with pixel accuracy 89.07%\n",
            "Average Dice Score: 0.8907\n",
            "Average IoU Score: 0.8030\n",
            "\n",
            "--- Epoch 60/75 ---\n"
          ]
        },
        {
          "output_type": "stream",
          "name": "stderr",
          "text": [
            "Training: 100%|██████████| 8/8 [00:07<00:00,  1.07it/s, loss=0.532]\n"
          ]
        },
        {
          "output_type": "stream",
          "name": "stdout",
          "text": [
            "Average training loss for the epoch: 0.5343827605247498\n",
            "\n",
            "--- VALIDATION METRICS ---\n"
          ]
        },
        {
          "output_type": "stream",
          "name": "stderr",
          "text": [
            "Calculating Metrics: 100%|██████████| 2/2 [00:00<00:00,  3.82it/s]\n"
          ]
        },
        {
          "output_type": "stream",
          "name": "stdout",
          "text": [
            "\n",
            "Got 1864218/2097152 with pixel accuracy 88.89%\n",
            "Average Dice Score: 0.8889\n",
            "Average IoU Score: 0.8002\n",
            "\n",
            "--- Epoch 61/75 ---\n"
          ]
        },
        {
          "output_type": "stream",
          "name": "stderr",
          "text": [
            "Training: 100%|██████████| 8/8 [00:07<00:00,  1.10it/s, loss=0.545]\n"
          ]
        },
        {
          "output_type": "stream",
          "name": "stdout",
          "text": [
            "Average training loss for the epoch: 0.5238867327570915\n",
            "\n",
            "--- VALIDATION METRICS ---\n"
          ]
        },
        {
          "output_type": "stream",
          "name": "stderr",
          "text": [
            "Calculating Metrics: 100%|██████████| 2/2 [00:00<00:00,  3.98it/s]\n"
          ]
        },
        {
          "output_type": "stream",
          "name": "stdout",
          "text": [
            "\n",
            "Got 1857316/2097152 with pixel accuracy 88.56%\n",
            "Average Dice Score: 0.8856\n",
            "Average IoU Score: 0.7950\n",
            "\n",
            "--- Epoch 62/75 ---\n"
          ]
        },
        {
          "output_type": "stream",
          "name": "stderr",
          "text": [
            "Training: 100%|██████████| 8/8 [00:07<00:00,  1.10it/s, loss=0.546]\n"
          ]
        },
        {
          "output_type": "stream",
          "name": "stdout",
          "text": [
            "Average training loss for the epoch: 0.5202701054513454\n",
            "\n",
            "--- VALIDATION METRICS ---\n"
          ]
        },
        {
          "output_type": "stream",
          "name": "stderr",
          "text": [
            "Calculating Metrics: 100%|██████████| 2/2 [00:00<00:00,  3.89it/s]\n"
          ]
        },
        {
          "output_type": "stream",
          "name": "stdout",
          "text": [
            "\n",
            "Got 1852406/2097152 with pixel accuracy 88.33%\n",
            "Average Dice Score: 0.8833\n",
            "Average IoU Score: 0.7911\n",
            "\n",
            "--- Epoch 63/75 ---\n"
          ]
        },
        {
          "output_type": "stream",
          "name": "stderr",
          "text": [
            "Training: 100%|██████████| 8/8 [00:07<00:00,  1.08it/s, loss=0.496]\n"
          ]
        },
        {
          "output_type": "stream",
          "name": "stdout",
          "text": [
            "Average training loss for the epoch: 0.5089464262127876\n",
            "\n",
            "--- VALIDATION METRICS ---\n"
          ]
        },
        {
          "output_type": "stream",
          "name": "stderr",
          "text": [
            "Calculating Metrics: 100%|██████████| 2/2 [00:00<00:00,  3.93it/s]\n"
          ]
        },
        {
          "output_type": "stream",
          "name": "stdout",
          "text": [
            "\n",
            "Got 1874276/2097152 with pixel accuracy 89.37%\n",
            "Average Dice Score: 0.8937\n",
            "Average IoU Score: 0.8079\n",
            "\n",
            "--- Epoch 64/75 ---\n"
          ]
        },
        {
          "output_type": "stream",
          "name": "stderr",
          "text": [
            "Training: 100%|██████████| 8/8 [00:07<00:00,  1.09it/s, loss=0.507]\n"
          ]
        },
        {
          "output_type": "stream",
          "name": "stdout",
          "text": [
            "Average training loss for the epoch: 0.5068985596299171\n",
            "\n",
            "--- VALIDATION METRICS ---\n"
          ]
        },
        {
          "output_type": "stream",
          "name": "stderr",
          "text": [
            "Calculating Metrics: 100%|██████████| 2/2 [00:00<00:00,  3.83it/s]\n"
          ]
        },
        {
          "output_type": "stream",
          "name": "stdout",
          "text": [
            "\n",
            "Got 1869181/2097152 with pixel accuracy 89.13%\n",
            "Average Dice Score: 0.8913\n",
            "Average IoU Score: 0.8039\n",
            "\n",
            "--- Epoch 65/75 ---\n"
          ]
        },
        {
          "output_type": "stream",
          "name": "stderr",
          "text": [
            "Training: 100%|██████████| 8/8 [00:07<00:00,  1.10it/s, loss=0.497]\n"
          ]
        },
        {
          "output_type": "stream",
          "name": "stdout",
          "text": [
            "Average training loss for the epoch: 0.4950117729604244\n",
            "\n",
            "--- VALIDATION METRICS ---\n"
          ]
        },
        {
          "output_type": "stream",
          "name": "stderr",
          "text": [
            "Calculating Metrics: 100%|██████████| 2/2 [00:00<00:00,  4.05it/s]\n"
          ]
        },
        {
          "output_type": "stream",
          "name": "stdout",
          "text": [
            "\n",
            "Got 1858506/2097152 with pixel accuracy 88.62%\n",
            "Average Dice Score: 0.8862\n",
            "Average IoU Score: 0.7957\n",
            "\n",
            "--- Epoch 66/75 ---\n"
          ]
        },
        {
          "output_type": "stream",
          "name": "stderr",
          "text": [
            "Training: 100%|██████████| 8/8 [00:07<00:00,  1.09it/s, loss=0.461]\n"
          ]
        },
        {
          "output_type": "stream",
          "name": "stdout",
          "text": [
            "Average training loss for the epoch: 0.4890895299613476\n",
            "\n",
            "--- VALIDATION METRICS ---\n"
          ]
        },
        {
          "output_type": "stream",
          "name": "stderr",
          "text": [
            "Calculating Metrics: 100%|██████████| 2/2 [00:00<00:00,  4.01it/s]\n"
          ]
        },
        {
          "output_type": "stream",
          "name": "stdout",
          "text": [
            "\n",
            "Got 1871745/2097152 with pixel accuracy 89.25%\n",
            "Average Dice Score: 0.8925\n",
            "Average IoU Score: 0.8059\n",
            "\n",
            "--- Epoch 67/75 ---\n"
          ]
        },
        {
          "output_type": "stream",
          "name": "stderr",
          "text": [
            "Training: 100%|██████████| 8/8 [00:07<00:00,  1.09it/s, loss=0.488]\n"
          ]
        },
        {
          "output_type": "stream",
          "name": "stdout",
          "text": [
            "Average training loss for the epoch: 0.483531903475523\n",
            "\n",
            "--- VALIDATION METRICS ---\n"
          ]
        },
        {
          "output_type": "stream",
          "name": "stderr",
          "text": [
            "Calculating Metrics: 100%|██████████| 2/2 [00:00<00:00,  3.25it/s]\n"
          ]
        },
        {
          "output_type": "stream",
          "name": "stdout",
          "text": [
            "\n",
            "Got 1854431/2097152 with pixel accuracy 88.43%\n",
            "Average Dice Score: 0.8843\n",
            "Average IoU Score: 0.7927\n",
            "\n",
            "--- Epoch 68/75 ---\n"
          ]
        },
        {
          "output_type": "stream",
          "name": "stderr",
          "text": [
            "Training: 100%|██████████| 8/8 [00:07<00:00,  1.08it/s, loss=0.461]\n"
          ]
        },
        {
          "output_type": "stream",
          "name": "stdout",
          "text": [
            "Average training loss for the epoch: 0.4801490902900696\n",
            "\n",
            "--- VALIDATION METRICS ---\n"
          ]
        },
        {
          "output_type": "stream",
          "name": "stderr",
          "text": [
            "Calculating Metrics: 100%|██████████| 2/2 [00:00<00:00,  3.94it/s]\n"
          ]
        },
        {
          "output_type": "stream",
          "name": "stdout",
          "text": [
            "\n",
            "Got 1853418/2097152 with pixel accuracy 88.38%\n",
            "Average Dice Score: 0.8838\n",
            "Average IoU Score: 0.7918\n",
            "\n",
            "--- Epoch 69/75 ---\n"
          ]
        },
        {
          "output_type": "stream",
          "name": "stderr",
          "text": [
            "Training: 100%|██████████| 8/8 [00:07<00:00,  1.09it/s, loss=0.492]\n"
          ]
        },
        {
          "output_type": "stream",
          "name": "stdout",
          "text": [
            "Average training loss for the epoch: 0.4788825251162052\n",
            "\n",
            "--- VALIDATION METRICS ---\n"
          ]
        },
        {
          "output_type": "stream",
          "name": "stderr",
          "text": [
            "Calculating Metrics: 100%|██████████| 2/2 [00:00<00:00,  3.85it/s]\n"
          ]
        },
        {
          "output_type": "stream",
          "name": "stdout",
          "text": [
            "\n",
            "Got 1855718/2097152 with pixel accuracy 88.49%\n",
            "Average Dice Score: 0.8849\n",
            "Average IoU Score: 0.7938\n",
            "\n",
            "--- Epoch 70/75 ---\n"
          ]
        },
        {
          "output_type": "stream",
          "name": "stderr",
          "text": [
            "Training: 100%|██████████| 8/8 [00:07<00:00,  1.09it/s, loss=0.538]\n"
          ]
        },
        {
          "output_type": "stream",
          "name": "stdout",
          "text": [
            "Average training loss for the epoch: 0.47790171951055527\n",
            "\n",
            "--- VALIDATION METRICS ---\n"
          ]
        },
        {
          "output_type": "stream",
          "name": "stderr",
          "text": [
            "Calculating Metrics: 100%|██████████| 2/2 [00:00<00:00,  3.97it/s]\n"
          ]
        },
        {
          "output_type": "stream",
          "name": "stdout",
          "text": [
            "\n",
            "Got 1865814/2097152 with pixel accuracy 88.97%\n",
            "Average Dice Score: 0.8897\n",
            "Average IoU Score: 0.8015\n",
            "\n",
            "--- Epoch 71/75 ---\n"
          ]
        },
        {
          "output_type": "stream",
          "name": "stderr",
          "text": [
            "Training: 100%|██████████| 8/8 [00:07<00:00,  1.07it/s, loss=0.484]\n"
          ]
        },
        {
          "output_type": "stream",
          "name": "stdout",
          "text": [
            "Average training loss for the epoch: 0.4695257507264614\n",
            "\n",
            "--- VALIDATION METRICS ---\n"
          ]
        },
        {
          "output_type": "stream",
          "name": "stderr",
          "text": [
            "Calculating Metrics: 100%|██████████| 2/2 [00:00<00:00,  3.94it/s]\n"
          ]
        },
        {
          "output_type": "stream",
          "name": "stdout",
          "text": [
            "\n",
            "Got 1877616/2097152 with pixel accuracy 89.53%\n",
            "Average Dice Score: 0.8953\n",
            "Average IoU Score: 0.8105\n",
            "\n",
            "--- Epoch 72/75 ---\n"
          ]
        },
        {
          "output_type": "stream",
          "name": "stderr",
          "text": [
            "Training: 100%|██████████| 8/8 [00:07<00:00,  1.09it/s, loss=0.494]\n"
          ]
        },
        {
          "output_type": "stream",
          "name": "stdout",
          "text": [
            "Average training loss for the epoch: 0.46815862506628036\n",
            "\n",
            "--- VALIDATION METRICS ---\n"
          ]
        },
        {
          "output_type": "stream",
          "name": "stderr",
          "text": [
            "Calculating Metrics: 100%|██████████| 2/2 [00:00<00:00,  3.60it/s]\n"
          ]
        },
        {
          "output_type": "stream",
          "name": "stdout",
          "text": [
            "\n",
            "Got 1858132/2097152 with pixel accuracy 88.60%\n",
            "Average Dice Score: 0.8860\n",
            "Average IoU Score: 0.7955\n",
            "\n",
            "--- Epoch 73/75 ---\n"
          ]
        },
        {
          "output_type": "stream",
          "name": "stderr",
          "text": [
            "Training: 100%|██████████| 8/8 [00:07<00:00,  1.09it/s, loss=0.49]\n"
          ]
        },
        {
          "output_type": "stream",
          "name": "stdout",
          "text": [
            "Average training loss for the epoch: 0.4609459862112999\n",
            "\n",
            "--- VALIDATION METRICS ---\n"
          ]
        },
        {
          "output_type": "stream",
          "name": "stderr",
          "text": [
            "Calculating Metrics: 100%|██████████| 2/2 [00:00<00:00,  3.99it/s]\n"
          ]
        },
        {
          "output_type": "stream",
          "name": "stdout",
          "text": [
            "\n",
            "Got 1872933/2097152 with pixel accuracy 89.31%\n",
            "Average Dice Score: 0.8931\n",
            "Average IoU Score: 0.8068\n",
            "\n",
            "--- Epoch 74/75 ---\n"
          ]
        },
        {
          "output_type": "stream",
          "name": "stderr",
          "text": [
            "Training: 100%|██████████| 8/8 [00:07<00:00,  1.09it/s, loss=0.452]\n"
          ]
        },
        {
          "output_type": "stream",
          "name": "stdout",
          "text": [
            "Average training loss for the epoch: 0.4521595537662506\n",
            "\n",
            "--- VALIDATION METRICS ---\n"
          ]
        },
        {
          "output_type": "stream",
          "name": "stderr",
          "text": [
            "Calculating Metrics: 100%|██████████| 2/2 [00:00<00:00,  3.95it/s]\n"
          ]
        },
        {
          "output_type": "stream",
          "name": "stdout",
          "text": [
            "\n",
            "Got 1860779/2097152 with pixel accuracy 88.73%\n",
            "Average Dice Score: 0.8873\n",
            "Average IoU Score: 0.7977\n",
            "\n",
            "--- Epoch 75/75 ---\n"
          ]
        },
        {
          "output_type": "stream",
          "name": "stderr",
          "text": [
            "Training: 100%|██████████| 8/8 [00:07<00:00,  1.08it/s, loss=0.443]\n"
          ]
        },
        {
          "output_type": "stream",
          "name": "stdout",
          "text": [
            "Average training loss for the epoch: 0.44715380296111107\n",
            "\n",
            "--- VALIDATION METRICS ---\n"
          ]
        },
        {
          "output_type": "stream",
          "name": "stderr",
          "text": [
            "Calculating Metrics: 100%|██████████| 2/2 [00:00<00:00,  3.36it/s]\n"
          ]
        },
        {
          "output_type": "stream",
          "name": "stdout",
          "text": [
            "\n",
            "Got 1872513/2097152 with pixel accuracy 89.29%\n",
            "Average Dice Score: 0.8929\n",
            "Average IoU Score: 0.8065\n",
            "\n",
            "Training finished!\n",
            "\n",
            "--- FINAL VALIDATION METRICS ---\n"
          ]
        },
        {
          "output_type": "stream",
          "name": "stderr",
          "text": [
            "Calculating Metrics: 100%|██████████| 2/2 [00:00<00:00,  3.38it/s]\n"
          ]
        },
        {
          "output_type": "stream",
          "name": "stdout",
          "text": [
            "\n",
            "Got 1872513/2097152 with pixel accuracy 89.29%\n",
            "Average Dice Score: 0.8929\n",
            "Average IoU Score: 0.8065\n",
            "Model saved to /content/drive/MyDrive/oct_major_project/unet_retina_segmentation.pth\n"
          ]
        }
      ]
    },
    {
      "cell_type": "markdown",
      "source": [
        "TEST"
      ],
      "metadata": {
        "id": "P36_AQ2crR3-"
      }
    },
    {
      "cell_type": "code",
      "source": [
        "import cv2\n",
        "import torch\n",
        "import numpy as np\n",
        "import matplotlib.pyplot as plt\n",
        "\n",
        "def predict_on_single_image(model, image_path, device):\n",
        "    \"\"\"\n",
        "    Loads a single image, preprocesses it, runs it through the model,\n",
        "    and visualizes the original image and the predicted mask.\n",
        "    \"\"\"\n",
        "\n",
        "    model.eval()\n",
        "\n",
        "\n",
        "    image = cv2.imread(image_path, cv2.IMREAD_GRAYSCALE)\n",
        "    if image is None:\n",
        "        print(f\"Error: Could not load image at {image_path}\")\n",
        "        return\n",
        "\n",
        "\n",
        "    original_shape = image.shape\n",
        "    image_resized = cv2.resize(image, (512, 512))\n",
        "\n",
        "    image_normalized = image_resized.astype(np.float32) / 255.0\n",
        "    image_processed = np.expand_dims(image_normalized, axis=0)\n",
        "\n",
        "    input_tensor = torch.from_numpy(image_processed).unsqueeze(0).to(device)\n",
        "\n",
        "\n",
        "    with torch.no_grad():\n",
        "        output = model(input_tensor)\n",
        "        predicted_mask = torch.argmax(output, dim=1).squeeze().cpu().numpy()\n",
        "\n",
        "\n",
        "    print(f\"Original image shape: {original_shape}\")\n",
        "    print(f\"Resized to: {image_resized.shape}\")\n",
        "\n",
        "    fig, ax = plt.subplots(1, 2, figsize=(12, 6))\n",
        "\n",
        "    ax[0].imshow(image_resized, cmap='gray')\n",
        "    ax[0].set_title(\"Input Image (Resized)\")\n",
        "    ax[0].axis('off')\n",
        "\n",
        "    ax[1].imshow(predicted_mask, cmap='viridis')\n",
        "    ax[1].set_title(\"Predicted Segmentation\")\n",
        "    ax[1].axis('off')\n",
        "\n",
        "    plt.show()\n",
        "\n",
        "\n",
        "\n",
        "\n",
        "\n",
        "MODEL_SAVE_PATH = os.path.join(PROJECT_FOLDER_IN_DRIVE, \"unet_retina_segmentation.pth\")\n",
        "model = UNet(in_channels=1, out_channels=NUM_CLASSES)\n",
        "model.load_state_dict(torch.load(MODEL_SAVE_PATH, map_location=DEVICE))\n",
        "model.to(DEVICE)\n",
        "print(\"Model loaded and ready for prediction.\")\n",
        "\n",
        "\n",
        "uploaded_image_path = '/content/Normal-macular-OCT-1.png'\n",
        "\n",
        "\n",
        "predict_on_single_image(model, uploaded_image_path, DEVICE)"
      ],
      "metadata": {
        "colab": {
          "base_uri": "https://localhost:8080/"
        },
        "id": "9InkYe5EpHFA",
        "outputId": "1876b39a-8d83-481e-ebdc-82218e9f7abd"
      },
      "execution_count": 28,
      "outputs": [
        {
          "output_type": "stream",
          "name": "stdout",
          "text": [
            "Model loaded and ready for prediction.\n",
            "Error: Could not load image at /content/Normal-macular-OCT-1.png\n"
          ]
        }
      ]
    },
    {
      "cell_type": "code",
      "source": [
        "import cv2\n",
        "import torch\n",
        "import numpy as np\n",
        "import matplotlib.pyplot as plt\n",
        "\n",
        "def predict_on_single_image(model, image_path, device):\n",
        "    \"\"\"\n",
        "    Loads a single image, preprocesses it, runs it through the model,\n",
        "    and visualizes the original image and the predicted mask.\n",
        "    \"\"\"\n",
        "\n",
        "    model.eval()\n",
        "\n",
        "\n",
        "    image = cv2.imread(image_path, cv2.IMREAD_GRAYSCALE)\n",
        "    if image is None:\n",
        "        print(f\"Error: Could not load image at {image_path}\")\n",
        "        return\n",
        "\n",
        "\n",
        "    original_shape = image.shape\n",
        "    image_resized = cv2.resize(image, (512, 512))\n",
        "\n",
        "    image_normalized = image_resized.astype(np.float32) / 255.0\n",
        "    image_processed = np.expand_dims(image_normalized, axis=0)\n",
        "\n",
        "    input_tensor = torch.from_numpy(image_processed).unsqueeze(0).to(device)\n",
        "\n",
        "\n",
        "    with torch.no_grad():\n",
        "        output = model(input_tensor)\n",
        "        predicted_mask = torch.argmax(output, dim=1).squeeze().cpu().numpy()\n",
        "\n",
        "\n",
        "    print(f\"Original image shape: {original_shape}\")\n",
        "    print(f\"Resized to: {image_resized.shape}\")\n",
        "\n",
        "    fig, ax = plt.subplots(1, 2, figsize=(12, 6))\n",
        "\n",
        "    ax[0].imshow(image_resized, cmap='gray')\n",
        "    ax[0].set_title(\"Input Image (Resized)\")\n",
        "    ax[0].axis('off')\n",
        "\n",
        "    ax[1].imshow(predicted_mask, cmap='viridis')\n",
        "    ax[1].set_title(\"Predicted Segmentation\")\n",
        "    ax[1].axis('off')\n",
        "\n",
        "    plt.show()\n",
        "\n",
        "\n",
        "\n",
        "\n",
        "\n",
        "MODEL_SAVE_PATH = os.path.join(PROJECT_FOLDER_IN_DRIVE, \"unet_retina_segmentation.pth\")\n",
        "model = UNet(in_channels=1, out_channels=NUM_CLASSES)\n",
        "model.load_state_dict(torch.load(MODEL_SAVE_PATH, map_location=DEVICE))\n",
        "model.to(DEVICE)\n",
        "print(\"Model loaded and ready for prediction.\")\n",
        "\n",
        "\n",
        "\n",
        "uploaded_image_path = '/content/drive/MyDrive/oct_major_project/drusen 2.v1i.coco-segmentation/train/DRUSEN-8023853-102_jpeg.rf.0fcea15b0f8b2e94c8f915e3edea504d.jpg'\n",
        "\n",
        "\n",
        "predict_on_single_image(model, uploaded_image_path, DEVICE)"
      ],
      "metadata": {
        "colab": {
          "base_uri": "https://localhost:8080/",
          "height": 534
        },
        "id": "dc-iRluswCRe",
        "outputId": "8736d2ea-a932-4545-a12c-0957e3a31aa3"
      },
      "execution_count": 29,
      "outputs": [
        {
          "output_type": "stream",
          "name": "stdout",
          "text": [
            "Model loaded and ready for prediction.\n",
            "Original image shape: (512, 512)\n",
            "Resized to: (512, 512)\n"
          ]
        },
        {
          "output_type": "display_data",
          "data": {
            "text/plain": [
              "<Figure size 1200x600 with 2 Axes>"
            ],
            "image/png": "[encoded data removed]"
          },
          "metadata": {}
        }
      ]
    },
    {
      "cell_type": "code",
      "source": [],
      "metadata": {
        "id": "CBchxirp3yrt"
      },
      "execution_count": 14,
      "outputs": []
    }
  ]
}