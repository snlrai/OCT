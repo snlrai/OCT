{
  "nbformat": 4,
  "nbformat_minor": 0,
  "metadata": {
    "colab": {
      "provenance": [],
      "gpuType": "T4",
      "authorship_tag": "ABX9TyO0p+CyhngAQeNq03oJ+ktU"
    },
    "kernelspec": {
      "name": "python3",
      "display_name": "Python 3"
    },
    "language_info": {
      "name": "python"
    },
    "accelerator": "GPU"
  },
  "cells": [
    {
      "cell_type": "code",
      "execution_count": 1,
      "metadata": {
        "colab": {
          "base_uri": "https://localhost:8080/"
        },
        "id": "l-Y7umpx8_rX",
        "outputId": "bfc64dc9-fe93-4ba3-ec2c-32a2d6cf45a1"
      },
      "outputs": [
        {
          "output_type": "stream",
          "name": "stdout",
          "text": [
            "Mounted at /content/drive\n",
            "Requirement already satisfied: pycocotools in /usr/local/lib/python3.12/dist-packages (2.0.10)\n",
            "Requirement already satisfied: numpy in /usr/local/lib/python3.12/dist-packages (from pycocotools) (2.0.2)\n"
          ]
        }
      ],
      "source": [
        "from google.colab import drive\n",
        "drive.mount('/content/drive')\n",
        "\n",
        "!pip install pycocotools"
      ]
    },
    {
      "cell_type": "code",
      "source": [
        "!pip install -U albumentations"
      ],
      "metadata": {
        "colab": {
          "base_uri": "https://localhost:8080/"
        },
        "id": "a2IqeCxEwwWq",
        "outputId": "bdb62ff2-103c-43e3-8fc6-fb19d337e97f"
      },
      "execution_count": 2,
      "outputs": [
        {
          "output_type": "stream",
          "name": "stdout",
          "text": [
            "Requirement already satisfied: albumentations in /usr/local/lib/python3.12/dist-packages (2.0.8)\n",
            "Requirement already satisfied: numpy>=1.24.4 in /usr/local/lib/python3.12/dist-packages (from albumentations) (2.0.2)\n",
            "Requirement already satisfied: scipy>=1.10.0 in /usr/local/lib/python3.12/dist-packages (from albumentations) (1.16.1)\n",
            "Requirement already satisfied: PyYAML in /usr/local/lib/python3.12/dist-packages (from albumentations) (6.0.2)\n",
            "Requirement already satisfied: pydantic>=2.9.2 in /usr/local/lib/python3.12/dist-packages (from albumentations) (2.11.7)\n",
            "Requirement already satisfied: albucore==0.0.24 in /usr/local/lib/python3.12/dist-packages (from albumentations) (0.0.24)\n",
            "Requirement already satisfied: opencv-python-headless>=4.9.0.80 in /usr/local/lib/python3.12/dist-packages (from albumentations) (4.12.0.88)\n",
            "Requirement already satisfied: stringzilla>=3.10.4 in /usr/local/lib/python3.12/dist-packages (from albucore==0.0.24->albumentations) (4.0.6)\n",
            "Requirement already satisfied: simsimd>=5.9.2 in /usr/local/lib/python3.12/dist-packages (from albucore==0.0.24->albumentations) (6.5.3)\n",
            "Requirement already satisfied: annotated-types>=0.6.0 in /usr/local/lib/python3.12/dist-packages (from pydantic>=2.9.2->albumentations) (0.7.0)\n",
            "Requirement already satisfied: pydantic-core==2.33.2 in /usr/local/lib/python3.12/dist-packages (from pydantic>=2.9.2->albumentations) (2.33.2)\n",
            "Requirement already satisfied: typing-extensions>=4.12.2 in /usr/local/lib/python3.12/dist-packages (from pydantic>=2.9.2->albumentations) (4.15.0)\n",
            "Requirement already satisfied: typing-inspection>=0.4.0 in /usr/local/lib/python3.12/dist-packages (from pydantic>=2.9.2->albumentations) (0.4.1)\n"
          ]
        }
      ]
    },
    {
      "cell_type": "markdown",
      "source": [
        "IMPORT AND CONFIGURATION"
      ],
      "metadata": {
        "id": "PsAY8mOBeTZK"
      }
    },
    {
      "cell_type": "code",
      "source": [
        "\n",
        "def process_dataset(source_data, image_id_offset, ann_id_offset):\n",
        "    images = []\n",
        "    annotations = []\n",
        "    image_id_map = {}\n",
        "\n",
        "    for img in source_data['images']:\n",
        "        old_id = img['id']\n",
        "        new_id = old_id + image_id_offset\n",
        "        image_id_map[old_id] = new_id\n",
        "        img['id'] = new_id\n",
        "        images.append(img)\n",
        "\n",
        "    for ann in source_data['annotations']:\n",
        "        ann['id'] += ann_id_offset\n",
        "        ann['image_id'] = image_id_map[ann['image_id']]\n",
        "        annotations.append(ann)\n",
        "\n",
        "    return images, annotations\n",
        "\n",
        "normal_images, normal_annotations = process_dataset(normal_data, 0, 0)\n",
        "merged_data['images'].extend(normal_images)\n",
        "merged_data['annotations'].extend(normal_annotations)\n",
        "\n",
        "\n",
        "image_id_offset = len(merged_data['images'])\n",
        "ann_id_offset = len(merged_data['annotations'])\n",
        "\n",
        "\n",
        "drusen_images, drusen_annotations = process_dataset(drusen_data, image_id_offset, ann_id_offset)\n",
        "merged_data['images'].extend(drusen_images)\n",
        "merged_data['annotations'].extend(drusen_annotations)"
      ],
      "metadata": {
        "id": "9R58rCXpHFma"
      },
      "execution_count": 15,
      "outputs": []
    },
    {
      "cell_type": "code",
      "source": [
        "# Part 1: Imports, Setup, and Configuration\n",
        "# ==========================================\n",
        "import torch\n",
        "import torch.nn as nn\n",
        "import torch.optim as optim\n",
        "from torch.utils.data import Dataset, DataLoader, Subset\n",
        "import os\n",
        "import cv2\n",
        "import numpy as np\n",
        "from tqdm import tqdm\n",
        "from pycocotools.coco import COCO\n",
        "import json\n",
        "from google.colab import drive\n",
        "from sklearn.model_selection import KFold\n",
        "import albumentations as A\n",
        "from albumentations.pytorch import ToTensorV2\n",
        "\n",
        "\n",
        "drive.mount('/content/drive')\n",
        "\n",
        "\n",
        "PROJECT_FOLDER_IN_DRIVE = '/content/drive/MyDrive/oct_major_project/'\n",
        "COMBINED_DATA_DIR = os.path.join(PROJECT_FOLDER_IN_DRIVE, 'combined_data/')\n",
        "JSON_PATH = os.path.join(COMBINED_DATA_DIR, '_merged_annotations.coco.json')\n",
        "IMAGE_DIR = os.path.join(COMBINED_DATA_DIR, 'images/')\n",
        "MASK_SAVE_DIR = os.path.join(COMBINED_DATA_DIR, 'masks/')\n",
        "\n",
        "\n",
        "os.makedirs(MASK_SAVE_DIR, exist_ok=True)\n",
        "\n",
        "\n",
        "DEVICE = \"cuda\" if torch.cuda.is_available() else \"cpu\"\n",
        "LEARNING_RATE = 1e-4\n",
        "BATCH_SIZE = 4\n",
        "NUM_CLASSES = 11\n",
        "K_FOLDS = 5\n",
        "NUM_EPOCHS_PER_FOLD = 25\n",
        "\n",
        "print(f\"Using device: {DEVICE}\")"
      ],
      "metadata": {
        "colab": {
          "base_uri": "https://localhost:8080/"
        },
        "id": "-MErr1n1B0qE",
        "outputId": "592083f6-d1b4-4a24-ed24-f5f1309a1221"
      },
      "execution_count": 20,
      "outputs": [
        {
          "output_type": "stream",
          "name": "stdout",
          "text": [
            "Drive already mounted at /content/drive; to attempt to forcibly remount, call drive.mount(\"/content/drive\", force_remount=True).\n",
            "Using device: cuda\n"
          ]
        }
      ]
    },
    {
      "cell_type": "markdown",
      "source": [
        "GROUND TRUTH MASK GENERATION"
      ],
      "metadata": {
        "id": "9xhiYEpbe15g"
      }
    },
    {
      "cell_type": "code",
      "source": [
        "print(\"Loading COCO JSON for segmentation...\")\n",
        "coco = COCO(JSON_PATH)\n",
        "img_ids = coco.getImgIds()\n",
        "images = coco.loadImgs(img_ids)\n",
        "\n",
        "print(f\"Found {len(images)} images. Starting mask generation...\")\n",
        "\n",
        "for img_info in tqdm(images, desc=\"Generating Masks\"):\n",
        "    img_id = img_info['id']\n",
        "    img_file_name = img_info['file_name']\n",
        "    img_height = img_info['height']\n",
        "    img_width = img_info['width']\n",
        "\n",
        "    mask = np.zeros((img_height, img_width), dtype=np.uint8)\n",
        "    ann_ids = coco.getAnnIds(imgIds=img_id)\n",
        "    anns = coco.loadAnns(ann_ids)\n",
        "\n",
        "    for ann in anns:\n",
        "        category_id = ann['category_id']\n",
        "        for seg in ann['segmentation']:\n",
        "            poly = np.array(seg, dtype=np.int32).reshape((-1, 1, 2))\n",
        "            cv2.fillPoly(mask, [poly], color=(category_id))\n",
        "\n",
        "    base_name = img_file_name.split('.')[0]\n",
        "    mask_file_name = f\"{base_name}.png\"\n",
        "    save_path = os.path.join(MASK_SAVE_DIR, mask_file_name)\n",
        "    cv2.imwrite(save_path, mask)\n",
        "\n",
        "print(f\"\\nMask generation complete! The images are saved in: {MASK_SAVE_DIR}\")"
      ],
      "metadata": {
        "colab": {
          "base_uri": "https://localhost:8080/"
        },
        "id": "LO_VAbnPbL5-",
        "outputId": "08c4452d-c305-4b80-bb52-98ef7e737f5a"
      },
      "execution_count": 21,
      "outputs": [
        {
          "output_type": "stream",
          "name": "stdout",
          "text": [
            "Loading COCO JSON for segmentation...\n",
            "loading annotations into memory...\n",
            "Done (t=0.01s)\n",
            "creating index...\n",
            "index created!\n",
            "Found 39 images. Starting mask generation...\n"
          ]
        },
        {
          "output_type": "stream",
          "name": "stderr",
          "text": [
            "Generating Masks: 100%|██████████| 39/39 [00:00<00:00, 146.56it/s]"
          ]
        },
        {
          "output_type": "stream",
          "name": "stdout",
          "text": [
            "\n",
            "Mask generation complete! The images are saved in: /content/drive/MyDrive/oct_major_project/combined_data/masks/\n"
          ]
        },
        {
          "output_type": "stream",
          "name": "stderr",
          "text": [
            "\n"
          ]
        }
      ]
    },
    {
      "cell_type": "markdown",
      "source": [
        "UNET MODEL DEFENITION"
      ],
      "metadata": {
        "id": "FDpGdsURozN_"
      }
    },
    {
      "cell_type": "code",
      "source": [
        "class DoubleConv(nn.Module):\n",
        "    def __init__(self, in_channels, out_channels):\n",
        "        super(DoubleConv, self).__init__()\n",
        "        self.conv = nn.Sequential(\n",
        "            nn.Conv2d(in_channels, out_channels, 3, 1, 1, bias=False),\n",
        "            nn.BatchNorm2d(out_channels),\n",
        "            nn.ReLU(inplace=True),\n",
        "            nn.Conv2d(out_channels, out_channels, 3, 1, 1, bias=False),\n",
        "            nn.BatchNorm2d(out_channels),\n",
        "            nn.ReLU(inplace=True),\n",
        "        )\n",
        "    def forward(self, x):\n",
        "        return self.conv(x)\n",
        "\n",
        "class UNet(nn.Module):\n",
        "    def __init__(self, in_channels=1, out_channels=NUM_CLASSES, features=[64, 128, 256, 512]):\n",
        "        super(UNet, self).__init__()\n",
        "        self.ups = nn.ModuleList()\n",
        "        self.downs = nn.ModuleList()\n",
        "        self.pool = nn.MaxPool2d(kernel_size=2, stride=2)\n",
        "\n",
        "        for feature in features:\n",
        "            self.downs.append(DoubleConv(in_channels, feature))\n",
        "            in_channels = feature\n",
        "\n",
        "        for feature in reversed(features):\n",
        "            self.ups.append(nn.ConvTranspose2d(feature*2, feature, kernel_size=2, stride=2))\n",
        "            self.ups.append(DoubleConv(feature*2, feature))\n",
        "\n",
        "        self.bottleneck = DoubleConv(features[-1], features[-1]*2)\n",
        "        self.final_conv = nn.Conv2d(features[0], out_channels, kernel_size=1)\n",
        "\n",
        "    def forward(self, x):\n",
        "        skip_connections = []\n",
        "        for down in self.downs:\n",
        "            x = down(x)\n",
        "            skip_connections.append(x)\n",
        "            x = self.pool(x)\n",
        "        x = self.bottleneck(x)\n",
        "        skip_connections = skip_connections[::-1]\n",
        "        for idx in range(0, len(self.ups), 2):\n",
        "            x = self.ups[idx](x)\n",
        "            skip_connection = skip_connections[idx//2]\n",
        "            if x.shape != skip_connection.shape:\n",
        "                x = torch.nn.functional.interpolate(x, size=skip_connection.shape[2:])\n",
        "            concat_skip = torch.cat((skip_connection, x), dim=1)\n",
        "            x = self.ups[idx+1](concat_skip)\n",
        "        return self.final_conv(x)\n",
        "\n",
        "print(\"U-Net model class defined.\")"
      ],
      "metadata": {
        "colab": {
          "base_uri": "https://localhost:8080/"
        },
        "id": "Gn6B4rvWkVgr",
        "outputId": "e0db13a0-42c0-494f-9759-e606e2ecc98c"
      },
      "execution_count": 22,
      "outputs": [
        {
          "output_type": "stream",
          "name": "stdout",
          "text": [
            "U-Net model class defined.\n"
          ]
        }
      ]
    },
    {
      "cell_type": "markdown",
      "source": [
        "CUSTOM DATASET CLASS"
      ],
      "metadata": {
        "id": "7QsnOEF2o4RM"
      }
    },
    {
      "cell_type": "code",
      "source": [
        "import albumentations as A\n",
        "from albumentations.pytorch import ToTensorV2\n",
        "\n",
        "class RetinaDataset(Dataset):\n",
        "    def __init__(self, image_dir, mask_dir, transform=None):\n",
        "        self.image_dir = image_dir\n",
        "        self.mask_dir = mask_dir\n",
        "        self.images = sorted([f for f in os.listdir(image_dir) if f.endswith('.jpg')])\n",
        "        self.transform = transform\n",
        "\n",
        "    def __len__(self):\n",
        "        return len(self.images)\n",
        "\n",
        "    def __getitem__(self, index):\n",
        "        img_file = self.images[index]\n",
        "        mask_file = img_file.split('.')[0] + '.png'\n",
        "\n",
        "        img_path = os.path.join(self.image_dir, img_file)\n",
        "        mask_path = os.path.join(self.mask_dir, mask_file)\n",
        "\n",
        "\n",
        "        image = cv2.imread(img_path, cv2.IMREAD_GRAYSCALE)\n",
        "        mask = cv2.imread(mask_path, cv2.IMREAD_GRAYSCALE)\n",
        "\n",
        "\n",
        "        if self.transform is not None:\n",
        "            augmented = self.transform(image=image, mask=mask)\n",
        "            image = augmented['image']\n",
        "            mask = augmented['mask']\n",
        "\n",
        "        return image, mask\n",
        "\n",
        "\n",
        "\n",
        "train_transform = A.Compose(\n",
        "    [\n",
        "        A.Resize(height=512, width=512),\n",
        "        A.HorizontalFlip(p=0.5),\n",
        "        A.RandomBrightnessContrast(p=0.3),\n",
        "        A.GaussianBlur(p=0.2),\n",
        "        A.GaussNoise(p=0.2),\n",
        "\n",
        "\n",
        "        A.Normalize(mean=[0.5], std=[0.5]),\n",
        "\n",
        "\n",
        "        ToTensorV2(),\n",
        "    ]\n",
        ")\n",
        "\n",
        "val_transform = A.Compose(\n",
        "    [\n",
        "        A.Resize(height=512, width=512),\n",
        "\n",
        "\n",
        "        A.Normalize(mean=[0.5], std=[0.5]),\n",
        "\n",
        "\n",
        "        ToTensorV2(),\n",
        "    ]\n",
        ")\n",
        "\n",
        "print(\"Dataset class and augmentation transforms have been updated.\")"
      ],
      "metadata": {
        "id": "2tLbPhuhoLsC",
        "outputId": "b23c9a29-7a44-4e14-8ac5-554de3f406dc",
        "colab": {
          "base_uri": "https://localhost:8080/"
        }
      },
      "execution_count": 23,
      "outputs": [
        {
          "output_type": "stream",
          "name": "stdout",
          "text": [
            "Dataset class and augmentation transforms have been updated.\n"
          ]
        }
      ]
    },
    {
      "cell_type": "code",
      "source": [
        "from sklearn.model_selection import KFold\n",
        "from torch.utils.data import Subset, DataLoader\n",
        "\n",
        "\n",
        "full_dataset = RetinaDataset(image_dir=IMAGE_DIR, mask_dir=MASK_SAVE_DIR)\n",
        "\n",
        "\n",
        "dice_scores = []\n",
        "kfold = KFold(n_splits=K_FOLDS, shuffle=True, random_state=42)\n",
        "\n",
        "print(\"--- Starting 5-Fold Cross-Validation ---\")\n",
        "\n",
        "for fold, (train_ids, val_ids) in enumerate(kfold.split(full_dataset)):\n",
        "    print(f\"\\n----------- FOLD {fold+1}/{K_FOLDS} -----------\")\n",
        "\n",
        "\n",
        "    train_subset = Subset(full_dataset, train_ids)\n",
        "    val_subset = Subset(full_dataset, val_ids)\n",
        "\n",
        "\n",
        "    train_subset.dataset.transform = train_transform\n",
        "    val_subset.dataset.transform = val_transform\n",
        "\n",
        "\n",
        "    train_loader = DataLoader(train_subset, batch_size=BATCH_SIZE, shuffle=True)\n",
        "    val_loader = DataLoader(val_subset, batch_size=BATCH_SIZE, shuffle=False)\n",
        "\n",
        "\n",
        "    model = UNet(in_channels=1, out_channels=NUM_CLASSES).to(DEVICE)\n",
        "    optimizer = optim.Adam(model.parameters(), lr=LEARNING_RATE)\n",
        "    loss_fn = nn.CrossEntropyLoss()\n",
        "\n",
        "\n",
        "    for epoch in range(NUM_EPOCHS_PER_FOLD):\n",
        "        print(f\"  Epoch {epoch+1}/{NUM_EPOCHS_PER_FOLD}\")\n",
        "        train_fn(train_loader, model, optimizer, loss_fn)\n",
        "\n",
        "\n",
        "    print(f\"--- Evaluating on Fold {fold+1} ---\")\n",
        "    fold_dice_score = check_accuracy(val_loader, model, device=DEVICE)\n",
        "    dice_scores.append(fold_dice_score.item())\n",
        "\n",
        "\n",
        "average_dice_score = sum(dice_scores) / len(dice_scores)\n",
        "print(\"\\n----------- K-Fold Cross-Validation Results -----------\")\n",
        "print(f\"Dice scores for each fold: {dice_scores}\")\n",
        "print(f\"Average Dice Score across all {K_FOLDS} folds: {average_dice_score:.4f}\")"
      ],
      "metadata": {
        "id": "AjhwlLiFPo54",
        "outputId": "e871ca9b-657e-422c-b98b-b8c0d01c5747",
        "colab": {
          "base_uri": "https://localhost:8080/",
          "height": 460
        }
      },
      "execution_count": 24,
      "outputs": [
        {
          "output_type": "stream",
          "name": "stdout",
          "text": [
            "--- Starting 5-Fold Cross-Validation ---\n",
            "\n",
            "----------- FOLD 1/5 -----------\n",
            "  Epoch 1/25\n"
          ]
        },
        {
          "output_type": "stream",
          "name": "stderr",
          "text": [
            "Training:   0%|          | 0/8 [00:00<?, ?it/s]\n"
          ]
        },
        {
          "output_type": "error",
          "ename": "RuntimeError",
          "evalue": "expected scalar type Long but found Byte",
          "traceback": [
            "\u001b[0;31m---------------------------------------------------------------------------\u001b[0m",
            "\u001b[0;31mRuntimeError\u001b[0m                              Traceback (most recent call last)",
            "\u001b[0;32m/tmp/ipython-input-127694705.py\u001b[0m in \u001b[0;36m<cell line: 0>\u001b[0;34m()\u001b[0m\n\u001b[1;32m     34\u001b[0m     \u001b[0;32mfor\u001b[0m \u001b[0mepoch\u001b[0m \u001b[0;32min\u001b[0m \u001b[0mrange\u001b[0m\u001b[0;34m(\u001b[0m\u001b[0mNUM_EPOCHS_PER_FOLD\u001b[0m\u001b[0;34m)\u001b[0m\u001b[0;34m:\u001b[0m\u001b[0;34m\u001b[0m\u001b[0;34m\u001b[0m\u001b[0m\n\u001b[1;32m     35\u001b[0m         \u001b[0mprint\u001b[0m\u001b[0;34m(\u001b[0m\u001b[0;34mf\"  Epoch {epoch+1}/{NUM_EPOCHS_PER_FOLD}\"\u001b[0m\u001b[0;34m)\u001b[0m\u001b[0;34m\u001b[0m\u001b[0;34m\u001b[0m\u001b[0m\n\u001b[0;32m---> 36\u001b[0;31m         \u001b[0mtrain_fn\u001b[0m\u001b[0;34m(\u001b[0m\u001b[0mtrain_loader\u001b[0m\u001b[0;34m,\u001b[0m \u001b[0mmodel\u001b[0m\u001b[0;34m,\u001b[0m \u001b[0moptimizer\u001b[0m\u001b[0;34m,\u001b[0m \u001b[0mloss_fn\u001b[0m\u001b[0;34m)\u001b[0m\u001b[0;34m\u001b[0m\u001b[0;34m\u001b[0m\u001b[0m\n\u001b[0m\u001b[1;32m     37\u001b[0m \u001b[0;34m\u001b[0m\u001b[0m\n\u001b[1;32m     38\u001b[0m \u001b[0;34m\u001b[0m\u001b[0m\n",
            "\u001b[0;32m/tmp/ipython-input-1604416556.py\u001b[0m in \u001b[0;36mtrain_fn\u001b[0;34m(loader, model, optimizer, loss_fn)\u001b[0m\n\u001b[1;32m      9\u001b[0m \u001b[0;34m\u001b[0m\u001b[0m\n\u001b[1;32m     10\u001b[0m         \u001b[0mpredictions\u001b[0m \u001b[0;34m=\u001b[0m \u001b[0mmodel\u001b[0m\u001b[0;34m(\u001b[0m\u001b[0mdata\u001b[0m\u001b[0;34m)\u001b[0m\u001b[0;34m\u001b[0m\u001b[0;34m\u001b[0m\u001b[0m\n\u001b[0;32m---> 11\u001b[0;31m         \u001b[0mloss\u001b[0m \u001b[0;34m=\u001b[0m \u001b[0mloss_fn\u001b[0m\u001b[0;34m(\u001b[0m\u001b[0mpredictions\u001b[0m\u001b[0;34m,\u001b[0m \u001b[0mtargets\u001b[0m\u001b[0;34m)\u001b[0m\u001b[0;34m\u001b[0m\u001b[0;34m\u001b[0m\u001b[0m\n\u001b[0m\u001b[1;32m     12\u001b[0m \u001b[0;34m\u001b[0m\u001b[0m\n\u001b[1;32m     13\u001b[0m         \u001b[0moptimizer\u001b[0m\u001b[0;34m.\u001b[0m\u001b[0mzero_grad\u001b[0m\u001b[0;34m(\u001b[0m\u001b[0;34m)\u001b[0m\u001b[0;34m\u001b[0m\u001b[0;34m\u001b[0m\u001b[0m\n",
            "\u001b[0;32m/usr/local/lib/python3.12/dist-packages/torch/nn/modules/module.py\u001b[0m in \u001b[0;36m_wrapped_call_impl\u001b[0;34m(self, *args, **kwargs)\u001b[0m\n\u001b[1;32m   1771\u001b[0m             \u001b[0;32mreturn\u001b[0m \u001b[0mself\u001b[0m\u001b[0;34m.\u001b[0m\u001b[0m_compiled_call_impl\u001b[0m\u001b[0;34m(\u001b[0m\u001b[0;34m*\u001b[0m\u001b[0margs\u001b[0m\u001b[0;34m,\u001b[0m \u001b[0;34m**\u001b[0m\u001b[0mkwargs\u001b[0m\u001b[0;34m)\u001b[0m  \u001b[0;31m# type: ignore[misc]\u001b[0m\u001b[0;34m\u001b[0m\u001b[0;34m\u001b[0m\u001b[0m\n\u001b[1;32m   1772\u001b[0m         \u001b[0;32melse\u001b[0m\u001b[0;34m:\u001b[0m\u001b[0;34m\u001b[0m\u001b[0;34m\u001b[0m\u001b[0m\n\u001b[0;32m-> 1773\u001b[0;31m             \u001b[0;32mreturn\u001b[0m \u001b[0mself\u001b[0m\u001b[0;34m.\u001b[0m\u001b[0m_call_impl\u001b[0m\u001b[0;34m(\u001b[0m\u001b[0;34m*\u001b[0m\u001b[0margs\u001b[0m\u001b[0;34m,\u001b[0m \u001b[0;34m**\u001b[0m\u001b[0mkwargs\u001b[0m\u001b[0;34m)\u001b[0m\u001b[0;34m\u001b[0m\u001b[0;34m\u001b[0m\u001b[0m\n\u001b[0m\u001b[1;32m   1774\u001b[0m \u001b[0;34m\u001b[0m\u001b[0m\n\u001b[1;32m   1775\u001b[0m     \u001b[0;31m# torchrec tests the code consistency with the following code\u001b[0m\u001b[0;34m\u001b[0m\u001b[0;34m\u001b[0m\u001b[0m\n",
            "\u001b[0;32m/usr/local/lib/python3.12/dist-packages/torch/nn/modules/module.py\u001b[0m in \u001b[0;36m_call_impl\u001b[0;34m(self, *args, **kwargs)\u001b[0m\n\u001b[1;32m   1782\u001b[0m                 \u001b[0;32mor\u001b[0m \u001b[0m_global_backward_pre_hooks\u001b[0m \u001b[0;32mor\u001b[0m \u001b[0m_global_backward_hooks\u001b[0m\u001b[0;34m\u001b[0m\u001b[0;34m\u001b[0m\u001b[0m\n\u001b[1;32m   1783\u001b[0m                 or _global_forward_hooks or _global_forward_pre_hooks):\n\u001b[0;32m-> 1784\u001b[0;31m             \u001b[0;32mreturn\u001b[0m \u001b[0mforward_call\u001b[0m\u001b[0;34m(\u001b[0m\u001b[0;34m*\u001b[0m\u001b[0margs\u001b[0m\u001b[0;34m,\u001b[0m \u001b[0;34m**\u001b[0m\u001b[0mkwargs\u001b[0m\u001b[0;34m)\u001b[0m\u001b[0;34m\u001b[0m\u001b[0;34m\u001b[0m\u001b[0m\n\u001b[0m\u001b[1;32m   1785\u001b[0m \u001b[0;34m\u001b[0m\u001b[0m\n\u001b[1;32m   1786\u001b[0m         \u001b[0mresult\u001b[0m \u001b[0;34m=\u001b[0m \u001b[0;32mNone\u001b[0m\u001b[0;34m\u001b[0m\u001b[0;34m\u001b[0m\u001b[0m\n",
            "\u001b[0;32m/usr/local/lib/python3.12/dist-packages/torch/nn/modules/loss.py\u001b[0m in \u001b[0;36mforward\u001b[0;34m(self, input, target)\u001b[0m\n\u001b[1;32m   1308\u001b[0m \u001b[0;34m\u001b[0m\u001b[0m\n\u001b[1;32m   1309\u001b[0m     \u001b[0;32mdef\u001b[0m \u001b[0mforward\u001b[0m\u001b[0;34m(\u001b[0m\u001b[0mself\u001b[0m\u001b[0;34m,\u001b[0m \u001b[0minput\u001b[0m\u001b[0;34m:\u001b[0m \u001b[0mTensor\u001b[0m\u001b[0;34m,\u001b[0m \u001b[0mtarget\u001b[0m\u001b[0;34m:\u001b[0m \u001b[0mTensor\u001b[0m\u001b[0;34m)\u001b[0m \u001b[0;34m->\u001b[0m \u001b[0mTensor\u001b[0m\u001b[0;34m:\u001b[0m\u001b[0;34m\u001b[0m\u001b[0;34m\u001b[0m\u001b[0m\n\u001b[0;32m-> 1310\u001b[0;31m         return F.cross_entropy(\n\u001b[0m\u001b[1;32m   1311\u001b[0m             \u001b[0minput\u001b[0m\u001b[0;34m,\u001b[0m\u001b[0;34m\u001b[0m\u001b[0;34m\u001b[0m\u001b[0m\n\u001b[1;32m   1312\u001b[0m             \u001b[0mtarget\u001b[0m\u001b[0;34m,\u001b[0m\u001b[0;34m\u001b[0m\u001b[0;34m\u001b[0m\u001b[0m\n",
            "\u001b[0;32m/usr/local/lib/python3.12/dist-packages/torch/nn/functional.py\u001b[0m in \u001b[0;36mcross_entropy\u001b[0;34m(input, target, weight, size_average, ignore_index, reduce, reduction, label_smoothing)\u001b[0m\n\u001b[1;32m   3460\u001b[0m     \u001b[0;32mif\u001b[0m \u001b[0msize_average\u001b[0m \u001b[0;32mis\u001b[0m \u001b[0;32mnot\u001b[0m \u001b[0;32mNone\u001b[0m \u001b[0;32mor\u001b[0m \u001b[0mreduce\u001b[0m \u001b[0;32mis\u001b[0m \u001b[0;32mnot\u001b[0m \u001b[0;32mNone\u001b[0m\u001b[0;34m:\u001b[0m\u001b[0;34m\u001b[0m\u001b[0;34m\u001b[0m\u001b[0m\n\u001b[1;32m   3461\u001b[0m         \u001b[0mreduction\u001b[0m \u001b[0;34m=\u001b[0m \u001b[0m_Reduction\u001b[0m\u001b[0;34m.\u001b[0m\u001b[0mlegacy_get_string\u001b[0m\u001b[0;34m(\u001b[0m\u001b[0msize_average\u001b[0m\u001b[0;34m,\u001b[0m \u001b[0mreduce\u001b[0m\u001b[0;34m)\u001b[0m\u001b[0;34m\u001b[0m\u001b[0;34m\u001b[0m\u001b[0m\n\u001b[0;32m-> 3462\u001b[0;31m     return torch._C._nn.cross_entropy_loss(\n\u001b[0m\u001b[1;32m   3463\u001b[0m         \u001b[0minput\u001b[0m\u001b[0;34m,\u001b[0m\u001b[0;34m\u001b[0m\u001b[0;34m\u001b[0m\u001b[0m\n\u001b[1;32m   3464\u001b[0m         \u001b[0mtarget\u001b[0m\u001b[0;34m,\u001b[0m\u001b[0;34m\u001b[0m\u001b[0;34m\u001b[0m\u001b[0m\n",
            "\u001b[0;31mRuntimeError\u001b[0m: expected scalar type Long but found Byte"
          ]
        }
      ]
    },
    {
      "cell_type": "code",
      "source": [
        "import torch\n",
        "\n",
        "print(\"Calculating class weights from the training set...\")\n",
        "\n",
        "\n",
        "num_classes = 11\n",
        "pixel_counts = torch.zeros(num_classes, dtype=torch.long)\n",
        "\n",
        "\n",
        "temp_loader = DataLoader(\n",
        "    train_subset,\n",
        "    batch_size=4,\n",
        "    shuffle=False,\n",
        "    num_workers=2\n",
        ")\n",
        "\n",
        "for _, masks in tqdm(temp_loader, desc=\"Counting pixels per class\"):\n",
        "    for i in range(num_classes):\n",
        "        pixel_counts[i] += (masks == i).sum()\n",
        "\n",
        "print(\"\\nTotal pixels per class in the training set:\")\n",
        "for i in range(num_classes):\n",
        "    print(f\"Class {i}: {pixel_counts[i].item()} pixels\")\n",
        "\n",
        "\n",
        "epsilon = 1e-6\n",
        "weights = 1.0 / (pixel_counts.float() + 1e-6)\n",
        "\n",
        "\n",
        "weights = weights / weights.sum()\n",
        "\n",
        "\n",
        "class_weights = weights.to(DEVICE)\n",
        "\n",
        "print(\"\\nCalculated Class Weights (normalized):\")\n",
        "print(class_weights)"
      ],
      "metadata": {
        "id": "9J49evVsOuuR",
        "outputId": "56573b2d-b3c4-4ba1-9f5a-6349f7c5678a",
        "colab": {
          "base_uri": "https://localhost:8080/"
        }
      },
      "execution_count": 9,
      "outputs": [
        {
          "output_type": "stream",
          "name": "stdout",
          "text": [
            "Calculating class weights from the training set...\n"
          ]
        },
        {
          "output_type": "stream",
          "name": "stderr",
          "text": [
            "Counting pixels per class: 100%|██████████| 8/8 [00:07<00:00,  1.03it/s]\n"
          ]
        },
        {
          "output_type": "stream",
          "name": "stdout",
          "text": [
            "\n",
            "Total pixels per class in the training set:\n",
            "Class 0: 6831877 pixels\n",
            "Class 1: 115550 pixels\n",
            "Class 2: 149015 pixels\n",
            "Class 3: 127719 pixels\n",
            "Class 4: 173181 pixels\n",
            "Class 5: 103865 pixels\n",
            "Class 6: 231620 pixels\n",
            "Class 7: 219864 pixels\n",
            "Class 8: 17536 pixels\n",
            "Class 9: 41622 pixels\n",
            "Class 10: 114615 pixels\n",
            "\n",
            "Calculated Class Weights (normalized):\n",
            "tensor([0.0011, 0.0630, 0.0488, 0.0570, 0.0420, 0.0701, 0.0314, 0.0331, 0.4151,\n",
            "        0.1749, 0.0635], device='cuda:0')\n"
          ]
        }
      ]
    },
    {
      "cell_type": "markdown",
      "source": [
        "TRAINING FUNTION"
      ],
      "metadata": {
        "id": "2XIWo38_o78M"
      }
    },
    {
      "cell_type": "code",
      "source": [
        "def train_fn(loader, model, optimizer, loss_fn):\n",
        "    loop = tqdm(loader, desc=\"Training\")\n",
        "    total_loss = 0.0\n",
        "\n",
        "    model.train()\n",
        "\n",
        "    for batch_idx, (data, targets) in enumerate(loop):\n",
        "        data, targets = data.to(device=DEVICE), targets.to(device=DEVICE)\n",
        "\n",
        "        predictions = model(data)\n",
        "        loss = loss_fn(predictions, targets)\n",
        "\n",
        "        optimizer.zero_grad()\n",
        "        loss.backward()\n",
        "        optimizer.step()\n",
        "\n",
        "        total_loss += loss.item()\n",
        "        loop.set_postfix(loss=loss.item())\n",
        "\n",
        "    print(f\"Average training loss for the epoch: {total_loss / len(loader)}\")\n",
        "\n",
        "print(\"Training function defined.\")\n"
      ],
      "metadata": {
        "colab": {
          "base_uri": "https://localhost:8080/"
        },
        "id": "UPTWLEsboVLi",
        "outputId": "2e298b7a-f930-4e56-d5ea-2cf742dd9029"
      },
      "execution_count": 10,
      "outputs": [
        {
          "output_type": "stream",
          "name": "stdout",
          "text": [
            "Training function defined.\n"
          ]
        }
      ]
    },
    {
      "cell_type": "markdown",
      "source": [
        "TRAINING"
      ],
      "metadata": {
        "id": "yr-8QPLzo_C3"
      }
    },
    {
      "cell_type": "code",
      "source": [
        "def check_metrics(loader, model, device=\"cuda\"):\n",
        "    \"\"\"\n",
        "    Calculates and prints Pixel Accuracy, Dice Score, and IoU Score for a given dataset.\n",
        "    \"\"\"\n",
        "    num_correct = 0\n",
        "    num_pixels = 0\n",
        "    dice_score = 0\n",
        "    iou_score = 0\n",
        "\n",
        "\n",
        "    model.eval()\n",
        "\n",
        "    with torch.no_grad():\n",
        "        for x, y in tqdm(loader, desc=\"Calculating Metrics\"):\n",
        "            x = x.to(device)\n",
        "            y = y.to(device)\n",
        "\n",
        "            preds = model(x)\n",
        "            preds = torch.argmax(preds, dim=1)\n",
        "\n",
        "\n",
        "            num_correct += (preds == y).sum()\n",
        "            num_pixels += torch.numel(preds)\n",
        "\n",
        "            y_one_hot = torch.nn.functional.one_hot(y, num_classes=model.final_conv.out_channels).permute(0, 3, 1, 2)\n",
        "            preds_one_hot = torch.nn.functional.one_hot(preds, num_classes=model.final_conv.out_channels).permute(0, 3, 1, 2)\n",
        "            intersection = (preds_one_hot * y_one_hot).float().sum()\n",
        "\n",
        "\n",
        "            union = preds_one_hot.float().sum() + y_one_hot.float().sum()\n",
        "\n",
        "\n",
        "            dice_score += (2. * intersection) / (union + 1e-8) # 1e-8 to avoid division by zero\n",
        "\n",
        "\n",
        "            iou_score += intersection / (union - intersection + 1e-8)\n",
        "\n",
        "\n",
        "    pixel_acc = (num_correct/num_pixels)*100\n",
        "    avg_dice = (dice_score/len(loader))\n",
        "    avg_iou = (iou_score/len(loader))\n",
        "\n",
        "    print(f\"\\nGot {num_correct}/{num_pixels} with pixel accuracy {pixel_acc:.2f}%\")\n",
        "    print(f\"Average Dice Score: {avg_dice:.4f}\")\n",
        "    print(f\"Average IoU Score: {avg_iou:.4f}\")\n",
        "\n",
        "\n",
        "    model.train()\n",
        "\n",
        "    return pixel_acc, avg_dice, avg_iou"
      ],
      "metadata": {
        "id": "DxipnjHKtLRj"
      },
      "execution_count": 11,
      "outputs": []
    },
    {
      "cell_type": "code",
      "source": [
        "\n",
        "model = UNet(in_channels=1, out_channels=NUM_CLASSES).to(DEVICE)\n",
        "loss_fn = nn.CrossEntropyLoss(weight=class_weights)\n",
        "\n",
        "print(\"Loss function updated with class weights.\")\n",
        "optimizer = optim.Adam(model.parameters(), lr=LEARNING_RATE)\n",
        "\n",
        "\n",
        "from torch.utils.data import random_split, Subset\n",
        "\n",
        "\n",
        "full_dataset_for_split = RetinaDataset(image_dir=IMAGE_DIR, mask_dir=MASK_SAVE_DIR)\n",
        "\n",
        "\n",
        "train_size = int(0.8 * len(full_dataset_for_split))\n",
        "val_size = len(full_dataset_for_split) - train_size\n",
        "indices = list(range(len(full_dataset_for_split)))\n",
        "train_indices, val_indices = random_split(indices, [train_size, val_size])\n",
        "\n",
        "print(f\"Full dataset size: {len(full_dataset_for_split)}\")\n",
        "print(f\"Training indices: {len(train_indices)}\")\n",
        "print(f\"Validation indices: {len(val_indices)}\")\n",
        "\n",
        "\n",
        "\n",
        "train_dataset_with_transform = RetinaDataset(\n",
        "    image_dir=IMAGE_DIR,\n",
        "    mask_dir=MASK_SAVE_DIR,\n",
        "    transform=train_transform\n",
        ")\n",
        "\n",
        "\n",
        "val_dataset_with_transform = RetinaDataset(\n",
        "    image_dir=IMAGE_DIR,\n",
        "    mask_dir=MASK_SAVE_DIR,\n",
        "    transform=val_transform\n",
        ")\n",
        "\n",
        "\n",
        "\n",
        "train_subset = Subset(train_dataset_with_transform, train_indices)\n",
        "val_subset = Subset(val_dataset_with_transform, val_indices)\n",
        "\n",
        "\n",
        "train_loader = DataLoader(\n",
        "    train_subset,\n",
        "    batch_size=BATCH_SIZE,\n",
        "    shuffle=True,\n",
        "    num_workers=2,\n",
        "    pin_memory=True\n",
        ")\n",
        "\n",
        "val_loader = DataLoader(\n",
        "    val_subset,\n",
        "    batch_size=BATCH_SIZE,\n",
        "    shuffle=False,\n",
        "    num_workers=2,\n",
        "    pin_memory=True\n",
        ")\n",
        "\n",
        "print(\"\\nDatasets and DataLoaders created successfully with augmentations for the training set.\")\n",
        "\n",
        "\n",
        "\n",
        "for epoch in range(NUM_EPOCHS):\n",
        "    print(f\"\\n--- Epoch {epoch+1}/{NUM_EPOCHS} ---\")\n",
        "    train_fn(train_loader, model, optimizer, loss_fn)\n",
        "    print(\"\\n--- VALIDATION METRICS ---\")\n",
        "    check_metrics(val_loader, model, device=DEVICE)\n",
        "\n",
        "print(\"\\nTraining finished!\")\n",
        "\n",
        "print(\"\\n--- FINAL VALIDATION METRICS ---\")\n",
        "check_metrics(val_loader, model, device=DEVICE)\n",
        "\n",
        "\n",
        "MODEL_SAVE_PATH = os.path.join(PROJECT_FOLDER_IN_DRIVE, \"unet_retina_segmentation.pth\")\n",
        "torch.save(model.state_dict(), MODEL_SAVE_PATH)\n",
        "print(f\"Model saved to {MODEL_SAVE_PATH}\")"
      ],
      "metadata": {
        "colab": {
          "base_uri": "https://localhost:8080/"
        },
        "id": "Alxp6jD4oYzT",
        "outputId": "93c41d3d-efa3-4fc3-d491-bdc660991155"
      },
      "execution_count": 12,
      "outputs": [
        {
          "output_type": "stream",
          "name": "stdout",
          "text": [
            "Loss function updated with class weights.\n",
            "Full dataset size: 39\n",
            "Training indices: 31\n",
            "Validation indices: 8\n",
            "\n",
            "Datasets and DataLoaders created successfully with augmentations for the training set.\n",
            "\n",
            "--- Epoch 1/75 ---\n"
          ]
        },
        {
          "output_type": "stream",
          "name": "stderr",
          "text": [
            "Training: 100%|██████████| 8/8 [00:08<00:00,  1.06s/it, loss=2.33]\n"
          ]
        },
        {
          "output_type": "stream",
          "name": "stdout",
          "text": [
            "Average training loss for the epoch: 2.393266946077347\n",
            "\n",
            "--- VALIDATION METRICS ---\n"
          ]
        },
        {
          "output_type": "stream",
          "name": "stderr",
          "text": [
            "Calculating Metrics: 100%|██████████| 2/2 [00:00<00:00,  2.62it/s]\n"
          ]
        },
        {
          "output_type": "stream",
          "name": "stdout",
          "text": [
            "\n",
            "Got 5494/2097152 with pixel accuracy 0.26%\n",
            "Average Dice Score: 0.0026\n",
            "Average IoU Score: 0.0013\n",
            "\n",
            "--- Epoch 2/75 ---\n"
          ]
        },
        {
          "output_type": "stream",
          "name": "stderr",
          "text": [
            "Training: 100%|██████████| 8/8 [00:06<00:00,  1.18it/s, loss=2.19]\n"
          ]
        },
        {
          "output_type": "stream",
          "name": "stdout",
          "text": [
            "Average training loss for the epoch: 2.224057585000992\n",
            "\n",
            "--- VALIDATION METRICS ---\n"
          ]
        },
        {
          "output_type": "stream",
          "name": "stderr",
          "text": [
            "Calculating Metrics: 100%|██████████| 2/2 [00:00<00:00,  4.13it/s]\n"
          ]
        },
        {
          "output_type": "stream",
          "name": "stdout",
          "text": [
            "\n",
            "Got 167597/2097152 with pixel accuracy 7.99%\n",
            "Average Dice Score: 0.0799\n",
            "Average IoU Score: 0.0416\n",
            "\n",
            "--- Epoch 3/75 ---\n"
          ]
        },
        {
          "output_type": "stream",
          "name": "stderr",
          "text": [
            "Training: 100%|██████████| 8/8 [00:06<00:00,  1.18it/s, loss=1.87]\n"
          ]
        },
        {
          "output_type": "stream",
          "name": "stdout",
          "text": [
            "Average training loss for the epoch: 2.0548455119132996\n",
            "\n",
            "--- VALIDATION METRICS ---\n"
          ]
        },
        {
          "output_type": "stream",
          "name": "stderr",
          "text": [
            "Calculating Metrics: 100%|██████████| 2/2 [00:00<00:00,  3.53it/s]\n"
          ]
        },
        {
          "output_type": "stream",
          "name": "stdout",
          "text": [
            "\n",
            "Got 1057754/2097152 with pixel accuracy 50.44%\n",
            "Average Dice Score: 0.5044\n",
            "Average IoU Score: 0.3373\n",
            "\n",
            "--- Epoch 4/75 ---\n"
          ]
        },
        {
          "output_type": "stream",
          "name": "stderr",
          "text": [
            "Training: 100%|██████████| 8/8 [00:06<00:00,  1.15it/s, loss=2.12]\n"
          ]
        },
        {
          "output_type": "stream",
          "name": "stdout",
          "text": [
            "Average training loss for the epoch: 1.958689123392105\n",
            "\n",
            "--- VALIDATION METRICS ---\n"
          ]
        },
        {
          "output_type": "stream",
          "name": "stderr",
          "text": [
            "Calculating Metrics: 100%|██████████| 2/2 [00:00<00:00,  4.18it/s]\n"
          ]
        },
        {
          "output_type": "stream",
          "name": "stdout",
          "text": [
            "\n",
            "Got 1228704/2097152 with pixel accuracy 58.59%\n",
            "Average Dice Score: 0.5859\n",
            "Average IoU Score: 0.4143\n",
            "\n",
            "--- Epoch 5/75 ---\n"
          ]
        },
        {
          "output_type": "stream",
          "name": "stderr",
          "text": [
            "Training: 100%|██████████| 8/8 [00:06<00:00,  1.16it/s, loss=1.87]\n"
          ]
        },
        {
          "output_type": "stream",
          "name": "stdout",
          "text": [
            "Average training loss for the epoch: 1.845666229724884\n",
            "\n",
            "--- VALIDATION METRICS ---\n"
          ]
        },
        {
          "output_type": "stream",
          "name": "stderr",
          "text": [
            "Calculating Metrics: 100%|██████████| 2/2 [00:00<00:00,  3.56it/s]\n"
          ]
        },
        {
          "output_type": "stream",
          "name": "stdout",
          "text": [
            "\n",
            "Got 1245282/2097152 with pixel accuracy 59.38%\n",
            "Average Dice Score: 0.5938\n",
            "Average IoU Score: 0.4223\n",
            "\n",
            "--- Epoch 6/75 ---\n"
          ]
        },
        {
          "output_type": "stream",
          "name": "stderr",
          "text": [
            "Training: 100%|██████████| 8/8 [00:06<00:00,  1.15it/s, loss=1.69]\n"
          ]
        },
        {
          "output_type": "stream",
          "name": "stdout",
          "text": [
            "Average training loss for the epoch: 1.780185729265213\n",
            "\n",
            "--- VALIDATION METRICS ---\n"
          ]
        },
        {
          "output_type": "stream",
          "name": "stderr",
          "text": [
            "Calculating Metrics: 100%|██████████| 2/2 [00:00<00:00,  4.10it/s]\n"
          ]
        },
        {
          "output_type": "stream",
          "name": "stdout",
          "text": [
            "\n",
            "Got 1256414/2097152 with pixel accuracy 59.91%\n",
            "Average Dice Score: 0.5991\n",
            "Average IoU Score: 0.4277\n",
            "\n",
            "--- Epoch 7/75 ---\n"
          ]
        },
        {
          "output_type": "stream",
          "name": "stderr",
          "text": [
            "Training: 100%|██████████| 8/8 [00:07<00:00,  1.13it/s, loss=1.59]\n"
          ]
        },
        {
          "output_type": "stream",
          "name": "stdout",
          "text": [
            "Average training loss for the epoch: 1.7006809264421463\n",
            "\n",
            "--- VALIDATION METRICS ---\n"
          ]
        },
        {
          "output_type": "stream",
          "name": "stderr",
          "text": [
            "Calculating Metrics: 100%|██████████| 2/2 [00:00<00:00,  4.09it/s]\n"
          ]
        },
        {
          "output_type": "stream",
          "name": "stdout",
          "text": [
            "\n",
            "Got 1298203/2097152 with pixel accuracy 61.90%\n",
            "Average Dice Score: 0.6190\n",
            "Average IoU Score: 0.4483\n",
            "\n",
            "--- Epoch 8/75 ---\n"
          ]
        },
        {
          "output_type": "stream",
          "name": "stderr",
          "text": [
            "Training: 100%|██████████| 8/8 [00:07<00:00,  1.12it/s, loss=1.5]\n"
          ]
        },
        {
          "output_type": "stream",
          "name": "stdout",
          "text": [
            "Average training loss for the epoch: 1.6037941426038742\n",
            "\n",
            "--- VALIDATION METRICS ---\n"
          ]
        },
        {
          "output_type": "stream",
          "name": "stderr",
          "text": [
            "Calculating Metrics: 100%|██████████| 2/2 [00:00<00:00,  3.46it/s]\n"
          ]
        },
        {
          "output_type": "stream",
          "name": "stdout",
          "text": [
            "\n",
            "Got 1366150/2097152 with pixel accuracy 65.14%\n",
            "Average Dice Score: 0.6514\n",
            "Average IoU Score: 0.4831\n",
            "\n",
            "--- Epoch 9/75 ---\n"
          ]
        },
        {
          "output_type": "stream",
          "name": "stderr",
          "text": [
            "Training: 100%|██████████| 8/8 [00:07<00:00,  1.10it/s, loss=1.63]\n"
          ]
        },
        {
          "output_type": "stream",
          "name": "stdout",
          "text": [
            "Average training loss for the epoch: 1.586620643734932\n",
            "\n",
            "--- VALIDATION METRICS ---\n"
          ]
        },
        {
          "output_type": "stream",
          "name": "stderr",
          "text": [
            "Calculating Metrics: 100%|██████████| 2/2 [00:00<00:00,  3.98it/s]\n"
          ]
        },
        {
          "output_type": "stream",
          "name": "stdout",
          "text": [
            "\n",
            "Got 1393908/2097152 with pixel accuracy 66.47%\n",
            "Average Dice Score: 0.6647\n",
            "Average IoU Score: 0.4978\n",
            "\n",
            "--- Epoch 10/75 ---\n"
          ]
        },
        {
          "output_type": "stream",
          "name": "stderr",
          "text": [
            "Training: 100%|██████████| 8/8 [00:07<00:00,  1.10it/s, loss=1.54]\n"
          ]
        },
        {
          "output_type": "stream",
          "name": "stdout",
          "text": [
            "Average training loss for the epoch: 1.541634663939476\n",
            "\n",
            "--- VALIDATION METRICS ---\n"
          ]
        },
        {
          "output_type": "stream",
          "name": "stderr",
          "text": [
            "Calculating Metrics: 100%|██████████| 2/2 [00:00<00:00,  4.09it/s]\n"
          ]
        },
        {
          "output_type": "stream",
          "name": "stdout",
          "text": [
            "\n",
            "Got 1417551/2097152 with pixel accuracy 67.59%\n",
            "Average Dice Score: 0.6759\n",
            "Average IoU Score: 0.5107\n",
            "\n",
            "--- Epoch 11/75 ---\n"
          ]
        },
        {
          "output_type": "stream",
          "name": "stderr",
          "text": [
            "Training: 100%|██████████| 8/8 [00:07<00:00,  1.09it/s, loss=1.34]\n"
          ]
        },
        {
          "output_type": "stream",
          "name": "stdout",
          "text": [
            "Average training loss for the epoch: 1.4395215958356857\n",
            "\n",
            "--- VALIDATION METRICS ---\n"
          ]
        },
        {
          "output_type": "stream",
          "name": "stderr",
          "text": [
            "Calculating Metrics: 100%|██████████| 2/2 [00:00<00:00,  3.91it/s]\n"
          ]
        },
        {
          "output_type": "stream",
          "name": "stdout",
          "text": [
            "\n",
            "Got 1435211/2097152 with pixel accuracy 68.44%\n",
            "Average Dice Score: 0.6844\n",
            "Average IoU Score: 0.5203\n",
            "\n",
            "--- Epoch 12/75 ---\n"
          ]
        },
        {
          "output_type": "stream",
          "name": "stderr",
          "text": [
            "Training: 100%|██████████| 8/8 [00:07<00:00,  1.06it/s, loss=1.75]\n"
          ]
        },
        {
          "output_type": "stream",
          "name": "stdout",
          "text": [
            "Average training loss for the epoch: 1.4431842267513275\n",
            "\n",
            "--- VALIDATION METRICS ---\n"
          ]
        },
        {
          "output_type": "stream",
          "name": "stderr",
          "text": [
            "Calculating Metrics: 100%|██████████| 2/2 [00:00<00:00,  3.91it/s]\n"
          ]
        },
        {
          "output_type": "stream",
          "name": "stdout",
          "text": [
            "\n",
            "Got 1439291/2097152 with pixel accuracy 68.63%\n",
            "Average Dice Score: 0.6863\n",
            "Average IoU Score: 0.5225\n",
            "\n",
            "--- Epoch 13/75 ---\n"
          ]
        },
        {
          "output_type": "stream",
          "name": "stderr",
          "text": [
            "Training: 100%|██████████| 8/8 [00:07<00:00,  1.04it/s, loss=1.44]\n"
          ]
        },
        {
          "output_type": "stream",
          "name": "stdout",
          "text": [
            "Average training loss for the epoch: 1.4089991301298141\n",
            "\n",
            "--- VALIDATION METRICS ---\n"
          ]
        },
        {
          "output_type": "stream",
          "name": "stderr",
          "text": [
            "Calculating Metrics: 100%|██████████| 2/2 [00:00<00:00,  3.27it/s]\n"
          ]
        },
        {
          "output_type": "stream",
          "name": "stdout",
          "text": [
            "\n",
            "Got 1470003/2097152 with pixel accuracy 70.10%\n",
            "Average Dice Score: 0.7010\n",
            "Average IoU Score: 0.5397\n",
            "\n",
            "--- Epoch 14/75 ---\n"
          ]
        },
        {
          "output_type": "stream",
          "name": "stderr",
          "text": [
            "Training: 100%|██████████| 8/8 [00:07<00:00,  1.03it/s, loss=1.6]\n"
          ]
        },
        {
          "output_type": "stream",
          "name": "stdout",
          "text": [
            "Average training loss for the epoch: 1.3910447508096695\n",
            "\n",
            "--- VALIDATION METRICS ---\n"
          ]
        },
        {
          "output_type": "stream",
          "name": "stderr",
          "text": [
            "Calculating Metrics: 100%|██████████| 2/2 [00:00<00:00,  3.91it/s]\n"
          ]
        },
        {
          "output_type": "stream",
          "name": "stdout",
          "text": [
            "\n",
            "Got 1492350/2097152 with pixel accuracy 71.16%\n",
            "Average Dice Score: 0.7116\n",
            "Average IoU Score: 0.5524\n",
            "\n",
            "--- Epoch 15/75 ---\n"
          ]
        },
        {
          "output_type": "stream",
          "name": "stderr",
          "text": [
            "Training: 100%|██████████| 8/8 [00:07<00:00,  1.05it/s, loss=1.34]\n"
          ]
        },
        {
          "output_type": "stream",
          "name": "stdout",
          "text": [
            "Average training loss for the epoch: 1.3658577352762222\n",
            "\n",
            "--- VALIDATION METRICS ---\n"
          ]
        },
        {
          "output_type": "stream",
          "name": "stderr",
          "text": [
            "Calculating Metrics: 100%|██████████| 2/2 [00:00<00:00,  3.90it/s]\n"
          ]
        },
        {
          "output_type": "stream",
          "name": "stdout",
          "text": [
            "\n",
            "Got 1426974/2097152 with pixel accuracy 68.04%\n",
            "Average Dice Score: 0.6804\n",
            "Average IoU Score: 0.5158\n",
            "\n",
            "--- Epoch 16/75 ---\n"
          ]
        },
        {
          "output_type": "stream",
          "name": "stderr",
          "text": [
            "Training: 100%|██████████| 8/8 [00:07<00:00,  1.06it/s, loss=1.33]\n"
          ]
        },
        {
          "output_type": "stream",
          "name": "stdout",
          "text": [
            "Average training loss for the epoch: 1.3966952860355377\n",
            "\n",
            "--- VALIDATION METRICS ---\n"
          ]
        },
        {
          "output_type": "stream",
          "name": "stderr",
          "text": [
            "Calculating Metrics: 100%|██████████| 2/2 [00:00<00:00,  3.79it/s]\n"
          ]
        },
        {
          "output_type": "stream",
          "name": "stdout",
          "text": [
            "\n",
            "Got 1483728/2097152 with pixel accuracy 70.75%\n",
            "Average Dice Score: 0.7075\n",
            "Average IoU Score: 0.5475\n",
            "\n",
            "--- Epoch 17/75 ---\n"
          ]
        },
        {
          "output_type": "stream",
          "name": "stderr",
          "text": [
            "Training: 100%|██████████| 8/8 [00:07<00:00,  1.05it/s, loss=1.4]\n"
          ]
        },
        {
          "output_type": "stream",
          "name": "stdout",
          "text": [
            "Average training loss for the epoch: 1.4118062257766724\n",
            "\n",
            "--- VALIDATION METRICS ---\n"
          ]
        },
        {
          "output_type": "stream",
          "name": "stderr",
          "text": [
            "Calculating Metrics: 100%|██████████| 2/2 [00:00<00:00,  4.03it/s]\n"
          ]
        },
        {
          "output_type": "stream",
          "name": "stdout",
          "text": [
            "\n",
            "Got 1484230/2097152 with pixel accuracy 70.77%\n",
            "Average Dice Score: 0.7077\n",
            "Average IoU Score: 0.5481\n",
            "\n",
            "--- Epoch 18/75 ---\n"
          ]
        },
        {
          "output_type": "stream",
          "name": "stderr",
          "text": [
            "Training: 100%|██████████| 8/8 [00:07<00:00,  1.08it/s, loss=1.43]\n"
          ]
        },
        {
          "output_type": "stream",
          "name": "stdout",
          "text": [
            "Average training loss for the epoch: 1.4092989712953568\n",
            "\n",
            "--- VALIDATION METRICS ---\n"
          ]
        },
        {
          "output_type": "stream",
          "name": "stderr",
          "text": [
            "Calculating Metrics: 100%|██████████| 2/2 [00:00<00:00,  4.08it/s]\n"
          ]
        },
        {
          "output_type": "stream",
          "name": "stdout",
          "text": [
            "\n",
            "Got 1459460/2097152 with pixel accuracy 69.59%\n",
            "Average Dice Score: 0.6959\n",
            "Average IoU Score: 0.5338\n",
            "\n",
            "--- Epoch 19/75 ---\n"
          ]
        },
        {
          "output_type": "stream",
          "name": "stderr",
          "text": [
            "Training: 100%|██████████| 8/8 [00:07<00:00,  1.09it/s, loss=1.43]\n"
          ]
        },
        {
          "output_type": "stream",
          "name": "stdout",
          "text": [
            "Average training loss for the epoch: 1.3398772180080414\n",
            "\n",
            "--- VALIDATION METRICS ---\n"
          ]
        },
        {
          "output_type": "stream",
          "name": "stderr",
          "text": [
            "Calculating Metrics: 100%|██████████| 2/2 [00:00<00:00,  4.03it/s]\n"
          ]
        },
        {
          "output_type": "stream",
          "name": "stdout",
          "text": [
            "\n",
            "Got 1394517/2097152 with pixel accuracy 66.50%\n",
            "Average Dice Score: 0.6650\n",
            "Average IoU Score: 0.4982\n",
            "\n",
            "--- Epoch 20/75 ---\n"
          ]
        },
        {
          "output_type": "stream",
          "name": "stderr",
          "text": [
            "Training: 100%|██████████| 8/8 [00:07<00:00,  1.07it/s, loss=1.47]\n"
          ]
        },
        {
          "output_type": "stream",
          "name": "stdout",
          "text": [
            "Average training loss for the epoch: 1.3167850524187088\n",
            "\n",
            "--- VALIDATION METRICS ---\n"
          ]
        },
        {
          "output_type": "stream",
          "name": "stderr",
          "text": [
            "Calculating Metrics: 100%|██████████| 2/2 [00:00<00:00,  4.15it/s]\n"
          ]
        },
        {
          "output_type": "stream",
          "name": "stdout",
          "text": [
            "\n",
            "Got 1478522/2097152 with pixel accuracy 70.50%\n",
            "Average Dice Score: 0.7050\n",
            "Average IoU Score: 0.5445\n",
            "\n",
            "--- Epoch 21/75 ---\n"
          ]
        },
        {
          "output_type": "stream",
          "name": "stderr",
          "text": [
            "Training: 100%|██████████| 8/8 [00:07<00:00,  1.08it/s, loss=1.32]\n"
          ]
        },
        {
          "output_type": "stream",
          "name": "stdout",
          "text": [
            "Average training loss for the epoch: 1.3116579204797745\n",
            "\n",
            "--- VALIDATION METRICS ---\n"
          ]
        },
        {
          "output_type": "stream",
          "name": "stderr",
          "text": [
            "Calculating Metrics: 100%|██████████| 2/2 [00:00<00:00,  4.13it/s]\n"
          ]
        },
        {
          "output_type": "stream",
          "name": "stdout",
          "text": [
            "\n",
            "Got 1482873/2097152 with pixel accuracy 70.71%\n",
            "Average Dice Score: 0.7071\n",
            "Average IoU Score: 0.5470\n",
            "\n",
            "--- Epoch 22/75 ---\n"
          ]
        },
        {
          "output_type": "stream",
          "name": "stderr",
          "text": [
            "Training: 100%|██████████| 8/8 [00:07<00:00,  1.07it/s, loss=1.39]\n"
          ]
        },
        {
          "output_type": "stream",
          "name": "stdout",
          "text": [
            "Average training loss for the epoch: 1.2956341952085495\n",
            "\n",
            "--- VALIDATION METRICS ---\n"
          ]
        },
        {
          "output_type": "stream",
          "name": "stderr",
          "text": [
            "Calculating Metrics: 100%|██████████| 2/2 [00:00<00:00,  4.06it/s]\n"
          ]
        },
        {
          "output_type": "stream",
          "name": "stdout",
          "text": [
            "\n",
            "Got 1507308/2097152 with pixel accuracy 71.87%\n",
            "Average Dice Score: 0.7187\n",
            "Average IoU Score: 0.5611\n",
            "\n",
            "--- Epoch 23/75 ---\n"
          ]
        },
        {
          "output_type": "stream",
          "name": "stderr",
          "text": [
            "Training: 100%|██████████| 8/8 [00:07<00:00,  1.07it/s, loss=1.55]\n"
          ]
        },
        {
          "output_type": "stream",
          "name": "stdout",
          "text": [
            "Average training loss for the epoch: 1.267999529838562\n",
            "\n",
            "--- VALIDATION METRICS ---\n"
          ]
        },
        {
          "output_type": "stream",
          "name": "stderr",
          "text": [
            "Calculating Metrics: 100%|██████████| 2/2 [00:00<00:00,  3.97it/s]\n"
          ]
        },
        {
          "output_type": "stream",
          "name": "stdout",
          "text": [
            "\n",
            "Got 1546451/2097152 with pixel accuracy 73.74%\n",
            "Average Dice Score: 0.7374\n",
            "Average IoU Score: 0.5841\n",
            "\n",
            "--- Epoch 24/75 ---\n"
          ]
        },
        {
          "output_type": "stream",
          "name": "stderr",
          "text": [
            "Training: 100%|██████████| 8/8 [00:07<00:00,  1.06it/s, loss=1.32]\n"
          ]
        },
        {
          "output_type": "stream",
          "name": "stdout",
          "text": [
            "Average training loss for the epoch: 1.2549989372491837\n",
            "\n",
            "--- VALIDATION METRICS ---\n"
          ]
        },
        {
          "output_type": "stream",
          "name": "stderr",
          "text": [
            "Calculating Metrics: 100%|██████████| 2/2 [00:00<00:00,  3.35it/s]\n"
          ]
        },
        {
          "output_type": "stream",
          "name": "stdout",
          "text": [
            "\n",
            "Got 1564679/2097152 with pixel accuracy 74.61%\n",
            "Average Dice Score: 0.7461\n",
            "Average IoU Score: 0.5950\n",
            "\n",
            "--- Epoch 25/75 ---\n"
          ]
        },
        {
          "output_type": "stream",
          "name": "stderr",
          "text": [
            "Training: 100%|██████████| 8/8 [00:07<00:00,  1.05it/s, loss=1.31]\n"
          ]
        },
        {
          "output_type": "stream",
          "name": "stdout",
          "text": [
            "Average training loss for the epoch: 1.2545161694288254\n",
            "\n",
            "--- VALIDATION METRICS ---\n"
          ]
        },
        {
          "output_type": "stream",
          "name": "stderr",
          "text": [
            "Calculating Metrics: 100%|██████████| 2/2 [00:00<00:00,  4.06it/s]\n"
          ]
        },
        {
          "output_type": "stream",
          "name": "stdout",
          "text": [
            "\n",
            "Got 1574004/2097152 with pixel accuracy 75.05%\n",
            "Average Dice Score: 0.7505\n",
            "Average IoU Score: 0.6007\n",
            "\n",
            "--- Epoch 26/75 ---\n"
          ]
        },
        {
          "output_type": "stream",
          "name": "stderr",
          "text": [
            "Training: 100%|██████████| 8/8 [00:07<00:00,  1.06it/s, loss=1.12]\n"
          ]
        },
        {
          "output_type": "stream",
          "name": "stdout",
          "text": [
            "Average training loss for the epoch: 1.219977930188179\n",
            "\n",
            "--- VALIDATION METRICS ---\n"
          ]
        },
        {
          "output_type": "stream",
          "name": "stderr",
          "text": [
            "Calculating Metrics: 100%|██████████| 2/2 [00:00<00:00,  4.06it/s]\n"
          ]
        },
        {
          "output_type": "stream",
          "name": "stdout",
          "text": [
            "\n",
            "Got 1589101/2097152 with pixel accuracy 75.77%\n",
            "Average Dice Score: 0.7577\n",
            "Average IoU Score: 0.6100\n",
            "\n",
            "--- Epoch 27/75 ---\n"
          ]
        },
        {
          "output_type": "stream",
          "name": "stderr",
          "text": [
            "Training: 100%|██████████| 8/8 [00:07<00:00,  1.06it/s, loss=1.06]\n"
          ]
        },
        {
          "output_type": "stream",
          "name": "stdout",
          "text": [
            "Average training loss for the epoch: 1.2413405627012253\n",
            "\n",
            "--- VALIDATION METRICS ---\n"
          ]
        },
        {
          "output_type": "stream",
          "name": "stderr",
          "text": [
            "Calculating Metrics: 100%|██████████| 2/2 [00:00<00:00,  3.22it/s]\n"
          ]
        },
        {
          "output_type": "stream",
          "name": "stdout",
          "text": [
            "\n",
            "Got 1579704/2097152 with pixel accuracy 75.33%\n",
            "Average Dice Score: 0.7533\n",
            "Average IoU Score: 0.6043\n",
            "\n",
            "--- Epoch 28/75 ---\n"
          ]
        },
        {
          "output_type": "stream",
          "name": "stderr",
          "text": [
            "Training: 100%|██████████| 8/8 [00:07<00:00,  1.05it/s, loss=1.31]\n"
          ]
        },
        {
          "output_type": "stream",
          "name": "stdout",
          "text": [
            "Average training loss for the epoch: 1.1821171045303345\n",
            "\n",
            "--- VALIDATION METRICS ---\n"
          ]
        },
        {
          "output_type": "stream",
          "name": "stderr",
          "text": [
            "Calculating Metrics: 100%|██████████| 2/2 [00:00<00:00,  3.95it/s]\n"
          ]
        },
        {
          "output_type": "stream",
          "name": "stdout",
          "text": [
            "\n",
            "Got 1588042/2097152 with pixel accuracy 75.72%\n",
            "Average Dice Score: 0.7572\n",
            "Average IoU Score: 0.6094\n",
            "\n",
            "--- Epoch 29/75 ---\n"
          ]
        },
        {
          "output_type": "stream",
          "name": "stderr",
          "text": [
            "Training: 100%|██████████| 8/8 [00:07<00:00,  1.07it/s, loss=1.34]\n"
          ]
        },
        {
          "output_type": "stream",
          "name": "stdout",
          "text": [
            "Average training loss for the epoch: 1.1919870898127556\n",
            "\n",
            "--- VALIDATION METRICS ---\n"
          ]
        },
        {
          "output_type": "stream",
          "name": "stderr",
          "text": [
            "Calculating Metrics: 100%|██████████| 2/2 [00:00<00:00,  4.07it/s]\n"
          ]
        },
        {
          "output_type": "stream",
          "name": "stdout",
          "text": [
            "\n",
            "Got 1588118/2097152 with pixel accuracy 75.73%\n",
            "Average Dice Score: 0.7573\n",
            "Average IoU Score: 0.6094\n",
            "\n",
            "--- Epoch 30/75 ---\n"
          ]
        },
        {
          "output_type": "stream",
          "name": "stderr",
          "text": [
            "Training: 100%|██████████| 8/8 [00:07<00:00,  1.07it/s, loss=1.18]\n"
          ]
        },
        {
          "output_type": "stream",
          "name": "stdout",
          "text": [
            "Average training loss for the epoch: 1.1532029211521149\n",
            "\n",
            "--- VALIDATION METRICS ---\n"
          ]
        },
        {
          "output_type": "stream",
          "name": "stderr",
          "text": [
            "Calculating Metrics: 100%|██████████| 2/2 [00:00<00:00,  3.56it/s]\n"
          ]
        },
        {
          "output_type": "stream",
          "name": "stdout",
          "text": [
            "\n",
            "Got 1582963/2097152 with pixel accuracy 75.48%\n",
            "Average Dice Score: 0.7548\n",
            "Average IoU Score: 0.6062\n",
            "\n",
            "--- Epoch 31/75 ---\n"
          ]
        },
        {
          "output_type": "stream",
          "name": "stderr",
          "text": [
            "Training: 100%|██████████| 8/8 [00:07<00:00,  1.05it/s, loss=1.18]\n"
          ]
        },
        {
          "output_type": "stream",
          "name": "stdout",
          "text": [
            "Average training loss for the epoch: 1.1693867892026901\n",
            "\n",
            "--- VALIDATION METRICS ---\n"
          ]
        },
        {
          "output_type": "stream",
          "name": "stderr",
          "text": [
            "Calculating Metrics: 100%|██████████| 2/2 [00:00<00:00,  3.93it/s]\n"
          ]
        },
        {
          "output_type": "stream",
          "name": "stdout",
          "text": [
            "\n",
            "Got 1607876/2097152 with pixel accuracy 76.67%\n",
            "Average Dice Score: 0.7667\n",
            "Average IoU Score: 0.6217\n",
            "\n",
            "--- Epoch 32/75 ---\n"
          ]
        },
        {
          "output_type": "stream",
          "name": "stderr",
          "text": [
            "Training: 100%|██████████| 8/8 [00:07<00:00,  1.07it/s, loss=1.11]\n"
          ]
        },
        {
          "output_type": "stream",
          "name": "stdout",
          "text": [
            "Average training loss for the epoch: 1.1497627943754196\n",
            "\n",
            "--- VALIDATION METRICS ---\n"
          ]
        },
        {
          "output_type": "stream",
          "name": "stderr",
          "text": [
            "Calculating Metrics: 100%|██████████| 2/2 [00:00<00:00,  3.91it/s]\n"
          ]
        },
        {
          "output_type": "stream",
          "name": "stdout",
          "text": [
            "\n",
            "Got 1611304/2097152 with pixel accuracy 76.83%\n",
            "Average Dice Score: 0.7683\n",
            "Average IoU Score: 0.6238\n",
            "\n",
            "--- Epoch 33/75 ---\n"
          ]
        },
        {
          "output_type": "stream",
          "name": "stderr",
          "text": [
            "Training: 100%|██████████| 8/8 [00:07<00:00,  1.07it/s, loss=1.06]\n"
          ]
        },
        {
          "output_type": "stream",
          "name": "stdout",
          "text": [
            "Average training loss for the epoch: 1.153234340250492\n",
            "\n",
            "--- VALIDATION METRICS ---\n"
          ]
        },
        {
          "output_type": "stream",
          "name": "stderr",
          "text": [
            "Calculating Metrics: 100%|██████████| 2/2 [00:00<00:00,  3.77it/s]\n"
          ]
        },
        {
          "output_type": "stream",
          "name": "stdout",
          "text": [
            "\n",
            "Got 1599996/2097152 with pixel accuracy 76.29%\n",
            "Average Dice Score: 0.7629\n",
            "Average IoU Score: 0.6168\n",
            "\n",
            "--- Epoch 34/75 ---\n"
          ]
        },
        {
          "output_type": "stream",
          "name": "stderr",
          "text": [
            "Training: 100%|██████████| 8/8 [00:07<00:00,  1.07it/s, loss=1.1]\n"
          ]
        },
        {
          "output_type": "stream",
          "name": "stdout",
          "text": [
            "Average training loss for the epoch: 1.1434043049812317\n",
            "\n",
            "--- VALIDATION METRICS ---\n"
          ]
        },
        {
          "output_type": "stream",
          "name": "stderr",
          "text": [
            "Calculating Metrics: 100%|██████████| 2/2 [00:00<00:00,  3.99it/s]\n"
          ]
        },
        {
          "output_type": "stream",
          "name": "stdout",
          "text": [
            "\n",
            "Got 1526281/2097152 with pixel accuracy 72.78%\n",
            "Average Dice Score: 0.7278\n",
            "Average IoU Score: 0.5721\n",
            "\n",
            "--- Epoch 35/75 ---\n"
          ]
        },
        {
          "output_type": "stream",
          "name": "stderr",
          "text": [
            "Training: 100%|██████████| 8/8 [00:07<00:00,  1.07it/s, loss=1.18]\n"
          ]
        },
        {
          "output_type": "stream",
          "name": "stdout",
          "text": [
            "Average training loss for the epoch: 1.1611796617507935\n",
            "\n",
            "--- VALIDATION METRICS ---\n"
          ]
        },
        {
          "output_type": "stream",
          "name": "stderr",
          "text": [
            "Calculating Metrics: 100%|██████████| 2/2 [00:00<00:00,  3.57it/s]\n"
          ]
        },
        {
          "output_type": "stream",
          "name": "stdout",
          "text": [
            "\n",
            "Got 1563007/2097152 with pixel accuracy 74.53%\n",
            "Average Dice Score: 0.7453\n",
            "Average IoU Score: 0.5940\n",
            "\n",
            "--- Epoch 36/75 ---\n"
          ]
        },
        {
          "output_type": "stream",
          "name": "stderr",
          "text": [
            "Training: 100%|██████████| 8/8 [00:07<00:00,  1.07it/s, loss=1.04]\n"
          ]
        },
        {
          "output_type": "stream",
          "name": "stdout",
          "text": [
            "Average training loss for the epoch: 1.1253338903188705\n",
            "\n",
            "--- VALIDATION METRICS ---\n"
          ]
        },
        {
          "output_type": "stream",
          "name": "stderr",
          "text": [
            "Calculating Metrics: 100%|██████████| 2/2 [00:00<00:00,  4.07it/s]\n"
          ]
        },
        {
          "output_type": "stream",
          "name": "stdout",
          "text": [
            "\n",
            "Got 1657391/2097152 with pixel accuracy 79.03%\n",
            "Average Dice Score: 0.7903\n",
            "Average IoU Score: 0.6533\n",
            "\n",
            "--- Epoch 37/75 ---\n"
          ]
        },
        {
          "output_type": "stream",
          "name": "stderr",
          "text": [
            "Training: 100%|██████████| 8/8 [00:07<00:00,  1.07it/s, loss=1.22]\n"
          ]
        },
        {
          "output_type": "stream",
          "name": "stdout",
          "text": [
            "Average training loss for the epoch: 1.1435217335820198\n",
            "\n",
            "--- VALIDATION METRICS ---\n"
          ]
        },
        {
          "output_type": "stream",
          "name": "stderr",
          "text": [
            "Calculating Metrics: 100%|██████████| 2/2 [00:00<00:00,  4.04it/s]\n"
          ]
        },
        {
          "output_type": "stream",
          "name": "stdout",
          "text": [
            "\n",
            "Got 1538950/2097152 with pixel accuracy 73.38%\n",
            "Average Dice Score: 0.7338\n",
            "Average IoU Score: 0.5796\n",
            "\n",
            "--- Epoch 38/75 ---\n"
          ]
        },
        {
          "output_type": "stream",
          "name": "stderr",
          "text": [
            "Training: 100%|██████████| 8/8 [00:07<00:00,  1.06it/s, loss=1.14]\n"
          ]
        },
        {
          "output_type": "stream",
          "name": "stdout",
          "text": [
            "Average training loss for the epoch: 1.156851515173912\n",
            "\n",
            "--- VALIDATION METRICS ---\n"
          ]
        },
        {
          "output_type": "stream",
          "name": "stderr",
          "text": [
            "Calculating Metrics: 100%|██████████| 2/2 [00:00<00:00,  3.44it/s]\n"
          ]
        },
        {
          "output_type": "stream",
          "name": "stdout",
          "text": [
            "\n",
            "Got 1589094/2097152 with pixel accuracy 75.77%\n",
            "Average Dice Score: 0.7577\n",
            "Average IoU Score: 0.6100\n",
            "\n",
            "--- Epoch 39/75 ---\n"
          ]
        },
        {
          "output_type": "stream",
          "name": "stderr",
          "text": [
            "Training: 100%|██████████| 8/8 [00:07<00:00,  1.06it/s, loss=1.14]\n"
          ]
        },
        {
          "output_type": "stream",
          "name": "stdout",
          "text": [
            "Average training loss for the epoch: 1.1276583969593048\n",
            "\n",
            "--- VALIDATION METRICS ---\n"
          ]
        },
        {
          "output_type": "stream",
          "name": "stderr",
          "text": [
            "Calculating Metrics: 100%|██████████| 2/2 [00:00<00:00,  4.09it/s]\n"
          ]
        },
        {
          "output_type": "stream",
          "name": "stdout",
          "text": [
            "\n",
            "Got 1636683/2097152 with pixel accuracy 78.04%\n",
            "Average Dice Score: 0.7804\n",
            "Average IoU Score: 0.6399\n",
            "\n",
            "--- Epoch 40/75 ---\n"
          ]
        },
        {
          "output_type": "stream",
          "name": "stderr",
          "text": [
            "Training: 100%|██████████| 8/8 [00:07<00:00,  1.07it/s, loss=1.21]\n"
          ]
        },
        {
          "output_type": "stream",
          "name": "stdout",
          "text": [
            "Average training loss for the epoch: 1.130620613694191\n",
            "\n",
            "--- VALIDATION METRICS ---\n"
          ]
        },
        {
          "output_type": "stream",
          "name": "stderr",
          "text": [
            "Calculating Metrics: 100%|██████████| 2/2 [00:00<00:00,  4.02it/s]\n"
          ]
        },
        {
          "output_type": "stream",
          "name": "stdout",
          "text": [
            "\n",
            "Got 1659263/2097152 with pixel accuracy 79.12%\n",
            "Average Dice Score: 0.7912\n",
            "Average IoU Score: 0.6545\n",
            "\n",
            "--- Epoch 41/75 ---\n"
          ]
        },
        {
          "output_type": "stream",
          "name": "stderr",
          "text": [
            "Training: 100%|██████████| 8/8 [00:07<00:00,  1.06it/s, loss=1.13]\n"
          ]
        },
        {
          "output_type": "stream",
          "name": "stdout",
          "text": [
            "Average training loss for the epoch: 1.122537612915039\n",
            "\n",
            "--- VALIDATION METRICS ---\n"
          ]
        },
        {
          "output_type": "stream",
          "name": "stderr",
          "text": [
            "Calculating Metrics: 100%|██████████| 2/2 [00:00<00:00,  3.53it/s]\n"
          ]
        },
        {
          "output_type": "stream",
          "name": "stdout",
          "text": [
            "\n",
            "Got 1736323/2097152 with pixel accuracy 82.79%\n",
            "Average Dice Score: 0.8279\n",
            "Average IoU Score: 0.7066\n",
            "\n",
            "--- Epoch 42/75 ---\n"
          ]
        },
        {
          "output_type": "stream",
          "name": "stderr",
          "text": [
            "Training: 100%|██████████| 8/8 [00:07<00:00,  1.05it/s, loss=1.07]\n"
          ]
        },
        {
          "output_type": "stream",
          "name": "stdout",
          "text": [
            "Average training loss for the epoch: 1.1421289965510368\n",
            "\n",
            "--- VALIDATION METRICS ---\n"
          ]
        },
        {
          "output_type": "stream",
          "name": "stderr",
          "text": [
            "Calculating Metrics: 100%|██████████| 2/2 [00:00<00:00,  4.12it/s]\n"
          ]
        },
        {
          "output_type": "stream",
          "name": "stdout",
          "text": [
            "\n",
            "Got 1655378/2097152 with pixel accuracy 78.93%\n",
            "Average Dice Score: 0.7893\n",
            "Average IoU Score: 0.6520\n",
            "\n",
            "--- Epoch 43/75 ---\n"
          ]
        },
        {
          "output_type": "stream",
          "name": "stderr",
          "text": [
            "Training: 100%|██████████| 8/8 [00:07<00:00,  1.06it/s, loss=1.23]\n"
          ]
        },
        {
          "output_type": "stream",
          "name": "stdout",
          "text": [
            "Average training loss for the epoch: 1.1147308498620987\n",
            "\n",
            "--- VALIDATION METRICS ---\n"
          ]
        },
        {
          "output_type": "stream",
          "name": "stderr",
          "text": [
            "Calculating Metrics: 100%|██████████| 2/2 [00:00<00:00,  3.13it/s]\n"
          ]
        },
        {
          "output_type": "stream",
          "name": "stdout",
          "text": [
            "\n",
            "Got 1643571/2097152 with pixel accuracy 78.37%\n",
            "Average Dice Score: 0.7837\n",
            "Average IoU Score: 0.6444\n",
            "\n",
            "--- Epoch 44/75 ---\n"
          ]
        },
        {
          "output_type": "stream",
          "name": "stderr",
          "text": [
            "Training: 100%|██████████| 8/8 [00:07<00:00,  1.05it/s, loss=1.16]\n"
          ]
        },
        {
          "output_type": "stream",
          "name": "stdout",
          "text": [
            "Average training loss for the epoch: 1.102398619055748\n",
            "\n",
            "--- VALIDATION METRICS ---\n"
          ]
        },
        {
          "output_type": "stream",
          "name": "stderr",
          "text": [
            "Calculating Metrics: 100%|██████████| 2/2 [00:00<00:00,  4.08it/s]\n"
          ]
        },
        {
          "output_type": "stream",
          "name": "stdout",
          "text": [
            "\n",
            "Got 1746014/2097152 with pixel accuracy 83.26%\n",
            "Average Dice Score: 0.8326\n",
            "Average IoU Score: 0.7132\n",
            "\n",
            "--- Epoch 45/75 ---\n"
          ]
        },
        {
          "output_type": "stream",
          "name": "stderr",
          "text": [
            "Training: 100%|██████████| 8/8 [00:07<00:00,  1.06it/s, loss=1.35]\n"
          ]
        },
        {
          "output_type": "stream",
          "name": "stdout",
          "text": [
            "Average training loss for the epoch: 1.0845123827457428\n",
            "\n",
            "--- VALIDATION METRICS ---\n"
          ]
        },
        {
          "output_type": "stream",
          "name": "stderr",
          "text": [
            "Calculating Metrics: 100%|██████████| 2/2 [00:00<00:00,  4.13it/s]\n"
          ]
        },
        {
          "output_type": "stream",
          "name": "stdout",
          "text": [
            "\n",
            "Got 1654169/2097152 with pixel accuracy 78.88%\n",
            "Average Dice Score: 0.7888\n",
            "Average IoU Score: 0.6512\n",
            "\n",
            "--- Epoch 46/75 ---\n"
          ]
        },
        {
          "output_type": "stream",
          "name": "stderr",
          "text": [
            "Training: 100%|██████████| 8/8 [00:07<00:00,  1.06it/s, loss=1.05]\n"
          ]
        },
        {
          "output_type": "stream",
          "name": "stdout",
          "text": [
            "Average training loss for the epoch: 1.0874194726347923\n",
            "\n",
            "--- VALIDATION METRICS ---\n"
          ]
        },
        {
          "output_type": "stream",
          "name": "stderr",
          "text": [
            "Calculating Metrics: 100%|██████████| 2/2 [00:00<00:00,  3.53it/s]\n"
          ]
        },
        {
          "output_type": "stream",
          "name": "stdout",
          "text": [
            "\n",
            "Got 1782847/2097152 with pixel accuracy 85.01%\n",
            "Average Dice Score: 0.8501\n",
            "Average IoU Score: 0.7397\n",
            "\n",
            "--- Epoch 47/75 ---\n"
          ]
        },
        {
          "output_type": "stream",
          "name": "stderr",
          "text": [
            "Training: 100%|██████████| 8/8 [00:07<00:00,  1.06it/s, loss=1.11]\n"
          ]
        },
        {
          "output_type": "stream",
          "name": "stdout",
          "text": [
            "Average training loss for the epoch: 1.074145719408989\n",
            "\n",
            "--- VALIDATION METRICS ---\n"
          ]
        },
        {
          "output_type": "stream",
          "name": "stderr",
          "text": [
            "Calculating Metrics: 100%|██████████| 2/2 [00:00<00:00,  4.07it/s]\n"
          ]
        },
        {
          "output_type": "stream",
          "name": "stdout",
          "text": [
            "\n",
            "Got 1687998/2097152 with pixel accuracy 80.49%\n",
            "Average Dice Score: 0.8049\n",
            "Average IoU Score: 0.6735\n",
            "\n",
            "--- Epoch 48/75 ---\n"
          ]
        },
        {
          "output_type": "stream",
          "name": "stderr",
          "text": [
            "Training: 100%|██████████| 8/8 [00:07<00:00,  1.06it/s, loss=1]\n"
          ]
        },
        {
          "output_type": "stream",
          "name": "stdout",
          "text": [
            "Average training loss for the epoch: 1.1136960685253143\n",
            "\n",
            "--- VALIDATION METRICS ---\n"
          ]
        },
        {
          "output_type": "stream",
          "name": "stderr",
          "text": [
            "Calculating Metrics: 100%|██████████| 2/2 [00:00<00:00,  4.04it/s]\n"
          ]
        },
        {
          "output_type": "stream",
          "name": "stdout",
          "text": [
            "\n",
            "Got 1766760/2097152 with pixel accuracy 84.25%\n",
            "Average Dice Score: 0.8425\n",
            "Average IoU Score: 0.7278\n",
            "\n",
            "--- Epoch 49/75 ---\n"
          ]
        },
        {
          "output_type": "stream",
          "name": "stderr",
          "text": [
            "Training: 100%|██████████| 8/8 [00:07<00:00,  1.06it/s, loss=0.983]\n"
          ]
        },
        {
          "output_type": "stream",
          "name": "stdout",
          "text": [
            "Average training loss for the epoch: 1.1052544191479683\n",
            "\n",
            "--- VALIDATION METRICS ---\n"
          ]
        },
        {
          "output_type": "stream",
          "name": "stderr",
          "text": [
            "Calculating Metrics: 100%|██████████| 2/2 [00:00<00:00,  3.43it/s]\n"
          ]
        },
        {
          "output_type": "stream",
          "name": "stdout",
          "text": [
            "\n",
            "Got 1664916/2097152 with pixel accuracy 79.39%\n",
            "Average Dice Score: 0.7939\n",
            "Average IoU Score: 0.6582\n",
            "\n",
            "--- Epoch 50/75 ---\n"
          ]
        },
        {
          "output_type": "stream",
          "name": "stderr",
          "text": [
            "Training: 100%|██████████| 8/8 [00:07<00:00,  1.05it/s, loss=1.07]\n"
          ]
        },
        {
          "output_type": "stream",
          "name": "stdout",
          "text": [
            "Average training loss for the epoch: 1.0919411331415176\n",
            "\n",
            "--- VALIDATION METRICS ---\n"
          ]
        },
        {
          "output_type": "stream",
          "name": "stderr",
          "text": [
            "Calculating Metrics: 100%|██████████| 2/2 [00:00<00:00,  4.09it/s]\n"
          ]
        },
        {
          "output_type": "stream",
          "name": "stdout",
          "text": [
            "\n",
            "Got 1724140/2097152 with pixel accuracy 82.21%\n",
            "Average Dice Score: 0.8221\n",
            "Average IoU Score: 0.6981\n",
            "\n",
            "--- Epoch 51/75 ---\n"
          ]
        },
        {
          "output_type": "stream",
          "name": "stderr",
          "text": [
            "Training: 100%|██████████| 8/8 [00:07<00:00,  1.07it/s, loss=1.07]\n"
          ]
        },
        {
          "output_type": "stream",
          "name": "stdout",
          "text": [
            "Average training loss for the epoch: 1.053803190588951\n",
            "\n",
            "--- VALIDATION METRICS ---\n"
          ]
        },
        {
          "output_type": "stream",
          "name": "stderr",
          "text": [
            "Calculating Metrics: 100%|██████████| 2/2 [00:00<00:00,  4.15it/s]\n"
          ]
        },
        {
          "output_type": "stream",
          "name": "stdout",
          "text": [
            "\n",
            "Got 1744541/2097152 with pixel accuracy 83.19%\n",
            "Average Dice Score: 0.8319\n",
            "Average IoU Score: 0.7124\n",
            "\n",
            "--- Epoch 52/75 ---\n"
          ]
        },
        {
          "output_type": "stream",
          "name": "stderr",
          "text": [
            "Training: 100%|██████████| 8/8 [00:07<00:00,  1.07it/s, loss=1.26]\n"
          ]
        },
        {
          "output_type": "stream",
          "name": "stdout",
          "text": [
            "Average training loss for the epoch: 1.066408671438694\n",
            "\n",
            "--- VALIDATION METRICS ---\n"
          ]
        },
        {
          "output_type": "stream",
          "name": "stderr",
          "text": [
            "Calculating Metrics: 100%|██████████| 2/2 [00:00<00:00,  3.42it/s]\n"
          ]
        },
        {
          "output_type": "stream",
          "name": "stdout",
          "text": [
            "\n",
            "Got 1661579/2097152 with pixel accuracy 79.23%\n",
            "Average Dice Score: 0.7923\n",
            "Average IoU Score: 0.6562\n",
            "\n",
            "--- Epoch 53/75 ---\n"
          ]
        },
        {
          "output_type": "stream",
          "name": "stderr",
          "text": [
            "Training: 100%|██████████| 8/8 [00:07<00:00,  1.06it/s, loss=1.15]\n"
          ]
        },
        {
          "output_type": "stream",
          "name": "stdout",
          "text": [
            "Average training loss for the epoch: 1.0502355620265007\n",
            "\n",
            "--- VALIDATION METRICS ---\n"
          ]
        },
        {
          "output_type": "stream",
          "name": "stderr",
          "text": [
            "Calculating Metrics: 100%|██████████| 2/2 [00:00<00:00,  4.02it/s]\n"
          ]
        },
        {
          "output_type": "stream",
          "name": "stdout",
          "text": [
            "\n",
            "Got 1810628/2097152 with pixel accuracy 86.34%\n",
            "Average Dice Score: 0.8634\n",
            "Average IoU Score: 0.7597\n",
            "\n",
            "--- Epoch 54/75 ---\n"
          ]
        },
        {
          "output_type": "stream",
          "name": "stderr",
          "text": [
            "Training: 100%|██████████| 8/8 [00:07<00:00,  1.07it/s, loss=1.24]\n"
          ]
        },
        {
          "output_type": "stream",
          "name": "stdout",
          "text": [
            "Average training loss for the epoch: 1.085454873740673\n",
            "\n",
            "--- VALIDATION METRICS ---\n"
          ]
        },
        {
          "output_type": "stream",
          "name": "stderr",
          "text": [
            "Calculating Metrics: 100%|██████████| 2/2 [00:00<00:00,  4.10it/s]\n"
          ]
        },
        {
          "output_type": "stream",
          "name": "stdout",
          "text": [
            "\n",
            "Got 1809867/2097152 with pixel accuracy 86.30%\n",
            "Average Dice Score: 0.8630\n",
            "Average IoU Score: 0.7591\n",
            "\n",
            "--- Epoch 55/75 ---\n"
          ]
        },
        {
          "output_type": "stream",
          "name": "stderr",
          "text": [
            "Training: 100%|██████████| 8/8 [00:07<00:00,  1.07it/s, loss=0.944]\n"
          ]
        },
        {
          "output_type": "stream",
          "name": "stdout",
          "text": [
            "Average training loss for the epoch: 1.0740189626812935\n",
            "\n",
            "--- VALIDATION METRICS ---\n"
          ]
        },
        {
          "output_type": "stream",
          "name": "stderr",
          "text": [
            "Calculating Metrics: 100%|██████████| 2/2 [00:00<00:00,  4.05it/s]\n"
          ]
        },
        {
          "output_type": "stream",
          "name": "stdout",
          "text": [
            "\n",
            "Got 1691937/2097152 with pixel accuracy 80.68%\n",
            "Average Dice Score: 0.8068\n",
            "Average IoU Score: 0.6763\n",
            "\n",
            "--- Epoch 56/75 ---\n"
          ]
        },
        {
          "output_type": "stream",
          "name": "stderr",
          "text": [
            "Training: 100%|██████████| 8/8 [00:07<00:00,  1.07it/s, loss=1.32]\n"
          ]
        },
        {
          "output_type": "stream",
          "name": "stdout",
          "text": [
            "Average training loss for the epoch: 1.1190437600016594\n",
            "\n",
            "--- VALIDATION METRICS ---\n"
          ]
        },
        {
          "output_type": "stream",
          "name": "stderr",
          "text": [
            "Calculating Metrics: 100%|██████████| 2/2 [00:00<00:00,  4.03it/s]\n"
          ]
        },
        {
          "output_type": "stream",
          "name": "stdout",
          "text": [
            "\n",
            "Got 1719056/2097152 with pixel accuracy 81.97%\n",
            "Average Dice Score: 0.8197\n",
            "Average IoU Score: 0.6946\n",
            "\n",
            "--- Epoch 57/75 ---\n"
          ]
        },
        {
          "output_type": "stream",
          "name": "stderr",
          "text": [
            "Training: 100%|██████████| 8/8 [00:07<00:00,  1.07it/s, loss=1.17]\n"
          ]
        },
        {
          "output_type": "stream",
          "name": "stdout",
          "text": [
            "Average training loss for the epoch: 1.0809550136327744\n",
            "\n",
            "--- VALIDATION METRICS ---\n"
          ]
        },
        {
          "output_type": "stream",
          "name": "stderr",
          "text": [
            "Calculating Metrics: 100%|██████████| 2/2 [00:00<00:00,  3.37it/s]\n"
          ]
        },
        {
          "output_type": "stream",
          "name": "stdout",
          "text": [
            "\n",
            "Got 1820767/2097152 with pixel accuracy 86.82%\n",
            "Average Dice Score: 0.8682\n",
            "Average IoU Score: 0.7676\n",
            "\n",
            "--- Epoch 58/75 ---\n"
          ]
        },
        {
          "output_type": "stream",
          "name": "stderr",
          "text": [
            "Training: 100%|██████████| 8/8 [00:07<00:00,  1.07it/s, loss=1.2]\n"
          ]
        },
        {
          "output_type": "stream",
          "name": "stdout",
          "text": [
            "Average training loss for the epoch: 1.0570430606603622\n",
            "\n",
            "--- VALIDATION METRICS ---\n"
          ]
        },
        {
          "output_type": "stream",
          "name": "stderr",
          "text": [
            "Calculating Metrics: 100%|██████████| 2/2 [00:00<00:00,  3.94it/s]\n"
          ]
        },
        {
          "output_type": "stream",
          "name": "stdout",
          "text": [
            "\n",
            "Got 1796353/2097152 with pixel accuracy 85.66%\n",
            "Average Dice Score: 0.8566\n",
            "Average IoU Score: 0.7491\n",
            "\n",
            "--- Epoch 59/75 ---\n"
          ]
        },
        {
          "output_type": "stream",
          "name": "stderr",
          "text": [
            "Training: 100%|██████████| 8/8 [00:07<00:00,  1.07it/s, loss=1.12]\n"
          ]
        },
        {
          "output_type": "stream",
          "name": "stdout",
          "text": [
            "Average training loss for the epoch: 1.02263555675745\n",
            "\n",
            "--- VALIDATION METRICS ---\n"
          ]
        },
        {
          "output_type": "stream",
          "name": "stderr",
          "text": [
            "Calculating Metrics: 100%|██████████| 2/2 [00:00<00:00,  3.93it/s]\n"
          ]
        },
        {
          "output_type": "stream",
          "name": "stdout",
          "text": [
            "\n",
            "Got 1699610/2097152 with pixel accuracy 81.04%\n",
            "Average Dice Score: 0.8104\n",
            "Average IoU Score: 0.6815\n",
            "\n",
            "--- Epoch 60/75 ---\n"
          ]
        },
        {
          "output_type": "stream",
          "name": "stderr",
          "text": [
            "Training: 100%|██████████| 8/8 [00:07<00:00,  1.06it/s, loss=0.796]\n"
          ]
        },
        {
          "output_type": "stream",
          "name": "stdout",
          "text": [
            "Average training loss for the epoch: 1.0027339830994606\n",
            "\n",
            "--- VALIDATION METRICS ---\n"
          ]
        },
        {
          "output_type": "stream",
          "name": "stderr",
          "text": [
            "Calculating Metrics: 100%|██████████| 2/2 [00:00<00:00,  3.48it/s]\n"
          ]
        },
        {
          "output_type": "stream",
          "name": "stdout",
          "text": [
            "\n",
            "Got 1830620/2097152 with pixel accuracy 87.29%\n",
            "Average Dice Score: 0.8729\n",
            "Average IoU Score: 0.7745\n",
            "\n",
            "--- Epoch 61/75 ---\n"
          ]
        },
        {
          "output_type": "stream",
          "name": "stderr",
          "text": [
            "Training: 100%|██████████| 8/8 [00:07<00:00,  1.06it/s, loss=1.17]\n"
          ]
        },
        {
          "output_type": "stream",
          "name": "stdout",
          "text": [
            "Average training loss for the epoch: 1.0268101766705513\n",
            "\n",
            "--- VALIDATION METRICS ---\n"
          ]
        },
        {
          "output_type": "stream",
          "name": "stderr",
          "text": [
            "Calculating Metrics: 100%|██████████| 2/2 [00:00<00:00,  4.08it/s]\n"
          ]
        },
        {
          "output_type": "stream",
          "name": "stdout",
          "text": [
            "\n",
            "Got 1776941/2097152 with pixel accuracy 84.73%\n",
            "Average Dice Score: 0.8473\n",
            "Average IoU Score: 0.7351\n",
            "\n",
            "--- Epoch 62/75 ---\n"
          ]
        },
        {
          "output_type": "stream",
          "name": "stderr",
          "text": [
            "Training: 100%|██████████| 8/8 [00:07<00:00,  1.06it/s, loss=0.951]\n"
          ]
        },
        {
          "output_type": "stream",
          "name": "stdout",
          "text": [
            "Average training loss for the epoch: 1.0104477554559708\n",
            "\n",
            "--- VALIDATION METRICS ---\n"
          ]
        },
        {
          "output_type": "stream",
          "name": "stderr",
          "text": [
            "Calculating Metrics: 100%|██████████| 2/2 [00:00<00:00,  3.95it/s]\n"
          ]
        },
        {
          "output_type": "stream",
          "name": "stdout",
          "text": [
            "\n",
            "Got 1831501/2097152 with pixel accuracy 87.33%\n",
            "Average Dice Score: 0.8733\n",
            "Average IoU Score: 0.7752\n",
            "\n",
            "--- Epoch 63/75 ---\n"
          ]
        },
        {
          "output_type": "stream",
          "name": "stderr",
          "text": [
            "Training: 100%|██████████| 8/8 [00:07<00:00,  1.06it/s, loss=1.01]\n"
          ]
        },
        {
          "output_type": "stream",
          "name": "stdout",
          "text": [
            "Average training loss for the epoch: 1.0116468146443367\n",
            "\n",
            "--- VALIDATION METRICS ---\n"
          ]
        },
        {
          "output_type": "stream",
          "name": "stderr",
          "text": [
            "Calculating Metrics: 100%|██████████| 2/2 [00:00<00:00,  3.41it/s]\n"
          ]
        },
        {
          "output_type": "stream",
          "name": "stdout",
          "text": [
            "\n",
            "Got 1733151/2097152 with pixel accuracy 82.64%\n",
            "Average Dice Score: 0.8264\n",
            "Average IoU Score: 0.7042\n",
            "\n",
            "--- Epoch 64/75 ---\n"
          ]
        },
        {
          "output_type": "stream",
          "name": "stderr",
          "text": [
            "Training: 100%|██████████| 8/8 [00:07<00:00,  1.04it/s, loss=0.938]\n"
          ]
        },
        {
          "output_type": "stream",
          "name": "stdout",
          "text": [
            "Average training loss for the epoch: 1.0074545070528984\n",
            "\n",
            "--- VALIDATION METRICS ---\n"
          ]
        },
        {
          "output_type": "stream",
          "name": "stderr",
          "text": [
            "Calculating Metrics: 100%|██████████| 2/2 [00:00<00:00,  3.94it/s]\n"
          ]
        },
        {
          "output_type": "stream",
          "name": "stdout",
          "text": [
            "\n",
            "Got 1800874/2097152 with pixel accuracy 85.87%\n",
            "Average Dice Score: 0.8587\n",
            "Average IoU Score: 0.7525\n",
            "\n",
            "--- Epoch 65/75 ---\n"
          ]
        },
        {
          "output_type": "stream",
          "name": "stderr",
          "text": [
            "Training: 100%|██████████| 8/8 [00:07<00:00,  1.06it/s, loss=1.16]\n"
          ]
        },
        {
          "output_type": "stream",
          "name": "stdout",
          "text": [
            "Average training loss for the epoch: 0.9995497390627861\n",
            "\n",
            "--- VALIDATION METRICS ---\n"
          ]
        },
        {
          "output_type": "stream",
          "name": "stderr",
          "text": [
            "Calculating Metrics: 100%|██████████| 2/2 [00:00<00:00,  3.88it/s]\n"
          ]
        },
        {
          "output_type": "stream",
          "name": "stdout",
          "text": [
            "\n",
            "Got 1815131/2097152 with pixel accuracy 86.55%\n",
            "Average Dice Score: 0.8655\n",
            "Average IoU Score: 0.7633\n",
            "\n",
            "--- Epoch 66/75 ---\n"
          ]
        },
        {
          "output_type": "stream",
          "name": "stderr",
          "text": [
            "Training: 100%|██████████| 8/8 [00:07<00:00,  1.07it/s, loss=1.15]\n"
          ]
        },
        {
          "output_type": "stream",
          "name": "stdout",
          "text": [
            "Average training loss for the epoch: 1.0033270195126534\n",
            "\n",
            "--- VALIDATION METRICS ---\n"
          ]
        },
        {
          "output_type": "stream",
          "name": "stderr",
          "text": [
            "Calculating Metrics: 100%|██████████| 2/2 [00:00<00:00,  3.82it/s]\n"
          ]
        },
        {
          "output_type": "stream",
          "name": "stdout",
          "text": [
            "\n",
            "Got 1844925/2097152 with pixel accuracy 87.97%\n",
            "Average Dice Score: 0.8797\n",
            "Average IoU Score: 0.7853\n",
            "\n",
            "--- Epoch 67/75 ---\n"
          ]
        },
        {
          "output_type": "stream",
          "name": "stderr",
          "text": [
            "Training: 100%|██████████| 8/8 [00:07<00:00,  1.06it/s, loss=1.28]\n"
          ]
        },
        {
          "output_type": "stream",
          "name": "stdout",
          "text": [
            "Average training loss for the epoch: 1.0290401801466942\n",
            "\n",
            "--- VALIDATION METRICS ---\n"
          ]
        },
        {
          "output_type": "stream",
          "name": "stderr",
          "text": [
            "Calculating Metrics: 100%|██████████| 2/2 [00:00<00:00,  3.98it/s]\n"
          ]
        },
        {
          "output_type": "stream",
          "name": "stdout",
          "text": [
            "\n",
            "Got 1795923/2097152 with pixel accuracy 85.64%\n",
            "Average Dice Score: 0.8564\n",
            "Average IoU Score: 0.7489\n",
            "\n",
            "--- Epoch 68/75 ---\n"
          ]
        },
        {
          "output_type": "stream",
          "name": "stderr",
          "text": [
            "Training: 100%|██████████| 8/8 [00:07<00:00,  1.06it/s, loss=0.927]\n"
          ]
        },
        {
          "output_type": "stream",
          "name": "stdout",
          "text": [
            "Average training loss for the epoch: 1.0071500018239021\n",
            "\n",
            "--- VALIDATION METRICS ---\n"
          ]
        },
        {
          "output_type": "stream",
          "name": "stderr",
          "text": [
            "Calculating Metrics: 100%|██████████| 2/2 [00:00<00:00,  3.20it/s]\n"
          ]
        },
        {
          "output_type": "stream",
          "name": "stdout",
          "text": [
            "\n",
            "Got 1785522/2097152 with pixel accuracy 85.14%\n",
            "Average Dice Score: 0.8514\n",
            "Average IoU Score: 0.7414\n",
            "\n",
            "--- Epoch 69/75 ---\n"
          ]
        },
        {
          "output_type": "stream",
          "name": "stderr",
          "text": [
            "Training: 100%|██████████| 8/8 [00:07<00:00,  1.07it/s, loss=1.2]\n"
          ]
        },
        {
          "output_type": "stream",
          "name": "stdout",
          "text": [
            "Average training loss for the epoch: 1.0305021703243256\n",
            "\n",
            "--- VALIDATION METRICS ---\n"
          ]
        },
        {
          "output_type": "stream",
          "name": "stderr",
          "text": [
            "Calculating Metrics: 100%|██████████| 2/2 [00:00<00:00,  3.82it/s]\n"
          ]
        },
        {
          "output_type": "stream",
          "name": "stdout",
          "text": [
            "\n",
            "Got 1838515/2097152 with pixel accuracy 87.67%\n",
            "Average Dice Score: 0.8767\n",
            "Average IoU Score: 0.7805\n",
            "\n",
            "--- Epoch 70/75 ---\n"
          ]
        },
        {
          "output_type": "stream",
          "name": "stderr",
          "text": [
            "Training: 100%|██████████| 8/8 [00:07<00:00,  1.06it/s, loss=0.934]\n"
          ]
        },
        {
          "output_type": "stream",
          "name": "stdout",
          "text": [
            "Average training loss for the epoch: 0.9947248920798302\n",
            "\n",
            "--- VALIDATION METRICS ---\n"
          ]
        },
        {
          "output_type": "stream",
          "name": "stderr",
          "text": [
            "Calculating Metrics: 100%|██████████| 2/2 [00:00<00:00,  3.96it/s]\n"
          ]
        },
        {
          "output_type": "stream",
          "name": "stdout",
          "text": [
            "\n",
            "Got 1737763/2097152 with pixel accuracy 82.86%\n",
            "Average Dice Score: 0.8286\n",
            "Average IoU Score: 0.7074\n",
            "\n",
            "--- Epoch 71/75 ---\n"
          ]
        },
        {
          "output_type": "stream",
          "name": "stderr",
          "text": [
            "Training: 100%|██████████| 8/8 [00:07<00:00,  1.06it/s, loss=1.19]\n"
          ]
        },
        {
          "output_type": "stream",
          "name": "stdout",
          "text": [
            "Average training loss for the epoch: 0.999599501490593\n",
            "\n",
            "--- VALIDATION METRICS ---\n"
          ]
        },
        {
          "output_type": "stream",
          "name": "stderr",
          "text": [
            "Calculating Metrics: 100%|██████████| 2/2 [00:00<00:00,  3.26it/s]\n"
          ]
        },
        {
          "output_type": "stream",
          "name": "stdout",
          "text": [
            "\n",
            "Got 1744933/2097152 with pixel accuracy 83.20%\n",
            "Average Dice Score: 0.8320\n",
            "Average IoU Score: 0.7126\n",
            "\n",
            "--- Epoch 72/75 ---\n"
          ]
        },
        {
          "output_type": "stream",
          "name": "stderr",
          "text": [
            "Training: 100%|██████████| 8/8 [00:07<00:00,  1.05it/s, loss=1.22]\n"
          ]
        },
        {
          "output_type": "stream",
          "name": "stdout",
          "text": [
            "Average training loss for the epoch: 1.0340229496359825\n",
            "\n",
            "--- VALIDATION METRICS ---\n"
          ]
        },
        {
          "output_type": "stream",
          "name": "stderr",
          "text": [
            "Calculating Metrics: 100%|██████████| 2/2 [00:00<00:00,  3.84it/s]\n"
          ]
        },
        {
          "output_type": "stream",
          "name": "stdout",
          "text": [
            "\n",
            "Got 1791471/2097152 with pixel accuracy 85.42%\n",
            "Average Dice Score: 0.8542\n",
            "Average IoU Score: 0.7456\n",
            "\n",
            "--- Epoch 73/75 ---\n"
          ]
        },
        {
          "output_type": "stream",
          "name": "stderr",
          "text": [
            "Training: 100%|██████████| 8/8 [00:07<00:00,  1.06it/s, loss=1.07]\n"
          ]
        },
        {
          "output_type": "stream",
          "name": "stdout",
          "text": [
            "Average training loss for the epoch: 0.981582798063755\n",
            "\n",
            "--- VALIDATION METRICS ---\n"
          ]
        },
        {
          "output_type": "stream",
          "name": "stderr",
          "text": [
            "Calculating Metrics: 100%|██████████| 2/2 [00:00<00:00,  4.06it/s]\n"
          ]
        },
        {
          "output_type": "stream",
          "name": "stdout",
          "text": [
            "\n",
            "Got 1755375/2097152 with pixel accuracy 83.70%\n",
            "Average Dice Score: 0.8370\n",
            "Average IoU Score: 0.7198\n",
            "\n",
            "--- Epoch 74/75 ---\n"
          ]
        },
        {
          "output_type": "stream",
          "name": "stderr",
          "text": [
            "Training: 100%|██████████| 8/8 [00:07<00:00,  1.06it/s, loss=0.922]\n"
          ]
        },
        {
          "output_type": "stream",
          "name": "stdout",
          "text": [
            "Average training loss for the epoch: 0.9841112568974495\n",
            "\n",
            "--- VALIDATION METRICS ---\n"
          ]
        },
        {
          "output_type": "stream",
          "name": "stderr",
          "text": [
            "Calculating Metrics: 100%|██████████| 2/2 [00:00<00:00,  3.37it/s]\n"
          ]
        },
        {
          "output_type": "stream",
          "name": "stdout",
          "text": [
            "\n",
            "Got 1821029/2097152 with pixel accuracy 86.83%\n",
            "Average Dice Score: 0.8683\n",
            "Average IoU Score: 0.7680\n",
            "\n",
            "--- Epoch 75/75 ---\n"
          ]
        },
        {
          "output_type": "stream",
          "name": "stderr",
          "text": [
            "Training: 100%|██████████| 8/8 [00:07<00:00,  1.06it/s, loss=1.11]\n"
          ]
        },
        {
          "output_type": "stream",
          "name": "stdout",
          "text": [
            "Average training loss for the epoch: 1.0706285312771797\n",
            "\n",
            "--- VALIDATION METRICS ---\n"
          ]
        },
        {
          "output_type": "stream",
          "name": "stderr",
          "text": [
            "Calculating Metrics: 100%|██████████| 2/2 [00:00<00:00,  3.99it/s]\n"
          ]
        },
        {
          "output_type": "stream",
          "name": "stdout",
          "text": [
            "\n",
            "Got 1735665/2097152 with pixel accuracy 82.76%\n",
            "Average Dice Score: 0.8276\n",
            "Average IoU Score: 0.7060\n",
            "\n",
            "Training finished!\n",
            "\n",
            "--- FINAL VALIDATION METRICS ---\n"
          ]
        },
        {
          "output_type": "stream",
          "name": "stderr",
          "text": [
            "Calculating Metrics: 100%|██████████| 2/2 [00:00<00:00,  3.97it/s]\n"
          ]
        },
        {
          "output_type": "stream",
          "name": "stdout",
          "text": [
            "\n",
            "Got 1735665/2097152 with pixel accuracy 82.76%\n",
            "Average Dice Score: 0.8276\n",
            "Average IoU Score: 0.7060\n",
            "Model saved to /content/drive/MyDrive/oct_major_project/unet_retina_segmentation.pth\n"
          ]
        }
      ]
    },
    {
      "cell_type": "markdown",
      "source": [
        "TEST"
      ],
      "metadata": {
        "id": "P36_AQ2crR3-"
      }
    },
    {
      "cell_type": "code",
      "source": [
        "import cv2\n",
        "import torch\n",
        "import numpy as np\n",
        "import matplotlib.pyplot as plt\n",
        "\n",
        "def predict_on_single_image(model, image_path, device):\n",
        "    \"\"\"\n",
        "    Loads a single image, preprocesses it, runs it through the model,\n",
        "    and visualizes the original image and the predicted mask.\n",
        "    \"\"\"\n",
        "\n",
        "    model.eval()\n",
        "\n",
        "\n",
        "    image = cv2.imread(image_path, cv2.IMREAD_GRAYSCALE)\n",
        "    if image is None:\n",
        "        print(f\"Error: Could not load image at {image_path}\")\n",
        "        return\n",
        "\n",
        "\n",
        "    original_shape = image.shape\n",
        "    image_resized = cv2.resize(image, (512, 512))\n",
        "\n",
        "    image_normalized = image_resized.astype(np.float32) / 255.0\n",
        "    image_processed = np.expand_dims(image_normalized, axis=0)\n",
        "\n",
        "    input_tensor = torch.from_numpy(image_processed).unsqueeze(0).to(device)\n",
        "\n",
        "\n",
        "    with torch.no_grad():\n",
        "        output = model(input_tensor)\n",
        "        predicted_mask = torch.argmax(output, dim=1).squeeze().cpu().numpy()\n",
        "\n",
        "\n",
        "    print(f\"Original image shape: {original_shape}\")\n",
        "    print(f\"Resized to: {image_resized.shape}\")\n",
        "\n",
        "    fig, ax = plt.subplots(1, 2, figsize=(12, 6))\n",
        "\n",
        "    ax[0].imshow(image_resized, cmap='gray')\n",
        "    ax[0].set_title(\"Input Image (Resized)\")\n",
        "    ax[0].axis('off')\n",
        "\n",
        "    ax[1].imshow(predicted_mask, cmap='viridis')\n",
        "    ax[1].set_title(\"Predicted Segmentation\")\n",
        "    ax[1].axis('off')\n",
        "\n",
        "    plt.show()\n",
        "\n",
        "\n",
        "\n",
        "\n",
        "\n",
        "MODEL_SAVE_PATH = os.path.join(PROJECT_FOLDER_IN_DRIVE, \"unet_retina_segmentation.pth\")\n",
        "model = UNet(in_channels=1, out_channels=NUM_CLASSES)\n",
        "model.load_state_dict(torch.load(MODEL_SAVE_PATH, map_location=DEVICE))\n",
        "model.to(DEVICE)\n",
        "print(\"Model loaded and ready for prediction.\")\n",
        "\n",
        "\n",
        "uploaded_image_path = '/content/Normal-macular-OCT-1.png'\n",
        "\n",
        "\n",
        "predict_on_single_image(model, uploaded_image_path, DEVICE)"
      ],
      "metadata": {
        "colab": {
          "base_uri": "https://localhost:8080/"
        },
        "id": "9InkYe5EpHFA",
        "outputId": "048f1b46-0b6d-4116-d33e-d3c70f47605e"
      },
      "execution_count": 13,
      "outputs": [
        {
          "output_type": "stream",
          "name": "stdout",
          "text": [
            "Model loaded and ready for prediction.\n",
            "Error: Could not load image at /content/Normal-macular-OCT-1.png\n"
          ]
        }
      ]
    },
    {
      "cell_type": "code",
      "source": [
        "import cv2\n",
        "import torch\n",
        "import numpy as np\n",
        "import matplotlib.pyplot as plt\n",
        "\n",
        "def predict_on_single_image(model, image_path, device):\n",
        "    \"\"\"\n",
        "    Loads a single image, preprocesses it, runs it through the model,\n",
        "    and visualizes the original image and the predicted mask.\n",
        "    \"\"\"\n",
        "\n",
        "    model.eval()\n",
        "\n",
        "\n",
        "    image = cv2.imread(image_path, cv2.IMREAD_GRAYSCALE)\n",
        "    if image is None:\n",
        "        print(f\"Error: Could not load image at {image_path}\")\n",
        "        return\n",
        "\n",
        "\n",
        "    original_shape = image.shape\n",
        "    image_resized = cv2.resize(image, (512, 512))\n",
        "\n",
        "    image_normalized = image_resized.astype(np.float32) / 255.0\n",
        "    image_processed = np.expand_dims(image_normalized, axis=0)\n",
        "\n",
        "    input_tensor = torch.from_numpy(image_processed).unsqueeze(0).to(device)\n",
        "\n",
        "\n",
        "    with torch.no_grad():\n",
        "        output = model(input_tensor)\n",
        "        predicted_mask = torch.argmax(output, dim=1).squeeze().cpu().numpy()\n",
        "\n",
        "\n",
        "    print(f\"Original image shape: {original_shape}\")\n",
        "    print(f\"Resized to: {image_resized.shape}\")\n",
        "\n",
        "    fig, ax = plt.subplots(1, 2, figsize=(12, 6))\n",
        "\n",
        "    ax[0].imshow(image_resized, cmap='gray')\n",
        "    ax[0].set_title(\"Input Image (Resized)\")\n",
        "    ax[0].axis('off')\n",
        "\n",
        "    ax[1].imshow(predicted_mask, cmap='viridis')\n",
        "    ax[1].set_title(\"Predicted Segmentation\")\n",
        "    ax[1].axis('off')\n",
        "\n",
        "    plt.show()\n",
        "\n",
        "\n",
        "\n",
        "\n",
        "\n",
        "MODEL_SAVE_PATH = os.path.join(PROJECT_FOLDER_IN_DRIVE, \"unet_retina_segmentation.pth\")\n",
        "model = UNet(in_channels=1, out_channels=NUM_CLASSES)\n",
        "model.load_state_dict(torch.load(MODEL_SAVE_PATH, map_location=DEVICE))\n",
        "model.to(DEVICE)\n",
        "print(\"Model loaded and ready for prediction.\")\n",
        "\n",
        "\n",
        "\n",
        "uploaded_image_path = '/content/drive/MyDrive/oct_major_project/drusen 2.v1i.coco-segmentation/train/DRUSEN-8023853-102_jpeg.rf.0fcea15b0f8b2e94c8f915e3edea504d.jpg'\n",
        "\n",
        "\n",
        "predict_on_single_image(model, uploaded_image_path, DEVICE)"
      ],
      "metadata": {
        "colab": {
          "base_uri": "https://localhost:8080/",
          "height": 534
        },
        "id": "dc-iRluswCRe",
        "outputId": "1d91ac4a-b345-49ca-dde2-ac380dc9d3f5"
      },
      "execution_count": 14,
      "outputs": [
        {
          "output_type": "stream",
          "name": "stdout",
          "text": [
            "Model loaded and ready for prediction.\n",
            "Original image shape: (512, 512)\n",
            "Resized to: (512, 512)\n"
          ]
        },
        {
          "output_type": "display_data",
          "data": {
            "text/plain": [
              "<Figure size 1200x600 with 2 Axes>"
            ],
            "image/png": "[encoded data removed]"
          },
          "metadata": {}
        }
      ]
    },
    {
      "cell_type": "code",
      "source": [],
      "metadata": {
        "id": "CBchxirp3yrt"
      },
      "execution_count": 14,
      "outputs": []
    }
  ]
}