{
  "nbformat": 4,
  "nbformat_minor": 0,
  "metadata": {
    "colab": {
      "provenance": [],
      "gpuType": "T4",
      "authorship_tag": "ABX9TyOgDZhVRgJDeEZAWHFoQqHj",
      "include_colab_link": true
    },
    "kernelspec": {
      "name": "python3",
      "display_name": "Python 3"
    },
    "language_info": {
      "name": "python"
    },
    "accelerator": "GPU"
  },
  "cells": [
    {
      "cell_type": "markdown",
      "metadata": {
        "id": "view-in-github",
        "colab_type": "text"
      },
      "source": [
        "<a href=\"https://colab.research.google.com/github/snlrai/OCT/blob/main/Segmentation.ipynb\" target=\"_parent\"><img src=\"https://colab.research.google.com/assets/colab-badge.svg\" alt=\"Open In Colab\"/></a>"
      ]
    },
    {
      "cell_type": "code",
      "execution_count": 1,
      "metadata": {
        "colab": {
          "base_uri": "https://localhost:8080/"
        },
        "id": "l-Y7umpx8_rX",
        "outputId": "5218c6cb-05bd-4086-ff2c-33acd79e0d03"
      },
      "outputs": [
        {
          "output_type": "stream",
          "name": "stdout",
          "text": [
            "Drive already mounted at /content/drive; to attempt to forcibly remount, call drive.mount(\"/content/drive\", force_remount=True).\n",
            "Requirement already satisfied: pycocotools in /usr/local/lib/python3.12/dist-packages (2.0.10)\n",
            "Requirement already satisfied: numpy in /usr/local/lib/python3.12/dist-packages (from pycocotools) (2.0.2)\n"
          ]
        }
      ],
      "source": [
        "from google.colab import drive\n",
        "drive.mount('/content/drive')\n",
        "\n",
        "!pip install pycocotools"
      ]
    },
    {
      "cell_type": "code",
      "source": [
        "!pip install -U albumentations"
      ],
      "metadata": {
        "colab": {
          "base_uri": "https://localhost:8080/"
        },
        "id": "a2IqeCxEwwWq",
        "outputId": "66cc81a4-9ff9-458a-b60e-17077f8a4bfe"
      },
      "execution_count": 2,
      "outputs": [
        {
          "output_type": "stream",
          "name": "stdout",
          "text": [
            "Requirement already satisfied: albumentations in /usr/local/lib/python3.12/dist-packages (2.0.8)\n",
            "Requirement already satisfied: numpy>=1.24.4 in /usr/local/lib/python3.12/dist-packages (from albumentations) (2.0.2)\n",
            "Requirement already satisfied: scipy>=1.10.0 in /usr/local/lib/python3.12/dist-packages (from albumentations) (1.16.1)\n",
            "Requirement already satisfied: PyYAML in /usr/local/lib/python3.12/dist-packages (from albumentations) (6.0.2)\n",
            "Requirement already satisfied: pydantic>=2.9.2 in /usr/local/lib/python3.12/dist-packages (from albumentations) (2.11.7)\n",
            "Requirement already satisfied: albucore==0.0.24 in /usr/local/lib/python3.12/dist-packages (from albumentations) (0.0.24)\n",
            "Requirement already satisfied: opencv-python-headless>=4.9.0.80 in /usr/local/lib/python3.12/dist-packages (from albumentations) (4.12.0.88)\n",
            "Requirement already satisfied: stringzilla>=3.10.4 in /usr/local/lib/python3.12/dist-packages (from albucore==0.0.24->albumentations) (3.12.6)\n",
            "Requirement already satisfied: simsimd>=5.9.2 in /usr/local/lib/python3.12/dist-packages (from albucore==0.0.24->albumentations) (6.5.1)\n",
            "Requirement already satisfied: annotated-types>=0.6.0 in /usr/local/lib/python3.12/dist-packages (from pydantic>=2.9.2->albumentations) (0.7.0)\n",
            "Requirement already satisfied: pydantic-core==2.33.2 in /usr/local/lib/python3.12/dist-packages (from pydantic>=2.9.2->albumentations) (2.33.2)\n",
            "Requirement already satisfied: typing-extensions>=4.12.2 in /usr/local/lib/python3.12/dist-packages (from pydantic>=2.9.2->albumentations) (4.15.0)\n",
            "Requirement already satisfied: typing-inspection>=0.4.0 in /usr/local/lib/python3.12/dist-packages (from pydantic>=2.9.2->albumentations) (0.4.1)\n"
          ]
        }
      ]
    },
    {
      "cell_type": "markdown",
      "source": [
        "IMPORT AND CONFIGURATION"
      ],
      "metadata": {
        "id": "PsAY8mOBeTZK"
      }
    },
    {
      "cell_type": "code",
      "source": [
        "import torch\n",
        "import torch.nn as nn\n",
        "import torch.optim as optim\n",
        "from torch.utils.data import Dataset,DataLoader\n",
        "import os\n",
        "import cv2\n",
        "import numpy as np\n",
        "from tqdm import tqdm\n",
        "from pycocotools.coco import COCO\n",
        "import json\n",
        "from google.colab import drive\n",
        "drive.mount('/content/drive')\n",
        "PROJECT_FOLDER_IN_DRIVE='/content/drive/MyDrive/oct_major_project/'\n",
        "UPLOADED_DATA_FOLDER='NORMAL 2.v1i.coco-segmentation'\n",
        "DATA_DIR=os.path.join(PROJECT_FOLDER_IN_DRIVE,UPLOADED_DATA_FOLDER,'train/')\n",
        "JSON_PATH=os.path.join(DATA_DIR,'_annotations.coco.json')\n",
        "IMAGE_DIR=DATA_DIR\n",
        "MASK_SAVE_DIR=os.path.join(DATA_DIR,'masks/')\n",
        "os.makedirs(MASK_SAVE_DIR,exist_ok=True)\n",
        "DEVICE= \"cuda\" if torch.cuda.is_available() else \"cpu\"\n",
        "print(f\"Using device : {DEVICE}\")\n",
        "LEARNING_RATE= 1e-4\n",
        "BATCH_SIZE= 8\n",
        "NUM_EPOCHS=75"
      ],
      "metadata": {
        "colab": {
          "base_uri": "https://localhost:8080/"
        },
        "id": "-MErr1n1B0qE",
        "outputId": "21217f37-9a83-4674-916c-6ea81500f587"
      },
      "execution_count": 3,
      "outputs": [
        {
          "output_type": "stream",
          "name": "stdout",
          "text": [
            "Drive already mounted at /content/drive; to attempt to forcibly remount, call drive.mount(\"/content/drive\", force_remount=True).\n",
            "Using device : cuda\n"
          ]
        }
      ]
    },
    {
      "cell_type": "markdown",
      "source": [
        "GROUND TRUTH MASK GENERATION"
      ],
      "metadata": {
        "id": "9xhiYEpbe15g"
      }
    },
    {
      "cell_type": "code",
      "source": [
        "print(\"Loading coco json for segmentation\")\n",
        "coco=COCO(JSON_PATH)\n",
        "img_ids= coco.getImgIds()\n",
        "images=coco.loadImgs(img_ids)\n",
        "print(f\"Found {len(images)} images. startring mask generation\")\n",
        "for img_info in tqdm(images,desc=\"Gnerating maks\"):\n",
        "  img_id=img_info['id']\n",
        "  img_file_name=img_info['file_name']\n",
        "  img_height=img_info['height']\n",
        "  img_width=img_info['width']\n",
        "  mask=np.zeros((img_height,img_width),dtype=np.uint8)\n",
        "  ann_ids= coco.getAnnIds(imgIds=img_id)\n",
        "  anns=coco.loadAnns(ann_ids)\n",
        "  for ann in anns:\n",
        "    category_id=ann['category_id']\n",
        "    for seg in ann['segmentation']:\n",
        "      poly=np.array(seg,dtype=np.int32).reshape((-1,1,2))\n",
        "      cv2.fillPoly(mask,[poly],color=(category_id))\n",
        "  base_name=img_file_name.split('.')[0]\n",
        "  mask_file_name=f\"{base_name}.png\"\n",
        "  save_path=os.path.join(MASK_SAVE_DIR,mask_file_name)\n",
        "  cv2.imwrite(save_path,mask)\n",
        "print(f\"Mask generation complete! the images are saved in{MASK_SAVE_DIR}\")"
      ],
      "metadata": {
        "colab": {
          "base_uri": "https://localhost:8080/"
        },
        "id": "LO_VAbnPbL5-",
        "outputId": "878b340d-9b66-4475-a9ee-ca197b86f7fb"
      },
      "execution_count": 4,
      "outputs": [
        {
          "output_type": "stream",
          "name": "stdout",
          "text": [
            "Loading coco json for segmentation\n",
            "loading annotations into memory...\n",
            "Done (t=0.01s)\n",
            "creating index...\n",
            "index created!\n",
            "Found 20 images. startring mask generation\n"
          ]
        },
        {
          "output_type": "stream",
          "name": "stderr",
          "text": [
            "Gnerating maks: 100%|██████████| 20/20 [00:00<00:00, 128.77it/s]"
          ]
        },
        {
          "output_type": "stream",
          "name": "stdout",
          "text": [
            "Mask generation complete! the images are saved in/content/drive/MyDrive/oct_major_project/NORMAL 2.v1i.coco-segmentation/train/masks/\n"
          ]
        },
        {
          "output_type": "stream",
          "name": "stderr",
          "text": [
            "\n"
          ]
        }
      ]
    },
    {
      "cell_type": "markdown",
      "source": [
        "UNET MODEL DEFENITION"
      ],
      "metadata": {
        "id": "FDpGdsURozN_"
      }
    },
    {
      "cell_type": "code",
      "source": [
        "class DoubleConv(nn.Module):\n",
        "    def __init__(self, in_channels, out_channels):\n",
        "        super(DoubleConv, self).__init__()\n",
        "        self.conv = nn.Sequential(\n",
        "            nn.Conv2d(in_channels, out_channels, 3, 1, 1, bias=False),\n",
        "            nn.BatchNorm2d(out_channels),\n",
        "            nn.ReLU(inplace=True),\n",
        "            nn.Conv2d(out_channels, out_channels, 3, 1, 1, bias=False),\n",
        "            nn.BatchNorm2d(out_channels),\n",
        "            nn.ReLU(inplace=True),\n",
        "        )\n",
        "    def forward(self, x):\n",
        "        return self.conv(x)\n",
        "\n",
        "class UNet(nn.Module):\n",
        "    def __init__(self, in_channels=1, out_channels=8, features=[64, 128, 256, 512]):\n",
        "        super(UNet, self).__init__()\n",
        "        self.ups = nn.ModuleList()\n",
        "        self.downs = nn.ModuleList()\n",
        "        self.pool = nn.MaxPool2d(kernel_size=2, stride=2)\n",
        "\n",
        "        for feature in features:\n",
        "            self.downs.append(DoubleConv(in_channels, feature))\n",
        "            in_channels = feature\n",
        "\n",
        "        for feature in reversed(features):\n",
        "            self.ups.append(nn.ConvTranspose2d(feature*2, feature, kernel_size=2, stride=2))\n",
        "            self.ups.append(DoubleConv(feature*2, feature))\n",
        "\n",
        "        self.bottleneck = DoubleConv(features[-1], features[-1]*2)\n",
        "        self.final_conv = nn.Conv2d(features[0], out_channels, kernel_size=1)\n",
        "\n",
        "    def forward(self, x):\n",
        "        skip_connections = []\n",
        "        for down in self.downs:\n",
        "            x = down(x)\n",
        "            skip_connections.append(x)\n",
        "            x = self.pool(x)\n",
        "        x = self.bottleneck(x)\n",
        "        skip_connections = skip_connections[::-1]\n",
        "        for idx in range(0, len(self.ups), 2):\n",
        "            x = self.ups[idx](x)\n",
        "            skip_connection = skip_connections[idx//2]\n",
        "            if x.shape != skip_connection.shape:\n",
        "                x = torch.nn.functional.interpolate(x, size=skip_connection.shape[2:])\n",
        "            concat_skip = torch.cat((skip_connection, x), dim=1)\n",
        "            x = self.ups[idx+1](concat_skip)\n",
        "        return self.final_conv(x)\n",
        "\n",
        "print(\"U-Net model class defined.\")"
      ],
      "metadata": {
        "colab": {
          "base_uri": "https://localhost:8080/"
        },
        "id": "Gn6B4rvWkVgr",
        "outputId": "1a429ece-9dca-4832-b40f-fb46984fd9dd"
      },
      "execution_count": 5,
      "outputs": [
        {
          "output_type": "stream",
          "name": "stdout",
          "text": [
            "U-Net model class defined.\n"
          ]
        }
      ]
    },
    {
      "cell_type": "markdown",
      "source": [
        "CUSTOM DATASET CLASS"
      ],
      "metadata": {
        "id": "7QsnOEF2o4RM"
      }
    },
    {
      "cell_type": "code",
      "source": [
        "import albumentations as A\n",
        "from albumentations.pytorch import ToTensorV2\n",
        "\n",
        "class RetinaDataset(Dataset):\n",
        "    def __init__(self, image_dir, mask_dir, transform=None):\n",
        "        self.image_dir = image_dir\n",
        "        self.mask_dir = mask_dir\n",
        "        self.images = sorted([f for f in os.listdir(image_dir) if f.endswith('.jpg')])\n",
        "        self.transform = transform\n",
        "\n",
        "    def __len__(self):\n",
        "        return len(self.images)\n",
        "\n",
        "    def __getitem__(self, index):\n",
        "        img_file = self.images[index]\n",
        "        mask_file = img_file.split('.')[0] + '.png'\n",
        "\n",
        "        img_path = os.path.join(self.image_dir, img_file)\n",
        "        mask_path = os.path.join(self.mask_dir, mask_file)\n",
        "\n",
        "        image = cv2.imread(img_path, cv2.IMREAD_GRAYSCALE)\n",
        "        mask = cv2.imread(mask_path, cv2.IMREAD_GRAYSCALE)\n",
        "\n",
        "        if self.transform is not None:\n",
        "\n",
        "            augmented = self.transform(image=image, mask=mask)\n",
        "            image = augmented['image']\n",
        "            mask = augmented['mask'].long()\n",
        "\n",
        "\n",
        "        return image, mask\n",
        "\n",
        "\n",
        "train_transform = A.Compose(\n",
        "    [\n",
        "        A.Resize(height=512, width=512),\n",
        "        A.HorizontalFlip(p=0.5),\n",
        "        A.RandomBrightnessContrast(p=0.2),\n",
        "        A.Normalize(mean=[0.0], std=[1.0]),\n",
        "        ToTensorV2(),\n",
        "    ]\n",
        ")\n",
        "\n",
        "val_transform = A.Compose(\n",
        "    [\n",
        "        A.Resize(height=512, width=512),\n",
        "        A.Normalize(mean=[0.0], std=[1.0]),\n",
        "        ToTensorV2(),\n",
        "    ]\n",
        ")"
      ],
      "metadata": {
        "id": "2tLbPhuhoLsC"
      },
      "execution_count": 6,
      "outputs": []
    },
    {
      "cell_type": "markdown",
      "source": [
        "TRAINING FUNTION"
      ],
      "metadata": {
        "id": "2XIWo38_o78M"
      }
    },
    {
      "cell_type": "code",
      "source": [
        "def train_fn(loader, model, optimizer, loss_fn):\n",
        "    loop = tqdm(loader, desc=\"Training\")\n",
        "    total_loss = 0.0\n",
        "\n",
        "    model.train()\n",
        "\n",
        "    for batch_idx, (data, targets) in enumerate(loop):\n",
        "        data, targets = data.to(device=DEVICE), targets.to(device=DEVICE)\n",
        "\n",
        "        predictions = model(data)\n",
        "        loss = loss_fn(predictions, targets)\n",
        "\n",
        "        optimizer.zero_grad()\n",
        "        loss.backward()\n",
        "        optimizer.step()\n",
        "\n",
        "        total_loss += loss.item()\n",
        "        loop.set_postfix(loss=loss.item())\n",
        "\n",
        "    print(f\"Average training loss for the epoch: {total_loss / len(loader)}\")\n",
        "\n",
        "print(\"Training function defined.\")\n"
      ],
      "metadata": {
        "colab": {
          "base_uri": "https://localhost:8080/"
        },
        "id": "UPTWLEsboVLi",
        "outputId": "4ceea680-fcf8-476c-c2e2-8c61b3da1679"
      },
      "execution_count": 7,
      "outputs": [
        {
          "output_type": "stream",
          "name": "stdout",
          "text": [
            "Training function defined.\n"
          ]
        }
      ]
    },
    {
      "cell_type": "markdown",
      "source": [
        "TRAINING"
      ],
      "metadata": {
        "id": "yr-8QPLzo_C3"
      }
    },
    {
      "cell_type": "code",
      "source": [
        "def check_metrics(loader, model, device=\"cuda\"):\n",
        "    \"\"\"\n",
        "    Calculates and prints Pixel Accuracy, Dice Score, and IoU Score for a given dataset.\n",
        "    \"\"\"\n",
        "    num_correct = 0\n",
        "    num_pixels = 0\n",
        "    dice_score = 0\n",
        "    iou_score = 0\n",
        "\n",
        "\n",
        "    model.eval()\n",
        "\n",
        "    with torch.no_grad():\n",
        "        for x, y in tqdm(loader, desc=\"Calculating Metrics\"):\n",
        "            x = x.to(device)\n",
        "            y = y.to(device)\n",
        "\n",
        "            preds = model(x)\n",
        "            preds = torch.argmax(preds, dim=1)\n",
        "\n",
        "\n",
        "            num_correct += (preds == y).sum()\n",
        "            num_pixels += torch.numel(preds)\n",
        "\n",
        "            y_one_hot = torch.nn.functional.one_hot(y, num_classes=model.final_conv.out_channels).permute(0, 3, 1, 2)\n",
        "            preds_one_hot = torch.nn.functional.one_hot(preds, num_classes=model.final_conv.out_channels).permute(0, 3, 1, 2)\n",
        "            intersection = (preds_one_hot * y_one_hot).float().sum()\n",
        "\n",
        "\n",
        "            union = preds_one_hot.float().sum() + y_one_hot.float().sum()\n",
        "\n",
        "\n",
        "            dice_score += (2. * intersection) / (union + 1e-8) # 1e-8 to avoid division by zero\n",
        "\n",
        "\n",
        "            iou_score += intersection / (union - intersection + 1e-8)\n",
        "\n",
        "\n",
        "    pixel_acc = (num_correct/num_pixels)*100\n",
        "    avg_dice = (dice_score/len(loader))\n",
        "    avg_iou = (iou_score/len(loader))\n",
        "\n",
        "    print(f\"\\nGot {num_correct}/{num_pixels} with pixel accuracy {pixel_acc:.2f}%\")\n",
        "    print(f\"Average Dice Score: {avg_dice:.4f}\")\n",
        "    print(f\"Average IoU Score: {avg_iou:.4f}\")\n",
        "\n",
        "\n",
        "    model.train()\n",
        "\n",
        "    return pixel_acc, avg_dice, avg_iou"
      ],
      "metadata": {
        "id": "DxipnjHKtLRj"
      },
      "execution_count": 8,
      "outputs": []
    },
    {
      "cell_type": "code",
      "source": [
        "\n",
        "model = UNet(in_channels=1, out_channels=8).to(DEVICE)\n",
        "loss_fn = nn.CrossEntropyLoss()\n",
        "optimizer = optim.Adam(model.parameters(), lr=LEARNING_RATE)\n",
        "\n",
        "\n",
        "from torch.utils.data import random_split, Subset\n",
        "\n",
        "\n",
        "full_dataset_for_split = RetinaDataset(image_dir=IMAGE_DIR, mask_dir=MASK_SAVE_DIR)\n",
        "\n",
        "\n",
        "train_size = int(0.8 * len(full_dataset_for_split))\n",
        "val_size = len(full_dataset_for_split) - train_size\n",
        "indices = list(range(len(full_dataset_for_split)))\n",
        "train_indices, val_indices = random_split(indices, [train_size, val_size])\n",
        "\n",
        "print(f\"Full dataset size: {len(full_dataset_for_split)}\")\n",
        "print(f\"Training indices: {len(train_indices)}\")\n",
        "print(f\"Validation indices: {len(val_indices)}\")\n",
        "\n",
        "\n",
        "\n",
        "train_dataset_with_transform = RetinaDataset(\n",
        "    image_dir=IMAGE_DIR,\n",
        "    mask_dir=MASK_SAVE_DIR,\n",
        "    transform=train_transform\n",
        ")\n",
        "\n",
        "\n",
        "val_dataset_with_transform = RetinaDataset(\n",
        "    image_dir=IMAGE_DIR,\n",
        "    mask_dir=MASK_SAVE_DIR,\n",
        "    transform=val_transform\n",
        ")\n",
        "\n",
        "\n",
        "\n",
        "train_subset = Subset(train_dataset_with_transform, train_indices)\n",
        "val_subset = Subset(val_dataset_with_transform, val_indices)\n",
        "\n",
        "\n",
        "train_loader = DataLoader(\n",
        "    train_subset,\n",
        "    batch_size=BATCH_SIZE,\n",
        "    shuffle=True,\n",
        "    num_workers=2,\n",
        "    pin_memory=True\n",
        ")\n",
        "\n",
        "val_loader = DataLoader(\n",
        "    val_subset,\n",
        "    batch_size=BATCH_SIZE,\n",
        "    shuffle=False,\n",
        "    num_workers=2,\n",
        "    pin_memory=True\n",
        ")\n",
        "\n",
        "print(\"\\nDatasets and DataLoaders created successfully with augmentations for the training set.\")\n",
        "\n",
        "\n",
        "\n",
        "for epoch in range(NUM_EPOCHS):\n",
        "    print(f\"\\n--- Epoch {epoch+1}/{NUM_EPOCHS} ---\")\n",
        "    train_fn(train_loader, model, optimizer, loss_fn)\n",
        "    print(\"\\n--- VALIDATION METRICS ---\")\n",
        "    check_metrics(val_loader, model, device=DEVICE)\n",
        "\n",
        "print(\"\\nTraining finished!\")\n",
        "\n",
        "print(\"\\n--- FINAL VALIDATION METRICS ---\")\n",
        "check_metrics(val_loader, model, device=DEVICE)\n",
        "\n",
        "\n",
        "MODEL_SAVE_PATH = os.path.join(PROJECT_FOLDER_IN_DRIVE, \"unet_retina_segmentation.pth\")\n",
        "torch.save(model.state_dict(), MODEL_SAVE_PATH)\n",
        "print(f\"Model saved to {MODEL_SAVE_PATH}\")"
      ],
      "metadata": {
        "colab": {
          "base_uri": "https://localhost:8080/"
        },
        "id": "Alxp6jD4oYzT",
        "outputId": "df956db8-9543-4897-e5df-45f8264aaf5f"
      },
      "execution_count": 9,
      "outputs": [
        {
          "output_type": "stream",
          "name": "stdout",
          "text": [
            "Full dataset size: 20\n",
            "Training indices: 16\n",
            "Validation indices: 4\n",
            "\n",
            "Datasets and DataLoaders created successfully with augmentations for the training set.\n",
            "\n",
            "--- Epoch 1/75 ---\n"
          ]
        },
        {
          "output_type": "stream",
          "name": "stderr",
          "text": [
            "Training: 100%|██████████| 2/2 [00:05<00:00,  2.62s/it, loss=2.14]\n"
          ]
        },
        {
          "output_type": "stream",
          "name": "stdout",
          "text": [
            "Average training loss for the epoch: 2.1410411596298218\n",
            "\n",
            "--- VALIDATION METRICS ---\n"
          ]
        },
        {
          "output_type": "stream",
          "name": "stderr",
          "text": [
            "Calculating Metrics: 100%|██████████| 1/1 [00:00<00:00,  1.04it/s]\n"
          ]
        },
        {
          "output_type": "stream",
          "name": "stdout",
          "text": [
            "\n",
            "Got 19978/1048576 with pixel accuracy 1.91%\n",
            "Average Dice Score: 0.0191\n",
            "Average IoU Score: 0.0096\n",
            "\n",
            "--- Epoch 2/75 ---\n"
          ]
        },
        {
          "output_type": "stream",
          "name": "stderr",
          "text": [
            "Training: 100%|██████████| 2/2 [00:04<00:00,  2.19s/it, loss=2.05]\n"
          ]
        },
        {
          "output_type": "stream",
          "name": "stdout",
          "text": [
            "Average training loss for the epoch: 2.0601112842559814\n",
            "\n",
            "--- VALIDATION METRICS ---\n"
          ]
        },
        {
          "output_type": "stream",
          "name": "stderr",
          "text": [
            "Calculating Metrics: 100%|██████████| 1/1 [00:00<00:00,  6.31it/s]\n"
          ]
        },
        {
          "output_type": "stream",
          "name": "stdout",
          "text": [
            "\n",
            "Got 19978/1048576 with pixel accuracy 1.91%\n",
            "Average Dice Score: 0.0191\n",
            "Average IoU Score: 0.0096\n",
            "\n",
            "--- Epoch 3/75 ---\n"
          ]
        },
        {
          "output_type": "stream",
          "name": "stderr",
          "text": [
            "Training: 100%|██████████| 2/2 [00:04<00:00,  2.09s/it, loss=2]\n"
          ]
        },
        {
          "output_type": "stream",
          "name": "stdout",
          "text": [
            "Average training loss for the epoch: 2.01039320230484\n",
            "\n",
            "--- VALIDATION METRICS ---\n"
          ]
        },
        {
          "output_type": "stream",
          "name": "stderr",
          "text": [
            "Calculating Metrics: 100%|██████████| 1/1 [00:00<00:00,  6.34it/s]\n"
          ]
        },
        {
          "output_type": "stream",
          "name": "stdout",
          "text": [
            "\n",
            "Got 19978/1048576 with pixel accuracy 1.91%\n",
            "Average Dice Score: 0.0191\n",
            "Average IoU Score: 0.0096\n",
            "\n",
            "--- Epoch 4/75 ---\n"
          ]
        },
        {
          "output_type": "stream",
          "name": "stderr",
          "text": [
            "Training: 100%|██████████| 2/2 [00:04<00:00,  2.13s/it, loss=1.94]\n"
          ]
        },
        {
          "output_type": "stream",
          "name": "stdout",
          "text": [
            "Average training loss for the epoch: 1.9599915146827698\n",
            "\n",
            "--- VALIDATION METRICS ---\n"
          ]
        },
        {
          "output_type": "stream",
          "name": "stderr",
          "text": [
            "Calculating Metrics: 100%|██████████| 1/1 [00:00<00:00,  6.55it/s]\n"
          ]
        },
        {
          "output_type": "stream",
          "name": "stdout",
          "text": [
            "\n",
            "Got 19978/1048576 with pixel accuracy 1.91%\n",
            "Average Dice Score: 0.0191\n",
            "Average IoU Score: 0.0096\n",
            "\n",
            "--- Epoch 5/75 ---\n"
          ]
        },
        {
          "output_type": "stream",
          "name": "stderr",
          "text": [
            "Training: 100%|██████████| 2/2 [00:04<00:00,  2.17s/it, loss=1.89]\n"
          ]
        },
        {
          "output_type": "stream",
          "name": "stdout",
          "text": [
            "Average training loss for the epoch: 1.9034971594810486\n",
            "\n",
            "--- VALIDATION METRICS ---\n"
          ]
        },
        {
          "output_type": "stream",
          "name": "stderr",
          "text": [
            "Calculating Metrics: 100%|██████████| 1/1 [00:00<00:00,  6.41it/s]\n"
          ]
        },
        {
          "output_type": "stream",
          "name": "stdout",
          "text": [
            "\n",
            "Got 20534/1048576 with pixel accuracy 1.96%\n",
            "Average Dice Score: 0.0196\n",
            "Average IoU Score: 0.0099\n",
            "\n",
            "--- Epoch 6/75 ---\n"
          ]
        },
        {
          "output_type": "stream",
          "name": "stderr",
          "text": [
            "Training: 100%|██████████| 2/2 [00:04<00:00,  2.16s/it, loss=1.83]\n"
          ]
        },
        {
          "output_type": "stream",
          "name": "stdout",
          "text": [
            "Average training loss for the epoch: 1.8391730785369873\n",
            "\n",
            "--- VALIDATION METRICS ---\n"
          ]
        },
        {
          "output_type": "stream",
          "name": "stderr",
          "text": [
            "Calculating Metrics: 100%|██████████| 1/1 [00:00<00:00,  4.34it/s]\n"
          ]
        },
        {
          "output_type": "stream",
          "name": "stdout",
          "text": [
            "\n",
            "Got 39493/1048576 with pixel accuracy 3.77%\n",
            "Average Dice Score: 0.0377\n",
            "Average IoU Score: 0.0192\n",
            "\n",
            "--- Epoch 7/75 ---\n"
          ]
        },
        {
          "output_type": "stream",
          "name": "stderr",
          "text": [
            "Training: 100%|██████████| 2/2 [00:04<00:00,  2.18s/it, loss=1.76]\n"
          ]
        },
        {
          "output_type": "stream",
          "name": "stdout",
          "text": [
            "Average training loss for the epoch: 1.7808215022087097\n",
            "\n",
            "--- VALIDATION METRICS ---\n"
          ]
        },
        {
          "output_type": "stream",
          "name": "stderr",
          "text": [
            "Calculating Metrics: 100%|██████████| 1/1 [00:00<00:00,  6.27it/s]\n"
          ]
        },
        {
          "output_type": "stream",
          "name": "stdout",
          "text": [
            "\n",
            "Got 36020/1048576 with pixel accuracy 3.44%\n",
            "Average Dice Score: 0.0344\n",
            "Average IoU Score: 0.0175\n",
            "\n",
            "--- Epoch 8/75 ---\n"
          ]
        },
        {
          "output_type": "stream",
          "name": "stderr",
          "text": [
            "Training: 100%|██████████| 2/2 [00:04<00:00,  2.10s/it, loss=1.68]\n"
          ]
        },
        {
          "output_type": "stream",
          "name": "stdout",
          "text": [
            "Average training loss for the epoch: 1.7069022059440613\n",
            "\n",
            "--- VALIDATION METRICS ---\n"
          ]
        },
        {
          "output_type": "stream",
          "name": "stderr",
          "text": [
            "Calculating Metrics: 100%|██████████| 1/1 [00:00<00:00,  6.19it/s]\n"
          ]
        },
        {
          "output_type": "stream",
          "name": "stdout",
          "text": [
            "\n",
            "Got 36317/1048576 with pixel accuracy 3.46%\n",
            "Average Dice Score: 0.0346\n",
            "Average IoU Score: 0.0176\n",
            "\n",
            "--- Epoch 9/75 ---\n"
          ]
        },
        {
          "output_type": "stream",
          "name": "stderr",
          "text": [
            "Training: 100%|██████████| 2/2 [00:04<00:00,  2.08s/it, loss=1.64]\n"
          ]
        },
        {
          "output_type": "stream",
          "name": "stdout",
          "text": [
            "Average training loss for the epoch: 1.6589951515197754\n",
            "\n",
            "--- VALIDATION METRICS ---\n"
          ]
        },
        {
          "output_type": "stream",
          "name": "stderr",
          "text": [
            "Calculating Metrics: 100%|██████████| 1/1 [00:00<00:00,  4.18it/s]\n"
          ]
        },
        {
          "output_type": "stream",
          "name": "stdout",
          "text": [
            "\n",
            "Got 65526/1048576 with pixel accuracy 6.25%\n",
            "Average Dice Score: 0.0625\n",
            "Average IoU Score: 0.0323\n",
            "\n",
            "--- Epoch 10/75 ---\n"
          ]
        },
        {
          "output_type": "stream",
          "name": "stderr",
          "text": [
            "Training: 100%|██████████| 2/2 [00:04<00:00,  2.13s/it, loss=1.6]\n"
          ]
        },
        {
          "output_type": "stream",
          "name": "stdout",
          "text": [
            "Average training loss for the epoch: 1.6059746742248535\n",
            "\n",
            "--- VALIDATION METRICS ---\n"
          ]
        },
        {
          "output_type": "stream",
          "name": "stderr",
          "text": [
            "Calculating Metrics: 100%|██████████| 1/1 [00:00<00:00,  5.93it/s]\n"
          ]
        },
        {
          "output_type": "stream",
          "name": "stdout",
          "text": [
            "\n",
            "Got 186080/1048576 with pixel accuracy 17.75%\n",
            "Average Dice Score: 0.1775\n",
            "Average IoU Score: 0.0974\n",
            "\n",
            "--- Epoch 11/75 ---\n"
          ]
        },
        {
          "output_type": "stream",
          "name": "stderr",
          "text": [
            "Training: 100%|██████████| 2/2 [00:04<00:00,  2.04s/it, loss=1.54]\n"
          ]
        },
        {
          "output_type": "stream",
          "name": "stdout",
          "text": [
            "Average training loss for the epoch: 1.5536015033721924\n",
            "\n",
            "--- VALIDATION METRICS ---\n"
          ]
        },
        {
          "output_type": "stream",
          "name": "stderr",
          "text": [
            "Calculating Metrics: 100%|██████████| 1/1 [00:00<00:00,  6.28it/s]\n"
          ]
        },
        {
          "output_type": "stream",
          "name": "stdout",
          "text": [
            "\n",
            "Got 333016/1048576 with pixel accuracy 31.76%\n",
            "Average Dice Score: 0.3176\n",
            "Average IoU Score: 0.1888\n",
            "\n",
            "--- Epoch 12/75 ---\n"
          ]
        },
        {
          "output_type": "stream",
          "name": "stderr",
          "text": [
            "Training: 100%|██████████| 2/2 [00:04<00:00,  2.03s/it, loss=1.5]\n"
          ]
        },
        {
          "output_type": "stream",
          "name": "stdout",
          "text": [
            "Average training loss for the epoch: 1.5124697089195251\n",
            "\n",
            "--- VALIDATION METRICS ---\n"
          ]
        },
        {
          "output_type": "stream",
          "name": "stderr",
          "text": [
            "Calculating Metrics: 100%|██████████| 1/1 [00:00<00:00,  4.51it/s]\n"
          ]
        },
        {
          "output_type": "stream",
          "name": "stdout",
          "text": [
            "\n",
            "Got 427647/1048576 with pixel accuracy 40.78%\n",
            "Average Dice Score: 0.4078\n",
            "Average IoU Score: 0.2562\n",
            "\n",
            "--- Epoch 13/75 ---\n"
          ]
        },
        {
          "output_type": "stream",
          "name": "stderr",
          "text": [
            "Training: 100%|██████████| 2/2 [00:04<00:00,  2.06s/it, loss=1.47]\n"
          ]
        },
        {
          "output_type": "stream",
          "name": "stdout",
          "text": [
            "Average training loss for the epoch: 1.4762157201766968\n",
            "\n",
            "--- VALIDATION METRICS ---\n"
          ]
        },
        {
          "output_type": "stream",
          "name": "stderr",
          "text": [
            "Calculating Metrics: 100%|██████████| 1/1 [00:00<00:00,  6.02it/s]\n"
          ]
        },
        {
          "output_type": "stream",
          "name": "stdout",
          "text": [
            "\n",
            "Got 439063/1048576 with pixel accuracy 41.87%\n",
            "Average Dice Score: 0.4187\n",
            "Average IoU Score: 0.2648\n",
            "\n",
            "--- Epoch 14/75 ---\n"
          ]
        },
        {
          "output_type": "stream",
          "name": "stderr",
          "text": [
            "Training: 100%|██████████| 2/2 [00:04<00:00,  2.00s/it, loss=1.43]\n"
          ]
        },
        {
          "output_type": "stream",
          "name": "stdout",
          "text": [
            "Average training loss for the epoch: 1.4326152801513672\n",
            "\n",
            "--- VALIDATION METRICS ---\n"
          ]
        },
        {
          "output_type": "stream",
          "name": "stderr",
          "text": [
            "Calculating Metrics: 100%|██████████| 1/1 [00:00<00:00,  6.39it/s]\n"
          ]
        },
        {
          "output_type": "stream",
          "name": "stdout",
          "text": [
            "\n",
            "Got 478533/1048576 with pixel accuracy 45.64%\n",
            "Average Dice Score: 0.4564\n",
            "Average IoU Score: 0.2956\n",
            "\n",
            "--- Epoch 15/75 ---\n"
          ]
        },
        {
          "output_type": "stream",
          "name": "stderr",
          "text": [
            "Training: 100%|██████████| 2/2 [00:04<00:00,  2.01s/it, loss=1.38]\n"
          ]
        },
        {
          "output_type": "stream",
          "name": "stdout",
          "text": [
            "Average training loss for the epoch: 1.3972034454345703\n",
            "\n",
            "--- VALIDATION METRICS ---\n"
          ]
        },
        {
          "output_type": "stream",
          "name": "stderr",
          "text": [
            "Calculating Metrics: 100%|██████████| 1/1 [00:00<00:00,  4.67it/s]\n"
          ]
        },
        {
          "output_type": "stream",
          "name": "stdout",
          "text": [
            "\n",
            "Got 597727/1048576 with pixel accuracy 57.00%\n",
            "Average Dice Score: 0.5700\n",
            "Average IoU Score: 0.3986\n",
            "\n",
            "--- Epoch 16/75 ---\n"
          ]
        },
        {
          "output_type": "stream",
          "name": "stderr",
          "text": [
            "Training: 100%|██████████| 2/2 [00:04<00:00,  2.06s/it, loss=1.36]\n"
          ]
        },
        {
          "output_type": "stream",
          "name": "stdout",
          "text": [
            "Average training loss for the epoch: 1.3667433857917786\n",
            "\n",
            "--- VALIDATION METRICS ---\n"
          ]
        },
        {
          "output_type": "stream",
          "name": "stderr",
          "text": [
            "Calculating Metrics: 100%|██████████| 1/1 [00:00<00:00,  5.91it/s]\n"
          ]
        },
        {
          "output_type": "stream",
          "name": "stdout",
          "text": [
            "\n",
            "Got 705795/1048576 with pixel accuracy 67.31%\n",
            "Average Dice Score: 0.6731\n",
            "Average IoU Score: 0.5073\n",
            "\n",
            "--- Epoch 17/75 ---\n"
          ]
        },
        {
          "output_type": "stream",
          "name": "stderr",
          "text": [
            "Training: 100%|██████████| 2/2 [00:04<00:00,  2.00s/it, loss=1.33]\n"
          ]
        },
        {
          "output_type": "stream",
          "name": "stdout",
          "text": [
            "Average training loss for the epoch: 1.3425232768058777\n",
            "\n",
            "--- VALIDATION METRICS ---\n"
          ]
        },
        {
          "output_type": "stream",
          "name": "stderr",
          "text": [
            "Calculating Metrics: 100%|██████████| 1/1 [00:00<00:00,  6.36it/s]\n"
          ]
        },
        {
          "output_type": "stream",
          "name": "stdout",
          "text": [
            "\n",
            "Got 780514/1048576 with pixel accuracy 74.44%\n",
            "Average Dice Score: 0.7444\n",
            "Average IoU Score: 0.5928\n",
            "\n",
            "--- Epoch 18/75 ---\n"
          ]
        },
        {
          "output_type": "stream",
          "name": "stderr",
          "text": [
            "Training: 100%|██████████| 2/2 [00:04<00:00,  2.02s/it, loss=1.31]\n"
          ]
        },
        {
          "output_type": "stream",
          "name": "stdout",
          "text": [
            "Average training loss for the epoch: 1.3188768029212952\n",
            "\n",
            "--- VALIDATION METRICS ---\n"
          ]
        },
        {
          "output_type": "stream",
          "name": "stderr",
          "text": [
            "Calculating Metrics: 100%|██████████| 1/1 [00:00<00:00,  4.41it/s]\n"
          ]
        },
        {
          "output_type": "stream",
          "name": "stdout",
          "text": [
            "\n",
            "Got 806137/1048576 with pixel accuracy 76.88%\n",
            "Average Dice Score: 0.7688\n",
            "Average IoU Score: 0.6244\n",
            "\n",
            "--- Epoch 19/75 ---\n"
          ]
        },
        {
          "output_type": "stream",
          "name": "stderr",
          "text": [
            "Training: 100%|██████████| 2/2 [00:04<00:00,  2.03s/it, loss=1.3]\n"
          ]
        },
        {
          "output_type": "stream",
          "name": "stdout",
          "text": [
            "Average training loss for the epoch: 1.2976197004318237\n",
            "\n",
            "--- VALIDATION METRICS ---\n"
          ]
        },
        {
          "output_type": "stream",
          "name": "stderr",
          "text": [
            "Calculating Metrics: 100%|██████████| 1/1 [00:00<00:00,  6.32it/s]\n"
          ]
        },
        {
          "output_type": "stream",
          "name": "stdout",
          "text": [
            "\n",
            "Got 843877/1048576 with pixel accuracy 80.48%\n",
            "Average Dice Score: 0.8048\n",
            "Average IoU Score: 0.6733\n",
            "\n",
            "--- Epoch 20/75 ---\n"
          ]
        },
        {
          "output_type": "stream",
          "name": "stderr",
          "text": [
            "Training: 100%|██████████| 2/2 [00:04<00:00,  2.02s/it, loss=1.28]\n"
          ]
        },
        {
          "output_type": "stream",
          "name": "stdout",
          "text": [
            "Average training loss for the epoch: 1.2783131003379822\n",
            "\n",
            "--- VALIDATION METRICS ---\n"
          ]
        },
        {
          "output_type": "stream",
          "name": "stderr",
          "text": [
            "Calculating Metrics: 100%|██████████| 1/1 [00:00<00:00,  6.30it/s]\n"
          ]
        },
        {
          "output_type": "stream",
          "name": "stdout",
          "text": [
            "\n",
            "Got 886560/1048576 with pixel accuracy 84.55%\n",
            "Average Dice Score: 0.8455\n",
            "Average IoU Score: 0.7323\n",
            "\n",
            "--- Epoch 21/75 ---\n"
          ]
        },
        {
          "output_type": "stream",
          "name": "stderr",
          "text": [
            "Training: 100%|██████████| 2/2 [00:04<00:00,  2.04s/it, loss=1.26]\n"
          ]
        },
        {
          "output_type": "stream",
          "name": "stdout",
          "text": [
            "Average training loss for the epoch: 1.2593162655830383\n",
            "\n",
            "--- VALIDATION METRICS ---\n"
          ]
        },
        {
          "output_type": "stream",
          "name": "stderr",
          "text": [
            "Calculating Metrics: 100%|██████████| 1/1 [00:00<00:00,  4.31it/s]\n"
          ]
        },
        {
          "output_type": "stream",
          "name": "stdout",
          "text": [
            "\n",
            "Got 897766/1048576 with pixel accuracy 85.62%\n",
            "Average Dice Score: 0.8562\n",
            "Average IoU Score: 0.7485\n",
            "\n",
            "--- Epoch 22/75 ---\n"
          ]
        },
        {
          "output_type": "stream",
          "name": "stderr",
          "text": [
            "Training: 100%|██████████| 2/2 [00:04<00:00,  2.03s/it, loss=1.25]\n"
          ]
        },
        {
          "output_type": "stream",
          "name": "stdout",
          "text": [
            "Average training loss for the epoch: 1.2435300946235657\n",
            "\n",
            "--- VALIDATION METRICS ---\n"
          ]
        },
        {
          "output_type": "stream",
          "name": "stderr",
          "text": [
            "Calculating Metrics: 100%|██████████| 1/1 [00:00<00:00,  5.86it/s]\n"
          ]
        },
        {
          "output_type": "stream",
          "name": "stdout",
          "text": [
            "\n",
            "Got 904459/1048576 with pixel accuracy 86.26%\n",
            "Average Dice Score: 0.8626\n",
            "Average IoU Score: 0.7583\n",
            "\n",
            "--- Epoch 23/75 ---\n"
          ]
        },
        {
          "output_type": "stream",
          "name": "stderr",
          "text": [
            "Training: 100%|██████████| 2/2 [00:04<00:00,  2.05s/it, loss=1.23]\n"
          ]
        },
        {
          "output_type": "stream",
          "name": "stdout",
          "text": [
            "Average training loss for the epoch: 1.2328524589538574\n",
            "\n",
            "--- VALIDATION METRICS ---\n"
          ]
        },
        {
          "output_type": "stream",
          "name": "stderr",
          "text": [
            "Calculating Metrics: 100%|██████████| 1/1 [00:00<00:00,  6.06it/s]\n"
          ]
        },
        {
          "output_type": "stream",
          "name": "stdout",
          "text": [
            "\n",
            "Got 914936/1048576 with pixel accuracy 87.26%\n",
            "Average Dice Score: 0.8726\n",
            "Average IoU Score: 0.7739\n",
            "\n",
            "--- Epoch 24/75 ---\n"
          ]
        },
        {
          "output_type": "stream",
          "name": "stderr",
          "text": [
            "Training: 100%|██████████| 2/2 [00:04<00:00,  2.06s/it, loss=1.21]\n"
          ]
        },
        {
          "output_type": "stream",
          "name": "stdout",
          "text": [
            "Average training loss for the epoch: 1.2147573232650757\n",
            "\n",
            "--- VALIDATION METRICS ---\n"
          ]
        },
        {
          "output_type": "stream",
          "name": "stderr",
          "text": [
            "Calculating Metrics: 100%|██████████| 1/1 [00:00<00:00,  6.23it/s]\n"
          ]
        },
        {
          "output_type": "stream",
          "name": "stdout",
          "text": [
            "\n",
            "Got 932682/1048576 with pixel accuracy 88.95%\n",
            "Average Dice Score: 0.8895\n",
            "Average IoU Score: 0.8009\n",
            "\n",
            "--- Epoch 25/75 ---\n"
          ]
        },
        {
          "output_type": "stream",
          "name": "stderr",
          "text": [
            "Training: 100%|██████████| 2/2 [00:04<00:00,  2.06s/it, loss=1.2]\n"
          ]
        },
        {
          "output_type": "stream",
          "name": "stdout",
          "text": [
            "Average training loss for the epoch: 1.2015169262886047\n",
            "\n",
            "--- VALIDATION METRICS ---\n"
          ]
        },
        {
          "output_type": "stream",
          "name": "stderr",
          "text": [
            "Calculating Metrics: 100%|██████████| 1/1 [00:00<00:00,  5.78it/s]\n"
          ]
        },
        {
          "output_type": "stream",
          "name": "stdout",
          "text": [
            "\n",
            "Got 934660/1048576 with pixel accuracy 89.14%\n",
            "Average Dice Score: 0.8914\n",
            "Average IoU Score: 0.8040\n",
            "\n",
            "--- Epoch 26/75 ---\n"
          ]
        },
        {
          "output_type": "stream",
          "name": "stderr",
          "text": [
            "Training: 100%|██████████| 2/2 [00:04<00:00,  2.05s/it, loss=1.19]\n"
          ]
        },
        {
          "output_type": "stream",
          "name": "stdout",
          "text": [
            "Average training loss for the epoch: 1.1884170174598694\n",
            "\n",
            "--- VALIDATION METRICS ---\n"
          ]
        },
        {
          "output_type": "stream",
          "name": "stderr",
          "text": [
            "Calculating Metrics: 100%|██████████| 1/1 [00:00<00:00,  6.26it/s]\n"
          ]
        },
        {
          "output_type": "stream",
          "name": "stdout",
          "text": [
            "\n",
            "Got 938001/1048576 with pixel accuracy 89.45%\n",
            "Average Dice Score: 0.8945\n",
            "Average IoU Score: 0.8092\n",
            "\n",
            "--- Epoch 27/75 ---\n"
          ]
        },
        {
          "output_type": "stream",
          "name": "stderr",
          "text": [
            "Training: 100%|██████████| 2/2 [00:04<00:00,  2.09s/it, loss=1.18]\n"
          ]
        },
        {
          "output_type": "stream",
          "name": "stdout",
          "text": [
            "Average training loss for the epoch: 1.17695814371109\n",
            "\n",
            "--- VALIDATION METRICS ---\n"
          ]
        },
        {
          "output_type": "stream",
          "name": "stderr",
          "text": [
            "Calculating Metrics: 100%|██████████| 1/1 [00:00<00:00,  6.32it/s]\n"
          ]
        },
        {
          "output_type": "stream",
          "name": "stdout",
          "text": [
            "\n",
            "Got 947814/1048576 with pixel accuracy 90.39%\n",
            "Average Dice Score: 0.9039\n",
            "Average IoU Score: 0.8247\n",
            "\n",
            "--- Epoch 28/75 ---\n"
          ]
        },
        {
          "output_type": "stream",
          "name": "stderr",
          "text": [
            "Training: 100%|██████████| 2/2 [00:04<00:00,  2.05s/it, loss=1.15]\n"
          ]
        },
        {
          "output_type": "stream",
          "name": "stdout",
          "text": [
            "Average training loss for the epoch: 1.1632018089294434\n",
            "\n",
            "--- VALIDATION METRICS ---\n"
          ]
        },
        {
          "output_type": "stream",
          "name": "stderr",
          "text": [
            "Calculating Metrics: 100%|██████████| 1/1 [00:00<00:00,  6.25it/s]\n"
          ]
        },
        {
          "output_type": "stream",
          "name": "stdout",
          "text": [
            "\n",
            "Got 951005/1048576 with pixel accuracy 90.69%\n",
            "Average Dice Score: 0.9069\n",
            "Average IoU Score: 0.8297\n",
            "\n",
            "--- Epoch 29/75 ---\n"
          ]
        },
        {
          "output_type": "stream",
          "name": "stderr",
          "text": [
            "Training: 100%|██████████| 2/2 [00:04<00:00,  2.05s/it, loss=1.15]\n"
          ]
        },
        {
          "output_type": "stream",
          "name": "stdout",
          "text": [
            "Average training loss for the epoch: 1.1506542563438416\n",
            "\n",
            "--- VALIDATION METRICS ---\n"
          ]
        },
        {
          "output_type": "stream",
          "name": "stderr",
          "text": [
            "Calculating Metrics: 100%|██████████| 1/1 [00:00<00:00,  4.24it/s]\n"
          ]
        },
        {
          "output_type": "stream",
          "name": "stdout",
          "text": [
            "\n",
            "Got 954546/1048576 with pixel accuracy 91.03%\n",
            "Average Dice Score: 0.9103\n",
            "Average IoU Score: 0.8354\n",
            "\n",
            "--- Epoch 30/75 ---\n"
          ]
        },
        {
          "output_type": "stream",
          "name": "stderr",
          "text": [
            "Training: 100%|██████████| 2/2 [00:04<00:00,  2.10s/it, loss=1.14]\n"
          ]
        },
        {
          "output_type": "stream",
          "name": "stdout",
          "text": [
            "Average training loss for the epoch: 1.1393324732780457\n",
            "\n",
            "--- VALIDATION METRICS ---\n"
          ]
        },
        {
          "output_type": "stream",
          "name": "stderr",
          "text": [
            "Calculating Metrics: 100%|██████████| 1/1 [00:00<00:00,  5.93it/s]\n"
          ]
        },
        {
          "output_type": "stream",
          "name": "stdout",
          "text": [
            "\n",
            "Got 955079/1048576 with pixel accuracy 91.08%\n",
            "Average Dice Score: 0.9108\n",
            "Average IoU Score: 0.8363\n",
            "\n",
            "--- Epoch 31/75 ---\n"
          ]
        },
        {
          "output_type": "stream",
          "name": "stderr",
          "text": [
            "Training: 100%|██████████| 2/2 [00:04<00:00,  2.03s/it, loss=1.12]\n"
          ]
        },
        {
          "output_type": "stream",
          "name": "stdout",
          "text": [
            "Average training loss for the epoch: 1.1291872262954712\n",
            "\n",
            "--- VALIDATION METRICS ---\n"
          ]
        },
        {
          "output_type": "stream",
          "name": "stderr",
          "text": [
            "Calculating Metrics: 100%|██████████| 1/1 [00:00<00:00,  6.35it/s]\n"
          ]
        },
        {
          "output_type": "stream",
          "name": "stdout",
          "text": [
            "\n",
            "Got 963092/1048576 with pixel accuracy 91.85%\n",
            "Average Dice Score: 0.9185\n",
            "Average IoU Score: 0.8492\n",
            "\n",
            "--- Epoch 32/75 ---\n"
          ]
        },
        {
          "output_type": "stream",
          "name": "stderr",
          "text": [
            "Training: 100%|██████████| 2/2 [00:04<00:00,  2.05s/it, loss=1.13]\n"
          ]
        },
        {
          "output_type": "stream",
          "name": "stdout",
          "text": [
            "Average training loss for the epoch: 1.1211468577384949\n",
            "\n",
            "--- VALIDATION METRICS ---\n"
          ]
        },
        {
          "output_type": "stream",
          "name": "stderr",
          "text": [
            "Calculating Metrics: 100%|██████████| 1/1 [00:00<00:00,  4.43it/s]\n"
          ]
        },
        {
          "output_type": "stream",
          "name": "stdout",
          "text": [
            "\n",
            "Got 958336/1048576 with pixel accuracy 91.39%\n",
            "Average Dice Score: 0.9139\n",
            "Average IoU Score: 0.8415\n",
            "\n",
            "--- Epoch 33/75 ---\n"
          ]
        },
        {
          "output_type": "stream",
          "name": "stderr",
          "text": [
            "Training: 100%|██████████| 2/2 [00:04<00:00,  2.10s/it, loss=1.1]\n"
          ]
        },
        {
          "output_type": "stream",
          "name": "stdout",
          "text": [
            "Average training loss for the epoch: 1.108549952507019\n",
            "\n",
            "--- VALIDATION METRICS ---\n"
          ]
        },
        {
          "output_type": "stream",
          "name": "stderr",
          "text": [
            "Calculating Metrics: 100%|██████████| 1/1 [00:00<00:00,  6.22it/s]\n"
          ]
        },
        {
          "output_type": "stream",
          "name": "stdout",
          "text": [
            "\n",
            "Got 963515/1048576 with pixel accuracy 91.89%\n",
            "Average Dice Score: 0.9189\n",
            "Average IoU Score: 0.8499\n",
            "\n",
            "--- Epoch 34/75 ---\n"
          ]
        },
        {
          "output_type": "stream",
          "name": "stderr",
          "text": [
            "Training: 100%|██████████| 2/2 [00:04<00:00,  2.03s/it, loss=1.1]\n"
          ]
        },
        {
          "output_type": "stream",
          "name": "stdout",
          "text": [
            "Average training loss for the epoch: 1.0987985134124756\n",
            "\n",
            "--- VALIDATION METRICS ---\n"
          ]
        },
        {
          "output_type": "stream",
          "name": "stderr",
          "text": [
            "Calculating Metrics: 100%|██████████| 1/1 [00:00<00:00,  6.20it/s]\n"
          ]
        },
        {
          "output_type": "stream",
          "name": "stdout",
          "text": [
            "\n",
            "Got 961976/1048576 with pixel accuracy 91.74%\n",
            "Average Dice Score: 0.9174\n",
            "Average IoU Score: 0.8474\n",
            "\n",
            "--- Epoch 35/75 ---\n"
          ]
        },
        {
          "output_type": "stream",
          "name": "stderr",
          "text": [
            "Training: 100%|██████████| 2/2 [00:04<00:00,  2.03s/it, loss=1.08]\n"
          ]
        },
        {
          "output_type": "stream",
          "name": "stdout",
          "text": [
            "Average training loss for the epoch: 1.0916898846626282\n",
            "\n",
            "--- VALIDATION METRICS ---\n"
          ]
        },
        {
          "output_type": "stream",
          "name": "stderr",
          "text": [
            "Calculating Metrics: 100%|██████████| 1/1 [00:00<00:00,  4.15it/s]\n"
          ]
        },
        {
          "output_type": "stream",
          "name": "stdout",
          "text": [
            "\n",
            "Got 966695/1048576 with pixel accuracy 92.19%\n",
            "Average Dice Score: 0.9219\n",
            "Average IoU Score: 0.8551\n",
            "\n",
            "--- Epoch 36/75 ---\n"
          ]
        },
        {
          "output_type": "stream",
          "name": "stderr",
          "text": [
            "Training: 100%|██████████| 2/2 [00:04<00:00,  2.10s/it, loss=1.08]\n"
          ]
        },
        {
          "output_type": "stream",
          "name": "stdout",
          "text": [
            "Average training loss for the epoch: 1.080789566040039\n",
            "\n",
            "--- VALIDATION METRICS ---\n"
          ]
        },
        {
          "output_type": "stream",
          "name": "stderr",
          "text": [
            "Calculating Metrics: 100%|██████████| 1/1 [00:00<00:00,  6.19it/s]\n"
          ]
        },
        {
          "output_type": "stream",
          "name": "stdout",
          "text": [
            "\n",
            "Got 969163/1048576 with pixel accuracy 92.43%\n",
            "Average Dice Score: 0.9243\n",
            "Average IoU Score: 0.8592\n",
            "\n",
            "--- Epoch 37/75 ---\n"
          ]
        },
        {
          "output_type": "stream",
          "name": "stderr",
          "text": [
            "Training: 100%|██████████| 2/2 [00:04<00:00,  2.03s/it, loss=1.08]\n"
          ]
        },
        {
          "output_type": "stream",
          "name": "stdout",
          "text": [
            "Average training loss for the epoch: 1.0765573382377625\n",
            "\n",
            "--- VALIDATION METRICS ---\n"
          ]
        },
        {
          "output_type": "stream",
          "name": "stderr",
          "text": [
            "Calculating Metrics: 100%|██████████| 1/1 [00:00<00:00,  6.01it/s]\n"
          ]
        },
        {
          "output_type": "stream",
          "name": "stdout",
          "text": [
            "\n",
            "Got 971391/1048576 with pixel accuracy 92.64%\n",
            "Average Dice Score: 0.9264\n",
            "Average IoU Score: 0.8629\n",
            "\n",
            "--- Epoch 38/75 ---\n"
          ]
        },
        {
          "output_type": "stream",
          "name": "stderr",
          "text": [
            "Training: 100%|██████████| 2/2 [00:04<00:00,  2.05s/it, loss=1.06]\n"
          ]
        },
        {
          "output_type": "stream",
          "name": "stdout",
          "text": [
            "Average training loss for the epoch: 1.0687848329544067\n",
            "\n",
            "--- VALIDATION METRICS ---\n"
          ]
        },
        {
          "output_type": "stream",
          "name": "stderr",
          "text": [
            "Calculating Metrics: 100%|██████████| 1/1 [00:00<00:00,  4.40it/s]\n"
          ]
        },
        {
          "output_type": "stream",
          "name": "stdout",
          "text": [
            "\n",
            "Got 966843/1048576 with pixel accuracy 92.21%\n",
            "Average Dice Score: 0.9221\n",
            "Average IoU Score: 0.8554\n",
            "\n",
            "--- Epoch 39/75 ---\n"
          ]
        },
        {
          "output_type": "stream",
          "name": "stderr",
          "text": [
            "Training: 100%|██████████| 2/2 [00:04<00:00,  2.09s/it, loss=1.06]\n"
          ]
        },
        {
          "output_type": "stream",
          "name": "stdout",
          "text": [
            "Average training loss for the epoch: 1.055879294872284\n",
            "\n",
            "--- VALIDATION METRICS ---\n"
          ]
        },
        {
          "output_type": "stream",
          "name": "stderr",
          "text": [
            "Calculating Metrics: 100%|██████████| 1/1 [00:00<00:00,  6.29it/s]\n"
          ]
        },
        {
          "output_type": "stream",
          "name": "stdout",
          "text": [
            "\n",
            "Got 959311/1048576 with pixel accuracy 91.49%\n",
            "Average Dice Score: 0.9149\n",
            "Average IoU Score: 0.8431\n",
            "\n",
            "--- Epoch 40/75 ---\n"
          ]
        },
        {
          "output_type": "stream",
          "name": "stderr",
          "text": [
            "Training: 100%|██████████| 2/2 [00:04<00:00,  2.02s/it, loss=1.05]\n"
          ]
        },
        {
          "output_type": "stream",
          "name": "stdout",
          "text": [
            "Average training loss for the epoch: 1.0492552518844604\n",
            "\n",
            "--- VALIDATION METRICS ---\n"
          ]
        },
        {
          "output_type": "stream",
          "name": "stderr",
          "text": [
            "Calculating Metrics: 100%|██████████| 1/1 [00:00<00:00,  5.65it/s]\n"
          ]
        },
        {
          "output_type": "stream",
          "name": "stdout",
          "text": [
            "\n",
            "Got 960808/1048576 with pixel accuracy 91.63%\n",
            "Average Dice Score: 0.9163\n",
            "Average IoU Score: 0.8455\n",
            "\n",
            "--- Epoch 41/75 ---\n"
          ]
        },
        {
          "output_type": "stream",
          "name": "stderr",
          "text": [
            "Training: 100%|██████████| 2/2 [00:04<00:00,  2.05s/it, loss=1.04]\n"
          ]
        },
        {
          "output_type": "stream",
          "name": "stdout",
          "text": [
            "Average training loss for the epoch: 1.0405067801475525\n",
            "\n",
            "--- VALIDATION METRICS ---\n"
          ]
        },
        {
          "output_type": "stream",
          "name": "stderr",
          "text": [
            "Calculating Metrics: 100%|██████████| 1/1 [00:00<00:00,  4.30it/s]\n"
          ]
        },
        {
          "output_type": "stream",
          "name": "stdout",
          "text": [
            "\n",
            "Got 969037/1048576 with pixel accuracy 92.41%\n",
            "Average Dice Score: 0.9241\n",
            "Average IoU Score: 0.8590\n",
            "\n",
            "--- Epoch 42/75 ---\n"
          ]
        },
        {
          "output_type": "stream",
          "name": "stderr",
          "text": [
            "Training: 100%|██████████| 2/2 [00:04<00:00,  2.05s/it, loss=1.03]\n"
          ]
        },
        {
          "output_type": "stream",
          "name": "stdout",
          "text": [
            "Average training loss for the epoch: 1.0335264801979065\n",
            "\n",
            "--- VALIDATION METRICS ---\n"
          ]
        },
        {
          "output_type": "stream",
          "name": "stderr",
          "text": [
            "Calculating Metrics: 100%|██████████| 1/1 [00:00<00:00,  6.30it/s]\n"
          ]
        },
        {
          "output_type": "stream",
          "name": "stdout",
          "text": [
            "\n",
            "Got 969608/1048576 with pixel accuracy 92.47%\n",
            "Average Dice Score: 0.9247\n",
            "Average IoU Score: 0.8599\n",
            "\n",
            "--- Epoch 43/75 ---\n"
          ]
        },
        {
          "output_type": "stream",
          "name": "stderr",
          "text": [
            "Training: 100%|██████████| 2/2 [00:04<00:00,  2.03s/it, loss=1.02]\n"
          ]
        },
        {
          "output_type": "stream",
          "name": "stdout",
          "text": [
            "Average training loss for the epoch: 1.0242376327514648\n",
            "\n",
            "--- VALIDATION METRICS ---\n"
          ]
        },
        {
          "output_type": "stream",
          "name": "stderr",
          "text": [
            "Calculating Metrics: 100%|██████████| 1/1 [00:00<00:00,  6.17it/s]\n"
          ]
        },
        {
          "output_type": "stream",
          "name": "stdout",
          "text": [
            "\n",
            "Got 962552/1048576 with pixel accuracy 91.80%\n",
            "Average Dice Score: 0.9180\n",
            "Average IoU Score: 0.8484\n",
            "\n",
            "--- Epoch 44/75 ---\n"
          ]
        },
        {
          "output_type": "stream",
          "name": "stderr",
          "text": [
            "Training: 100%|██████████| 2/2 [00:04<00:00,  2.03s/it, loss=1.03]\n"
          ]
        },
        {
          "output_type": "stream",
          "name": "stdout",
          "text": [
            "Average training loss for the epoch: 1.017564594745636\n",
            "\n",
            "--- VALIDATION METRICS ---\n"
          ]
        },
        {
          "output_type": "stream",
          "name": "stderr",
          "text": [
            "Calculating Metrics: 100%|██████████| 1/1 [00:00<00:00,  6.07it/s]\n"
          ]
        },
        {
          "output_type": "stream",
          "name": "stdout",
          "text": [
            "\n",
            "Got 972945/1048576 with pixel accuracy 92.79%\n",
            "Average Dice Score: 0.9279\n",
            "Average IoU Score: 0.8655\n",
            "\n",
            "--- Epoch 45/75 ---\n"
          ]
        },
        {
          "output_type": "stream",
          "name": "stderr",
          "text": [
            "Training: 100%|██████████| 2/2 [00:04<00:00,  2.05s/it, loss=1.02]\n"
          ]
        },
        {
          "output_type": "stream",
          "name": "stdout",
          "text": [
            "Average training loss for the epoch: 1.0108421444892883\n",
            "\n",
            "--- VALIDATION METRICS ---\n"
          ]
        },
        {
          "output_type": "stream",
          "name": "stderr",
          "text": [
            "Calculating Metrics: 100%|██████████| 1/1 [00:00<00:00,  6.12it/s]\n"
          ]
        },
        {
          "output_type": "stream",
          "name": "stdout",
          "text": [
            "\n",
            "Got 974345/1048576 with pixel accuracy 92.92%\n",
            "Average Dice Score: 0.9292\n",
            "Average IoU Score: 0.8678\n",
            "\n",
            "--- Epoch 46/75 ---\n"
          ]
        },
        {
          "output_type": "stream",
          "name": "stderr",
          "text": [
            "Training: 100%|██████████| 2/2 [00:04<00:00,  2.04s/it, loss=1.01]\n"
          ]
        },
        {
          "output_type": "stream",
          "name": "stdout",
          "text": [
            "Average training loss for the epoch: 1.0004894137382507\n",
            "\n",
            "--- VALIDATION METRICS ---\n"
          ]
        },
        {
          "output_type": "stream",
          "name": "stderr",
          "text": [
            "Calculating Metrics: 100%|██████████| 1/1 [00:00<00:00,  5.79it/s]\n"
          ]
        },
        {
          "output_type": "stream",
          "name": "stdout",
          "text": [
            "\n",
            "Got 977872/1048576 with pixel accuracy 93.26%\n",
            "Average Dice Score: 0.9326\n",
            "Average IoU Score: 0.8737\n",
            "\n",
            "--- Epoch 47/75 ---\n"
          ]
        },
        {
          "output_type": "stream",
          "name": "stderr",
          "text": [
            "Training: 100%|██████████| 2/2 [00:04<00:00,  2.05s/it, loss=0.989]\n"
          ]
        },
        {
          "output_type": "stream",
          "name": "stdout",
          "text": [
            "Average training loss for the epoch: 0.9904840290546417\n",
            "\n",
            "--- VALIDATION METRICS ---\n"
          ]
        },
        {
          "output_type": "stream",
          "name": "stderr",
          "text": [
            "Calculating Metrics: 100%|██████████| 1/1 [00:00<00:00,  6.28it/s]\n"
          ]
        },
        {
          "output_type": "stream",
          "name": "stdout",
          "text": [
            "\n",
            "Got 974710/1048576 with pixel accuracy 92.96%\n",
            "Average Dice Score: 0.9296\n",
            "Average IoU Score: 0.8684\n",
            "\n",
            "--- Epoch 48/75 ---\n"
          ]
        },
        {
          "output_type": "stream",
          "name": "stderr",
          "text": [
            "Training: 100%|██████████| 2/2 [00:04<00:00,  2.04s/it, loss=0.977]\n"
          ]
        },
        {
          "output_type": "stream",
          "name": "stdout",
          "text": [
            "Average training loss for the epoch: 0.9861705303192139\n",
            "\n",
            "--- VALIDATION METRICS ---\n"
          ]
        },
        {
          "output_type": "stream",
          "name": "stderr",
          "text": [
            "Calculating Metrics: 100%|██████████| 1/1 [00:00<00:00,  5.97it/s]\n"
          ]
        },
        {
          "output_type": "stream",
          "name": "stdout",
          "text": [
            "\n",
            "Got 972062/1048576 with pixel accuracy 92.70%\n",
            "Average Dice Score: 0.9270\n",
            "Average IoU Score: 0.8640\n",
            "\n",
            "--- Epoch 49/75 ---\n"
          ]
        },
        {
          "output_type": "stream",
          "name": "stderr",
          "text": [
            "Training: 100%|██████████| 2/2 [00:04<00:00,  2.04s/it, loss=0.981]\n"
          ]
        },
        {
          "output_type": "stream",
          "name": "stdout",
          "text": [
            "Average training loss for the epoch: 0.9787612855434418\n",
            "\n",
            "--- VALIDATION METRICS ---\n"
          ]
        },
        {
          "output_type": "stream",
          "name": "stderr",
          "text": [
            "Calculating Metrics: 100%|██████████| 1/1 [00:00<00:00,  6.22it/s]\n"
          ]
        },
        {
          "output_type": "stream",
          "name": "stdout",
          "text": [
            "\n",
            "Got 970857/1048576 with pixel accuracy 92.59%\n",
            "Average Dice Score: 0.9259\n",
            "Average IoU Score: 0.8620\n",
            "\n",
            "--- Epoch 50/75 ---\n"
          ]
        },
        {
          "output_type": "stream",
          "name": "stderr",
          "text": [
            "Training: 100%|██████████| 2/2 [00:04<00:00,  2.11s/it, loss=0.983]\n"
          ]
        },
        {
          "output_type": "stream",
          "name": "stdout",
          "text": [
            "Average training loss for the epoch: 0.9711913764476776\n",
            "\n",
            "--- VALIDATION METRICS ---\n"
          ]
        },
        {
          "output_type": "stream",
          "name": "stderr",
          "text": [
            "Calculating Metrics: 100%|██████████| 1/1 [00:00<00:00,  6.22it/s]\n"
          ]
        },
        {
          "output_type": "stream",
          "name": "stdout",
          "text": [
            "\n",
            "Got 970343/1048576 with pixel accuracy 92.54%\n",
            "Average Dice Score: 0.9254\n",
            "Average IoU Score: 0.8611\n",
            "\n",
            "--- Epoch 51/75 ---\n"
          ]
        },
        {
          "output_type": "stream",
          "name": "stderr",
          "text": [
            "Training: 100%|██████████| 2/2 [00:04<00:00,  2.04s/it, loss=0.955]\n"
          ]
        },
        {
          "output_type": "stream",
          "name": "stdout",
          "text": [
            "Average training loss for the epoch: 0.9609523415565491\n",
            "\n",
            "--- VALIDATION METRICS ---\n"
          ]
        },
        {
          "output_type": "stream",
          "name": "stderr",
          "text": [
            "Calculating Metrics: 100%|██████████| 1/1 [00:00<00:00,  6.26it/s]\n"
          ]
        },
        {
          "output_type": "stream",
          "name": "stdout",
          "text": [
            "\n",
            "Got 970455/1048576 with pixel accuracy 92.55%\n",
            "Average Dice Score: 0.9255\n",
            "Average IoU Score: 0.8613\n",
            "\n",
            "--- Epoch 52/75 ---\n"
          ]
        },
        {
          "output_type": "stream",
          "name": "stderr",
          "text": [
            "Training: 100%|██████████| 2/2 [00:04<00:00,  2.04s/it, loss=0.96]\n"
          ]
        },
        {
          "output_type": "stream",
          "name": "stdout",
          "text": [
            "Average training loss for the epoch: 0.9555804133415222\n",
            "\n",
            "--- VALIDATION METRICS ---\n"
          ]
        },
        {
          "output_type": "stream",
          "name": "stderr",
          "text": [
            "Calculating Metrics: 100%|██████████| 1/1 [00:00<00:00,  4.50it/s]\n"
          ]
        },
        {
          "output_type": "stream",
          "name": "stdout",
          "text": [
            "\n",
            "Got 978142/1048576 with pixel accuracy 93.28%\n",
            "Average Dice Score: 0.9328\n",
            "Average IoU Score: 0.8741\n",
            "\n",
            "--- Epoch 53/75 ---\n"
          ]
        },
        {
          "output_type": "stream",
          "name": "stderr",
          "text": [
            "Training: 100%|██████████| 2/2 [00:04<00:00,  2.11s/it, loss=0.943]\n"
          ]
        },
        {
          "output_type": "stream",
          "name": "stdout",
          "text": [
            "Average training loss for the epoch: 0.9475278258323669\n",
            "\n",
            "--- VALIDATION METRICS ---\n"
          ]
        },
        {
          "output_type": "stream",
          "name": "stderr",
          "text": [
            "Calculating Metrics: 100%|██████████| 1/1 [00:00<00:00,  5.33it/s]\n"
          ]
        },
        {
          "output_type": "stream",
          "name": "stdout",
          "text": [
            "\n",
            "Got 973794/1048576 with pixel accuracy 92.87%\n",
            "Average Dice Score: 0.9287\n",
            "Average IoU Score: 0.8669\n",
            "\n",
            "--- Epoch 54/75 ---\n"
          ]
        },
        {
          "output_type": "stream",
          "name": "stderr",
          "text": [
            "Training: 100%|██████████| 2/2 [00:04<00:00,  2.03s/it, loss=0.956]\n"
          ]
        },
        {
          "output_type": "stream",
          "name": "stdout",
          "text": [
            "Average training loss for the epoch: 0.9458656013011932\n",
            "\n",
            "--- VALIDATION METRICS ---\n"
          ]
        },
        {
          "output_type": "stream",
          "name": "stderr",
          "text": [
            "Calculating Metrics: 100%|██████████| 1/1 [00:00<00:00,  6.13it/s]\n"
          ]
        },
        {
          "output_type": "stream",
          "name": "stdout",
          "text": [
            "\n",
            "Got 972010/1048576 with pixel accuracy 92.70%\n",
            "Average Dice Score: 0.9270\n",
            "Average IoU Score: 0.8639\n",
            "\n",
            "--- Epoch 55/75 ---\n"
          ]
        },
        {
          "output_type": "stream",
          "name": "stderr",
          "text": [
            "Training: 100%|██████████| 2/2 [00:04<00:00,  2.06s/it, loss=0.929]\n"
          ]
        },
        {
          "output_type": "stream",
          "name": "stdout",
          "text": [
            "Average training loss for the epoch: 0.93761146068573\n",
            "\n",
            "--- VALIDATION METRICS ---\n"
          ]
        },
        {
          "output_type": "stream",
          "name": "stderr",
          "text": [
            "Calculating Metrics: 100%|██████████| 1/1 [00:00<00:00,  4.18it/s]\n"
          ]
        },
        {
          "output_type": "stream",
          "name": "stdout",
          "text": [
            "\n",
            "Got 974518/1048576 with pixel accuracy 92.94%\n",
            "Average Dice Score: 0.9294\n",
            "Average IoU Score: 0.8681\n",
            "\n",
            "--- Epoch 56/75 ---\n"
          ]
        },
        {
          "output_type": "stream",
          "name": "stderr",
          "text": [
            "Training: 100%|██████████| 2/2 [00:04<00:00,  2.11s/it, loss=0.934]\n"
          ]
        },
        {
          "output_type": "stream",
          "name": "stdout",
          "text": [
            "Average training loss for the epoch: 0.9309844970703125\n",
            "\n",
            "--- VALIDATION METRICS ---\n"
          ]
        },
        {
          "output_type": "stream",
          "name": "stderr",
          "text": [
            "Calculating Metrics: 100%|██████████| 1/1 [00:00<00:00,  6.21it/s]\n"
          ]
        },
        {
          "output_type": "stream",
          "name": "stdout",
          "text": [
            "\n",
            "Got 975669/1048576 with pixel accuracy 93.05%\n",
            "Average Dice Score: 0.9305\n",
            "Average IoU Score: 0.8700\n",
            "\n",
            "--- Epoch 57/75 ---\n"
          ]
        },
        {
          "output_type": "stream",
          "name": "stderr",
          "text": [
            "Training: 100%|██████████| 2/2 [00:04<00:00,  2.04s/it, loss=0.92]\n"
          ]
        },
        {
          "output_type": "stream",
          "name": "stdout",
          "text": [
            "Average training loss for the epoch: 0.9228279292583466\n",
            "\n",
            "--- VALIDATION METRICS ---\n"
          ]
        },
        {
          "output_type": "stream",
          "name": "stderr",
          "text": [
            "Calculating Metrics: 100%|██████████| 1/1 [00:00<00:00,  6.08it/s]\n"
          ]
        },
        {
          "output_type": "stream",
          "name": "stdout",
          "text": [
            "\n",
            "Got 977806/1048576 with pixel accuracy 93.25%\n",
            "Average Dice Score: 0.9325\n",
            "Average IoU Score: 0.8736\n",
            "\n",
            "--- Epoch 58/75 ---\n"
          ]
        },
        {
          "output_type": "stream",
          "name": "stderr",
          "text": [
            "Training: 100%|██████████| 2/2 [00:04<00:00,  2.05s/it, loss=0.918]\n"
          ]
        },
        {
          "output_type": "stream",
          "name": "stdout",
          "text": [
            "Average training loss for the epoch: 0.9177844226360321\n",
            "\n",
            "--- VALIDATION METRICS ---\n"
          ]
        },
        {
          "output_type": "stream",
          "name": "stderr",
          "text": [
            "Calculating Metrics: 100%|██████████| 1/1 [00:00<00:00,  4.32it/s]\n"
          ]
        },
        {
          "output_type": "stream",
          "name": "stdout",
          "text": [
            "\n",
            "Got 968951/1048576 with pixel accuracy 92.41%\n",
            "Average Dice Score: 0.9241\n",
            "Average IoU Score: 0.8588\n",
            "\n",
            "--- Epoch 59/75 ---\n"
          ]
        },
        {
          "output_type": "stream",
          "name": "stderr",
          "text": [
            "Training: 100%|██████████| 2/2 [00:04<00:00,  2.09s/it, loss=0.905]\n"
          ]
        },
        {
          "output_type": "stream",
          "name": "stdout",
          "text": [
            "Average training loss for the epoch: 0.9183432757854462\n",
            "\n",
            "--- VALIDATION METRICS ---\n"
          ]
        },
        {
          "output_type": "stream",
          "name": "stderr",
          "text": [
            "Calculating Metrics: 100%|██████████| 1/1 [00:00<00:00,  6.31it/s]\n"
          ]
        },
        {
          "output_type": "stream",
          "name": "stdout",
          "text": [
            "\n",
            "Got 977766/1048576 with pixel accuracy 93.25%\n",
            "Average Dice Score: 0.9325\n",
            "Average IoU Score: 0.8735\n",
            "\n",
            "--- Epoch 60/75 ---\n"
          ]
        },
        {
          "output_type": "stream",
          "name": "stderr",
          "text": [
            "Training: 100%|██████████| 2/2 [00:04<00:00,  2.04s/it, loss=0.909]\n"
          ]
        },
        {
          "output_type": "stream",
          "name": "stdout",
          "text": [
            "Average training loss for the epoch: 0.9059587717056274\n",
            "\n",
            "--- VALIDATION METRICS ---\n"
          ]
        },
        {
          "output_type": "stream",
          "name": "stderr",
          "text": [
            "Calculating Metrics: 100%|██████████| 1/1 [00:00<00:00,  5.88it/s]\n"
          ]
        },
        {
          "output_type": "stream",
          "name": "stdout",
          "text": [
            "\n",
            "Got 972203/1048576 with pixel accuracy 92.72%\n",
            "Average Dice Score: 0.9272\n",
            "Average IoU Score: 0.8642\n",
            "\n",
            "--- Epoch 61/75 ---\n"
          ]
        },
        {
          "output_type": "stream",
          "name": "stderr",
          "text": [
            "Training: 100%|██████████| 2/2 [00:04<00:00,  2.03s/it, loss=0.891]\n"
          ]
        },
        {
          "output_type": "stream",
          "name": "stdout",
          "text": [
            "Average training loss for the epoch: 0.8959531188011169\n",
            "\n",
            "--- VALIDATION METRICS ---\n"
          ]
        },
        {
          "output_type": "stream",
          "name": "stderr",
          "text": [
            "Calculating Metrics: 100%|██████████| 1/1 [00:00<00:00,  4.55it/s]\n"
          ]
        },
        {
          "output_type": "stream",
          "name": "stdout",
          "text": [
            "\n",
            "Got 946535/1048576 with pixel accuracy 90.27%\n",
            "Average Dice Score: 0.9027\n",
            "Average IoU Score: 0.8226\n",
            "\n",
            "--- Epoch 62/75 ---\n"
          ]
        },
        {
          "output_type": "stream",
          "name": "stderr",
          "text": [
            "Training: 100%|██████████| 2/2 [00:04<00:00,  2.06s/it, loss=0.885]\n"
          ]
        },
        {
          "output_type": "stream",
          "name": "stdout",
          "text": [
            "Average training loss for the epoch: 0.8910005390644073\n",
            "\n",
            "--- VALIDATION METRICS ---\n"
          ]
        },
        {
          "output_type": "stream",
          "name": "stderr",
          "text": [
            "Calculating Metrics: 100%|██████████| 1/1 [00:00<00:00,  6.27it/s]\n"
          ]
        },
        {
          "output_type": "stream",
          "name": "stdout",
          "text": [
            "\n",
            "Got 975221/1048576 with pixel accuracy 93.00%\n",
            "Average Dice Score: 0.9300\n",
            "Average IoU Score: 0.8692\n",
            "\n",
            "--- Epoch 63/75 ---\n"
          ]
        },
        {
          "output_type": "stream",
          "name": "stderr",
          "text": [
            "Training: 100%|██████████| 2/2 [00:04<00:00,  2.03s/it, loss=0.873]\n"
          ]
        },
        {
          "output_type": "stream",
          "name": "stdout",
          "text": [
            "Average training loss for the epoch: 0.8823336958885193\n",
            "\n",
            "--- VALIDATION METRICS ---\n"
          ]
        },
        {
          "output_type": "stream",
          "name": "stderr",
          "text": [
            "Calculating Metrics: 100%|██████████| 1/1 [00:00<00:00,  5.60it/s]\n"
          ]
        },
        {
          "output_type": "stream",
          "name": "stdout",
          "text": [
            "\n",
            "Got 982668/1048576 with pixel accuracy 93.71%\n",
            "Average Dice Score: 0.9371\n",
            "Average IoU Score: 0.8817\n",
            "\n",
            "--- Epoch 64/75 ---\n"
          ]
        },
        {
          "output_type": "stream",
          "name": "stderr",
          "text": [
            "Training: 100%|██████████| 2/2 [00:04<00:00,  2.03s/it, loss=0.881]\n"
          ]
        },
        {
          "output_type": "stream",
          "name": "stdout",
          "text": [
            "Average training loss for the epoch: 0.8784624934196472\n",
            "\n",
            "--- VALIDATION METRICS ---\n"
          ]
        },
        {
          "output_type": "stream",
          "name": "stderr",
          "text": [
            "Calculating Metrics: 100%|██████████| 1/1 [00:00<00:00,  5.28it/s]\n"
          ]
        },
        {
          "output_type": "stream",
          "name": "stdout",
          "text": [
            "\n",
            "Got 987817/1048576 with pixel accuracy 94.21%\n",
            "Average Dice Score: 0.9421\n",
            "Average IoU Score: 0.8905\n",
            "\n",
            "--- Epoch 65/75 ---\n"
          ]
        },
        {
          "output_type": "stream",
          "name": "stderr",
          "text": [
            "Training: 100%|██████████| 2/2 [00:04<00:00,  2.03s/it, loss=0.868]\n"
          ]
        },
        {
          "output_type": "stream",
          "name": "stdout",
          "text": [
            "Average training loss for the epoch: 0.8714680075645447\n",
            "\n",
            "--- VALIDATION METRICS ---\n"
          ]
        },
        {
          "output_type": "stream",
          "name": "stderr",
          "text": [
            "Calculating Metrics: 100%|██████████| 1/1 [00:00<00:00,  6.23it/s]\n"
          ]
        },
        {
          "output_type": "stream",
          "name": "stdout",
          "text": [
            "\n",
            "Got 986520/1048576 with pixel accuracy 94.08%\n",
            "Average Dice Score: 0.9408\n",
            "Average IoU Score: 0.8883\n",
            "\n",
            "--- Epoch 66/75 ---\n"
          ]
        },
        {
          "output_type": "stream",
          "name": "stderr",
          "text": [
            "Training: 100%|██████████| 2/2 [00:04<00:00,  2.04s/it, loss=0.864]\n"
          ]
        },
        {
          "output_type": "stream",
          "name": "stdout",
          "text": [
            "Average training loss for the epoch: 0.8638873398303986\n",
            "\n",
            "--- VALIDATION METRICS ---\n"
          ]
        },
        {
          "output_type": "stream",
          "name": "stderr",
          "text": [
            "Calculating Metrics: 100%|██████████| 1/1 [00:00<00:00,  6.29it/s]\n"
          ]
        },
        {
          "output_type": "stream",
          "name": "stdout",
          "text": [
            "\n",
            "Got 985616/1048576 with pixel accuracy 94.00%\n",
            "Average Dice Score: 0.9400\n",
            "Average IoU Score: 0.8867\n",
            "\n",
            "--- Epoch 67/75 ---\n"
          ]
        },
        {
          "output_type": "stream",
          "name": "stderr",
          "text": [
            "Training: 100%|██████████| 2/2 [00:04<00:00,  2.04s/it, loss=0.863]\n"
          ]
        },
        {
          "output_type": "stream",
          "name": "stdout",
          "text": [
            "Average training loss for the epoch: 0.8602426648139954\n",
            "\n",
            "--- VALIDATION METRICS ---\n"
          ]
        },
        {
          "output_type": "stream",
          "name": "stderr",
          "text": [
            "Calculating Metrics: 100%|██████████| 1/1 [00:00<00:00,  6.32it/s]\n"
          ]
        },
        {
          "output_type": "stream",
          "name": "stdout",
          "text": [
            "\n",
            "Got 983967/1048576 with pixel accuracy 93.84%\n",
            "Average Dice Score: 0.9384\n",
            "Average IoU Score: 0.8839\n",
            "\n",
            "--- Epoch 68/75 ---\n"
          ]
        },
        {
          "output_type": "stream",
          "name": "stderr",
          "text": [
            "Training: 100%|██████████| 2/2 [00:04<00:00,  2.04s/it, loss=0.861]\n"
          ]
        },
        {
          "output_type": "stream",
          "name": "stdout",
          "text": [
            "Average training loss for the epoch: 0.8529877364635468\n",
            "\n",
            "--- VALIDATION METRICS ---\n"
          ]
        },
        {
          "output_type": "stream",
          "name": "stderr",
          "text": [
            "Calculating Metrics: 100%|██████████| 1/1 [00:00<00:00,  5.88it/s]\n"
          ]
        },
        {
          "output_type": "stream",
          "name": "stdout",
          "text": [
            "\n",
            "Got 986020/1048576 with pixel accuracy 94.03%\n",
            "Average Dice Score: 0.9403\n",
            "Average IoU Score: 0.8874\n",
            "\n",
            "--- Epoch 69/75 ---\n"
          ]
        },
        {
          "output_type": "stream",
          "name": "stderr",
          "text": [
            "Training: 100%|██████████| 2/2 [00:04<00:00,  2.03s/it, loss=0.845]\n"
          ]
        },
        {
          "output_type": "stream",
          "name": "stdout",
          "text": [
            "Average training loss for the epoch: 0.8503439426422119\n",
            "\n",
            "--- VALIDATION METRICS ---\n"
          ]
        },
        {
          "output_type": "stream",
          "name": "stderr",
          "text": [
            "Calculating Metrics: 100%|██████████| 1/1 [00:00<00:00,  6.15it/s]\n"
          ]
        },
        {
          "output_type": "stream",
          "name": "stdout",
          "text": [
            "\n",
            "Got 985114/1048576 with pixel accuracy 93.95%\n",
            "Average Dice Score: 0.9395\n",
            "Average IoU Score: 0.8859\n",
            "\n",
            "--- Epoch 70/75 ---\n"
          ]
        },
        {
          "output_type": "stream",
          "name": "stderr",
          "text": [
            "Training: 100%|██████████| 2/2 [00:04<00:00,  2.09s/it, loss=0.847]\n"
          ]
        },
        {
          "output_type": "stream",
          "name": "stdout",
          "text": [
            "Average training loss for the epoch: 0.8465195000171661\n",
            "\n",
            "--- VALIDATION METRICS ---\n"
          ]
        },
        {
          "output_type": "stream",
          "name": "stderr",
          "text": [
            "Calculating Metrics: 100%|██████████| 1/1 [00:00<00:00,  6.17it/s]\n"
          ]
        },
        {
          "output_type": "stream",
          "name": "stdout",
          "text": [
            "\n",
            "Got 985174/1048576 with pixel accuracy 93.95%\n",
            "Average Dice Score: 0.9395\n",
            "Average IoU Score: 0.8860\n",
            "\n",
            "--- Epoch 71/75 ---\n"
          ]
        },
        {
          "output_type": "stream",
          "name": "stderr",
          "text": [
            "Training: 100%|██████████| 2/2 [00:04<00:00,  2.04s/it, loss=0.833]\n"
          ]
        },
        {
          "output_type": "stream",
          "name": "stdout",
          "text": [
            "Average training loss for the epoch: 0.8377576768398285\n",
            "\n",
            "--- VALIDATION METRICS ---\n"
          ]
        },
        {
          "output_type": "stream",
          "name": "stderr",
          "text": [
            "Calculating Metrics: 100%|██████████| 1/1 [00:00<00:00,  5.86it/s]\n"
          ]
        },
        {
          "output_type": "stream",
          "name": "stdout",
          "text": [
            "\n",
            "Got 986025/1048576 with pixel accuracy 94.03%\n",
            "Average Dice Score: 0.9403\n",
            "Average IoU Score: 0.8874\n",
            "\n",
            "--- Epoch 72/75 ---\n"
          ]
        },
        {
          "output_type": "stream",
          "name": "stderr",
          "text": [
            "Training: 100%|██████████| 2/2 [00:04<00:00,  2.04s/it, loss=0.841]\n"
          ]
        },
        {
          "output_type": "stream",
          "name": "stdout",
          "text": [
            "Average training loss for the epoch: 0.8332038819789886\n",
            "\n",
            "--- VALIDATION METRICS ---\n"
          ]
        },
        {
          "output_type": "stream",
          "name": "stderr",
          "text": [
            "Calculating Metrics: 100%|██████████| 1/1 [00:00<00:00,  4.48it/s]\n"
          ]
        },
        {
          "output_type": "stream",
          "name": "stdout",
          "text": [
            "\n",
            "Got 982786/1048576 with pixel accuracy 93.73%\n",
            "Average Dice Score: 0.9373\n",
            "Average IoU Score: 0.8819\n",
            "\n",
            "--- Epoch 73/75 ---\n"
          ]
        },
        {
          "output_type": "stream",
          "name": "stderr",
          "text": [
            "Training: 100%|██████████| 2/2 [00:04<00:00,  2.11s/it, loss=0.836]\n"
          ]
        },
        {
          "output_type": "stream",
          "name": "stdout",
          "text": [
            "Average training loss for the epoch: 0.8279801607131958\n",
            "\n",
            "--- VALIDATION METRICS ---\n"
          ]
        },
        {
          "output_type": "stream",
          "name": "stderr",
          "text": [
            "Calculating Metrics: 100%|██████████| 1/1 [00:00<00:00,  6.37it/s]\n"
          ]
        },
        {
          "output_type": "stream",
          "name": "stdout",
          "text": [
            "\n",
            "Got 985093/1048576 with pixel accuracy 93.95%\n",
            "Average Dice Score: 0.9395\n",
            "Average IoU Score: 0.8858\n",
            "\n",
            "--- Epoch 74/75 ---\n"
          ]
        },
        {
          "output_type": "stream",
          "name": "stderr",
          "text": [
            "Training: 100%|██████████| 2/2 [00:04<00:00,  2.04s/it, loss=0.821]\n"
          ]
        },
        {
          "output_type": "stream",
          "name": "stdout",
          "text": [
            "Average training loss for the epoch: 0.8196162581443787\n",
            "\n",
            "--- VALIDATION METRICS ---\n"
          ]
        },
        {
          "output_type": "stream",
          "name": "stderr",
          "text": [
            "Calculating Metrics: 100%|██████████| 1/1 [00:00<00:00,  6.29it/s]\n"
          ]
        },
        {
          "output_type": "stream",
          "name": "stdout",
          "text": [
            "\n",
            "Got 986853/1048576 with pixel accuracy 94.11%\n",
            "Average Dice Score: 0.9411\n",
            "Average IoU Score: 0.8888\n",
            "\n",
            "--- Epoch 75/75 ---\n"
          ]
        },
        {
          "output_type": "stream",
          "name": "stderr",
          "text": [
            "Training: 100%|██████████| 2/2 [00:04<00:00,  2.05s/it, loss=0.807]\n"
          ]
        },
        {
          "output_type": "stream",
          "name": "stdout",
          "text": [
            "Average training loss for the epoch: 0.8161101937294006\n",
            "\n",
            "--- VALIDATION METRICS ---\n"
          ]
        },
        {
          "output_type": "stream",
          "name": "stderr",
          "text": [
            "Calculating Metrics: 100%|██████████| 1/1 [00:00<00:00,  4.47it/s]\n"
          ]
        },
        {
          "output_type": "stream",
          "name": "stdout",
          "text": [
            "\n",
            "Got 984352/1048576 with pixel accuracy 93.88%\n",
            "Average Dice Score: 0.9388\n",
            "Average IoU Score: 0.8846\n",
            "\n",
            "Training finished!\n",
            "\n",
            "--- FINAL VALIDATION METRICS ---\n"
          ]
        },
        {
          "output_type": "stream",
          "name": "stderr",
          "text": [
            "Calculating Metrics: 100%|██████████| 1/1 [00:00<00:00,  3.88it/s]\n"
          ]
        },
        {
          "output_type": "stream",
          "name": "stdout",
          "text": [
            "\n",
            "Got 984352/1048576 with pixel accuracy 93.88%\n",
            "Average Dice Score: 0.9388\n",
            "Average IoU Score: 0.8846\n",
            "Model saved to /content/drive/MyDrive/oct_major_project/unet_retina_segmentation.pth\n"
          ]
        }
      ]
    },
    {
      "cell_type": "markdown",
      "source": [
        "TEST"
      ],
      "metadata": {
        "id": "P36_AQ2crR3-"
      }
    },
    {
      "cell_type": "code",
      "source": [
        "import cv2\n",
        "import torch\n",
        "import numpy as np\n",
        "import matplotlib.pyplot as plt\n",
        "\n",
        "def predict_on_single_image(model, image_path, device):\n",
        "    \"\"\"\n",
        "    Loads a single image, preprocesses it, runs it through the model,\n",
        "    and visualizes the original image and the predicted mask.\n",
        "    \"\"\"\n",
        "\n",
        "    model.eval()\n",
        "\n",
        "\n",
        "    image = cv2.imread(image_path, cv2.IMREAD_GRAYSCALE)\n",
        "    if image is None:\n",
        "        print(f\"Error: Could not load image at {image_path}\")\n",
        "        return\n",
        "\n",
        "\n",
        "    original_shape = image.shape\n",
        "    image_resized = cv2.resize(image, (512, 512))\n",
        "\n",
        "    image_normalized = image_resized.astype(np.float32) / 255.0\n",
        "    image_processed = np.expand_dims(image_normalized, axis=0)\n",
        "\n",
        "    input_tensor = torch.from_numpy(image_processed).unsqueeze(0).to(device)\n",
        "\n",
        "\n",
        "    with torch.no_grad():\n",
        "        output = model(input_tensor)\n",
        "        predicted_mask = torch.argmax(output, dim=1).squeeze().cpu().numpy()\n",
        "\n",
        "\n",
        "    print(f\"Original image shape: {original_shape}\")\n",
        "    print(f\"Resized to: {image_resized.shape}\")\n",
        "\n",
        "    fig, ax = plt.subplots(1, 2, figsize=(12, 6))\n",
        "\n",
        "    ax[0].imshow(image_resized, cmap='gray')\n",
        "    ax[0].set_title(\"Input Image (Resized)\")\n",
        "    ax[0].axis('off')\n",
        "\n",
        "    ax[1].imshow(predicted_mask, cmap='viridis')\n",
        "    ax[1].set_title(\"Predicted Segmentation\")\n",
        "    ax[1].axis('off')\n",
        "\n",
        "    plt.show()\n",
        "\n",
        "\n",
        "\n",
        "\n",
        "\n",
        "MODEL_SAVE_PATH = os.path.join(PROJECT_FOLDER_IN_DRIVE, \"unet_retina_segmentation.pth\")\n",
        "model = UNet(in_channels=1, out_channels=8)\n",
        "model.load_state_dict(torch.load(MODEL_SAVE_PATH, map_location=DEVICE))\n",
        "model.to(DEVICE)\n",
        "print(\"Model loaded and ready for prediction.\")\n",
        "\n",
        "\n",
        "uploaded_image_path = '/content/Normal-macular-OCT-1.png'\n",
        "\n",
        "\n",
        "predict_on_single_image(model, uploaded_image_path, DEVICE)"
      ],
      "metadata": {
        "colab": {
          "base_uri": "https://localhost:8080/"
        },
        "id": "9InkYe5EpHFA",
        "outputId": "aa31261c-2b7e-44ae-8c3a-a897305477e8"
      },
      "execution_count": 13,
      "outputs": [
        {
          "output_type": "stream",
          "name": "stdout",
          "text": [
            "Model loaded and ready for prediction.\n",
            "Error: Could not load image at /content/MyDrive/oct_major_project/NORMAL 2.v1i.coco-segmentation/train/NORMAL-266557-2_jpeg\n"
          ]
        }
      ]
    },
    {
      "cell_type": "code",
      "source": [
        "import cv2\n",
        "import torch\n",
        "import numpy as np\n",
        "import matplotlib.pyplot as plt\n",
        "\n",
        "def predict_on_single_image(model, image_path, device):\n",
        "    \"\"\"\n",
        "    Loads a single image, preprocesses it, runs it through the model,\n",
        "    and visualizes the original image and the predicted mask.\n",
        "    \"\"\"\n",
        "\n",
        "    model.eval()\n",
        "\n",
        "\n",
        "    image = cv2.imread(image_path, cv2.IMREAD_GRAYSCALE)\n",
        "    if image is None:\n",
        "        print(f\"Error: Could not load image at {image_path}\")\n",
        "        return\n",
        "\n",
        "\n",
        "    original_shape = image.shape\n",
        "    image_resized = cv2.resize(image, (512, 512))\n",
        "\n",
        "    image_normalized = image_resized.astype(np.float32) / 255.0\n",
        "    image_processed = np.expand_dims(image_normalized, axis=0)\n",
        "\n",
        "    input_tensor = torch.from_numpy(image_processed).unsqueeze(0).to(device)\n",
        "\n",
        "\n",
        "    with torch.no_grad():\n",
        "        output = model(input_tensor)\n",
        "        predicted_mask = torch.argmax(output, dim=1).squeeze().cpu().numpy()\n",
        "\n",
        "\n",
        "    print(f\"Original image shape: {original_shape}\")\n",
        "    print(f\"Resized to: {image_resized.shape}\")\n",
        "\n",
        "    fig, ax = plt.subplots(1, 2, figsize=(12, 6))\n",
        "\n",
        "    ax[0].imshow(image_resized, cmap='gray')\n",
        "    ax[0].set_title(\"Input Image (Resized)\")\n",
        "    ax[0].axis('off')\n",
        "\n",
        "    ax[1].imshow(predicted_mask, cmap='viridis')\n",
        "    ax[1].set_title(\"Predicted Segmentation\")\n",
        "    ax[1].axis('off')\n",
        "\n",
        "    plt.show()\n",
        "\n",
        "\n",
        "\n",
        "\n",
        "\n",
        "MODEL_SAVE_PATH = os.path.join(PROJECT_FOLDER_IN_DRIVE, \"unet_retina_segmentation.pth\")\n",
        "model = UNet(in_channels=1, out_channels=8)\n",
        "model.load_state_dict(torch.load(MODEL_SAVE_PATH, map_location=DEVICE))\n",
        "model.to(DEVICE)\n",
        "print(\"Model loaded and ready for prediction.\")\n",
        "\n",
        "\n",
        "\n",
        "uploaded_image_path = '/content/drive/MyDrive/oct_major_project/NORMAL 2.v1i.coco-segmentation/train/NORMAL-266557-2_jpeg.rf.f9bef8a6442528dd660fe9b96ebadc6b.jpg'\n",
        "\n",
        "\n",
        "predict_on_single_image(model, uploaded_image_path, DEVICE)"
      ],
      "metadata": {
        "colab": {
          "base_uri": "https://localhost:8080/",
          "height": 534
        },
        "id": "dc-iRluswCRe",
        "outputId": "c7b5df95-4b5d-45c8-ce43-c2be782518d8"
      },
      "execution_count": 16,
      "outputs": [
        {
          "output_type": "stream",
          "name": "stdout",
          "text": [
            "Model loaded and ready for prediction.\n",
            "Original image shape: (512, 512)\n",
            "Resized to: (512, 512)\n"
          ]
        },
        {
          "output_type": "display_data",
          "data": {
            "text/plain": [
              "<Figure size 1200x600 with 2 Axes>"
            ],
            "image/png": "[encoded data removed]"
          },
          "metadata": {}
        }
      ]
    },
    {
      "cell_type": "code",
      "source": [],
      "metadata": {
        "id": "CBchxirp3yrt"
      },
      "execution_count": null,
      "outputs": []
    }
  ]
}